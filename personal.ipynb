{
 "cells": [
  {
   "cell_type": "code",
   "execution_count": 107,
   "outputs": [],
   "source": [
    "import pandas as pd\n",
    "import numpy as np\n",
    "import matplotlib as mat\n",
    "import matplotlib.pyplot as plt\n",
    "import seaborn as sns\n",
    "import statsmodels.api as sm\n",
    "import statsmodels.stats as sm_stats\n",
    "import statsmodels.stats.api as sms\n",
    "import scipy.stats as stats"
   ],
   "metadata": {
    "collapsed": false,
    "pycharm": {
     "name": "#%%\n",
     "is_executing": false
    }
   }
  },
  {
   "cell_type": "code",
   "execution_count": 121,
   "outputs": [],
   "source": [
    "train_personal = pd.read_csv(\"data/personal_train.csv\")\n"
   ],
   "metadata": {
    "collapsed": false,
    "pycharm": {
     "name": "#%%\n",
     "is_executing": false
    }
   }
  },
  {
   "cell_type": "markdown",
   "source": [
    "# Personal data"
   ],
   "metadata": {
    "collapsed": false,
    "pycharm": {
     "name": "#%% md\n",
     "is_executing": false
    }
   }
  },
  {
   "cell_type": "markdown",
   "source": [
    "## Identifikovane chyby\n",
    "\n",
    "**age**\n",
    "- máme prázdne hodnoty NaN, zaporne hodnoty, znaky\n",
    "- ma dtyp object \n",
    "\n",
    "**date_of_birth**\n",
    "-dtype object \n",
    "\n",
    "#Riesenie chybnych udajov\n",
    " **age**\n",
    " -prekonvertovanie dat z object na integer\n",
    " -vsetky hodnoty ktore neudavaju vek, by sme nastavili na priemerny vek - vypocital by sa z hodnot s ktorymi sa da pracovat\n",
    " \n",
    " **date_of_birth**\n",
    " -prekovertovanie dat do typu date alebo datetime pre lepsie spracovanie v grafoch\n",
    " "
   ],
   "metadata": {
    "collapsed": false,
    "pycharm": {
     "name": "#%% md\n",
     "is_executing": false
    }
   }
  },
  {
   "cell_type": "markdown",
   "source": [
    "#Opis dat:\n",
    " "
   ],
   "metadata": {
    "collapsed": false
   }
  },
  {
   "cell_type": "code",
   "execution_count": 122,
   "outputs": [
    {
     "data": {
      "text/plain": "        Unnamed: 0\ncount  3933.000000\nmean   1966.000000\nstd    1135.503633\nmin       0.000000\n25%     983.000000\n50%    1966.000000\n75%    2949.000000\nmax    3932.000000",
      "text/html": "<div>\n<style scoped>\n    .dataframe tbody tr th:only-of-type {\n        vertical-align: middle;\n    }\n\n    .dataframe tbody tr th {\n        vertical-align: top;\n    }\n\n    .dataframe thead th {\n        text-align: right;\n    }\n</style>\n<table border=\"1\" class=\"dataframe\">\n  <thead>\n    <tr style=\"text-align: right;\">\n      <th></th>\n      <th>Unnamed: 0</th>\n    </tr>\n  </thead>\n  <tbody>\n    <tr>\n      <td>count</td>\n      <td>3933.000000</td>\n    </tr>\n    <tr>\n      <td>mean</td>\n      <td>1966.000000</td>\n    </tr>\n    <tr>\n      <td>std</td>\n      <td>1135.503633</td>\n    </tr>\n    <tr>\n      <td>min</td>\n      <td>0.000000</td>\n    </tr>\n    <tr>\n      <td>25%</td>\n      <td>983.000000</td>\n    </tr>\n    <tr>\n      <td>50%</td>\n      <td>1966.000000</td>\n    </tr>\n    <tr>\n      <td>75%</td>\n      <td>2949.000000</td>\n    </tr>\n    <tr>\n      <td>max</td>\n      <td>3932.000000</td>\n    </tr>\n  </tbody>\n</table>\n</div>"
     },
     "metadata": {},
     "output_type": "execute_result",
     "execution_count": 122
    }
   ],
   "source": [
    "train_personal.describe()"
   ],
   "metadata": {
    "collapsed": false,
    "pycharm": {
     "name": "#%%\n",
     "is_executing": false
    }
   }
  },
  {
   "cell_type": "code",
   "execution_count": 123,
   "outputs": [
    {
     "name": "stdout",
     "text": [
      "<class 'pandas.core.frame.DataFrame'>\nRangeIndex: 3933 entries, 0 to 3932\nData columns (total 6 columns):\nUnnamed: 0       3933 non-null int64\nname             3933 non-null object\naddress          3933 non-null object\nage              3343 non-null object\nsex              3933 non-null object\ndate_of_birth    3933 non-null object\ndtypes: int64(1), object(5)\nmemory usage: 184.5+ KB\n"
     ],
     "output_type": "stream"
    }
   ],
   "source": [
    "train_personal.info()"
   ],
   "metadata": {
    "collapsed": false,
    "pycharm": {
     "name": "#%%\n",
     "is_executing": false
    }
   }
  },
  {
   "cell_type": "code",
   "execution_count": 124,
   "outputs": [
    {
     "data": {
      "text/plain": "   Unnamed: 0             name  \\\n0           0  Roscoe Bohannon   \n1           1     Ernest Kline   \n2           2  Harold Hendriks   \n3           3   Randy Baptiste   \n4           4  Anthony Colucci   \n\n                                             address  age      sex  \\\n0  7183 Osborne Ways Apt. 651\\r\\nEast Andrew, OH ...   59     Male   \n1  391 Ball Road Suite 961\\r\\nFlowersborough, IN ...   47   Female   \n2     8702 Vincent Square\\r\\nNew Jerryfurt, CO 30614   59     Male   \n3     2751 Harris Crossroad\\r\\nWest Ashley, CA 30311   51   Female   \n4  904 Robert Cliffs Suite 186\\r\\nWest Kyle, CO 7...  NaN   Female   \n\n  date_of_birth  \n0    1960-07-04  \n1    1972-07-20  \n2    1960-02-28  \n3    1967-12-04  \n4    1938-04-22  ",
      "text/html": "<div>\n<style scoped>\n    .dataframe tbody tr th:only-of-type {\n        vertical-align: middle;\n    }\n\n    .dataframe tbody tr th {\n        vertical-align: top;\n    }\n\n    .dataframe thead th {\n        text-align: right;\n    }\n</style>\n<table border=\"1\" class=\"dataframe\">\n  <thead>\n    <tr style=\"text-align: right;\">\n      <th></th>\n      <th>Unnamed: 0</th>\n      <th>name</th>\n      <th>address</th>\n      <th>age</th>\n      <th>sex</th>\n      <th>date_of_birth</th>\n    </tr>\n  </thead>\n  <tbody>\n    <tr>\n      <td>0</td>\n      <td>0</td>\n      <td>Roscoe Bohannon</td>\n      <td>7183 Osborne Ways Apt. 651\\r\\nEast Andrew, OH ...</td>\n      <td>59</td>\n      <td>Male</td>\n      <td>1960-07-04</td>\n    </tr>\n    <tr>\n      <td>1</td>\n      <td>1</td>\n      <td>Ernest Kline</td>\n      <td>391 Ball Road Suite 961\\r\\nFlowersborough, IN ...</td>\n      <td>47</td>\n      <td>Female</td>\n      <td>1972-07-20</td>\n    </tr>\n    <tr>\n      <td>2</td>\n      <td>2</td>\n      <td>Harold Hendriks</td>\n      <td>8702 Vincent Square\\r\\nNew Jerryfurt, CO 30614</td>\n      <td>59</td>\n      <td>Male</td>\n      <td>1960-02-28</td>\n    </tr>\n    <tr>\n      <td>3</td>\n      <td>3</td>\n      <td>Randy Baptiste</td>\n      <td>2751 Harris Crossroad\\r\\nWest Ashley, CA 30311</td>\n      <td>51</td>\n      <td>Female</td>\n      <td>1967-12-04</td>\n    </tr>\n    <tr>\n      <td>4</td>\n      <td>4</td>\n      <td>Anthony Colucci</td>\n      <td>904 Robert Cliffs Suite 186\\r\\nWest Kyle, CO 7...</td>\n      <td>NaN</td>\n      <td>Female</td>\n      <td>1938-04-22</td>\n    </tr>\n  </tbody>\n</table>\n</div>"
     },
     "metadata": {},
     "output_type": "execute_result",
     "execution_count": 124
    }
   ],
   "source": [
    "train_personal.head()"
   ],
   "metadata": {
    "collapsed": false,
    "pycharm": {
     "name": "#%%\n",
     "is_executing": false
    }
   }
  },
  {
   "cell_type": "code",
   "execution_count": 151,
   "outputs": [
    {
     "name": "stdout",
     "text": [
      "Pocet stlpcov:  6 Pocet riadkov:  3933\n"
     ],
     "output_type": "stream"
    }
   ],
   "source": [
    "rows=train_personal.shape[0]\n",
    "cols=train_personal.shape[1]\n",
    "print('Pocet stlpcov: ',cols , 'Pocet riadkov: ', rows)\n",
    "\n"
   ],
   "metadata": {
    "collapsed": false,
    "pycharm": {
     "name": "#%%\n",
     "is_executing": false
    }
   }
  },
  {
   "cell_type": "code",
   "execution_count": 113,
   "outputs": [
    {
     "data": {
      "text/plain": "count     3343\nunique      94\ntop         53\nfreq       120\nName: age, dtype: object"
     },
     "metadata": {},
     "output_type": "execute_result",
     "execution_count": 113
    }
   ],
   "source": [
    "train_personal['age'].describe() "
   ],
   "metadata": {
    "collapsed": false,
    "pycharm": {
     "name": "#%%\n",
     "is_executing": false
    }
   }
  },
  {
   "cell_type": "code",
   "execution_count": 114,
   "outputs": [
    {
     "data": {
      "text/plain": "array(['59', '47', '51', nan, '50', '52', '62', '39', '33', '57', '58',\n       '??', '45', '40', '48', '44', '21', '46', '37', '24', '66', '63',\n       ' nan', '42', '74', '55', '41', '60', '36', '34', '53', '77', '38',\n       '69', '43', '54', '29', '61', '73', '64', '31', '71', '65', '49',\n       '32', '70', '27', '68', '9', '??\\t', '67', '56', '81', '35', '78',\n       '25', 'nan ', '30', '26', '\\t??', 'nan\\r\\r\\n', '\\r\\r\\nnan', '75',\n       '-1', '23', '82', '79', '72', '16', '18', '76', '99', '22', '28',\n       '17', '20', '\\r\\r\\n??', '80', '7', '86', '19', '83', '84', '85',\n       '90', '3', '\\tnan', 'nan\\t', ' ??', '??\\r\\r\\n', '?? ', '12', '87',\n       '97', '14'], dtype=object)"
     },
     "metadata": {},
     "output_type": "execute_result",
     "execution_count": 114
    }
   ],
   "source": [
    "train_personal['age'].unique()"
   ],
   "metadata": {
    "collapsed": false,
    "pycharm": {
     "name": "#%%\n",
     "is_executing": false
    }
   }
  },
  {
   "cell_type": "code",
   "execution_count": 115,
   "outputs": [
    {
     "data": {
      "text/plain": "count      3933\nunique        2\ntop        Male\nfreq       2655\nName: sex, dtype: object"
     },
     "metadata": {},
     "output_type": "execute_result",
     "execution_count": 115
    }
   ],
   "source": [
    "train_personal['sex'].describe()"
   ],
   "metadata": {
    "collapsed": false,
    "pycharm": {
     "name": "#%%\n",
     "is_executing": false
    }
   }
  },
  {
   "cell_type": "code",
   "execution_count": 116,
   "outputs": [
    {
     "data": {
      "text/plain": "array([' Male', ' Female'], dtype=object)"
     },
     "metadata": {},
     "output_type": "execute_result",
     "execution_count": 116
    }
   ],
   "source": [
    "train_personal['sex'].unique()"
   ],
   "metadata": {
    "collapsed": false,
    "pycharm": {
     "name": "#%%\n",
     "is_executing": false
    }
   }
  },
  {
   "cell_type": "code",
   "execution_count": 117,
   "outputs": [
    {
     "data": {
      "text/plain": "count           3933\nunique          3694\ntop       1967-12-26\nfreq               3\nName: date_of_birth, dtype: object"
     },
     "metadata": {},
     "output_type": "execute_result",
     "execution_count": 117
    }
   ],
   "source": [
    "train_personal['date_of_birth'].describe()"
   ],
   "metadata": {
    "collapsed": false,
    "pycharm": {
     "name": "#%%\n",
     "is_executing": false
    }
   }
  },
  {
   "cell_type": "code",
   "execution_count": 118,
   "outputs": [
    {
     "data": {
      "text/plain": "<matplotlib.axes._subplots.AxesSubplot at 0x15c390ef128>"
     },
     "metadata": {},
     "output_type": "execute_result",
     "execution_count": 118
    },
    {
     "data": {
      "text/plain": "<Figure size 432x288 with 1 Axes>",
      "image/png": "[encoded data removed]"
     },
     "metadata": {
      "needs_background": "light"
     },
     "output_type": "display_data"
    }
   ],
   "source": [
    "train_personal.sex.value_counts().plot(kind='bar')"
   ],
   "metadata": {
    "collapsed": false,
    "pycharm": {
     "name": "#%%\n",
     "is_executing": false
    }
   }
  },
  {
   "cell_type": "code",
   "execution_count": 149,
   "outputs": [
    {
     "data": {
      "text/plain": "<matplotlib.axes._subplots.AxesSubplot at 0x15c434cd470>"
     },
     "metadata": {},
     "output_type": "execute_result",
     "execution_count": 149
    },
    {
     "data": {
      "text/plain": "<Figure size 432x288 with 1 Axes>",
      "image/png": "[encoded data removed]"
     },
     "metadata": {
      "needs_background": "light"
     },
     "output_type": "display_data"
    }
   ],
   "source": [
    "train_personal.age.value_counts().plot(kind='line')"
   ],
   "metadata": {
    "collapsed": false,
    "pycharm": {
     "name": "#%%\n",
     "is_executing": false
    }
   }
  },
  {
   "cell_type": "code",
   "execution_count": 152,
   "outputs": [
    {
     "data": {
      "text/plain": "<matplotlib.axes._subplots.AxesSubplot at 0x15c4351ec88>"
     },
     "metadata": {},
     "output_type": "execute_result",
     "execution_count": 152
    },
    {
     "data": {
      "text/plain": "<Figure size 432x288 with 1 Axes>",
      "image/png": "[encoded data removed]"
     },
     "metadata": {
      "needs_background": "light"
     },
     "output_type": "display_data"
    }
   ],
   "source": [
    "train_personal.date_of_birth.value_counts().plot(kind='line')\n"
   ],
   "metadata": {
    "collapsed": false,
    "pycharm": {
     "name": "#%%\n",
     "is_executing": false
    }
   }
  },
  {
   "cell_type": "code",
   "execution_count": null,
   "outputs": [],
   "source": [
    "\n"
   ],
   "metadata": {
    "collapsed": false,
    "pycharm": {
     "name": "#%%\n"
    }
   }
  }
 ],
 "metadata": {
  "kernelspec": {
   "name": "python3",
   "language": "python",
   "display_name": "Python 3"
  },
  "language_info": {
   "codemirror_mode": {
    "name": "ipython",
    "version": 2
   },
   "file_extension": ".py",
   "mimetype": "text/x-python",
   "name": "python",
   "nbconvert_exporter": "python",
   "pygments_lexer": "ipython2",
   "version": "2.7.6"
  },
  "pycharm": {
   "stem_cell": {
    "cell_type": "raw",
    "source": [],
    "metadata": {
     "collapsed": false
    }
   }
  }
 },
 "nbformat": 4,
 "nbformat_minor": 0
}