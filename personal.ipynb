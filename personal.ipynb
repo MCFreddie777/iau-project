{
 "cells": [
  {
   "cell_type": "markdown",
   "source": [
    "# Dataset personal_train.csv\n",
    "#### Anton Rusňák, František Gič"
   ],
   "metadata": {
    "collapsed": false
   }
  },
  {
   "cell_type": "code",
   "execution_count": 158,
   "outputs": [],
   "source": [
    "import pandas as pd\n",
    "import numpy as np\n",
    "import matplotlib as mat\n",
    "import matplotlib.pyplot as plt\n",
    "import seaborn as sns\n",
    "import statsmodels.api as sm\n",
    "import statsmodels.stats as sm_stats\n",
    "import statsmodels.stats.api as sms\n",
    "import scipy.stats as stats\n",
    "%matplotlib inline\n",
    "\n",
    "data = pd.read_csv(\"data/personal_train.csv\",sep=\",\")"
   ],
   "metadata": {
    "collapsed": false,
    "pycharm": {
     "name": "#%%\n",
     "is_executing": false
    }
   }
  },
  {
   "cell_type": "markdown",
   "source": [
    "### Opis dát:"
   ],
   "metadata": {
    "collapsed": false,
    "pycharm": {
     "name": "#%% md\n"
    }
   }
  },
  {
   "cell_type": "markdown",
   "source": [
    "Dataset obsahuje informácie o osobách, ich adresu bydliska, vek, pohlavie a dátum narodenia.<br>\n",
    "Obsahuje 3932 záznamov (riadkov okrem hlavicky) a 6 atribútov."
   ],
   "metadata": {
    "collapsed": false
   }
  },
  {
   "cell_type": "code",
   "execution_count": 159,
   "outputs": [
    {
     "data": {
      "text/plain": "   Unnamed: 0             name  \\\n0           0  Roscoe Bohannon   \n1           1     Ernest Kline   \n2           2  Harold Hendriks   \n3           3   Randy Baptiste   \n4           4  Anthony Colucci   \n\n                                             address  age      sex  \\\n0  7183 Osborne Ways Apt. 651\\r\\nEast Andrew, OH ...   59     Male   \n1  391 Ball Road Suite 961\\r\\nFlowersborough, IN ...   47   Female   \n2     8702 Vincent Square\\r\\nNew Jerryfurt, CO 30614   59     Male   \n3     2751 Harris Crossroad\\r\\nWest Ashley, CA 30311   51   Female   \n4  904 Robert Cliffs Suite 186\\r\\nWest Kyle, CO 7...  NaN   Female   \n\n  date_of_birth  \n0    1960-07-04  \n1    1972-07-20  \n2    1960-02-28  \n3    1967-12-04  \n4    1938-04-22  ",
      "text/html": "<div>\n<style scoped>\n    .dataframe tbody tr th:only-of-type {\n        vertical-align: middle;\n    }\n\n    .dataframe tbody tr th {\n        vertical-align: top;\n    }\n\n    .dataframe thead th {\n        text-align: right;\n    }\n</style>\n<table border=\"1\" class=\"dataframe\">\n  <thead>\n    <tr style=\"text-align: right;\">\n      <th></th>\n      <th>Unnamed: 0</th>\n      <th>name</th>\n      <th>address</th>\n      <th>age</th>\n      <th>sex</th>\n      <th>date_of_birth</th>\n    </tr>\n  </thead>\n  <tbody>\n    <tr>\n      <th>0</th>\n      <td>0</td>\n      <td>Roscoe Bohannon</td>\n      <td>7183 Osborne Ways Apt. 651\\r\\nEast Andrew, OH ...</td>\n      <td>59</td>\n      <td>Male</td>\n      <td>1960-07-04</td>\n    </tr>\n    <tr>\n      <th>1</th>\n      <td>1</td>\n      <td>Ernest Kline</td>\n      <td>391 Ball Road Suite 961\\r\\nFlowersborough, IN ...</td>\n      <td>47</td>\n      <td>Female</td>\n      <td>1972-07-20</td>\n    </tr>\n    <tr>\n      <th>2</th>\n      <td>2</td>\n      <td>Harold Hendriks</td>\n      <td>8702 Vincent Square\\r\\nNew Jerryfurt, CO 30614</td>\n      <td>59</td>\n      <td>Male</td>\n      <td>1960-02-28</td>\n    </tr>\n    <tr>\n      <th>3</th>\n      <td>3</td>\n      <td>Randy Baptiste</td>\n      <td>2751 Harris Crossroad\\r\\nWest Ashley, CA 30311</td>\n      <td>51</td>\n      <td>Female</td>\n      <td>1967-12-04</td>\n    </tr>\n    <tr>\n      <th>4</th>\n      <td>4</td>\n      <td>Anthony Colucci</td>\n      <td>904 Robert Cliffs Suite 186\\r\\nWest Kyle, CO 7...</td>\n      <td>NaN</td>\n      <td>Female</td>\n      <td>1938-04-22</td>\n    </tr>\n  </tbody>\n</table>\n</div>"
     },
     "metadata": {},
     "output_type": "execute_result",
     "execution_count": 159
    }
   ],
   "source": [
    "data.head()"
   ],
   "metadata": {
    "collapsed": false,
    "pycharm": {
     "name": "#%% \n",
     "is_executing": false
    }
   }
  },
  {
   "cell_type": "code",
   "execution_count": 160,
   "outputs": [
    {
     "name": "stdout",
     "text": [
      "Počet stĺpcov :  6 \nPočet riadkov:  3933\n"
     ],
     "output_type": "stream"
    }
   ],
   "source": [
    "print('Počet stĺpcov : ',data.shape[1] , '\\nPočet riadkov: ', data.shape[0])"
   ],
   "metadata": {
    "collapsed": false,
    "pycharm": {
     "name": "#%% \n",
     "is_executing": false
    }
   }
  },
  {
   "cell_type": "markdown",
   "source": [
    "Z výpisu Dataframe.head() je jasné, že prvý, nepomenovaný atribút je v datasete použitý ako index, preto ho môžme odstrániť."
   ],
   "metadata": {
    "collapsed": false
   }
  },
  {
   "cell_type": "code",
   "execution_count": 161,
   "outputs": [],
   "source": [
    "data = data.drop(data.columns[0],axis=1)"
   ],
   "metadata": {
    "collapsed": false,
    "pycharm": {
     "name": "#%%\n",
     "is_executing": false
    }
   }
  },
  {
   "cell_type": "markdown",
   "source": [
    "## Opis atribútov:\n",
    "Atribúty datasetu sú reťazce (stringy), aj keď by tam v niektorých atribútoch logicky mali byť iné typy - napríklad čísla pre atribút age alebo typ date s ISO štandardom pre dátum narodenia. "
   ],
   "metadata": {
    "collapsed": false
   }
  },
  {
   "cell_type": "code",
   "execution_count": 162,
   "outputs": [
    {
     "data": {
      "text/plain": "name             object\naddress          object\nage              object\nsex              object\ndate_of_birth    object\ndtype: object"
     },
     "metadata": {},
     "output_type": "execute_result",
     "execution_count": 162
    }
   ],
   "source": [
    "data.dtypes"
   ],
   "metadata": {
    "collapsed": false,
    "pycharm": {
     "name": "#%%\n",
     "is_executing": false
    }
   }
  },
  {
   "cell_type": "code",
   "execution_count": 163,
   "outputs": [
    {
     "name": "stdout",
     "text": [
      "<class 'pandas.core.frame.DataFrame'>\nRangeIndex: 3933 entries, 0 to 3932\nData columns (total 5 columns):\nname             3933 non-null object\naddress          3933 non-null object\nage              3343 non-null object\nsex              3933 non-null object\ndate_of_birth    3933 non-null object\ndtypes: object(5)\nmemory usage: 153.7+ KB\n"
     ],
     "output_type": "stream"
    }
   ],
   "source": [
    "data.info()"
   ],
   "metadata": {
    "collapsed": false,
    "pycharm": {
     "name": "#%%\n",
     "is_executing": false
    }
   }
  },
  {
   "cell_type": "markdown",
   "source": [
    "Dataset taktiež obsahuje celkom veľa chýbajúcich hodnôt.<br>\n",
    "Z výpisu je možné vidieť, že nie všetky atribúty obsahujú hodnoty."
   ],
   "metadata": {
    "collapsed": false,
    "pycharm": {
     "name": "#%% md\n",
     "is_executing": false
    }
   }
  },
  {
   "cell_type": "code",
   "execution_count": 164,
   "outputs": [
    {
     "data": {
      "text/plain": "590"
     },
     "metadata": {},
     "output_type": "execute_result",
     "execution_count": 164
    }
   ],
   "source": [
    "data.shape[0] - data.dropna().shape[0]"
   ],
   "metadata": {
    "collapsed": false,
    "pycharm": {
     "name": "#%%\n",
     "is_executing": false
    }
   }
  },
  {
   "cell_type": "code",
   "execution_count": 165,
   "outputs": [
    {
     "data": {
      "text/plain": "name               0\naddress            0\nage              590\nsex                0\ndate_of_birth      0\ndtype: int64"
     },
     "metadata": {},
     "output_type": "execute_result",
     "execution_count": 165
    }
   ],
   "source": [
    "data.isnull().sum()"
   ],
   "metadata": {
    "collapsed": false,
    "pycharm": {
     "name": "#%%\n",
     "is_executing": false
    }
   }
  },
  {
   "cell_type": "markdown",
   "source": [
    "Konkrétne, hodnota atribútu age chýba v 590 záznamoch, čo však implicitne neznamená, že v záznamoch nemáme aj nejaké iné ako číselné hodnoty."
   ],
   "metadata": {
    "collapsed": false,
    "pycharm": {
     "name": "#%% md\n",
     "is_executing": false
    }
   }
  },
  {
   "cell_type": "markdown",
   "source": [
    "## Deskriptívne štatistiky "
   ],
   "metadata": {
    "collapsed": false
   }
  },
  {
   "cell_type": "code",
   "execution_count": 166,
   "outputs": [
    {
     "data": {
      "text/plain": "               name                             address   age    sex  \\\ncount          3933                                3933  3343   3933   \nunique         3933                                3933    94      2   \ntop     James Smith  PSC 2887, Box 9837\\r\\nAPO AA 93784    53   Male   \nfreq              1                                   1   120   2655   \n\n       date_of_birth  \ncount           3933  \nunique          3694  \ntop       1961-09-10  \nfreq               3  ",
      "text/html": "<div>\n<style scoped>\n    .dataframe tbody tr th:only-of-type {\n        vertical-align: middle;\n    }\n\n    .dataframe tbody tr th {\n        vertical-align: top;\n    }\n\n    .dataframe thead th {\n        text-align: right;\n    }\n</style>\n<table border=\"1\" class=\"dataframe\">\n  <thead>\n    <tr style=\"text-align: right;\">\n      <th></th>\n      <th>name</th>\n      <th>address</th>\n      <th>age</th>\n      <th>sex</th>\n      <th>date_of_birth</th>\n    </tr>\n  </thead>\n  <tbody>\n    <tr>\n      <th>count</th>\n      <td>3933</td>\n      <td>3933</td>\n      <td>3343</td>\n      <td>3933</td>\n      <td>3933</td>\n    </tr>\n    <tr>\n      <th>unique</th>\n      <td>3933</td>\n      <td>3933</td>\n      <td>94</td>\n      <td>2</td>\n      <td>3694</td>\n    </tr>\n    <tr>\n      <th>top</th>\n      <td>James Smith</td>\n      <td>PSC 2887, Box 9837\\r\\nAPO AA 93784</td>\n      <td>53</td>\n      <td>Male</td>\n      <td>1961-09-10</td>\n    </tr>\n    <tr>\n      <th>freq</th>\n      <td>1</td>\n      <td>1</td>\n      <td>120</td>\n      <td>2655</td>\n      <td>3</td>\n    </tr>\n  </tbody>\n</table>\n</div>"
     },
     "metadata": {},
     "output_type": "execute_result",
     "execution_count": 166
    }
   ],
   "source": [
    "data.describe(include=\"all\")"
   ],
   "metadata": {
    "collapsed": false,
    "pycharm": {
     "name": "#%% \n",
     "is_executing": false
    }
   }
  },
  {
   "cell_type": "markdown",
   "source": [
    "## Opis atribútov a identifikácia chýb:"
   ],
   "metadata": {
    "collapsed": false,
    "pycharm": {
     "name": "#%% md\n"
    }
   }
  },
  {
   "cell_type": "markdown",
   "source": [
    "Atribút **age**\n",
    " - je to spojitý atribút\n",
    " - v datasete obsahuje prázdne hodnoty, záporné hodnoty, a aj whitespace znaky\n",
    " - je typu typ string (object)"
   ],
   "metadata": {
    "collapsed": false
   }
  },
  {
   "cell_type": "markdown",
   "source": [
    "Zaujímavé by sa bolo pozrieť napríklad na jeho maximum, minimum a medián preto dropneme všetky nečíselné hodnoty aby sme mohli vykonávať deskriptívnu štatistiku tohto atribútu."
   ],
   "metadata": {
    "collapsed": false
   }
  },
  {
   "cell_type": "code",
   "execution_count": 167,
   "outputs": [
    {
     "data": {
      "text/plain": "               age\ncount  3191.000000\nmean     51.971482\nstd      11.711640\nmin      -1.000000\n25%      45.000000\n50%      52.000000\n75%      60.000000\nmax      99.000000",
      "text/html": "<div>\n<style scoped>\n    .dataframe tbody tr th:only-of-type {\n        vertical-align: middle;\n    }\n\n    .dataframe tbody tr th {\n        vertical-align: top;\n    }\n\n    .dataframe thead th {\n        text-align: right;\n    }\n</style>\n<table border=\"1\" class=\"dataframe\">\n  <thead>\n    <tr style=\"text-align: right;\">\n      <th></th>\n      <th>age</th>\n    </tr>\n  </thead>\n  <tbody>\n    <tr>\n      <th>count</th>\n      <td>3191.000000</td>\n    </tr>\n    <tr>\n      <th>mean</th>\n      <td>51.971482</td>\n    </tr>\n    <tr>\n      <th>std</th>\n      <td>11.711640</td>\n    </tr>\n    <tr>\n      <th>min</th>\n      <td>-1.000000</td>\n    </tr>\n    <tr>\n      <th>25%</th>\n      <td>45.000000</td>\n    </tr>\n    <tr>\n      <th>50%</th>\n      <td>52.000000</td>\n    </tr>\n    <tr>\n      <th>75%</th>\n      <td>60.000000</td>\n    </tr>\n    <tr>\n      <th>max</th>\n      <td>99.000000</td>\n    </tr>\n  </tbody>\n</table>\n</div>"
     },
     "metadata": {},
     "output_type": "execute_result",
     "execution_count": 167
    }
   ],
   "source": [
    "data.age = pd.to_numeric(data.age, errors=\"coerce\").dropna().astype(int)\n",
    "data.describe()"
   ],
   "metadata": {
    "collapsed": false,
    "pycharm": {
     "name": "#%%\n",
     "is_executing": false
    }
   }
  },
  {
   "cell_type": "markdown",
   "source": [
    "Po dropnutí prázdnych riadkov a nečíselných hodnôt môžme vidieť vcelku zaujímavé hodnoty - napríklad záporné minimum, čo je outlier a s najväčšou pravdepodobnosťou zlá hodnota.\n"
   ],
   "metadata": {
    "collapsed": false
   }
  },
  {
   "cell_type": "markdown",
   "source": [
    "Taktiež sme si teda všimli že máme dosť veľký počet prázdnych hodnôt - korekciou by mohlo byť napríklad dopočítanie veku na základe dátumu narodenia."
   ],
   "metadata": {
    "collapsed": false
   }
  },
  {
   "cell_type": "code",
   "execution_count": 168,
   "outputs": [
    {
     "name": "stdout",
     "text": [
      "Pocet chybajucich zaznamov :  742\n"
     ],
     "output_type": "stream"
    }
   ],
   "source": [
    "print('Pocet chybajucich zaznamov : ',data.age.shape[0] - data.age.dropna().shape[0])"
   ],
   "metadata": {
    "collapsed": false,
    "pycharm": {
     "name": "#%%\n",
     "is_executing": false
    }
   }
  },
  {
   "cell_type": "code",
   "execution_count": 169,
   "outputs": [
    {
     "data": {
      "text/plain": "<matplotlib.axes._subplots.AxesSubplot at 0x1c26d78da0>"
     },
     "metadata": {},
     "output_type": "execute_result",
     "execution_count": 169
    },
    {
     "data": {
      "text/plain": "<Figure size 432x288 with 1 Axes>",
      "image/png": "[encoded data removed]"
     },
     "metadata": {
      "needs_background": "light"
     },
     "output_type": "display_data"
    }
   ],
   "source": [
    "sns.boxplot(data.age)"
   ],
   "metadata": {
    "collapsed": false,
    "pycharm": {
     "name": "#%%\n",
     "is_executing": false
    }
   }
  },
  {
   "cell_type": "code",
   "execution_count": 170,
   "outputs": [
    {
     "data": {
      "text/plain": "<matplotlib.axes._subplots.AxesSubplot at 0x1c27a265f8>"
     },
     "metadata": {},
     "output_type": "execute_result",
     "execution_count": 170
    },
    {
     "data": {
      "text/plain": "<Figure size 432x288 with 1 Axes>",
      "image/png": "[encoded data removed]"
     },
     "metadata": {
      "needs_background": "light"
     },
     "output_type": "display_data"
    }
   ],
   "source": [
    "data.age.plot(kind='hist', bins=100)\n"
   ],
   "metadata": {
    "collapsed": false,
    "pycharm": {
     "name": "#%%\n",
     "is_executing": false
    }
   }
  },
  {
   "cell_type": "code",
   "execution_count": 171,
   "outputs": [],
   "source": [
    "def reload_data():\n",
    "    \"\"\"Reloads the data from CSV file\"\"\"\n",
    "    return pd.read_csv(\"data/personal_train.csv\",sep=\",\",index_col=0)\n",
    "    \n",
    "data = reload_data()"
   ],
   "metadata": {
    "collapsed": false,
    "pycharm": {
     "name": "#%%\n",
     "is_executing": false
    }
   }
  },
  {
   "cell_type": "markdown",
   "source": [
    "Atribút **sex**\n",
    "- je typu string \n",
    "- je to kategorický nominálny atribút, nadobúda len dve hodnoty: Male (muz) alebo Female (zena)\n",
    "- všetky hodnoty su prítomné"
   ],
   "metadata": {
    "collapsed": false
   }
  },
  {
   "cell_type": "code",
   "execution_count": 172,
   "outputs": [
    {
     "data": {
      "text/plain": "count      3933\nunique        2\ntop        Male\nfreq       2655\nName: sex, dtype: object"
     },
     "metadata": {},
     "output_type": "execute_result",
     "execution_count": 172
    }
   ],
   "source": [
    "data.sex.describe()\n"
   ],
   "metadata": {
    "collapsed": false,
    "pycharm": {
     "name": "#%%\n",
     "is_executing": false
    }
   }
  },
  {
   "cell_type": "code",
   "execution_count": 173,
   "outputs": [
    {
     "data": {
      "text/plain": "<matplotlib.axes._subplots.AxesSubplot at 0x1c287ef198>"
     },
     "metadata": {},
     "output_type": "execute_result",
     "execution_count": 173
    },
    {
     "data": {
      "text/plain": "<Figure size 432x288 with 1 Axes>",
      "image/png": "[encoded data removed]"
     },
     "metadata": {
      "needs_background": "light"
     },
     "output_type": "display_data"
    }
   ],
   "source": [
    "data.sex.value_counts().plot.bar()"
   ],
   "metadata": {
    "collapsed": false,
    "pycharm": {
     "name": "#%%\n",
     "is_executing": false
    }
   }
  },
  {
   "cell_type": "code",
   "execution_count": 174,
   "outputs": [
    {
     "data": {
      "text/plain": "<Figure size 432x288 with 1 Axes>",
      "image/png": "[encoded data removed]"
     },
     "metadata": {
      "needs_background": "light"
     },
     "output_type": "display_data"
    }
   ],
   "source": [
    "sns.distplot(pd.to_numeric(data[data.sex.str.strip() == 'Male'].age, errors=\"coerce\").dropna().astype(int),label=\"Male\")\n",
    "sns.distplot(pd.to_numeric(data[data.sex.str.strip() == 'Female'].age, errors=\"coerce\").dropna().astype(int),label=\"Female\")\n",
    "plt.legend()\n",
    "plt.show()"
   ],
   "metadata": {
    "collapsed": false,
    "pycharm": {
     "name": "#%%\n",
     "is_executing": false
    }
   }
  },
  {
   "cell_type": "markdown",
   "source": [
    "Z grafov môžme vidieť, že v našom datasete prevládajú muží - je ich viac ako dvojnásobok žien.<br>\n",
    "Z distplotu je taktiež možné vyčítať že pri oboch pohlaviách prevládajú jedinci s vekom okolo 50tky, pri ženách je vek o pár rokov vyšší.\n",
    " "
   ],
   "metadata": {
    "collapsed": false
   }
  },
  {
   "cell_type": "markdown",
   "source": [
    "Atribút **date_of_birth**\n",
    "- je to spojitý intervalový atribút\n",
    "- m8 typ string \n",
    "- všetky hodnoty sú prítomné\n",
    "- avšak dáta majú nejednotný formát zápisu\n",
    "- nachádza sa tu viacero ISO štandardov, s dátumy časom (YYYY-MM-DD hh:mm:ss), dátumy nejednotne oddelené (lomítkami alebo pomlčkami) alebo roky bez prvých dvoch čísel (63-05-18)\n",
    "- bude teda nutné tieto formáty zjednotiť do jedného"
   ],
   "metadata": {
    "collapsed": false
   }
  },
  {
   "cell_type": "code",
   "execution_count": 175,
   "outputs": [
    {
     "data": {
      "text/plain": "count           3933\nunique          3694\ntop       1961-09-10\nfreq               3\nName: date_of_birth, dtype: object"
     },
     "metadata": {},
     "output_type": "execute_result",
     "execution_count": 175
    }
   ],
   "source": [
    "data['date_of_birth'].describe()"
   ],
   "metadata": {
    "collapsed": false,
    "pycharm": {
     "name": "#%%\n",
     "is_executing": false
    }
   }
  },
  {
   "cell_type": "code",
   "execution_count": 176,
   "outputs": [
    {
     "data": {
      "text/plain": "array(['1960-07-04', '1972-07-20', '1960-02-28', ..., '1969-08-27',\n       '1960-10-29', '1951-02-14'], dtype=object)"
     },
     "metadata": {},
     "output_type": "execute_result",
     "execution_count": 176
    }
   ],
   "source": [
    "data['date_of_birth'].unique()"
   ],
   "metadata": {
    "collapsed": false,
    "pycharm": {
     "name": "#%%\n",
     "is_executing": false
    }
   }
  },
  {
   "cell_type": "code",
   "execution_count": 177,
   "outputs": [
    {
     "name": "stdout",
     "text": [
      "Pocet chybajucich zaznamov :  0\n"
     ],
     "output_type": "stream"
    }
   ],
   "source": [
    "print('Pocet chybajucich zaznamov : ',data['date_of_birth'].shape[0] - data['date_of_birth'].dropna().shape[0])"
   ],
   "metadata": {
    "collapsed": false,
    "pycharm": {
     "name": "#%%\n",
     "is_executing": false
    }
   }
  },
  {
   "cell_type": "markdown",
   "source": [
    "## Riešenie chybných a problematických údajov\n",
    "Atribút age\n",
    " - bude nutné prekonvertovať hodnoty v stringu na integer a\n",
    " všetky hodnoty ktore neudavajú vek, buď dopočítať na základe atribútu date_of_birth alebo ak to nebude možné tak nastaviť na priemerný vek - vypočítal by sa z hodnôt s ktorými sa da pracovať\n",
    " \n",
    "Atribút date_of_birth\n",
    " - prekovertovanie dát do typu date alebo datetime pre lepšie spracovanie v grafoch a ujednotnenie štandardu v ktorom sa dátum udáva"
   ],
   "metadata": {
    "collapsed": false,
    "pycharm": {
     "name": "#%% md\n"
    }
   }
  }
 ],
 "metadata": {
  "kernelspec": {
   "name": "python3",
   "language": "python",
   "display_name": "Python 3"
  },
  "language_info": {
   "codemirror_mode": {
    "name": "ipython",
    "version": 2
   },
   "file_extension": ".py",
   "mimetype": "text/x-python",
   "name": "python",
   "nbconvert_exporter": "python",
   "pygments_lexer": "ipython2",
   "version": "2.7.6"
  },
  "pycharm": {
   "stem_cell": {
    "cell_type": "raw",
    "source": [],
    "metadata": {
     "collapsed": false
    }
   }
  }
 },
 "nbformat": 4,
 "nbformat_minor": 0
}