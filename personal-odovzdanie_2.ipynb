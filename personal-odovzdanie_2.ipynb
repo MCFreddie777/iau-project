{
 "cells": [
  {
   "cell_type": "markdown",
   "metadata": {},
   "source": [
    "# Dataset personal_train.csv\n",
    "#### Anton Rusňák, František Gič"
   ]
  },
  {
   "cell_type": "code",
   "execution_count": 5,
   "metadata": {
    "jupyter": {
     "outputs_hidden": false
    },
    "pycharm": {
     "is_executing": false,
     "name": "#%%\n"
    }
   },
   "outputs": [],
   "source": [
    "import pandas as pd\n",
    "import numpy as np\n",
    "import matplotlib as mat\n",
    "import matplotlib.pyplot as plt\n",
    "import seaborn as sns\n",
    "import statsmodels.api as sm\n",
    "import statsmodels.stats as sm_stats\n",
    "import statsmodels.stats.api as sms\n",
    "import scipy.stats as stats\n",
    "%matplotlib inline\n",
    "\n",
    "data = pd.read_csv(\"data/personal_train.csv\",sep=\",\")"
   ]
  },
  {
   "cell_type": "code",
   "execution_count": 6,
   "metadata": {
    "jupyter": {
     "outputs_hidden": false
    },
    "pycharm": {
     "is_executing": false,
     "name": "#%% \n"
    }
   },
   "outputs": [
    {
     "data": {
      "text/plain": "   Unnamed: 0             name  \\\n0           0  Roscoe Bohannon   \n1           1     Ernest Kline   \n2           2  Harold Hendriks   \n3           3   Randy Baptiste   \n4           4  Anthony Colucci   \n\n                                             address  age      sex  \\\n0  7183 Osborne Ways Apt. 651\\r\\nEast Andrew, OH ...   59     Male   \n1  391 Ball Road Suite 961\\r\\nFlowersborough, IN ...   47   Female   \n2     8702 Vincent Square\\r\\nNew Jerryfurt, CO 30614   59     Male   \n3     2751 Harris Crossroad\\r\\nWest Ashley, CA 30311   51   Female   \n4  904 Robert Cliffs Suite 186\\r\\nWest Kyle, CO 7...  NaN   Female   \n\n  date_of_birth  \n0    1960-07-04  \n1    1972-07-20  \n2    1960-02-28  \n3    1967-12-04  \n4    1938-04-22  ",
      "text/html": "<div>\n<style scoped>\n    .dataframe tbody tr th:only-of-type {\n        vertical-align: middle;\n    }\n\n    .dataframe tbody tr th {\n        vertical-align: top;\n    }\n\n    .dataframe thead th {\n        text-align: right;\n    }\n</style>\n<table border=\"1\" class=\"dataframe\">\n  <thead>\n    <tr style=\"text-align: right;\">\n      <th></th>\n      <th>Unnamed: 0</th>\n      <th>name</th>\n      <th>address</th>\n      <th>age</th>\n      <th>sex</th>\n      <th>date_of_birth</th>\n    </tr>\n  </thead>\n  <tbody>\n    <tr>\n      <td>0</td>\n      <td>0</td>\n      <td>Roscoe Bohannon</td>\n      <td>7183 Osborne Ways Apt. 651\\r\\nEast Andrew, OH ...</td>\n      <td>59</td>\n      <td>Male</td>\n      <td>1960-07-04</td>\n    </tr>\n    <tr>\n      <td>1</td>\n      <td>1</td>\n      <td>Ernest Kline</td>\n      <td>391 Ball Road Suite 961\\r\\nFlowersborough, IN ...</td>\n      <td>47</td>\n      <td>Female</td>\n      <td>1972-07-20</td>\n    </tr>\n    <tr>\n      <td>2</td>\n      <td>2</td>\n      <td>Harold Hendriks</td>\n      <td>8702 Vincent Square\\r\\nNew Jerryfurt, CO 30614</td>\n      <td>59</td>\n      <td>Male</td>\n      <td>1960-02-28</td>\n    </tr>\n    <tr>\n      <td>3</td>\n      <td>3</td>\n      <td>Randy Baptiste</td>\n      <td>2751 Harris Crossroad\\r\\nWest Ashley, CA 30311</td>\n      <td>51</td>\n      <td>Female</td>\n      <td>1967-12-04</td>\n    </tr>\n    <tr>\n      <td>4</td>\n      <td>4</td>\n      <td>Anthony Colucci</td>\n      <td>904 Robert Cliffs Suite 186\\r\\nWest Kyle, CO 7...</td>\n      <td>NaN</td>\n      <td>Female</td>\n      <td>1938-04-22</td>\n    </tr>\n  </tbody>\n</table>\n</div>"
     },
     "metadata": {},
     "output_type": "execute_result",
     "execution_count": 6
    }
   ],
   "source": [
    "data.head()"
   ]
  },
  {
   "cell_type": "code",
   "execution_count": 7,
   "metadata": {
    "jupyter": {
     "outputs_hidden": false
    },
    "pycharm": {
     "is_executing": false,
     "name": "#%%\n"
    }
   },
   "outputs": [],
   "source": [
    "data = data.drop(data.columns[0],axis=1)"
   ]
  },
  {
   "cell_type": "code",
   "execution_count": 8,
   "metadata": {
    "jupyter": {
     "outputs_hidden": false
    },
    "pycharm": {
     "is_executing": false,
     "name": "#%%\n"
    }
   },
   "outputs": [
    {
     "name": "stdout",
     "text": [
      "<class 'pandas.core.frame.DataFrame'>\nRangeIndex: 3933 entries, 0 to 3932\nData columns (total 5 columns):\nname             3933 non-null object\naddress          3933 non-null object\nage              3343 non-null object\nsex              3933 non-null object\ndate_of_birth    3933 non-null object\ndtypes: object(5)\nmemory usage: 153.8+ KB\n"
     ],
     "output_type": "stream"
    }
   ],
   "source": [
    "data.info()"
   ]
  },
  {
   "cell_type": "code",
   "execution_count": 8,
   "outputs": [],
   "source": [],
   "metadata": {
    "collapsed": false,
    "pycharm": {
     "name": "#%%\n",
     "is_executing": false
    }
   }
  },
  {
   "cell_type": "code",
   "execution_count": 16,
   "outputs": [
    {
     "name": "stdout",
     "text": [
      "Empty DataFrame\nColumns: [name, address, age, sex, date_of_birth]\nIndex: []\n"
     ],
     "output_type": "stream"
    }
   ],
   "source": [
    "# duplicateRowsDF = data[data.duplicated(['name'])]\n",
    "duplicateRowsDF = data[data.duplicated()]\n",
    "print(duplicateRowsDF)"
   ],
   "metadata": {
    "collapsed": false,
    "pycharm": {
     "name": "#%%\n",
     "is_executing": false
    }
   }
  },
  {
   "cell_type": "code",
   "execution_count": 10,
   "metadata": {
    "jupyter": {
     "outputs_hidden": false
    },
    "pycharm": {
     "is_executing": false,
     "name": "#%%\n"
    }
   },
   "outputs": [],
   "source": [
    "def reload_data():\n",
    "    \"\"\"Reloads the data from CSV file\"\"\"\n",
    "    return pd.read_csv(\"data/personal_train.csv\",sep=\",\",index_col=0)\n",
    "    \n",
    "data = reload_data()"
   ]
  },
  {
   "cell_type": "code",
   "execution_count": 11,
   "outputs": [
    {
     "traceback": [
      "\u001b[1;31m---------------------------------------------------------------------------\u001b[0m",
      "\u001b[1;31mNameError\u001b[0m                                 Traceback (most recent call last)",
      "\u001b[1;32m<ipython-input-11-ac682ee81f43>\u001b[0m in \u001b[0;36m<module>\u001b[1;34m\u001b[0m\n\u001b[1;32m----> 1\u001b[1;33m \u001b[1;32mif\u001b[0m \u001b[1;33m(\u001b[0m\u001b[0mlen\u001b[0m\u001b[1;33m(\u001b[0m\u001b[0mduplicatedRows\u001b[0m\u001b[1;33m)\u001b[0m\u001b[1;33m)\u001b[0m\u001b[1;33m:\u001b[0m\u001b[1;33m\u001b[0m\u001b[1;33m\u001b[0m\u001b[0m\n\u001b[0m\u001b[0;32m      2\u001b[0m     \u001b[0mprint\u001b[0m\u001b[1;33m(\u001b[0m\u001b[1;34m\"Dataframe obsahuje %d duplicitnych riadkov\"\u001b[0m\u001b[1;33m%\u001b[0m\u001b[0mlen\u001b[0m\u001b[1;33m(\u001b[0m\u001b[0mduplicatedRows\u001b[0m\u001b[1;33m)\u001b[0m\u001b[1;33m)\u001b[0m\u001b[1;33m\u001b[0m\u001b[1;33m\u001b[0m\u001b[0m\n\u001b[0;32m      3\u001b[0m \u001b[1;32melse\u001b[0m\u001b[1;33m:\u001b[0m\u001b[1;33m\u001b[0m\u001b[1;33m\u001b[0m\u001b[0m\n\u001b[0;32m      4\u001b[0m     \u001b[0mprint\u001b[0m\u001b[1;33m(\u001b[0m\u001b[1;34m\"Dataframe neobsahuje ziadne duplicitne riadkv\"\u001b[0m\u001b[1;33m)\u001b[0m\u001b[1;33m\u001b[0m\u001b[1;33m\u001b[0m\u001b[0m\n\u001b[0;32m      5\u001b[0m \u001b[1;33m\u001b[0m\u001b[0m\n",
      "\u001b[1;31mNameError\u001b[0m: name 'duplicatedRows' is not defined"
     ],
     "ename": "NameError",
     "evalue": "name 'duplicatedRows' is not defined",
     "output_type": "error"
    }
   ],
   "source": [
    "if (len(duplicatedRows)):\n",
    "    print(\"Dataframe obsahuje %d duplicitnych riadkov\"%len(duplicatedRows))\n",
    "else:\n",
    "    print(\"Dataframe neobsahuje ziadne duplicitne riadkv\")    "
   ],
   "metadata": {
    "collapsed": false,
    "pycharm": {
     "name": "#%%\n",
     "is_executing": false
    }
   }
  },
  {
   "cell_type": "code",
   "execution_count": null,
   "outputs": [],
   "source": [
    "\n"
   ],
   "metadata": {
    "collapsed": false,
    "pycharm": {
     "name": "#%%\n",
     "is_executing": false
    }
   }
  }
 ],
 "metadata": {
  "kernelspec": {
   "display_name": "Python 3",
   "language": "python",
   "name": "python3"
  },
  "language_info": {
   "codemirror_mode": {
    "name": "ipython",
    "version": 3
   },
   "file_extension": ".py",
   "mimetype": "text/x-python",
   "name": "python",
   "nbconvert_exporter": "python",
   "pygments_lexer": "ipython3",
   "version": "3.7.3"
  },
  "pycharm": {
   "stem_cell": {
    "cell_type": "raw",
    "source": [],
    "metadata": {
     "collapsed": false
    }
   }
  }
 },
 "nbformat": 4,
 "nbformat_minor": 4
}