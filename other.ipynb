{
 "cells": [
  {
   "cell_type": "markdown",
   "metadata": {},
   "source": [
    "# Dataset other_train.csv\n",
    "#### Anton Rusňák, František Gič"
   ]
  },
  {
   "cell_type": "code",
   "execution_count": 2,
   "metadata": {
    "pycharm": {
     "is_executing": false
    }
   },
   "outputs": [],
   "source": [
    "import pandas as pd\n",
    "import numpy as np\n",
    "import matplotlib as mat\n",
    "import matplotlib.pyplot as plt\n",
    "import seaborn as sns\n",
    "import statsmodels.api as sm\n",
    "import statsmodels.stats as sm_stats\n",
    "import statsmodels.stats.api as sms\n",
    "import scipy.stats as stats\n",
    "%matplotlib inline\n",
    "\n",
    "data = pd.read_csv(\"data/other_train.csv\",sep=\",\")"
   ]
  },
  {
   "cell_type": "markdown",
   "metadata": {},
   "source": [
    "### Opis dát:"
   ]
  },
  {
   "cell_type": "markdown",
   "metadata": {},
   "source": [
    "Dataset obsahuje informácie o osobách, ich adresu bydliska.<br>\n",
    "<br>Oproti prvému datasetu obsahuje navyše medicínske dáta napríklad ako úrovne glukózy alebo kyslíku v krvi.\n",
    "<br>Taktiež dáta súkromného charakteru ako vzťah, úroveň vzdelania, tehotenstvo alebo pracovného charakteru ako počet odpracovaných hodín za týždeň alebo zárobok.\n",
    "<br>Spoločné atribúty majú tieto datasety iba atribúty name a address , na základe týchto atribútov ich budeme môcť mergovať.\n",
    "<br><br>\n",
    "Obsahuje 3982 záznamov (riadkov okrem hlavičky) a 22 atribútov."
   ]
  },
  {
   "cell_type": "code",
   "execution_count": 3,
   "metadata": {
    "pycharm": {
     "is_executing": false,
     "name": "#%%\n"
    }
   },
   "outputs": [
    {
     "data": {
      "text/plain": [
       "Index(['Unnamed: 0', 'name', 'address', 'kurtosis_oxygen', 'pregnant',\n",
       "       'education-num', 'relationship', 'skewness_glucose', 'mean_glucose',\n",
       "       'std_oxygen', 'capital-gain', 'skewness_oxygen', 'kurtosis_glucose',\n",
       "       'personal_info', 'education', 'fnlwgt', 'class', 'std_glucose',\n",
       "       'income', 'mean_oxygen', 'hours-per-week', 'capital-loss'],\n",
       "      dtype='object')"
      ]
     },
     "execution_count": 3,
     "metadata": {},
     "output_type": "execute_result"
    }
   ],
   "source": [
    "data.columns"
   ]
  },
  {
   "cell_type": "code",
   "execution_count": 4,
   "metadata": {
    "pycharm": {
     "is_executing": false,
     "name": "#%% \n"
    }
   },
   "outputs": [
    {
     "name": "stdout",
     "output_type": "stream",
     "text": [
      "Počet stĺpcov :  22 \n",
      "Počet riadkov:  3983\n"
     ]
    }
   ],
   "source": [
    "print('Počet stĺpcov : ',data.shape[1] , '\\nPočet riadkov: ', data.shape[0])"
   ]
  },
  {
   "cell_type": "code",
   "execution_count": 5,
   "metadata": {
    "pycharm": {
     "is_executing": false,
     "name": "#%%\n"
    }
   },
   "outputs": [
    {
     "data": {
      "text/html": [
       "<div>\n",
       "<style scoped>\n",
       "    .dataframe tbody tr th:only-of-type {\n",
       "        vertical-align: middle;\n",
       "    }\n",
       "\n",
       "    .dataframe tbody tr th {\n",
       "        vertical-align: top;\n",
       "    }\n",
       "\n",
       "    .dataframe thead th {\n",
       "        text-align: right;\n",
       "    }\n",
       "</style>\n",
       "<table border=\"1\" class=\"dataframe\">\n",
       "  <thead>\n",
       "    <tr style=\"text-align: right;\">\n",
       "      <th></th>\n",
       "      <th>Unnamed: 0</th>\n",
       "      <th>name</th>\n",
       "      <th>address</th>\n",
       "      <th>kurtosis_oxygen</th>\n",
       "      <th>pregnant</th>\n",
       "      <th>education-num</th>\n",
       "      <th>relationship</th>\n",
       "      <th>skewness_glucose</th>\n",
       "      <th>mean_glucose</th>\n",
       "      <th>std_oxygen</th>\n",
       "      <th>...</th>\n",
       "      <th>kurtosis_glucose</th>\n",
       "      <th>personal_info</th>\n",
       "      <th>education</th>\n",
       "      <th>fnlwgt</th>\n",
       "      <th>class</th>\n",
       "      <th>std_glucose</th>\n",
       "      <th>income</th>\n",
       "      <th>mean_oxygen</th>\n",
       "      <th>hours-per-week</th>\n",
       "      <th>capital-loss</th>\n",
       "    </tr>\n",
       "  </thead>\n",
       "  <tbody>\n",
       "    <tr>\n",
       "      <th>0</th>\n",
       "      <td>0</td>\n",
       "      <td>Alex Chinzi</td>\n",
       "      <td>590 Samantha Bridge Apt. 572\\r\\nNorth Allison,...</td>\n",
       "      <td>8.286599</td>\n",
       "      <td>f</td>\n",
       "      <td>16.0</td>\n",
       "      <td>Husband</td>\n",
       "      <td>0.234418</td>\n",
       "      <td>107.484375</td>\n",
       "      <td>15.072284</td>\n",
       "      <td>...</td>\n",
       "      <td>0.362969</td>\n",
       "      <td>Prof-specialty|United-States\\r\\r\\nMarried-civ-...</td>\n",
       "      <td>Doctorate</td>\n",
       "      <td>320102.0</td>\n",
       "      <td>0.0</td>\n",
       "      <td>44.487706</td>\n",
       "      <td>&gt;50K</td>\n",
       "      <td>2.448161</td>\n",
       "      <td>50.0</td>\n",
       "      <td>0.0</td>\n",
       "    </tr>\n",
       "    <tr>\n",
       "      <th>1</th>\n",
       "      <td>1</td>\n",
       "      <td>Scott Bass</td>\n",
       "      <td>5384 Hurst Groves Apt. 092\\r\\nFreemanview, SD ...</td>\n",
       "      <td>6.455860</td>\n",
       "      <td>f</td>\n",
       "      <td>13.0</td>\n",
       "      <td>Own-child</td>\n",
       "      <td>0.151130</td>\n",
       "      <td>140.203125</td>\n",
       "      <td>21.925411</td>\n",
       "      <td>...</td>\n",
       "      <td>-0.170101</td>\n",
       "      <td>Prof-specialty|United-States\\r\\r\\nNever-marrie...</td>\n",
       "      <td>Bachelors</td>\n",
       "      <td>148300.0</td>\n",
       "      <td>0.0</td>\n",
       "      <td>44.586531</td>\n",
       "      <td>&lt;=50K</td>\n",
       "      <td>4.445652</td>\n",
       "      <td>15.0</td>\n",
       "      <td>0.0</td>\n",
       "    </tr>\n",
       "    <tr>\n",
       "      <th>2</th>\n",
       "      <td>2</td>\n",
       "      <td>Chuck Lao</td>\n",
       "      <td>USS Scott\\r\\nFPO AE 78885</td>\n",
       "      <td>11.513491</td>\n",
       "      <td>f</td>\n",
       "      <td>9.0</td>\n",
       "      <td>Unmarried</td>\n",
       "      <td>-0.024384</td>\n",
       "      <td>124.054688</td>\n",
       "      <td>11.822427</td>\n",
       "      <td>...</td>\n",
       "      <td>-0.026966</td>\n",
       "      <td>Other-service|Mexico\\r\\r\\nSeparated -- Private...</td>\n",
       "      <td>HS-grad</td>\n",
       "      <td>190885.0</td>\n",
       "      <td>0.0</td>\n",
       "      <td>45.904165</td>\n",
       "      <td>&lt;=50K</td>\n",
       "      <td>1.890468</td>\n",
       "      <td>40.0</td>\n",
       "      <td>0.0</td>\n",
       "    </tr>\n",
       "    <tr>\n",
       "      <th>3</th>\n",
       "      <td>3</td>\n",
       "      <td>Floyd Squires</td>\n",
       "      <td>122 Ryan Ranch Suite 621\\r\\nPort Douglas, NM 0...</td>\n",
       "      <td>7.641796</td>\n",
       "      <td>f</td>\n",
       "      <td>13.0</td>\n",
       "      <td>Not-in-family</td>\n",
       "      <td>-0.564287</td>\n",
       "      <td>115.046875</td>\n",
       "      <td>22.965651</td>\n",
       "      <td>...</td>\n",
       "      <td>0.269421</td>\n",
       "      <td>Prof-specialty|Canada\\r\\r\\nNever-married -- Pr...</td>\n",
       "      <td>Bachelors</td>\n",
       "      <td>191385.0</td>\n",
       "      <td>0.0</td>\n",
       "      <td>58.140302</td>\n",
       "      <td>&lt;=50K</td>\n",
       "      <td>3.639632</td>\n",
       "      <td>40.0</td>\n",
       "      <td>0.0</td>\n",
       "    </tr>\n",
       "    <tr>\n",
       "      <th>4</th>\n",
       "      <td>4</td>\n",
       "      <td>Kenneth Cadet</td>\n",
       "      <td>30930 Ryan Groves\\r\\nKatelynside, MS 75220</td>\n",
       "      <td>8.826058</td>\n",
       "      <td>f</td>\n",
       "      <td>9.0</td>\n",
       "      <td>Husband</td>\n",
       "      <td>0.495896</td>\n",
       "      <td>93.335938</td>\n",
       "      <td>13.777158</td>\n",
       "      <td>...</td>\n",
       "      <td>0.537549</td>\n",
       "      <td>Sales|United-States\\r\\r\\nMarried-civ-spouse --...</td>\n",
       "      <td>HS-grad</td>\n",
       "      <td>226875.0</td>\n",
       "      <td>0.0</td>\n",
       "      <td>45.605865</td>\n",
       "      <td>&lt;=50K</td>\n",
       "      <td>2.510870</td>\n",
       "      <td>40.0</td>\n",
       "      <td>0.0</td>\n",
       "    </tr>\n",
       "  </tbody>\n",
       "</table>\n",
       "<p>5 rows × 22 columns</p>\n",
       "</div>"
      ],
      "text/plain": [
       "   Unnamed: 0           name  \\\n",
       "0           0    Alex Chinzi   \n",
       "1           1     Scott Bass   \n",
       "2           2      Chuck Lao   \n",
       "3           3  Floyd Squires   \n",
       "4           4  Kenneth Cadet   \n",
       "\n",
       "                                             address  kurtosis_oxygen  \\\n",
       "0  590 Samantha Bridge Apt. 572\\r\\nNorth Allison,...         8.286599   \n",
       "1  5384 Hurst Groves Apt. 092\\r\\nFreemanview, SD ...         6.455860   \n",
       "2                          USS Scott\\r\\nFPO AE 78885        11.513491   \n",
       "3  122 Ryan Ranch Suite 621\\r\\nPort Douglas, NM 0...         7.641796   \n",
       "4         30930 Ryan Groves\\r\\nKatelynside, MS 75220         8.826058   \n",
       "\n",
       "  pregnant  education-num    relationship  skewness_glucose  mean_glucose  \\\n",
       "0        f           16.0         Husband          0.234418    107.484375   \n",
       "1        f           13.0       Own-child          0.151130    140.203125   \n",
       "2        f            9.0       Unmarried         -0.024384    124.054688   \n",
       "3        f           13.0   Not-in-family         -0.564287    115.046875   \n",
       "4        f            9.0         Husband          0.495896     93.335938   \n",
       "\n",
       "   std_oxygen  ...  kurtosis_glucose  \\\n",
       "0   15.072284  ...          0.362969   \n",
       "1   21.925411  ...         -0.170101   \n",
       "2   11.822427  ...         -0.026966   \n",
       "3   22.965651  ...          0.269421   \n",
       "4   13.777158  ...          0.537549   \n",
       "\n",
       "                                       personal_info   education    fnlwgt  \\\n",
       "0  Prof-specialty|United-States\\r\\r\\nMarried-civ-...   Doctorate  320102.0   \n",
       "1  Prof-specialty|United-States\\r\\r\\nNever-marrie...   Bachelors  148300.0   \n",
       "2  Other-service|Mexico\\r\\r\\nSeparated -- Private...     HS-grad  190885.0   \n",
       "3  Prof-specialty|Canada\\r\\r\\nNever-married -- Pr...   Bachelors  191385.0   \n",
       "4  Sales|United-States\\r\\r\\nMarried-civ-spouse --...     HS-grad  226875.0   \n",
       "\n",
       "  class  std_glucose  income  mean_oxygen hours-per-week  capital-loss  \n",
       "0   0.0    44.487706    >50K     2.448161           50.0           0.0  \n",
       "1   0.0    44.586531   <=50K     4.445652           15.0           0.0  \n",
       "2   0.0    45.904165   <=50K     1.890468           40.0           0.0  \n",
       "3   0.0    58.140302   <=50K     3.639632           40.0           0.0  \n",
       "4   0.0    45.605865   <=50K     2.510870           40.0           0.0  \n",
       "\n",
       "[5 rows x 22 columns]"
      ]
     },
     "execution_count": 5,
     "metadata": {},
     "output_type": "execute_result"
    }
   ],
   "source": [
    "data.head()"
   ]
  },
  {
   "cell_type": "markdown",
   "metadata": {},
   "source": [
    "Opäť, ako aj pri prvom dataset je z výpisu DataFrame.head() jasné, že prvý, nepomenovaný stĺpec je v datasete použitý ako index, preto ho môžme odstrániť."
   ]
  },
  {
   "cell_type": "code",
   "execution_count": 6,
   "metadata": {
    "pycharm": {
     "is_executing": false,
     "name": "#%%\n"
    }
   },
   "outputs": [],
   "source": [
    "data = data.drop(data.columns[0],axis=1)"
   ]
  },
  {
   "cell_type": "markdown",
   "metadata": {},
   "source": [
    "## Opis atribútov:\n",
    "Atribúty datasetu sú stringy aj floaty."
   ]
  },
  {
   "cell_type": "code",
   "execution_count": 7,
   "metadata": {
    "pycharm": {
     "is_executing": false,
     "name": "#%%\n"
    }
   },
   "outputs": [
    {
     "data": {
      "text/plain": [
       "name                 object\n",
       "address              object\n",
       "kurtosis_oxygen     float64\n",
       "pregnant             object\n",
       "education-num       float64\n",
       "relationship         object\n",
       "skewness_glucose    float64\n",
       "mean_glucose        float64\n",
       "std_oxygen          float64\n",
       "capital-gain        float64\n",
       "skewness_oxygen     float64\n",
       "kurtosis_glucose    float64\n",
       "personal_info        object\n",
       "education            object\n",
       "fnlwgt              float64\n",
       "class               float64\n",
       "std_glucose         float64\n",
       "income               object\n",
       "mean_oxygen         float64\n",
       "hours-per-week      float64\n",
       "capital-loss        float64\n",
       "dtype: object"
      ]
     },
     "execution_count": 7,
     "metadata": {},
     "output_type": "execute_result"
    }
   ],
   "source": [
    "data.dtypes"
   ]
  },
  {
   "cell_type": "markdown",
   "metadata": {},
   "source": [
    "Dataset taktiež obsahuje celkom veľa chýbajúcich hodnôt.<br>\n",
    "Z výpisu je možné vidieť, že nie všetky atribúty obsahujú hodnoty."
   ]
  },
  {
   "cell_type": "code",
   "execution_count": 8,
   "metadata": {
    "pycharm": {
     "is_executing": false,
     "name": "#%%\n"
    }
   },
   "outputs": [
    {
     "name": "stdout",
     "output_type": "stream",
     "text": [
      "Dataset obsahuje celkovo 76 chýbajúcich hodnôt\n"
     ]
    }
   ],
   "source": [
    "print(\"Dataset obsahuje celkovo %d chýbajúcich hodnôt\"%int(data.shape[0] - data.dropna().shape[0]))"
   ]
  },
  {
   "cell_type": "code",
   "execution_count": 9,
   "metadata": {
    "pycharm": {
     "is_executing": false,
     "name": "#%%\n"
    }
   },
   "outputs": [
    {
     "data": {
      "text/plain": [
       "name                 0\n",
       "address              0\n",
       "kurtosis_oxygen      5\n",
       "pregnant            12\n",
       "education-num       18\n",
       "relationship        13\n",
       "skewness_glucose    23\n",
       "mean_glucose        10\n",
       "std_oxygen          14\n",
       "capital-gain        16\n",
       "skewness_oxygen     13\n",
       "kurtosis_glucose    18\n",
       "personal_info       12\n",
       "education           12\n",
       "fnlwgt              13\n",
       "class               19\n",
       "std_glucose         12\n",
       "income              14\n",
       "mean_oxygen         16\n",
       "hours-per-week      13\n",
       "capital-loss        20\n",
       "dtype: int64"
      ]
     },
     "execution_count": 9,
     "metadata": {},
     "output_type": "execute_result"
    }
   ],
   "source": [
    "data.isnull().sum()"
   ]
  },
  {
   "cell_type": "markdown",
   "metadata": {},
   "source": [
    "## Deskriptívne štatistiky "
   ]
  },
  {
   "cell_type": "code",
   "execution_count": 10,
   "metadata": {
    "pycharm": {
     "is_executing": false,
     "name": "#%% \n"
    }
   },
   "outputs": [
    {
     "data": {
      "text/html": [
       "<div>\n",
       "<style scoped>\n",
       "    .dataframe tbody tr th:only-of-type {\n",
       "        vertical-align: middle;\n",
       "    }\n",
       "\n",
       "    .dataframe tbody tr th {\n",
       "        vertical-align: top;\n",
       "    }\n",
       "\n",
       "    .dataframe thead th {\n",
       "        text-align: right;\n",
       "    }\n",
       "</style>\n",
       "<table border=\"1\" class=\"dataframe\">\n",
       "  <thead>\n",
       "    <tr style=\"text-align: right;\">\n",
       "      <th></th>\n",
       "      <th>kurtosis_oxygen</th>\n",
       "      <th>education-num</th>\n",
       "      <th>skewness_glucose</th>\n",
       "      <th>mean_glucose</th>\n",
       "      <th>std_oxygen</th>\n",
       "      <th>capital-gain</th>\n",
       "      <th>skewness_oxygen</th>\n",
       "      <th>kurtosis_glucose</th>\n",
       "      <th>fnlwgt</th>\n",
       "      <th>class</th>\n",
       "      <th>std_glucose</th>\n",
       "      <th>mean_oxygen</th>\n",
       "      <th>hours-per-week</th>\n",
       "      <th>capital-loss</th>\n",
       "    </tr>\n",
       "  </thead>\n",
       "  <tbody>\n",
       "    <tr>\n",
       "      <th>count</th>\n",
       "      <td>3978.000000</td>\n",
       "      <td>3965.000000</td>\n",
       "      <td>3960.000000</td>\n",
       "      <td>3973.000000</td>\n",
       "      <td>3969.000000</td>\n",
       "      <td>3967.000000</td>\n",
       "      <td>3970.000000</td>\n",
       "      <td>3965.000000</td>\n",
       "      <td>3970.000000</td>\n",
       "      <td>3964.000000</td>\n",
       "      <td>3971.000000</td>\n",
       "      <td>3967.000000</td>\n",
       "      <td>3970.000000</td>\n",
       "      <td>3963.000000</td>\n",
       "    </tr>\n",
       "    <tr>\n",
       "      <th>mean</th>\n",
       "      <td>7.414473</td>\n",
       "      <td>10.084489</td>\n",
       "      <td>4.242530</td>\n",
       "      <td>101.248940</td>\n",
       "      <td>31.148558</td>\n",
       "      <td>1042.988908</td>\n",
       "      <td>91.370712</td>\n",
       "      <td>0.950507</td>\n",
       "      <td>192967.197985</td>\n",
       "      <td>0.255298</td>\n",
       "      <td>74.479764</td>\n",
       "      <td>18.470601</td>\n",
       "      <td>40.568766</td>\n",
       "      <td>80.275549</td>\n",
       "    </tr>\n",
       "    <tr>\n",
       "      <th>std</th>\n",
       "      <td>4.811907</td>\n",
       "      <td>2.588918</td>\n",
       "      <td>9.706012</td>\n",
       "      <td>33.601519</td>\n",
       "      <td>22.263993</td>\n",
       "      <td>7006.726961</td>\n",
       "      <td>108.475749</td>\n",
       "      <td>1.611069</td>\n",
       "      <td>103285.567216</td>\n",
       "      <td>0.436083</td>\n",
       "      <td>1448.165852</td>\n",
       "      <td>34.808695</td>\n",
       "      <td>12.601133</td>\n",
       "      <td>388.336046</td>\n",
       "    </tr>\n",
       "    <tr>\n",
       "      <th>min</th>\n",
       "      <td>-2.597872</td>\n",
       "      <td>1.000000</td>\n",
       "      <td>-1.755332</td>\n",
       "      <td>6.187500</td>\n",
       "      <td>7.370432</td>\n",
       "      <td>0.000000</td>\n",
       "      <td>-1.976976</td>\n",
       "      <td>-1.641515</td>\n",
       "      <td>19214.000000</td>\n",
       "      <td>0.000000</td>\n",
       "      <td>-8305.388133</td>\n",
       "      <td>0.213211</td>\n",
       "      <td>1.000000</td>\n",
       "      <td>0.000000</td>\n",
       "    </tr>\n",
       "    <tr>\n",
       "      <th>25%</th>\n",
       "      <td>3.630716</td>\n",
       "      <td>9.000000</td>\n",
       "      <td>-0.120081</td>\n",
       "      <td>87.742188</td>\n",
       "      <td>15.024700</td>\n",
       "      <td>0.000000</td>\n",
       "      <td>12.858504</td>\n",
       "      <td>0.072144</td>\n",
       "      <td>120960.000000</td>\n",
       "      <td>0.000000</td>\n",
       "      <td>39.502222</td>\n",
       "      <td>2.061873</td>\n",
       "      <td>40.000000</td>\n",
       "      <td>0.000000</td>\n",
       "    </tr>\n",
       "    <tr>\n",
       "      <th>50%</th>\n",
       "      <td>7.784802</td>\n",
       "      <td>10.000000</td>\n",
       "      <td>0.374657</td>\n",
       "      <td>110.664062</td>\n",
       "      <td>20.547873</td>\n",
       "      <td>0.000000</td>\n",
       "      <td>68.623477</td>\n",
       "      <td>0.310372</td>\n",
       "      <td>182045.000000</td>\n",
       "      <td>0.000000</td>\n",
       "      <td>45.928079</td>\n",
       "      <td>3.223244</td>\n",
       "      <td>40.000000</td>\n",
       "      <td>0.000000</td>\n",
       "    </tr>\n",
       "    <tr>\n",
       "      <th>75%</th>\n",
       "      <td>10.278883</td>\n",
       "      <td>12.000000</td>\n",
       "      <td>2.091543</td>\n",
       "      <td>124.132812</td>\n",
       "      <td>43.253607</td>\n",
       "      <td>0.000000</td>\n",
       "      <td>127.236918</td>\n",
       "      <td>0.775684</td>\n",
       "      <td>241631.000000</td>\n",
       "      <td>1.000000</td>\n",
       "      <td>51.048246</td>\n",
       "      <td>12.610786</td>\n",
       "      <td>45.000000</td>\n",
       "      <td>0.000000</td>\n",
       "    </tr>\n",
       "    <tr>\n",
       "      <th>max</th>\n",
       "      <td>34.539844</td>\n",
       "      <td>16.000000</td>\n",
       "      <td>68.101622</td>\n",
       "      <td>189.734375</td>\n",
       "      <td>110.642211</td>\n",
       "      <td>99999.000000</td>\n",
       "      <td>1191.000837</td>\n",
       "      <td>8.069522</td>\n",
       "      <td>889965.000000</td>\n",
       "      <td>1.000000</td>\n",
       "      <td>6649.471314</td>\n",
       "      <td>217.371238</td>\n",
       "      <td>99.000000</td>\n",
       "      <td>3770.000000</td>\n",
       "    </tr>\n",
       "  </tbody>\n",
       "</table>\n",
       "</div>"
      ],
      "text/plain": [
       "       kurtosis_oxygen  education-num  skewness_glucose  mean_glucose  \\\n",
       "count      3978.000000    3965.000000       3960.000000   3973.000000   \n",
       "mean          7.414473      10.084489          4.242530    101.248940   \n",
       "std           4.811907       2.588918          9.706012     33.601519   \n",
       "min          -2.597872       1.000000         -1.755332      6.187500   \n",
       "25%           3.630716       9.000000         -0.120081     87.742188   \n",
       "50%           7.784802      10.000000          0.374657    110.664062   \n",
       "75%          10.278883      12.000000          2.091543    124.132812   \n",
       "max          34.539844      16.000000         68.101622    189.734375   \n",
       "\n",
       "        std_oxygen  capital-gain  skewness_oxygen  kurtosis_glucose  \\\n",
       "count  3969.000000   3967.000000      3970.000000       3965.000000   \n",
       "mean     31.148558   1042.988908        91.370712          0.950507   \n",
       "std      22.263993   7006.726961       108.475749          1.611069   \n",
       "min       7.370432      0.000000        -1.976976         -1.641515   \n",
       "25%      15.024700      0.000000        12.858504          0.072144   \n",
       "50%      20.547873      0.000000        68.623477          0.310372   \n",
       "75%      43.253607      0.000000       127.236918          0.775684   \n",
       "max     110.642211  99999.000000      1191.000837          8.069522   \n",
       "\n",
       "              fnlwgt        class  std_glucose  mean_oxygen  hours-per-week  \\\n",
       "count    3970.000000  3964.000000  3971.000000  3967.000000     3970.000000   \n",
       "mean   192967.197985     0.255298    74.479764    18.470601       40.568766   \n",
       "std    103285.567216     0.436083  1448.165852    34.808695       12.601133   \n",
       "min     19214.000000     0.000000 -8305.388133     0.213211        1.000000   \n",
       "25%    120960.000000     0.000000    39.502222     2.061873       40.000000   \n",
       "50%    182045.000000     0.000000    45.928079     3.223244       40.000000   \n",
       "75%    241631.000000     1.000000    51.048246    12.610786       45.000000   \n",
       "max    889965.000000     1.000000  6649.471314   217.371238       99.000000   \n",
       "\n",
       "       capital-loss  \n",
       "count   3963.000000  \n",
       "mean      80.275549  \n",
       "std      388.336046  \n",
       "min        0.000000  \n",
       "25%        0.000000  \n",
       "50%        0.000000  \n",
       "75%        0.000000  \n",
       "max     3770.000000  "
      ]
     },
     "execution_count": 10,
     "metadata": {},
     "output_type": "execute_result"
    }
   ],
   "source": [
    "data.describe()"
   ]
  },
  {
   "cell_type": "markdown",
   "metadata": {},
   "source": [
    "## Opis atribútov a identifikácia chýb:"
   ]
  },
  {
   "cell_type": "markdown",
   "metadata": {},
   "source": [
    "Atribút **kurtosis_oxygen**\n",
    " - je to spojitý číselný atribút nad ktorým môžme vykonávať deskriptívnu štatistiku\n",
    " - je to koeficient špicatosti distribúcie dát o hodnote kyslíku v krvi daného pacienta\n",
    " - atribút je typu float\n",
    " - obsahuje chýbajúce hodnoty, vhodnou korekciou je nahradenie prázdnych hodnôt mediánom\n",
    " "
   ]
  },
  {
   "cell_type": "code",
   "execution_count": 11,
   "metadata": {
    "pycharm": {
     "is_executing": false,
     "name": "#%%\n"
    }
   },
   "outputs": [
    {
     "name": "stdout",
     "output_type": "stream",
     "text": [
      "Počet chýbajúcich hodnôt v atribúte kurtosis_oxygen: 5\n"
     ]
    }
   ],
   "source": [
    "print(\"Počet chýbajúcich hodnôt v atribúte kurtosis_oxygen: %d\"%data.kurtosis_oxygen.isnull().sum())"
   ]
  },
  {
   "cell_type": "code",
   "execution_count": 12,
   "metadata": {
    "pycharm": {
     "is_executing": false,
     "name": "#%%\n"
    }
   },
   "outputs": [
    {
     "data": {
      "text/plain": [
       "count    3978.000000\n",
       "mean        7.414473\n",
       "std         4.811907\n",
       "min        -2.597872\n",
       "25%         3.630716\n",
       "50%         7.784802\n",
       "75%        10.278883\n",
       "max        34.539844\n",
       "Name: kurtosis_oxygen, dtype: float64"
      ]
     },
     "execution_count": 12,
     "metadata": {},
     "output_type": "execute_result"
    }
   ],
   "source": [
    "data.kurtosis_oxygen.describe()"
   ]
  },
  {
   "cell_type": "code",
   "execution_count": 13,
   "metadata": {
    "pycharm": {
     "is_executing": false,
     "name": "#%%\n"
    }
   },
   "outputs": [
    {
     "data": {
      "text/plain": [
       "<matplotlib.axes._subplots.AxesSubplot at 0x1c1cf9b0b8>"
      ]
     },
     "execution_count": 13,
     "metadata": {},
     "output_type": "execute_result"
    },
    {
     "data": {
      "image/png": "[encoded data removed]",
      "text/plain": [
       "<Figure size 432x288 with 1 Axes>"
      ]
     },
     "metadata": {
      "needs_background": "light"
     },
     "output_type": "display_data"
    }
   ],
   "source": [
    "sns.distplot(data.kurtosis_oxygen.dropna(),bins=100)"
   ]
  },
  {
   "cell_type": "code",
   "execution_count": 14,
   "metadata": {
    "pycharm": {
     "is_executing": false,
     "name": "#%%\n"
    }
   },
   "outputs": [
    {
     "data": {
      "text/plain": [
       "<matplotlib.axes._subplots.AxesSubplot at 0x1c1d3ddb70>"
      ]
     },
     "execution_count": 14,
     "metadata": {},
     "output_type": "execute_result"
    },
    {
     "data": {
      "image/png": "[encoded data removed]",
      "text/plain": [
       "<Figure size 432x288 with 1 Axes>"
      ]
     },
     "metadata": {
      "needs_background": "light"
     },
     "output_type": "display_data"
    }
   ],
   "source": [
    "sns.boxplot(data.kurtosis_oxygen.dropna())"
   ]
  },
  {
   "cell_type": "markdown",
   "metadata": {},
   "source": [
    "Na boxplote je možno vidieť, že kurtosis_oxygen obsahuje veľa outlierov."
   ]
  },
  {
   "cell_type": "code",
   "execution_count": 15,
   "metadata": {
    "pycharm": {
     "is_executing": false
    }
   },
   "outputs": [],
   "source": [
    "def iqr(attribute): \n",
    "    return data[attribute].quantile(0.75) - data[attribute].quantile(0.25) \n",
    "\n",
    "def outliers(attribute):\n",
    "    iqrange = iqr(attribute)\n",
    "    return data[(data[attribute] > (data[attribute].quantile(0.75) + iqrange*1.5)) | (data[attribute] < (data[attribute].quantile(0.25) - 1.5*iqrange))]\n"
   ]
  },
  {
   "cell_type": "code",
   "execution_count": 16,
   "metadata": {
    "pycharm": {
     "is_executing": false,
     "name": "#%%\n"
    }
   },
   "outputs": [
    {
     "name": "stdout",
     "output_type": "stream",
     "text": [
      "Počet outlierov v atribúte kurtosis_oxygen je 51\n"
     ]
    }
   ],
   "source": [
    "outliers_ko = outliers(\"kurtosis_oxygen\")\n",
    "print(\"Počet outlierov v atribúte kurtosis_oxygen je %d\"%len(outliers_ko))"
   ]
  },
  {
   "cell_type": "markdown",
   "metadata": {},
   "source": [
    "Atribút **pregnant**\n",
    " - je to kategorický binárny atribút vyjadrujúci tehotenstvo pacienta\n",
    " - jeho typ je string nadobúdajúci viacero foriem hodnôt, preto je treba tieto hodnoty upraviť a zjednotiť\n",
    " - obsahuje taktiež prázdne hodnoty"
   ]
  },
  {
   "cell_type": "code",
   "execution_count": 17,
   "metadata": {
    "pycharm": {
     "is_executing": false,
     "name": "#%%\n"
    }
   },
   "outputs": [
    {
     "data": {
      "text/plain": [
       "f        3517\n",
       "FALSE     199\n",
       "F         192\n",
       "t          57\n",
       "TRUE        4\n",
       "T           2\n",
       "Name: pregnant, dtype: int64"
      ]
     },
     "execution_count": 17,
     "metadata": {},
     "output_type": "execute_result"
    }
   ],
   "source": [
    "data['pregnant'].value_counts()"
   ]
  },
  {
   "cell_type": "code",
   "execution_count": 18,
   "metadata": {
    "pycharm": {
     "is_executing": false,
     "name": "#%%\n"
    }
   },
   "outputs": [],
   "source": [
    "def sanitize_boolean(boolean):\n",
    "    try:\n",
    "        if boolean.strip() in ['f','F','FALSE','false','False']:\n",
    "            return False\n",
    "        elif boolean.strip() in ['t','T','TRUE','true','True']:\n",
    "            return True\n",
    "    except AttributeError:\n",
    "        return None\n",
    "    \n",
    "data.pregnant = data.pregnant.apply(sanitize_boolean)"
   ]
  },
  {
   "cell_type": "code",
   "execution_count": 19,
   "metadata": {
    "pycharm": {
     "is_executing": false,
     "name": "#%%\n"
    }
   },
   "outputs": [
    {
     "data": {
      "text/plain": [
       "<matplotlib.axes._subplots.AxesSubplot at 0x1c1bea36a0>"
      ]
     },
     "execution_count": 19,
     "metadata": {},
     "output_type": "execute_result"
    },
    {
     "data": {
      "image/png": "[encoded data removed]",
      "text/plain": [
       "<Figure size 432x288 with 1 Axes>"
      ]
     },
     "metadata": {
      "needs_background": "light"
     },
     "output_type": "display_data"
    }
   ],
   "source": [
    "sns.countplot(data=data,x=\"pregnant\",palette=(\"Dark2\"))"
   ]
  },
  {
   "cell_type": "markdown",
   "metadata": {},
   "source": [
    "Zo stĺpcového diagramu teda vidíme, že vačšina pacientov nie je tehotná.\n",
    "<br>Pri čistení hodnôt sme však našli aj prázdne hodnoty, čiastočne by sme navrhovali napríklad nastavenie hodnoty False tým riadkom ktoré majú hodnotu atribútu **relationship** \"Husband\" alebo, ktoré po spojení tabuliek budú mať atribút **sex** nastavený na hodnotu \"Male\" "
   ]
  },
  {
   "cell_type": "code",
   "execution_count": 20,
   "metadata": {
    "pycharm": {
     "is_executing": false,
     "name": "#%%\n"
    }
   },
   "outputs": [
    {
     "name": "stdout",
     "output_type": "stream",
     "text": [
      "Počet chýbajúcich hodnôt v atribúte pregnant: 12\n"
     ]
    }
   ],
   "source": [
    "print(\"Počet chýbajúcich hodnôt v atribúte pregnant: %d\"%data.pregnant.isnull().sum())"
   ]
  },
  {
   "cell_type": "markdown",
   "metadata": {},
   "source": [
    "Atribút **education-num**\n",
    "- je spojitý číselný atribút na ktorom môžme vykonávať deskriptívne štatistiky\n",
    "- pravdepodobne číslo vyjadruje sčítanosť pacienta\n",
    "- nadobúda celočíselné hodnoty\n",
    "- taktiež obsahuje prázdne dáta, možnosť nahradenia mediánom, alebo vypočítať číslo ako závislosť s atribútom education "
   ]
  },
  {
   "cell_type": "code",
   "execution_count": 21,
   "metadata": {
    "pycharm": {
     "is_executing": false,
     "name": "#%%\n"
    }
   },
   "outputs": [
    {
     "data": {
      "text/plain": [
       "count    3965.000000\n",
       "mean       10.084489\n",
       "std         2.588918\n",
       "min         1.000000\n",
       "25%         9.000000\n",
       "50%        10.000000\n",
       "75%        12.000000\n",
       "max        16.000000\n",
       "Name: education-num, dtype: float64"
      ]
     },
     "execution_count": 21,
     "metadata": {},
     "output_type": "execute_result"
    }
   ],
   "source": [
    "data['education-num'].describe()"
   ]
  },
  {
   "cell_type": "code",
   "execution_count": 22,
   "metadata": {
    "pycharm": {
     "is_executing": false,
     "name": "#%%\n"
    }
   },
   "outputs": [
    {
     "data": {
      "text/plain": [
       "<matplotlib.axes._subplots.AxesSubplot at 0x1c1d53f3c8>"
      ]
     },
     "execution_count": 22,
     "metadata": {},
     "output_type": "execute_result"
    },
    {
     "data": {
      "image/png": "[encoded data removed]",
      "text/plain": [
       "<Figure size 432x288 with 1 Axes>"
      ]
     },
     "metadata": {
      "needs_background": "light"
     },
     "output_type": "display_data"
    }
   ],
   "source": [
    "sns.distplot(data['education-num'].dropna())"
   ]
  },
  {
   "cell_type": "code",
   "execution_count": 23,
   "metadata": {
    "pycharm": {
     "is_executing": false,
     "name": "#%%\n"
    }
   },
   "outputs": [
    {
     "data": {
      "text/plain": [
       "<matplotlib.axes._subplots.AxesSubplot at 0x1c1d82e550>"
      ]
     },
     "execution_count": 23,
     "metadata": {},
     "output_type": "execute_result"
    },
    {
     "data": {
      "image/png": "[encoded data removed]",
      "text/plain": [
       "<Figure size 432x288 with 1 Axes>"
      ]
     },
     "metadata": {
      "needs_background": "light"
     },
     "output_type": "display_data"
    }
   ],
   "source": [
    "sns.boxplot(data['education-num'].dropna())"
   ]
  },
  {
   "cell_type": "code",
   "execution_count": 24,
   "metadata": {
    "pycharm": {
     "is_executing": false,
     "name": "#%%\n"
    }
   },
   "outputs": [
    {
     "name": "stdout",
     "output_type": "stream",
     "text": [
      "Počet chýbajúcich hodnôt v atribúte education-num: 18\n"
     ]
    }
   ],
   "source": [
    "print(\"Počet chýbajúcich hodnôt v atribúte education-num: %d\"%data['education-num'].isnull().sum())\n"
   ]
  },
  {
   "cell_type": "markdown",
   "metadata": {},
   "source": [
    "Atribút **relationship**\n",
    " - je to kategorický atribút vyjadrujúci vzťah pacienta v ktorom\n",
    " - dáta sú typu string, a sú pomerne čisté, nie je potreba ich s výnimkou odstránenia whitespace upravovať\n",
    " - obsahuje zopár chýbajúcich hodnoty, ale číslo je zanedbateľné"
   ]
  },
  {
   "cell_type": "code",
   "execution_count": 25,
   "metadata": {
    "pycharm": {
     "is_executing": false,
     "name": "#%%\n"
    }
   },
   "outputs": [
    {
     "data": {
      "text/plain": [
       "count         3970\n",
       "unique           6\n",
       "top        Husband\n",
       "freq          1649\n",
       "Name: relationship, dtype: object"
      ]
     },
     "execution_count": 25,
     "metadata": {},
     "output_type": "execute_result"
    }
   ],
   "source": [
    "data.relationship.describe()"
   ]
  },
  {
   "cell_type": "code",
   "execution_count": 26,
   "metadata": {
    "pycharm": {
     "is_executing": false,
     "name": "#%%\n"
    }
   },
   "outputs": [
    {
     "data": {
      "text/plain": [
       "<matplotlib.axes._subplots.AxesSubplot at 0x1c1d7cd4a8>"
      ]
     },
     "execution_count": 26,
     "metadata": {},
     "output_type": "execute_result"
    },
    {
     "data": {
      "image/png": "[encoded data removed]",
      "text/plain": [
       "<Figure size 432x288 with 1 Axes>"
      ]
     },
     "metadata": {
      "needs_background": "light"
     },
     "output_type": "display_data"
    }
   ],
   "source": [
    "data.relationship.value_counts().plot.bar()"
   ]
  },
  {
   "cell_type": "markdown",
   "metadata": {},
   "source": [
    "Vidíme ze v našom datasete prevládaju pacienti, muži, ktorí sú zároveň manželia."
   ]
  },
  {
   "cell_type": "code",
   "execution_count": 27,
   "metadata": {
    "pycharm": {
     "is_executing": false,
     "name": "#%% \n"
    }
   },
   "outputs": [
    {
     "name": "stdout",
     "output_type": "stream",
     "text": [
      "Počet chýbajúcich hodnôt v atribúte relationship: 13\n"
     ]
    }
   ],
   "source": [
    "print(\"Počet chýbajúcich hodnôt v atribúte relationship: %d\"%data.relationship.isnull().sum())"
   ]
  },
  {
   "cell_type": "markdown",
   "metadata": {},
   "source": [
    "Atribút **skewness_glucose**\n",
    "- atribút vyjadruje koeficient asymetrie rozdelenia meraných hodnôt glukózy v krvi pacienta\n",
    "- spojitý číselný atribút, vykonávame deskriptívne štatistiky\n",
    "- nie všetky hodnoty sú vyplnené\n"
   ]
  },
  {
   "cell_type": "code",
   "execution_count": 28,
   "metadata": {
    "pycharm": {
     "is_executing": false,
     "name": "#%%\n"
    }
   },
   "outputs": [
    {
     "data": {
      "text/plain": [
       "count    3960.000000\n",
       "mean        4.242530\n",
       "std         9.706012\n",
       "min        -1.755332\n",
       "25%        -0.120081\n",
       "50%         0.374657\n",
       "75%         2.091543\n",
       "max        68.101622\n",
       "Name: skewness_glucose, dtype: float64"
      ]
     },
     "execution_count": 28,
     "metadata": {},
     "output_type": "execute_result"
    }
   ],
   "source": [
    "data.skewness_glucose.describe()"
   ]
  },
  {
   "cell_type": "code",
   "execution_count": 29,
   "metadata": {
    "pycharm": {
     "is_executing": false,
     "name": "#%%\n"
    }
   },
   "outputs": [
    {
     "data": {
      "text/plain": [
       "<matplotlib.axes._subplots.AxesSubplot at 0x1c1d908b38>"
      ]
     },
     "execution_count": 29,
     "metadata": {},
     "output_type": "execute_result"
    },
    {
     "data": {
      "image/png": "[encoded data removed]",
      "text/plain": [
       "<Figure size 432x288 with 1 Axes>"
      ]
     },
     "metadata": {
      "needs_background": "light"
     },
     "output_type": "display_data"
    }
   ],
   "source": [
    "sns.distplot(data.skewness_glucose.dropna())"
   ]
  },
  {
   "cell_type": "code",
   "execution_count": 30,
   "metadata": {
    "pycharm": {
     "is_executing": false,
     "name": "#%%\n"
    }
   },
   "outputs": [
    {
     "data": {
      "text/plain": [
       "<matplotlib.axes._subplots.AxesSubplot at 0x1c1dbf4e10>"
      ]
     },
     "execution_count": 30,
     "metadata": {},
     "output_type": "execute_result"
    },
    {
     "data": {
      "image/png": "[encoded data removed]",
      "text/plain": [
       "<Figure size 432x288 with 1 Axes>"
      ]
     },
     "metadata": {
      "needs_background": "light"
     },
     "output_type": "display_data"
    }
   ],
   "source": [
    "sns.boxplot(data.skewness_glucose.dropna())"
   ]
  },
  {
   "cell_type": "markdown",
   "metadata": {},
   "source": [
    "Z grafov i štatistík môžme vidieť, že medzikvartilové rozpätie je pomerne úzke, s mediánom okolo 0, čiže väčšina pacientov má skoro symetrické rozdelenie hodnôt po meraní hladiny glukózy v krvi.\n",
    "<br>Avšak,v dátach máme veľký počet outlierov. "
   ]
  },
  {
   "cell_type": "code",
   "execution_count": 31,
   "metadata": {
    "pycharm": {
     "is_executing": false,
     "name": "#%%\n"
    }
   },
   "outputs": [
    {
     "name": "stdout",
     "output_type": "stream",
     "text": [
      "Počet outlierov v atribúte skewness_glucose je 685\n"
     ]
    }
   ],
   "source": [
    "outliers_sg = outliers(\"skewness_glucose\")\n",
    "print(\"Počet outlierov v atribúte skewness_glucose je %d\"%len(outliers_sg))"
   ]
  },
  {
   "cell_type": "code",
   "execution_count": 32,
   "metadata": {
    "pycharm": {
     "is_executing": false,
     "name": "#%%\n"
    }
   },
   "outputs": [
    {
     "name": "stdout",
     "output_type": "stream",
     "text": [
      "Počet chýbajúcich hodnôt v atribúte skewness_glucose: 23\n"
     ]
    }
   ],
   "source": [
    "print(\"Počet chýbajúcich hodnôt v atribúte skewness_glucose: %d\"%data.skewness_glucose.isnull().sum())"
   ]
  },
  {
   "cell_type": "markdown",
   "metadata": {
    "pycharm": {
     "name": "#%% md\n"
    }
   },
   "source": [
    "Atribút **mean_glucose**\n",
    "- opäť číselný spojitý atribút, typu float, vykonáme deskriptívne štatistiky\n",
    "- vyjadruje medián, strednú hodnotu v meraniach hodnoty glukózy v krvi pacienta\n",
    "- obsahuje prázdne hodnoty"
   ]
  },
  {
   "cell_type": "code",
   "execution_count": 33,
   "metadata": {
    "pycharm": {
     "is_executing": false,
     "name": "#%%\n"
    }
   },
   "outputs": [
    {
     "data": {
      "text/plain": [
       "count    3973.000000\n",
       "mean      101.248940\n",
       "std        33.601519\n",
       "min         6.187500\n",
       "25%        87.742188\n",
       "50%       110.664062\n",
       "75%       124.132812\n",
       "max       189.734375\n",
       "Name: mean_glucose, dtype: float64"
      ]
     },
     "execution_count": 33,
     "metadata": {},
     "output_type": "execute_result"
    }
   ],
   "source": [
    "data.mean_glucose.describe()"
   ]
  },
  {
   "cell_type": "code",
   "execution_count": 34,
   "metadata": {
    "pycharm": {
     "is_executing": false,
     "name": "#%%\n"
    }
   },
   "outputs": [
    {
     "data": {
      "text/plain": [
       "<matplotlib.axes._subplots.AxesSubplot at 0x1c1dba7e80>"
      ]
     },
     "execution_count": 34,
     "metadata": {},
     "output_type": "execute_result"
    },
    {
     "data": {
      "image/png": "[encoded data removed]",
      "text/plain": [
       "<Figure size 432x288 with 1 Axes>"
      ]
     },
     "metadata": {
      "needs_background": "light"
     },
     "output_type": "display_data"
    }
   ],
   "source": [
    "sns.distplot(data.mean_glucose.dropna())"
   ]
  },
  {
   "cell_type": "code",
   "execution_count": 35,
   "metadata": {
    "pycharm": {
     "is_executing": false,
     "name": "#%%\n"
    }
   },
   "outputs": [
    {
     "data": {
      "text/plain": [
       "<matplotlib.axes._subplots.AxesSubplot at 0x1c1de93cc0>"
      ]
     },
     "execution_count": 35,
     "metadata": {},
     "output_type": "execute_result"
    },
    {
     "data": {
      "image/png": "[encoded data removed]",
      "text/plain": [
       "<Figure size 432x288 with 1 Axes>"
      ]
     },
     "metadata": {
      "needs_background": "light"
     },
     "output_type": "display_data"
    }
   ],
   "source": [
    "sns.boxplot(data.mean_glucose.dropna())"
   ]
  },
  {
   "cell_type": "markdown",
   "metadata": {},
   "source": [
    "Z boxplotu vidíme, že v atribúte máme výrazných outlierov."
   ]
  },
  {
   "cell_type": "code",
   "execution_count": 36,
   "metadata": {
    "pycharm": {
     "is_executing": false,
     "name": "#%%\n"
    }
   },
   "outputs": [
    {
     "name": "stdout",
     "output_type": "stream",
     "text": [
      "Počet outlierov v atribúte mean_glucose je 275\n"
     ]
    }
   ],
   "source": [
    "outliers_mg = outliers(\"mean_glucose\")\n",
    "print(\"Počet outlierov v atribúte mean_glucose je %d\"%len(outliers_mg))"
   ]
  },
  {
   "cell_type": "code",
   "execution_count": 37,
   "metadata": {
    "pycharm": {
     "is_executing": false,
     "name": "#%%\n"
    }
   },
   "outputs": [
    {
     "name": "stdout",
     "output_type": "stream",
     "text": [
      "Počet chýbajúcich hodnôt v atribúte mean_glucose: 10\n"
     ]
    }
   ],
   "source": [
    "print(\"Počet chýbajúcich hodnôt v atribúte mean_glucose: %d\"%data.mean_glucose.isnull().sum())"
   ]
  },
  {
   "cell_type": "markdown",
   "metadata": {
    "pycharm": {
     "name": "#%% md\n"
    }
   },
   "source": [
    "Atribút **std_oxygen**\n",
    "- je spojitý číselný atribút\n",
    "- smerodajná odchýlka od normalneho rozdelenia hodnot nameraného kyslíku v krvi\n",
    "- obsahuje aj chýbajúce hodnoty "
   ]
  },
  {
   "cell_type": "code",
   "execution_count": 38,
   "metadata": {
    "pycharm": {
     "is_executing": false,
     "name": "#%%\n"
    }
   },
   "outputs": [
    {
     "data": {
      "text/plain": [
       "count    3969.000000\n",
       "mean       31.148558\n",
       "std        22.263993\n",
       "min         7.370432\n",
       "25%        15.024700\n",
       "50%        20.547873\n",
       "75%        43.253607\n",
       "max       110.642211\n",
       "Name: std_oxygen, dtype: float64"
      ]
     },
     "execution_count": 38,
     "metadata": {},
     "output_type": "execute_result"
    }
   ],
   "source": [
    "data.std_oxygen.describe()"
   ]
  },
  {
   "cell_type": "code",
   "execution_count": 39,
   "metadata": {
    "pycharm": {
     "is_executing": false,
     "name": "#%%\n"
    }
   },
   "outputs": [
    {
     "data": {
      "text/plain": [
       "<matplotlib.axes._subplots.AxesSubplot at 0x1c1de349e8>"
      ]
     },
     "execution_count": 39,
     "metadata": {},
     "output_type": "execute_result"
    },
    {
     "data": {
      "image/png": "[encoded data removed]",
      "text/plain": [
       "<Figure size 432x288 with 1 Axes>"
      ]
     },
     "metadata": {
      "needs_background": "light"
     },
     "output_type": "display_data"
    }
   ],
   "source": [
    "sns.distplot(data.std_oxygen.dropna())"
   ]
  },
  {
   "cell_type": "code",
   "execution_count": 40,
   "metadata": {
    "pycharm": {
     "is_executing": false,
     "name": "#%%\n"
    }
   },
   "outputs": [
    {
     "data": {
      "text/plain": [
       "<matplotlib.axes._subplots.AxesSubplot at 0x1c1e0c39e8>"
      ]
     },
     "execution_count": 40,
     "metadata": {},
     "output_type": "execute_result"
    },
    {
     "data": {
      "image/png": "[encoded data removed]",
      "text/plain": [
       "<Figure size 432x288 with 1 Axes>"
      ]
     },
     "metadata": {
      "needs_background": "light"
     },
     "output_type": "display_data"
    }
   ],
   "source": [
    "sns.boxplot(data.std_oxygen.dropna())\n"
   ]
  },
  {
   "cell_type": "markdown",
   "metadata": {},
   "source": [
    "Z boxplotu vidíme, že v atribúte máme výrazných outlierov."
   ]
  },
  {
   "cell_type": "code",
   "execution_count": 41,
   "metadata": {
    "pycharm": {
     "is_executing": false,
     "name": "#%%\n"
    }
   },
   "outputs": [
    {
     "name": "stdout",
     "output_type": "stream",
     "text": [
      "Počet outlierov v atribúte std_oxygen je 78\n"
     ]
    }
   ],
   "source": [
    "outliers_so = outliers(\"std_oxygen\")\n",
    "print(\"Počet outlierov v atribúte std_oxygen je %d\"%len(outliers_so))"
   ]
  },
  {
   "cell_type": "code",
   "execution_count": 42,
   "metadata": {
    "pycharm": {
     "is_executing": false,
     "name": "#%%\n"
    }
   },
   "outputs": [
    {
     "name": "stdout",
     "output_type": "stream",
     "text": [
      "Počet chýbajúcich hodnôt v atribúte std_oxygen: 14\n"
     ]
    }
   ],
   "source": [
    "print(\"Počet chýbajúcich hodnôt v atribúte std_oxygen: %d\"%data.std_oxygen.isnull().sum())"
   ]
  },
  {
   "cell_type": "markdown",
   "metadata": {},
   "source": [
    "Atribút **capital-gain**\n",
    "- atribút vyjadrujúci nárast kapitálu\n",
    "- nie je potrebný pre medicínske dáta\n",
    "- čísený spojitý atribút"
   ]
  },
  {
   "cell_type": "code",
   "execution_count": 43,
   "metadata": {
    "pycharm": {
     "is_executing": false,
     "name": "#%%\n"
    }
   },
   "outputs": [
    {
     "data": {
      "text/plain": [
       "count     3967.000000\n",
       "mean      1042.988908\n",
       "std       7006.726961\n",
       "min          0.000000\n",
       "25%          0.000000\n",
       "50%          0.000000\n",
       "75%          0.000000\n",
       "max      99999.000000\n",
       "Name: capital-gain, dtype: float64"
      ]
     },
     "execution_count": 43,
     "metadata": {},
     "output_type": "execute_result"
    }
   ],
   "source": [
    "data['capital-gain'].describe()"
   ]
  },
  {
   "cell_type": "code",
   "execution_count": 44,
   "metadata": {
    "pycharm": {
     "is_executing": false,
     "name": "#%%\n"
    }
   },
   "outputs": [
    {
     "data": {
      "text/plain": [
       "<matplotlib.axes._subplots.AxesSubplot at 0x1c1e0d6748>"
      ]
     },
     "execution_count": 44,
     "metadata": {},
     "output_type": "execute_result"
    },
    {
     "data": {
      "image/png": "[encoded data removed]",
      "text/plain": [
       "<Figure size 432x288 with 1 Axes>"
      ]
     },
     "metadata": {
      "needs_background": "light"
     },
     "output_type": "display_data"
    }
   ],
   "source": [
    "sns.distplot(data['capital-gain'].dropna())"
   ]
  },
  {
   "cell_type": "markdown",
   "metadata": {
    "pycharm": {
     "is_executing": false,
     "name": "#%% md\n"
    }
   },
   "source": [
    "Podľa grafu hustoty pravdepodobnostného rozdelenia vidíme, že väčšina prvkov sa rovná nule.\n",
    "Pravdepodobne tento atribút nebude až tak dôležitý, v ďalšej fáze uvidíme čo s ním urobíme. "
   ]
  },
  {
   "cell_type": "code",
   "execution_count": 45,
   "metadata": {
    "pycharm": {
     "is_executing": false,
     "name": "#%%\n"
    }
   },
   "outputs": [
    {
     "name": "stdout",
     "output_type": "stream",
     "text": [
      "Pomer počtu nulových záznamov atribútu voči iným hodnotám je 3633:334\n",
      "Počet chýbajúcich hodnôt v atribúte capital-gain: 16\n"
     ]
    }
   ],
   "source": [
    "print(\"Pomer počtu nulových záznamov atribútu voči iným hodnotám je \" + str(len(data[data['capital-gain'] == 0])) + \":\" + str(len(data[np.isfinite(data['capital-gain']) & data['capital-gain'] > 0])))\n",
    "print(\"Počet chýbajúcich hodnôt v atribúte capital-gain: %d\"%data['capital-gain'].isnull().sum())\n"
   ]
  },
  {
   "cell_type": "markdown",
   "metadata": {},
   "source": [
    "Atribút **skewness_oxygen**\n",
    "- atribút vyjadruje koeficient asymetrie rozdelenia meraných hodnôt kyslíku v krvi pacienta\n",
    "- spojitý číselný atribút, vykonávame deskriptívne štatistiky\n",
    "- nie všetky hodnoty sú vyplnené\n"
   ]
  },
  {
   "cell_type": "code",
   "execution_count": 46,
   "metadata": {
    "pycharm": {
     "is_executing": false,
     "name": "#%%\n"
    }
   },
   "outputs": [
    {
     "data": {
      "text/plain": [
       "count    3970.000000\n",
       "mean       91.370712\n",
       "std       108.475749\n",
       "min        -1.976976\n",
       "25%        12.858504\n",
       "50%        68.623477\n",
       "75%       127.236918\n",
       "max      1191.000837\n",
       "Name: skewness_oxygen, dtype: float64"
      ]
     },
     "execution_count": 46,
     "metadata": {},
     "output_type": "execute_result"
    }
   ],
   "source": [
    "data.skewness_oxygen.describe()"
   ]
  },
  {
   "cell_type": "code",
   "execution_count": 47,
   "metadata": {
    "pycharm": {
     "is_executing": false,
     "name": "#%%\n"
    }
   },
   "outputs": [
    {
     "data": {
      "text/plain": [
       "<matplotlib.axes._subplots.AxesSubplot at 0x1c1e3e4ac8>"
      ]
     },
     "execution_count": 47,
     "metadata": {},
     "output_type": "execute_result"
    },
    {
     "data": {
      "image/png": "[encoded data removed]",
      "text/plain": [
       "<Figure size 432x288 with 1 Axes>"
      ]
     },
     "metadata": {
      "needs_background": "light"
     },
     "output_type": "display_data"
    }
   ],
   "source": [
    "sns.distplot(data.skewness_oxygen.dropna())"
   ]
  },
  {
   "cell_type": "code",
   "execution_count": 48,
   "metadata": {
    "pycharm": {
     "is_executing": false,
     "name": "#%%\n"
    }
   },
   "outputs": [
    {
     "data": {
      "text/plain": [
       "<matplotlib.axes._subplots.AxesSubplot at 0x1c1e371898>"
      ]
     },
     "execution_count": 48,
     "metadata": {},
     "output_type": "execute_result"
    },
    {
     "data": {
      "image/png": "[encoded data removed]",
      "text/plain": [
       "<Figure size 432x288 with 1 Axes>"
      ]
     },
     "metadata": {
      "needs_background": "light"
     },
     "output_type": "display_data"
    }
   ],
   "source": [
    "sns.boxplot(data.skewness_oxygen.dropna())"
   ]
  },
  {
   "cell_type": "markdown",
   "metadata": {},
   "source": [
    "Z boxplot grafu je zrejmé že v dátach je veľký počet outlierov. "
   ]
  },
  {
   "cell_type": "code",
   "execution_count": 49,
   "metadata": {
    "pycharm": {
     "is_executing": false,
     "name": "#%%\n"
    }
   },
   "outputs": [
    {
     "name": "stdout",
     "output_type": "stream",
     "text": [
      "Počet outlierov v atribúte skewness_oxygen je 162\n"
     ]
    }
   ],
   "source": [
    "outliers_so = outliers(\"skewness_oxygen\")\n",
    "print(\"Počet outlierov v atribúte skewness_oxygen je %d\"%len(outliers_so))"
   ]
  },
  {
   "cell_type": "code",
   "execution_count": 50,
   "metadata": {
    "pycharm": {
     "is_executing": false,
     "name": "#%%\n"
    }
   },
   "outputs": [
    {
     "name": "stdout",
     "output_type": "stream",
     "text": [
      "Počet chýbajúcich hodnôt v atribúte skewness_oxygen: 13\n"
     ]
    }
   ],
   "source": [
    "print(\"Počet chýbajúcich hodnôt v atribúte skewness_oxygen: %d\"%data.skewness_oxygen.isnull().sum())\n"
   ]
  },
  {
   "cell_type": "markdown",
   "metadata": {},
   "source": [
    "Atribút **kurtosis_glucose**\n",
    " - je to spojitý číselný atribút nad ktorým môžme vykonávať deskriptívnu štatistiku\n",
    " - je to koeficient špicatosti distribúcie dát o hodnote glukózy v krvi daného pacienta\n",
    " - atribút je typu float\n",
    " - obsahuje chýbajúce hodnoty, vhodnou korekciou je nahradenie prázdnych hodnôt mediánom\n"
   ]
  },
  {
   "cell_type": "code",
   "execution_count": 51,
   "metadata": {
    "pycharm": {
     "is_executing": false,
     "name": "#%%\n"
    }
   },
   "outputs": [
    {
     "data": {
      "text/plain": [
       "count    3965.000000\n",
       "mean        0.950507\n",
       "std         1.611069\n",
       "min        -1.641515\n",
       "25%         0.072144\n",
       "50%         0.310372\n",
       "75%         0.775684\n",
       "max         8.069522\n",
       "Name: kurtosis_glucose, dtype: float64"
      ]
     },
     "execution_count": 51,
     "metadata": {},
     "output_type": "execute_result"
    }
   ],
   "source": [
    "data.kurtosis_glucose.describe()"
   ]
  },
  {
   "cell_type": "code",
   "execution_count": 52,
   "metadata": {
    "pycharm": {
     "is_executing": false,
     "name": "#%%\n"
    }
   },
   "outputs": [
    {
     "data": {
      "text/plain": [
       "<matplotlib.axes._subplots.AxesSubplot at 0x1c1e5c0f28>"
      ]
     },
     "execution_count": 52,
     "metadata": {},
     "output_type": "execute_result"
    },
    {
     "data": {
      "image/png": "[encoded data removed]",
      "text/plain": [
       "<Figure size 432x288 with 1 Axes>"
      ]
     },
     "metadata": {
      "needs_background": "light"
     },
     "output_type": "display_data"
    }
   ],
   "source": [
    "sns.distplot(data.kurtosis_glucose.dropna())"
   ]
  },
  {
   "cell_type": "code",
   "execution_count": 53,
   "metadata": {
    "pycharm": {
     "is_executing": false,
     "name": "#%%\n"
    }
   },
   "outputs": [
    {
     "data": {
      "text/plain": [
       "<matplotlib.axes._subplots.AxesSubplot at 0x1c1e7ea198>"
      ]
     },
     "execution_count": 53,
     "metadata": {},
     "output_type": "execute_result"
    },
    {
     "data": {
      "image/png": "[encoded data removed]",
      "text/plain": [
       "<Figure size 432x288 with 1 Axes>"
      ]
     },
     "metadata": {
      "needs_background": "light"
     },
     "output_type": "display_data"
    }
   ],
   "source": [
    "sns.boxplot(data.kurtosis_glucose.dropna())"
   ]
  },
  {
   "cell_type": "markdown",
   "metadata": {},
   "source": [
    "Ako aj pri iných atribútoch, aj pri tomto je  v dátach veľký počet outlierov. "
   ]
  },
  {
   "cell_type": "code",
   "execution_count": 54,
   "metadata": {
    "pycharm": {
     "is_executing": false,
     "name": "#%%\n"
    }
   },
   "outputs": [
    {
     "name": "stdout",
     "output_type": "stream",
     "text": [
      "Počet outlierov v atribúte kurtosis_glucose je 709\n"
     ]
    }
   ],
   "source": [
    "outliers_kg = outliers(\"kurtosis_glucose\")\n",
    "print(\"Počet outlierov v atribúte kurtosis_glucose je %d\"%len(outliers_kg))"
   ]
  },
  {
   "cell_type": "code",
   "execution_count": 55,
   "metadata": {
    "pycharm": {
     "is_executing": false,
     "name": "#%%\n"
    }
   },
   "outputs": [
    {
     "name": "stdout",
     "output_type": "stream",
     "text": [
      "Počet chýbajúcich hodnôt v atribúte kurtosis_glucose: 18\n"
     ]
    }
   ],
   "source": [
    "print(\"Počet chýbajúcich hodnôt v atribúte kurtosis_glucose: %d\"%data.kurtosis_glucose.isnull().sum())"
   ]
  },
  {
   "cell_type": "markdown",
   "metadata": {},
   "source": [
    "Atribút **personal_info**\n",
    " - je to komplexný atribút typu string, v ktorom sa nachádza viacero hodnôt\n",
    " - bude treba v ďalšej časti tento atribút rozparsovať\n",
    " - na prvý pohľad v dátach existuje povolanie, štát, vzťah, dáta o práci a farba pleti\n",
    " - informácie o vzťahu by nám mohli pomôcť naplniť prázdne hodnoty v atribúte **relationship**\n",
    " - niektoré záznamy však taktiež obsahujú prázdne hodnoty"
   ]
  },
  {
   "cell_type": "code",
   "execution_count": 56,
   "metadata": {
    "pycharm": {
     "is_executing": false,
     "name": "#%%\n"
    }
   },
   "outputs": [
    {
     "data": {
      "text/plain": [
       "0    Prof-specialty|United-States\\r\\r\\nMarried-civ-...\n",
       "1    Prof-specialty|United-States\\r\\r\\nNever-marrie...\n",
       "2    Other-service|Mexico\\r\\r\\nSeparated -- Private...\n",
       "3    Prof-specialty|Canada\\r\\r\\nNever-married -- Pr...\n",
       "4    Sales|United-States\\r\\r\\nMarried-civ-spouse --...\n",
       "Name: personal_info, dtype: object"
      ]
     },
     "execution_count": 56,
     "metadata": {},
     "output_type": "execute_result"
    }
   ],
   "source": [
    "data.personal_info.head(5)"
   ]
  },
  {
   "cell_type": "code",
   "execution_count": 57,
   "metadata": {
    "pycharm": {
     "is_executing": false,
     "name": "#%%\n"
    }
   },
   "outputs": [
    {
     "name": "stdout",
     "output_type": "stream",
     "text": [
      "Počet chýbajúcich hodnôt v atribúte personal_info: 12\n"
     ]
    }
   ],
   "source": [
    "print(\"Počet chýbajúcich hodnôt v atribúte personal_info: %d\"%data.personal_info.isnull().sum())"
   ]
  },
  {
   "cell_type": "markdown",
   "metadata": {},
   "source": [
    "Atribút **education**\n",
    "- kategorický atribút nadobúdajúci 16 rôznych hodnôt\n",
    "- zrejme vyjadruje stupeň najvyššieho dosiahnutého vzdelania"
   ]
  },
  {
   "cell_type": "code",
   "execution_count": 58,
   "metadata": {
    "pycharm": {
     "is_executing": false,
     "name": "#%%\n"
    }
   },
   "outputs": [
    {
     "data": {
      "text/plain": [
       "16"
      ]
     },
     "execution_count": 58,
     "metadata": {},
     "output_type": "execute_result"
    }
   ],
   "source": [
    "len(data.education.dropna().unique())"
   ]
  },
  {
   "cell_type": "code",
   "execution_count": 59,
   "metadata": {
    "pycharm": {
     "is_executing": false,
     "name": "#%%\n"
    }
   },
   "outputs": [
    {
     "data": {
      "text/plain": [
       "<matplotlib.axes._subplots.AxesSubplot at 0x1c1e787438>"
      ]
     },
     "execution_count": 59,
     "metadata": {},
     "output_type": "execute_result"
    },
    {
     "data": {
      "image/png": "[encoded data removed]",
      "text/plain": [
       "<Figure size 432x288 with 1 Axes>"
      ]
     },
     "metadata": {
      "needs_background": "light"
     },
     "output_type": "display_data"
    }
   ],
   "source": [
    "data.education.value_counts().plot.bar()"
   ]
  },
  {
   "cell_type": "markdown",
   "metadata": {
    "pycharm": {
     "name": "#%% md\n"
    }
   },
   "source": [
    "Ako môžme vidieť z grafu, v datasete máme najviac pacientov s najvyšším dosiahnutím \"High School graduate\""
   ]
  },
  {
   "cell_type": "code",
   "execution_count": 60,
   "metadata": {
    "pycharm": {
     "is_executing": false,
     "name": "#%%\n"
    }
   },
   "outputs": [
    {
     "name": "stdout",
     "output_type": "stream",
     "text": [
      "Počet chýbajúcich hodnôt v atribúte education: 12\n"
     ]
    }
   ],
   "source": [
    "print(\"Počet chýbajúcich hodnôt v atribúte education: %d\"%data.education.isnull().sum())"
   ]
  },
  {
   "cell_type": "markdown",
   "metadata": {},
   "source": [
    "Atribút **fnlwgt**\n",
    "- spojitý celočíselný atribút\n",
    "- podľa hľadaní na internete vyjadruje atribút final weight určený organizáciou Census\n",
    "- nie je relevatný s medicínskymi dátami"
   ]
  },
  {
   "cell_type": "code",
   "execution_count": 61,
   "metadata": {
    "pycharm": {
     "is_executing": false,
     "name": "#%%\n"
    }
   },
   "outputs": [
    {
     "data": {
      "text/plain": [
       "count      3970.000000\n",
       "mean     192967.197985\n",
       "std      103285.567216\n",
       "min       19214.000000\n",
       "25%      120960.000000\n",
       "50%      182045.000000\n",
       "75%      241631.000000\n",
       "max      889965.000000\n",
       "Name: fnlwgt, dtype: float64"
      ]
     },
     "execution_count": 61,
     "metadata": {},
     "output_type": "execute_result"
    }
   ],
   "source": [
    "data.fnlwgt.describe()"
   ]
  },
  {
   "cell_type": "code",
   "execution_count": 62,
   "metadata": {
    "pycharm": {
     "is_executing": true,
     "name": "#%%\n"
    }
   },
   "outputs": [
    {
     "data": {
      "text/plain": [
       "<matplotlib.axes._subplots.AxesSubplot at 0x1c1ea2ce10>"
      ]
     },
     "execution_count": 62,
     "metadata": {},
     "output_type": "execute_result"
    },
    {
     "data": {
      "image/png": "[encoded data removed]",
      "text/plain": [
       "<Figure size 432x288 with 1 Axes>"
      ]
     },
     "metadata": {
      "needs_background": "light"
     },
     "output_type": "display_data"
    }
   ],
   "source": [
    "sns.distplot(data.fnlwgt.dropna())"
   ]
  },
  {
   "cell_type": "code",
   "execution_count": 75,
   "metadata": {},
   "outputs": [
    {
     "data": {
      "text/plain": [
       "<matplotlib.axes._subplots.AxesSubplot at 0x1c1eb5e588>"
      ]
     },
     "execution_count": 75,
     "metadata": {},
     "output_type": "execute_result"
    },
    {
     "data": {
      "image/png": "[encoded data removed]",
      "text/plain": [
       "<Figure size 432x288 with 1 Axes>"
      ]
     },
     "metadata": {
      "needs_background": "light"
     },
     "output_type": "display_data"
    }
   ],
   "source": [
    "sns.boxplot(data.fnlwgt.dropna())"
   ]
  },
  {
   "cell_type": "markdown",
   "metadata": {},
   "source": [
    "Z boxplotu vidíme, že atribút má veľa outlierov. Zistíme teda ktoré to sú a ich počet."
   ]
  },
  {
   "cell_type": "code",
   "execution_count": 77,
   "metadata": {},
   "outputs": [
    {
     "name": "stdout",
     "output_type": "stream",
     "text": [
      "Počet outlierov v atribúte fnlwgt je 116\n"
     ]
    }
   ],
   "source": [
    "outliers_fnl = outliers(\"fnlwgt\")\n",
    "print(\"Počet outlierov v atribúte fnlwgt je %d\"%len(outliers_fnl))"
   ]
  },
  {
   "cell_type": "code",
   "execution_count": 76,
   "metadata": {},
   "outputs": [
    {
     "name": "stdout",
     "output_type": "stream",
     "text": [
      "Počet chýbajúcich hodnôt v atribúte fnlwgt: 13\n"
     ]
    }
   ],
   "source": [
    "print(\"Počet chýbajúcich hodnôt v atribúte fnlwgt: %d\"%data.fnlwgt.isnull().sum())"
   ]
  },
  {
   "cell_type": "markdown",
   "metadata": {},
   "source": [
    "Atribút **class**\n",
    "- ide o kategorický binárny atribút\n",
    "- vyjadruje či je pacient chorý alebo zdravý\n",
    "- nadobúda len dve hodnoty, 0 a 1\n",
    "- nachádzajú sa tu aj prázdne hodnoty, korekcia: dopočítať na základe ostatných atribútov o hladine glukózy a kyslíku v krvi"
   ]
  },
  {
   "cell_type": "code",
   "execution_count": 81,
   "metadata": {
    "pycharm": {
     "is_executing": false,
     "name": "#%%\n"
    }
   },
   "outputs": [
    {
     "data": {
      "text/plain": [
       "array([ 0.,  1., nan])"
      ]
     },
     "execution_count": 81,
     "metadata": {},
     "output_type": "execute_result"
    }
   ],
   "source": [
    "data['class'].unique()"
   ]
  },
  {
   "cell_type": "code",
   "execution_count": 80,
   "metadata": {
    "pycharm": {
     "is_executing": false,
     "name": "#%%\n"
    }
   },
   "outputs": [
    {
     "data": {
      "text/plain": [
       "<matplotlib.axes._subplots.AxesSubplot at 0x1c1ed8c5f8>"
      ]
     },
     "execution_count": 80,
     "metadata": {},
     "output_type": "execute_result"
    },
    {
     "data": {
      "image/png": "[encoded data removed]",
      "text/plain": [
       "<Figure size 432x288 with 1 Axes>"
      ]
     },
     "metadata": {
      "needs_background": "light"
     },
     "output_type": "display_data"
    }
   ],
   "source": [
    "data['class'].dropna().astype(int).value_counts().plot.bar()"
   ]
  },
  {
   "cell_type": "markdown",
   "metadata": {},
   "source": [
    "Atribút **std_glucose**\n",
    "- ide o spojitý číselný atribút\n",
    "- smerodajná odchýlka od normalneho rozdelenia hodnot nameranej glukózy v krvi\n",
    "- obsahuje aj chýbajúce hodnoty"
   ]
  },
  {
   "cell_type": "code",
   "execution_count": 65,
   "metadata": {
    "pycharm": {
     "is_executing": false,
     "name": "#%%\n"
    }
   },
   "outputs": [
    {
     "data": {
      "text/plain": [
       "count    3971.000000\n",
       "mean       74.479764\n",
       "std      1448.165852\n",
       "min     -8305.388133\n",
       "25%        39.502222\n",
       "50%        45.928079\n",
       "75%        51.048246\n",
       "max      6649.471314\n",
       "Name: std_glucose, dtype: float64"
      ]
     },
     "execution_count": 65,
     "metadata": {},
     "output_type": "execute_result"
    }
   ],
   "source": [
    "data.std_glucose.describe()"
   ]
  },
  {
   "cell_type": "code",
   "execution_count": 82,
   "metadata": {
    "pycharm": {
     "is_executing": false,
     "name": "#%%\n"
    }
   },
   "outputs": [
    {
     "data": {
      "text/plain": [
       "<matplotlib.axes._subplots.AxesSubplot at 0x1c1ef41908>"
      ]
     },
     "execution_count": 82,
     "metadata": {},
     "output_type": "execute_result"
    },
    {
     "data": {
      "image/png": "[encoded data removed]",
      "text/plain": [
       "<Figure size 432x288 with 1 Axes>"
      ]
     },
     "metadata": {
      "needs_background": "light"
     },
     "output_type": "display_data"
    }
   ],
   "source": [
    "sns.distplot(data.std_oxygen.dropna())"
   ]
  },
  {
   "cell_type": "code",
   "execution_count": 83,
   "metadata": {},
   "outputs": [
    {
     "data": {
      "text/plain": [
       "<matplotlib.axes._subplots.AxesSubplot at 0x1c1ee801d0>"
      ]
     },
     "execution_count": 83,
     "metadata": {},
     "output_type": "execute_result"
    },
    {
     "data": {
      "image/png": "[encoded data removed]",
      "text/plain": [
       "<Figure size 432x288 with 1 Axes>"
      ]
     },
     "metadata": {
      "needs_background": "light"
     },
     "output_type": "display_data"
    }
   ],
   "source": [
    "sns.boxplot(data.std_oxygen.dropna())"
   ]
  },
  {
   "cell_type": "markdown",
   "metadata": {},
   "source": [
    "Opäť, podľa grafu je vidno že aj tento atribút má veľký počet outlierov."
   ]
  },
  {
   "cell_type": "code",
   "execution_count": 84,
   "metadata": {},
   "outputs": [
    {
     "name": "stdout",
     "output_type": "stream",
     "text": [
      "Počet outlierov v atribúte std_oxygen je 78\n"
     ]
    }
   ],
   "source": [
    "outliers_so = outliers(\"std_oxygen\")\n",
    "print(\"Počet outlierov v atribúte std_oxygen je %d\"%len(outliers_so))"
   ]
  },
  {
   "cell_type": "code",
   "execution_count": 86,
   "metadata": {},
   "outputs": [
    {
     "name": "stdout",
     "output_type": "stream",
     "text": [
      "Počet chýbajúcich hodnôt v atribúte std_oxygen: 14\n"
     ]
    }
   ],
   "source": [
    "print(\"Počet chýbajúcich hodnôt v atribúte std_oxygen: %d\"%data.std_oxygen.isnull().sum())"
   ]
  },
  {
   "cell_type": "markdown",
   "metadata": {},
   "source": [
    "Atribút **income**\n",
    "- ide o kategorický atribút\n",
    "- vyjadruje zárobok pacienta (ročný)\n",
    "- zobrazuje dve možné hodnoty, menej alebo rovné 50 tisíc (K) alebo viac\n",
    "- niektoré záznamy obsahujú aj prázdne hodnoty\n",
    "- korekcia: premeniť atribút na binárny"
   ]
  },
  {
   "cell_type": "code",
   "execution_count": 67,
   "metadata": {
    "pycharm": {
     "is_executing": false,
     "name": "#%%\n"
    }
   },
   "outputs": [
    {
     "data": {
      "text/plain": [
       "count       3969\n",
       "unique         2\n",
       "top        <=50K\n",
       "freq        2988\n",
       "Name: income, dtype: object"
      ]
     },
     "execution_count": 67,
     "metadata": {},
     "output_type": "execute_result"
    }
   ],
   "source": [
    "data.income.unique()"
   ]
  },
  {
   "cell_type": "code",
   "execution_count": 87,
   "metadata": {
    "pycharm": {
     "is_executing": false,
     "name": "#%%\n"
    }
   },
   "outputs": [
    {
     "data": {
      "text/plain": [
       "<matplotlib.axes._subplots.AxesSubplot at 0x1c1f0bc4a8>"
      ]
     },
     "execution_count": 87,
     "metadata": {},
     "output_type": "execute_result"
    },
    {
     "data": {
      "image/png": "[encoded data removed]",
      "text/plain": [
       "<Figure size 432x288 with 1 Axes>"
      ]
     },
     "metadata": {
      "needs_background": "light"
     },
     "output_type": "display_data"
    }
   ],
   "source": [
    "data.income.dropna().value_counts().plot.bar()"
   ]
  },
  {
   "cell_type": "code",
   "execution_count": 88,
   "metadata": {},
   "outputs": [
    {
     "name": "stdout",
     "output_type": "stream",
     "text": [
      "Počet chýbajúcich hodnôt v atribúte income: 14\n"
     ]
    }
   ],
   "source": [
    "print(\"Počet chýbajúcich hodnôt v atribúte income: %d\"%data.income.isnull().sum())"
   ]
  },
  {
   "cell_type": "markdown",
   "metadata": {},
   "source": [
    "Z grafu teda vidíme, že väčšina pacientov z nášho datasetu zarába pod 50 tisíc."
   ]
  },
  {
   "cell_type": "markdown",
   "metadata": {},
   "source": [
    "Atribút **mean_oxygen**\n",
    "- číselný spojitý atribút, typu float, vykonáme deskriptívne štatistiky\n",
    "- vyjadruje medián, strednú hodnotu v meraniach hodnoty kyslíku v krvi pacienta\n",
    "- obsahuje aj prázdne hodnoty"
   ]
  },
  {
   "cell_type": "code",
   "execution_count": 69,
   "metadata": {
    "pycharm": {
     "is_executing": false,
     "name": "#%%\n"
    }
   },
   "outputs": [
    {
     "data": {
      "text/plain": [
       "count    3967.000000\n",
       "mean       18.470601\n",
       "std        34.808695\n",
       "min         0.213211\n",
       "25%         2.061873\n",
       "50%         3.223244\n",
       "75%        12.610786\n",
       "max       217.371238\n",
       "Name: mean_oxygen, dtype: float64"
      ]
     },
     "execution_count": 69,
     "metadata": {},
     "output_type": "execute_result"
    }
   ],
   "source": [
    "data.mean_oxygen.describe()"
   ]
  },
  {
   "cell_type": "code",
   "execution_count": 89,
   "metadata": {
    "pycharm": {
     "is_executing": false,
     "name": "#%%\n"
    }
   },
   "outputs": [
    {
     "data": {
      "text/plain": [
       "<matplotlib.axes._subplots.AxesSubplot at 0x1c1f203320>"
      ]
     },
     "execution_count": 89,
     "metadata": {},
     "output_type": "execute_result"
    },
    {
     "data": {
      "image/png": "[encoded data removed]",
      "text/plain": [
       "<Figure size 432x288 with 1 Axes>"
      ]
     },
     "metadata": {
      "needs_background": "light"
     },
     "output_type": "display_data"
    }
   ],
   "source": [
    "sns.distplot(data.mean_oxygen.dropna())\n",
    "\n"
   ]
  },
  {
   "cell_type": "code",
   "execution_count": 90,
   "metadata": {},
   "outputs": [
    {
     "data": {
      "text/plain": [
       "<matplotlib.axes._subplots.AxesSubplot at 0x1c1f4a7208>"
      ]
     },
     "execution_count": 90,
     "metadata": {},
     "output_type": "execute_result"
    },
    {
     "data": {
      "image/png": "[encoded data removed]",
      "text/plain": [
       "<Figure size 432x288 with 1 Axes>"
      ]
     },
     "metadata": {
      "needs_background": "light"
     },
     "output_type": "display_data"
    }
   ],
   "source": [
    "sns.boxplot(data.mean_oxygen.dropna())"
   ]
  },
  {
   "cell_type": "markdown",
   "metadata": {},
   "source": [
    "Podľa grafu hustoty pravdepodobnostného rozdelenia vidíme, že äčšina prvkou je málo vyššia od nuly. Z boxplotu vidíme úzky pás medzikvartilového rozpätia a veľký počet outlierov."
   ]
  },
  {
   "cell_type": "code",
   "execution_count": 91,
   "metadata": {},
   "outputs": [
    {
     "name": "stdout",
     "output_type": "stream",
     "text": [
      "Počet outlierov v atribúte mean_oxygen je 703\n"
     ]
    }
   ],
   "source": [
    "outliers_mo = outliers(\"mean_oxygen\")\n",
    "print(\"Počet outlierov v atribúte mean_oxygen je %d\"%len(outliers_mo))"
   ]
  },
  {
   "cell_type": "code",
   "execution_count": 92,
   "metadata": {},
   "outputs": [
    {
     "name": "stdout",
     "output_type": "stream",
     "text": [
      "Počet chýbajúcich hodnôt v atribúte mean_oxygen: 16\n"
     ]
    }
   ],
   "source": [
    "print(\"Počet chýbajúcich hodnôt v atribúte mean_oxygen: %d\"%data.mean_oxygen.isnull().sum())"
   ]
  },
  {
   "cell_type": "markdown",
   "metadata": {},
   "source": [
    "Atribút **hours-per-week**\n",
    "- celočíselný spojitý atribút, typu float, vykonáme deskriptívne štatistiky\n",
    "- vyjadruje počet odpracovaných hodín pacienta za týžde§\n",
    "- obsahuje aj prázdne hodnoty"
   ]
  },
  {
   "cell_type": "code",
   "execution_count": 71,
   "metadata": {
    "pycharm": {
     "is_executing": false,
     "name": "#%%\n"
    }
   },
   "outputs": [
    {
     "data": {
      "text/plain": [
       "count    3970.000000\n",
       "mean       40.568766\n",
       "std        12.601133\n",
       "min         1.000000\n",
       "25%        40.000000\n",
       "50%        40.000000\n",
       "75%        45.000000\n",
       "max        99.000000\n",
       "Name: hours-per-week, dtype: float64"
      ]
     },
     "execution_count": 71,
     "metadata": {},
     "output_type": "execute_result"
    }
   ],
   "source": [
    "data['hours-per-week'].describe()\n"
   ]
  },
  {
   "cell_type": "code",
   "execution_count": 93,
   "metadata": {
    "pycharm": {
     "is_executing": false,
     "name": "#%%\n"
    }
   },
   "outputs": [
    {
     "data": {
      "text/plain": [
       "<matplotlib.axes._subplots.AxesSubplot at 0x1c1f4ad9e8>"
      ]
     },
     "execution_count": 93,
     "metadata": {},
     "output_type": "execute_result"
    },
    {
     "data": {
      "image/png": "[encoded data removed]",
      "text/plain": [
       "<Figure size 432x288 with 1 Axes>"
      ]
     },
     "metadata": {
      "needs_background": "light"
     },
     "output_type": "display_data"
    }
   ],
   "source": [
    "sns.distplot(data['hours-per-week'].dropna())"
   ]
  },
  {
   "cell_type": "markdown",
   "metadata": {},
   "source": [
    "Vidíme, že väčšina pacientov sa nachádza okolo hodnoty 40 hodín týždenne."
   ]
  },
  {
   "cell_type": "code",
   "execution_count": 94,
   "metadata": {},
   "outputs": [
    {
     "data": {
      "text/plain": [
       "<matplotlib.axes._subplots.AxesSubplot at 0x1c1f432128>"
      ]
     },
     "execution_count": 94,
     "metadata": {},
     "output_type": "execute_result"
    },
    {
     "data": {
      "image/png": "[encoded data removed]",
      "text/plain": [
       "<Figure size 432x288 with 1 Axes>"
      ]
     },
     "metadata": {
      "needs_background": "light"
     },
     "output_type": "display_data"
    }
   ],
   "source": [
    "sns.boxplot(data['hours-per-week'].dropna())"
   ]
  },
  {
   "cell_type": "markdown",
   "metadata": {},
   "source": [
    "Z boxplotu vidíme veľa outlierov na oboch koncoch medzikvartilového ropätia. Zistíme ktorí sú to a taktiež aj ich počet.\n"
   ]
  },
  {
   "cell_type": "code",
   "execution_count": 95,
   "metadata": {},
   "outputs": [
    {
     "name": "stdout",
     "output_type": "stream",
     "text": [
      "Počet outlierov v atribúte hours-per-week je 1098\n"
     ]
    }
   ],
   "source": [
    "outliers_hpw = outliers(\"hours-per-week\")\n",
    "print(\"Počet outlierov v atribúte hours-per-week je %d\"%len(outliers_hpw))"
   ]
  },
  {
   "cell_type": "code",
   "execution_count": 96,
   "metadata": {},
   "outputs": [
    {
     "name": "stdout",
     "output_type": "stream",
     "text": [
      "Počet chýbajúcich hodnôt v atribúte mean_oxygen: 16\n"
     ]
    }
   ],
   "source": [
    "print(\"Počet chýbajúcich hodnôt v atribúte mean_oxygen: %d\"%data.mean_oxygen.isnull().sum())"
   ]
  },
  {
   "cell_type": "markdown",
   "metadata": {},
   "source": [
    "Atribút **capital-loss**\n",
    "- atribút vyjadrujúci pokles kapitálu\n",
    "- čísený spojitý atribút, urobíme deskriptívnu štatistiku"
   ]
  },
  {
   "cell_type": "code",
   "execution_count": 73,
   "metadata": {
    "pycharm": {
     "is_executing": false,
     "name": "#%%\n"
    }
   },
   "outputs": [
    {
     "data": {
      "text/plain": [
       "count    3963.000000\n",
       "mean       80.275549\n",
       "std       388.336046\n",
       "min         0.000000\n",
       "25%         0.000000\n",
       "50%         0.000000\n",
       "75%         0.000000\n",
       "max      3770.000000\n",
       "Name: capital-loss, dtype: float64"
      ]
     },
     "execution_count": 73,
     "metadata": {},
     "output_type": "execute_result"
    }
   ],
   "source": [
    "data['capital-loss'].describe()"
   ]
  },
  {
   "cell_type": "code",
   "execution_count": 97,
   "metadata": {
    "pycharm": {
     "is_executing": false,
     "name": "#%%\n"
    }
   },
   "outputs": [
    {
     "data": {
      "text/plain": [
       "<matplotlib.axes._subplots.AxesSubplot at 0x1c1f50dda0>"
      ]
     },
     "execution_count": 97,
     "metadata": {},
     "output_type": "execute_result"
    },
    {
     "data": {
      "image/png": "[encoded data removed]",
      "text/plain": [
       "<Figure size 432x288 with 1 Axes>"
      ]
     },
     "metadata": {
      "needs_background": "light"
     },
     "output_type": "display_data"
    }
   ],
   "source": [
    "sns.distplot(data['capital-loss'].dropna())\n"
   ]
  },
  {
   "cell_type": "markdown",
   "metadata": {},
   "source": [
    "Opäť ako aj pri atribúte capital_loss podľa grafu hustoty pravdepodobnostného rozdelenia vidíme, že väčšina prvkov sa rovná nule. \n",
    "Pravdepodobne tento atribút nemá pacientmi vyplnený."
   ]
  },
  {
   "cell_type": "code",
   "execution_count": 99,
   "metadata": {},
   "outputs": [
    {
     "name": "stdout",
     "output_type": "stream",
     "text": [
      "Pomer počtu nulových záznamov atribútu voči iným hodnotám je 3793:170\n",
      "Počet chýbajúcich hodnôt v atribúte capital-gain: 20\n"
     ]
    }
   ],
   "source": [
    "print(\"Pomer počtu nulových záznamov atribútu voči iným hodnotám je \" + str(len(data[data['capital-loss'] == 0])) + \":\" + str(len(data[np.isfinite(data['capital-loss']) & data['capital-loss'] > 0])))\n",
    "print(\"Počet chýbajúcich hodnôt v atribúte capital-gain: %d\"%data['capital-loss'].isnull().sum())"
   ]
  },
  {
   "cell_type": "markdown",
   "source": [
    "## Riešenie chybných a problematických údajov"
   ],
   "metadata": {
    "collapsed": false
   }
  }
 ],
 "metadata": {
  "kernelspec": {
   "display_name": "Python 3",
   "language": "python",
   "name": "python3"
  },
  "language_info": {
   "codemirror_mode": {
    "name": "ipython",
    "version": 3
   },
   "file_extension": ".py",
   "mimetype": "text/x-python",
   "name": "python",
   "nbconvert_exporter": "python",
   "pygments_lexer": "ipython3",
   "version": "3.7.3"
  },
  "pycharm": {
   "stem_cell": {
    "cell_type": "raw",
    "source": [],
    "metadata": {
     "collapsed": false
    }
   }
  }
 },
 "nbformat": 4,
 "nbformat_minor": 1
}