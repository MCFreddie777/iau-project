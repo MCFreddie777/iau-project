{
 "cells": [
  {
   "cell_type": "code",
   "execution_count": 100,
   "metadata": {
    "collapsed": true,
    "pycharm": {
     "is_executing": false
    }
   },
   "outputs": [],
   "source": [
    "import pandas as pd\n",
    "import numpy as np\n",
    "import matplotlib as mat\n",
    "import matplotlib.pyplot as plt\n",
    "import seaborn as sns\n",
    "import statsmodels.api as sm\n",
    "import statsmodels.stats as sm_stats\n",
    "import statsmodels.stats.api as sms\n",
    "import scipy.stats as stats"
   ]
  },
  {
   "cell_type": "code",
   "execution_count": 101,
   "outputs": [],
   "source": [
    "train_other = pd.read_csv(\"data/other_train.csv\")\n"
   ],
   "metadata": {
    "collapsed": false,
    "pycharm": {
     "name": "#%%\n",
     "is_executing": false
    }
   }
  },
  {
   "cell_type": "markdown",
   "source": [
    "# Other data"
   ],
   "metadata": {
    "collapsed": false
   }
  },
  {
   "cell_type": "markdown",
   "source": [
    "## Identifikovane chyby\n",
    "**kutosis_oxygen** \n",
    "-chybaju niektore hodnoty(5)\n",
    "\n",
    "**pragnent**\n",
    "-viacere nazvy pre je typ + prazdne hodnoty\n",
    "\n",
    "**education-num**\n",
    "-prazdne hodnoty(18)\n",
    "\n",
    "**relationship**\n",
    "-niektore s hodnotou nan\n",
    "\n",
    "**skewnees_glucose**\n",
    "-chybaju hodnoty\n",
    "\n",
    "**mean_glucose**\n",
    "-chybajuce hodnoty\n",
    "\n",
    "**std_oxygen**\n",
    "**capital-gain**\n",
    "**skewness_oxygen**\n",
    "**kurtosis_glucose**\n",
    "**personal_info**\n",
    "**education**\n",
    "**fnlwgt**\n",
    "**class**\n",
    "**std_glucose**\n",
    "**income**\n",
    "**mean_oxygen**\n",
    "**hours-per-week**\n",
    "**capital-loss**"
   ],
   "metadata": {
    "collapsed": false
   }
  },
  {
   "cell_type": "code",
   "execution_count": 102,
   "outputs": [
    {
     "data": {
      "text/plain": "       Unnamed: 0  kurtosis_oxygen  education-num  skewness_glucose  \\\ncount  3983.00000      3978.000000    3965.000000       3960.000000   \nmean   1991.00000         7.414473      10.084489          4.242530   \nstd    1149.93739         4.811907       2.588918          9.706012   \nmin       0.00000        -2.597872       1.000000         -1.755332   \n25%     995.50000         3.630716       9.000000         -0.120081   \n50%    1991.00000         7.784802      10.000000          0.374657   \n75%    2986.50000        10.278883      12.000000          2.091543   \nmax    3982.00000        34.539844      16.000000         68.101622   \n\n       mean_glucose   std_oxygen  capital-gain  skewness_oxygen  \\\ncount   3973.000000  3969.000000   3967.000000      3970.000000   \nmean     101.248940    31.148558   1042.988908        91.370712   \nstd       33.601519    22.263993   7006.726961       108.475749   \nmin        6.187500     7.370432      0.000000        -1.976976   \n25%       87.742188    15.024700      0.000000        12.858504   \n50%      110.664062    20.547873      0.000000        68.623477   \n75%      124.132812    43.253607      0.000000       127.236918   \nmax      189.734375   110.642211  99999.000000      1191.000837   \n\n       kurtosis_glucose         fnlwgt        class  std_glucose  mean_oxygen  \\\ncount       3965.000000    3970.000000  3964.000000  3971.000000  3967.000000   \nmean           0.950507  192967.197985     0.255298    74.479764    18.470601   \nstd            1.611069  103285.567216     0.436083  1448.165852    34.808695   \nmin           -1.641515   19214.000000     0.000000 -8305.388133     0.213211   \n25%            0.072144  120960.000000     0.000000    39.502222     2.061873   \n50%            0.310372  182045.000000     0.000000    45.928079     3.223244   \n75%            0.775684  241631.000000     1.000000    51.048246    12.610786   \nmax            8.069522  889965.000000     1.000000  6649.471314   217.371238   \n\n       hours-per-week  capital-loss  \ncount     3970.000000   3963.000000  \nmean        40.568766     80.275549  \nstd         12.601133    388.336046  \nmin          1.000000      0.000000  \n25%         40.000000      0.000000  \n50%         40.000000      0.000000  \n75%         45.000000      0.000000  \nmax         99.000000   3770.000000  ",
      "text/html": "<div>\n<style scoped>\n    .dataframe tbody tr th:only-of-type {\n        vertical-align: middle;\n    }\n\n    .dataframe tbody tr th {\n        vertical-align: top;\n    }\n\n    .dataframe thead th {\n        text-align: right;\n    }\n</style>\n<table border=\"1\" class=\"dataframe\">\n  <thead>\n    <tr style=\"text-align: right;\">\n      <th></th>\n      <th>Unnamed: 0</th>\n      <th>kurtosis_oxygen</th>\n      <th>education-num</th>\n      <th>skewness_glucose</th>\n      <th>mean_glucose</th>\n      <th>std_oxygen</th>\n      <th>capital-gain</th>\n      <th>skewness_oxygen</th>\n      <th>kurtosis_glucose</th>\n      <th>fnlwgt</th>\n      <th>class</th>\n      <th>std_glucose</th>\n      <th>mean_oxygen</th>\n      <th>hours-per-week</th>\n      <th>capital-loss</th>\n    </tr>\n  </thead>\n  <tbody>\n    <tr>\n      <td>count</td>\n      <td>3983.00000</td>\n      <td>3978.000000</td>\n      <td>3965.000000</td>\n      <td>3960.000000</td>\n      <td>3973.000000</td>\n      <td>3969.000000</td>\n      <td>3967.000000</td>\n      <td>3970.000000</td>\n      <td>3965.000000</td>\n      <td>3970.000000</td>\n      <td>3964.000000</td>\n      <td>3971.000000</td>\n      <td>3967.000000</td>\n      <td>3970.000000</td>\n      <td>3963.000000</td>\n    </tr>\n    <tr>\n      <td>mean</td>\n      <td>1991.00000</td>\n      <td>7.414473</td>\n      <td>10.084489</td>\n      <td>4.242530</td>\n      <td>101.248940</td>\n      <td>31.148558</td>\n      <td>1042.988908</td>\n      <td>91.370712</td>\n      <td>0.950507</td>\n      <td>192967.197985</td>\n      <td>0.255298</td>\n      <td>74.479764</td>\n      <td>18.470601</td>\n      <td>40.568766</td>\n      <td>80.275549</td>\n    </tr>\n    <tr>\n      <td>std</td>\n      <td>1149.93739</td>\n      <td>4.811907</td>\n      <td>2.588918</td>\n      <td>9.706012</td>\n      <td>33.601519</td>\n      <td>22.263993</td>\n      <td>7006.726961</td>\n      <td>108.475749</td>\n      <td>1.611069</td>\n      <td>103285.567216</td>\n      <td>0.436083</td>\n      <td>1448.165852</td>\n      <td>34.808695</td>\n      <td>12.601133</td>\n      <td>388.336046</td>\n    </tr>\n    <tr>\n      <td>min</td>\n      <td>0.00000</td>\n      <td>-2.597872</td>\n      <td>1.000000</td>\n      <td>-1.755332</td>\n      <td>6.187500</td>\n      <td>7.370432</td>\n      <td>0.000000</td>\n      <td>-1.976976</td>\n      <td>-1.641515</td>\n      <td>19214.000000</td>\n      <td>0.000000</td>\n      <td>-8305.388133</td>\n      <td>0.213211</td>\n      <td>1.000000</td>\n      <td>0.000000</td>\n    </tr>\n    <tr>\n      <td>25%</td>\n      <td>995.50000</td>\n      <td>3.630716</td>\n      <td>9.000000</td>\n      <td>-0.120081</td>\n      <td>87.742188</td>\n      <td>15.024700</td>\n      <td>0.000000</td>\n      <td>12.858504</td>\n      <td>0.072144</td>\n      <td>120960.000000</td>\n      <td>0.000000</td>\n      <td>39.502222</td>\n      <td>2.061873</td>\n      <td>40.000000</td>\n      <td>0.000000</td>\n    </tr>\n    <tr>\n      <td>50%</td>\n      <td>1991.00000</td>\n      <td>7.784802</td>\n      <td>10.000000</td>\n      <td>0.374657</td>\n      <td>110.664062</td>\n      <td>20.547873</td>\n      <td>0.000000</td>\n      <td>68.623477</td>\n      <td>0.310372</td>\n      <td>182045.000000</td>\n      <td>0.000000</td>\n      <td>45.928079</td>\n      <td>3.223244</td>\n      <td>40.000000</td>\n      <td>0.000000</td>\n    </tr>\n    <tr>\n      <td>75%</td>\n      <td>2986.50000</td>\n      <td>10.278883</td>\n      <td>12.000000</td>\n      <td>2.091543</td>\n      <td>124.132812</td>\n      <td>43.253607</td>\n      <td>0.000000</td>\n      <td>127.236918</td>\n      <td>0.775684</td>\n      <td>241631.000000</td>\n      <td>1.000000</td>\n      <td>51.048246</td>\n      <td>12.610786</td>\n      <td>45.000000</td>\n      <td>0.000000</td>\n    </tr>\n    <tr>\n      <td>max</td>\n      <td>3982.00000</td>\n      <td>34.539844</td>\n      <td>16.000000</td>\n      <td>68.101622</td>\n      <td>189.734375</td>\n      <td>110.642211</td>\n      <td>99999.000000</td>\n      <td>1191.000837</td>\n      <td>8.069522</td>\n      <td>889965.000000</td>\n      <td>1.000000</td>\n      <td>6649.471314</td>\n      <td>217.371238</td>\n      <td>99.000000</td>\n      <td>3770.000000</td>\n    </tr>\n  </tbody>\n</table>\n</div>"
     },
     "metadata": {},
     "output_type": "execute_result",
     "execution_count": 102
    }
   ],
   "source": [
    "train_other.describe()"
   ],
   "metadata": {
    "collapsed": false,
    "pycharm": {
     "name": "#%%\n",
     "is_executing": false
    }
   }
  },
  {
   "cell_type": "code",
   "execution_count": 103,
   "outputs": [
    {
     "name": "stdout",
     "text": [
      "<class 'pandas.core.frame.DataFrame'>\nRangeIndex: 3983 entries, 0 to 3982\nData columns (total 22 columns):\nUnnamed: 0          3983 non-null int64\nname                3983 non-null object\naddress             3983 non-null object\nkurtosis_oxygen     3978 non-null float64\npregnant            3971 non-null object\neducation-num       3965 non-null float64\nrelationship        3970 non-null object\nskewness_glucose    3960 non-null float64\nmean_glucose        3973 non-null float64\nstd_oxygen          3969 non-null float64\ncapital-gain        3967 non-null float64\nskewness_oxygen     3970 non-null float64\nkurtosis_glucose    3965 non-null float64\npersonal_info       3971 non-null object\neducation           3971 non-null object\nfnlwgt              3970 non-null float64\nclass               3964 non-null float64\nstd_glucose         3971 non-null float64\nincome              3969 non-null object\nmean_oxygen         3967 non-null float64\nhours-per-week      3970 non-null float64\ncapital-loss        3963 non-null float64\ndtypes: float64(14), int64(1), object(7)\nmemory usage: 684.7+ KB\n"
     ],
     "output_type": "stream"
    }
   ],
   "source": [
    "train_other.info()"
   ],
   "metadata": {
    "collapsed": false,
    "pycharm": {
     "name": "#%%\n",
     "is_executing": false
    }
   }
  },
  {
   "cell_type": "code",
   "execution_count": 104,
   "outputs": [
    {
     "data": {
      "text/plain": "   Unnamed: 0           name  \\\n0           0    Alex Chinzi   \n1           1     Scott Bass   \n2           2      Chuck Lao   \n3           3  Floyd Squires   \n4           4  Kenneth Cadet   \n\n                                             address  kurtosis_oxygen  \\\n0  590 Samantha Bridge Apt. 572\\r\\nNorth Allison,...         8.286599   \n1  5384 Hurst Groves Apt. 092\\r\\nFreemanview, SD ...         6.455860   \n2                          USS Scott\\r\\nFPO AE 78885        11.513491   \n3  122 Ryan Ranch Suite 621\\r\\nPort Douglas, NM 0...         7.641796   \n4         30930 Ryan Groves\\r\\nKatelynside, MS 75220         8.826058   \n\n  pregnant  education-num    relationship  skewness_glucose  mean_glucose  \\\n0        f           16.0         Husband          0.234418    107.484375   \n1        f           13.0       Own-child          0.151130    140.203125   \n2        f            9.0       Unmarried         -0.024384    124.054688   \n3        f           13.0   Not-in-family         -0.564287    115.046875   \n4        f            9.0         Husband          0.495896     93.335938   \n\n   std_oxygen  ...  kurtosis_glucose  \\\n0   15.072284  ...          0.362969   \n1   21.925411  ...         -0.170101   \n2   11.822427  ...         -0.026966   \n3   22.965651  ...          0.269421   \n4   13.777158  ...          0.537549   \n\n                                       personal_info   education    fnlwgt  \\\n0  Prof-specialty|United-States\\r\\r\\nMarried-civ-...   Doctorate  320102.0   \n1  Prof-specialty|United-States\\r\\r\\nNever-marrie...   Bachelors  148300.0   \n2  Other-service|Mexico\\r\\r\\nSeparated -- Private...     HS-grad  190885.0   \n3  Prof-specialty|Canada\\r\\r\\nNever-married -- Pr...   Bachelors  191385.0   \n4  Sales|United-States\\r\\r\\nMarried-civ-spouse --...     HS-grad  226875.0   \n\n  class  std_glucose  income  mean_oxygen hours-per-week  capital-loss  \n0   0.0    44.487706    >50K     2.448161           50.0           0.0  \n1   0.0    44.586531   <=50K     4.445652           15.0           0.0  \n2   0.0    45.904165   <=50K     1.890468           40.0           0.0  \n3   0.0    58.140302   <=50K     3.639632           40.0           0.0  \n4   0.0    45.605865   <=50K     2.510870           40.0           0.0  \n\n[5 rows x 22 columns]",
      "text/html": "<div>\n<style scoped>\n    .dataframe tbody tr th:only-of-type {\n        vertical-align: middle;\n    }\n\n    .dataframe tbody tr th {\n        vertical-align: top;\n    }\n\n    .dataframe thead th {\n        text-align: right;\n    }\n</style>\n<table border=\"1\" class=\"dataframe\">\n  <thead>\n    <tr style=\"text-align: right;\">\n      <th></th>\n      <th>Unnamed: 0</th>\n      <th>name</th>\n      <th>address</th>\n      <th>kurtosis_oxygen</th>\n      <th>pregnant</th>\n      <th>education-num</th>\n      <th>relationship</th>\n      <th>skewness_glucose</th>\n      <th>mean_glucose</th>\n      <th>std_oxygen</th>\n      <th>...</th>\n      <th>kurtosis_glucose</th>\n      <th>personal_info</th>\n      <th>education</th>\n      <th>fnlwgt</th>\n      <th>class</th>\n      <th>std_glucose</th>\n      <th>income</th>\n      <th>mean_oxygen</th>\n      <th>hours-per-week</th>\n      <th>capital-loss</th>\n    </tr>\n  </thead>\n  <tbody>\n    <tr>\n      <td>0</td>\n      <td>0</td>\n      <td>Alex Chinzi</td>\n      <td>590 Samantha Bridge Apt. 572\\r\\nNorth Allison,...</td>\n      <td>8.286599</td>\n      <td>f</td>\n      <td>16.0</td>\n      <td>Husband</td>\n      <td>0.234418</td>\n      <td>107.484375</td>\n      <td>15.072284</td>\n      <td>...</td>\n      <td>0.362969</td>\n      <td>Prof-specialty|United-States\\r\\r\\nMarried-civ-...</td>\n      <td>Doctorate</td>\n      <td>320102.0</td>\n      <td>0.0</td>\n      <td>44.487706</td>\n      <td>&gt;50K</td>\n      <td>2.448161</td>\n      <td>50.0</td>\n      <td>0.0</td>\n    </tr>\n    <tr>\n      <td>1</td>\n      <td>1</td>\n      <td>Scott Bass</td>\n      <td>5384 Hurst Groves Apt. 092\\r\\nFreemanview, SD ...</td>\n      <td>6.455860</td>\n      <td>f</td>\n      <td>13.0</td>\n      <td>Own-child</td>\n      <td>0.151130</td>\n      <td>140.203125</td>\n      <td>21.925411</td>\n      <td>...</td>\n      <td>-0.170101</td>\n      <td>Prof-specialty|United-States\\r\\r\\nNever-marrie...</td>\n      <td>Bachelors</td>\n      <td>148300.0</td>\n      <td>0.0</td>\n      <td>44.586531</td>\n      <td>&lt;=50K</td>\n      <td>4.445652</td>\n      <td>15.0</td>\n      <td>0.0</td>\n    </tr>\n    <tr>\n      <td>2</td>\n      <td>2</td>\n      <td>Chuck Lao</td>\n      <td>USS Scott\\r\\nFPO AE 78885</td>\n      <td>11.513491</td>\n      <td>f</td>\n      <td>9.0</td>\n      <td>Unmarried</td>\n      <td>-0.024384</td>\n      <td>124.054688</td>\n      <td>11.822427</td>\n      <td>...</td>\n      <td>-0.026966</td>\n      <td>Other-service|Mexico\\r\\r\\nSeparated -- Private...</td>\n      <td>HS-grad</td>\n      <td>190885.0</td>\n      <td>0.0</td>\n      <td>45.904165</td>\n      <td>&lt;=50K</td>\n      <td>1.890468</td>\n      <td>40.0</td>\n      <td>0.0</td>\n    </tr>\n    <tr>\n      <td>3</td>\n      <td>3</td>\n      <td>Floyd Squires</td>\n      <td>122 Ryan Ranch Suite 621\\r\\nPort Douglas, NM 0...</td>\n      <td>7.641796</td>\n      <td>f</td>\n      <td>13.0</td>\n      <td>Not-in-family</td>\n      <td>-0.564287</td>\n      <td>115.046875</td>\n      <td>22.965651</td>\n      <td>...</td>\n      <td>0.269421</td>\n      <td>Prof-specialty|Canada\\r\\r\\nNever-married -- Pr...</td>\n      <td>Bachelors</td>\n      <td>191385.0</td>\n      <td>0.0</td>\n      <td>58.140302</td>\n      <td>&lt;=50K</td>\n      <td>3.639632</td>\n      <td>40.0</td>\n      <td>0.0</td>\n    </tr>\n    <tr>\n      <td>4</td>\n      <td>4</td>\n      <td>Kenneth Cadet</td>\n      <td>30930 Ryan Groves\\r\\nKatelynside, MS 75220</td>\n      <td>8.826058</td>\n      <td>f</td>\n      <td>9.0</td>\n      <td>Husband</td>\n      <td>0.495896</td>\n      <td>93.335938</td>\n      <td>13.777158</td>\n      <td>...</td>\n      <td>0.537549</td>\n      <td>Sales|United-States\\r\\r\\nMarried-civ-spouse --...</td>\n      <td>HS-grad</td>\n      <td>226875.0</td>\n      <td>0.0</td>\n      <td>45.605865</td>\n      <td>&lt;=50K</td>\n      <td>2.510870</td>\n      <td>40.0</td>\n      <td>0.0</td>\n    </tr>\n  </tbody>\n</table>\n<p>5 rows × 22 columns</p>\n</div>"
     },
     "metadata": {},
     "output_type": "execute_result",
     "execution_count": 104
    }
   ],
   "source": [
    "train_other.head()"
   ],
   "metadata": {
    "collapsed": false,
    "pycharm": {
     "name": "#%%\n",
     "is_executing": false
    }
   }
  },
  {
   "cell_type": "code",
   "execution_count": 105,
   "outputs": [
    {
     "name": "stdout",
     "text": [
      "Pocet stlpcov:  22 Pocet riadkov:  3983\n"
     ],
     "output_type": "stream"
    }
   ],
   "source": [
    "rows=train_other.shape[0]\n",
    "cols=train_other.shape[1]\n",
    "print('Pocet stlpcov: ',cols , 'Pocet riadkov: ', rows)\n"
   ],
   "metadata": {
    "collapsed": false,
    "pycharm": {
     "name": "#%%\n",
     "is_executing": false
    }
   }
  },
  {
   "cell_type": "markdown",
   "source": [
    "#### kurtosis_oxygen"
   ],
   "metadata": {
    "collapsed": false
   }
  },
  {
   "cell_type": "code",
   "execution_count": 106,
   "outputs": [
    {
     "data": {
      "text/plain": "count    3978.000000\nmean        7.414473\nstd         4.811907\nmin        -2.597872\n25%         3.630716\n50%         7.784802\n75%        10.278883\nmax        34.539844\nName: kurtosis_oxygen, dtype: float64"
     },
     "metadata": {},
     "output_type": "execute_result",
     "execution_count": 106
    }
   ],
   "source": [
    "train_other['kurtosis_oxygen'].describe()"
   ],
   "metadata": {
    "collapsed": false,
    "pycharm": {
     "name": "#%%\n",
     "is_executing": false
    }
   }
  },
  {
   "cell_type": "code",
   "execution_count": 107,
   "outputs": [
    {
     "data": {
      "text/plain": "<matplotlib.axes._subplots.AxesSubplot at 0x1d7bd332898>"
     },
     "metadata": {},
     "output_type": "execute_result",
     "execution_count": 107
    },
    {
     "data": {
      "text/plain": "<Figure size 432x288 with 1 Axes>",
      "image/png": "[encoded data removed]"
     },
     "metadata": {
      "needs_background": "light"
     },
     "output_type": "display_data"
    }
   ],
   "source": [
    "train_other['kurtosis_oxygen'].value_counts().plot(kind = 'line')"
   ],
   "metadata": {
    "collapsed": false,
    "pycharm": {
     "name": "#%%\n",
     "is_executing": false
    }
   }
  },
  {
   "cell_type": "markdown",
   "source": [
    "#### pregnant "
   ],
   "metadata": {
    "collapsed": false
   }
  },
  {
   "cell_type": "code",
   "execution_count": 108,
   "outputs": [
    {
     "data": {
      "text/plain": "count     3971\nunique       6\ntop          f\nfreq      3517\nName: pregnant, dtype: object"
     },
     "metadata": {},
     "output_type": "execute_result",
     "execution_count": 108
    }
   ],
   "source": [
    "train_other['pregnant'].describe()\n"
   ],
   "metadata": {
    "collapsed": false,
    "pycharm": {
     "name": "#%%\n",
     "is_executing": false
    }
   }
  },
  {
   "cell_type": "code",
   "execution_count": 109,
   "outputs": [
    {
     "data": {
      "text/plain": "array(['f', 'F', 't', 'FALSE', nan, 'TRUE', 'T'], dtype=object)"
     },
     "metadata": {},
     "output_type": "execute_result",
     "execution_count": 109
    }
   ],
   "source": [
    "train_other['pregnant'].unique()\n"
   ],
   "metadata": {
    "collapsed": false,
    "pycharm": {
     "name": "#%%\n",
     "is_executing": false
    }
   }
  },
  {
   "cell_type": "code",
   "execution_count": 110,
   "outputs": [
    {
     "data": {
      "text/plain": "<matplotlib.axes._subplots.AxesSubplot at 0x1d7bd356908>"
     },
     "metadata": {},
     "output_type": "execute_result",
     "execution_count": 110
    },
    {
     "data": {
      "text/plain": "<Figure size 432x288 with 1 Axes>",
      "image/png": "[encoded data removed]"
     },
     "metadata": {
      "needs_background": "light"
     },
     "output_type": "display_data"
    }
   ],
   "source": [
    "train_other['pregnant'].value_counts().plot(kind = 'bar')"
   ],
   "metadata": {
    "collapsed": false,
    "pycharm": {
     "name": "#%%\n",
     "is_executing": false
    }
   }
  },
  {
   "cell_type": "markdown",
   "source": [
    "#### education-num"
   ],
   "metadata": {
    "collapsed": false
   }
  },
  {
   "cell_type": "code",
   "execution_count": 111,
   "outputs": [
    {
     "data": {
      "text/plain": "count    3965.000000\nmean       10.084489\nstd         2.588918\nmin         1.000000\n25%         9.000000\n50%        10.000000\n75%        12.000000\nmax        16.000000\nName: education-num, dtype: float64"
     },
     "metadata": {},
     "output_type": "execute_result",
     "execution_count": 111
    }
   ],
   "source": [
    "train_other['education-num'].describe()\n"
   ],
   "metadata": {
    "collapsed": false,
    "pycharm": {
     "name": "#%%\n",
     "is_executing": false
    }
   }
  },
  {
   "cell_type": "code",
   "execution_count": 112,
   "outputs": [
    {
     "data": {
      "text/plain": "array([16., 13.,  9., 10., 11.,  6., 12., 14.,  3.,  7., 15.,  5.,  2.,\n        8.,  4., nan,  1.])"
     },
     "metadata": {},
     "output_type": "execute_result",
     "execution_count": 112
    }
   ],
   "source": [
    "train_other['education-num'].unique()\n"
   ],
   "metadata": {
    "collapsed": false,
    "pycharm": {
     "name": "#%%\n",
     "is_executing": false
    }
   }
  },
  {
   "cell_type": "code",
   "execution_count": 113,
   "outputs": [
    {
     "data": {
      "text/plain": "<matplotlib.axes._subplots.AxesSubplot at 0x1d7bd3866a0>"
     },
     "metadata": {},
     "output_type": "execute_result",
     "execution_count": 113
    },
    {
     "data": {
      "text/plain": "<Figure size 432x288 with 1 Axes>",
      "image/png": "[encoded data removed]"
     },
     "metadata": {
      "needs_background": "light"
     },
     "output_type": "display_data"
    }
   ],
   "source": [
    "train_other['education-num'].value_counts().plot(kind = 'bar')"
   ],
   "metadata": {
    "collapsed": false,
    "pycharm": {
     "name": "#%%\n",
     "is_executing": false
    }
   }
  },
  {
   "cell_type": "markdown",
   "source": [
    "#### Relationship"
   ],
   "metadata": {
    "collapsed": false
   }
  },
  {
   "cell_type": "code",
   "execution_count": 114,
   "outputs": [
    {
     "data": {
      "text/plain": "count         3970\nunique           6\ntop        Husband\nfreq          1649\nName: relationship, dtype: object"
     },
     "metadata": {},
     "output_type": "execute_result",
     "execution_count": 114
    }
   ],
   "source": [
    "train_other['relationship'].describe()"
   ],
   "metadata": {
    "collapsed": false,
    "pycharm": {
     "name": "#%%\n",
     "is_executing": false
    }
   }
  },
  {
   "cell_type": "code",
   "execution_count": 115,
   "outputs": [
    {
     "data": {
      "text/plain": "array([' Husband', ' Own-child', ' Unmarried', ' Not-in-family',\n       ' Other-relative', ' Wife', nan], dtype=object)"
     },
     "metadata": {},
     "output_type": "execute_result",
     "execution_count": 115
    }
   ],
   "source": [
    "train_other['relationship'].unique()"
   ],
   "metadata": {
    "collapsed": false,
    "pycharm": {
     "name": "#%%\n",
     "is_executing": false
    }
   }
  },
  {
   "cell_type": "code",
   "execution_count": 116,
   "outputs": [
    {
     "data": {
      "text/plain": "<matplotlib.axes._subplots.AxesSubplot at 0x1d7bd403b38>"
     },
     "metadata": {},
     "output_type": "execute_result",
     "execution_count": 116
    },
    {
     "data": {
      "text/plain": "<Figure size 432x288 with 1 Axes>",
      "image/png": "[encoded data removed]"
     },
     "metadata": {
      "needs_background": "light"
     },
     "output_type": "display_data"
    }
   ],
   "source": [
    "train_other['relationship'].value_counts().plot(kind = 'bar')"
   ],
   "metadata": {
    "collapsed": false,
    "pycharm": {
     "name": "#%%\n",
     "is_executing": false
    }
   }
  },
  {
   "cell_type": "markdown",
   "source": [
    "#### skewness_glucose"
   ],
   "metadata": {
    "collapsed": false
   }
  },
  {
   "cell_type": "code",
   "execution_count": 117,
   "outputs": [
    {
     "data": {
      "text/plain": "count    3960.000000\nmean        4.242530\nstd         9.706012\nmin        -1.755332\n25%        -0.120081\n50%         0.374657\n75%         2.091543\nmax        68.101622\nName: skewness_glucose, dtype: float64"
     },
     "metadata": {},
     "output_type": "execute_result",
     "execution_count": 117
    }
   ],
   "source": [
    "train_other['skewness_glucose'].describe()"
   ],
   "metadata": {
    "collapsed": false,
    "pycharm": {
     "name": "#%%\n",
     "is_executing": false
    }
   }
  },
  {
   "cell_type": "code",
   "execution_count": 118,
   "outputs": [
    {
     "data": {
      "text/plain": "<matplotlib.axes._subplots.AxesSubplot at 0x1d7bb77dd30>"
     },
     "metadata": {},
     "output_type": "execute_result",
     "execution_count": 118
    },
    {
     "data": {
      "text/plain": "<Figure size 432x288 with 1 Axes>",
      "image/png": "[encoded data removed]"
     },
     "metadata": {
      "needs_background": "light"
     },
     "output_type": "display_data"
    }
   ],
   "source": [
    "train_other['skewness_glucose'].value_counts().plot(kind = 'line')"
   ],
   "metadata": {
    "collapsed": false,
    "pycharm": {
     "name": "#%%\n",
     "is_executing": false
    }
   }
  },
  {
   "cell_type": "markdown",
   "source": [
    "#### mean_glucose"
   ],
   "metadata": {
    "collapsed": false,
    "pycharm": {
     "name": "#%% md\n"
    }
   }
  },
  {
   "cell_type": "code",
   "execution_count": 119,
   "outputs": [
    {
     "data": {
      "text/plain": "count    3973.000000\nmean      101.248940\nstd        33.601519\nmin         6.187500\n25%        87.742188\n50%       110.664062\n75%       124.132812\nmax       189.734375\nName: mean_glucose, dtype: float64"
     },
     "metadata": {},
     "output_type": "execute_result",
     "execution_count": 119
    }
   ],
   "source": [
    "train_other['mean_glucose'].describe()"
   ],
   "metadata": {
    "collapsed": false,
    "pycharm": {
     "name": "#%%\n",
     "is_executing": false
    }
   }
  },
  {
   "cell_type": "code",
   "execution_count": 120,
   "outputs": [
    {
     "data": {
      "text/plain": "<matplotlib.axes._subplots.AxesSubplot at 0x1d7bd4b1390>"
     },
     "metadata": {},
     "output_type": "execute_result",
     "execution_count": 120
    },
    {
     "data": {
      "text/plain": "<Figure size 432x288 with 1 Axes>",
      "image/png": "[encoded data removed]"
     },
     "metadata": {
      "needs_background": "light"
     },
     "output_type": "display_data"
    }
   ],
   "source": [
    "train_other['mean_glucose'].value_counts().plot(kind = 'line')"
   ],
   "metadata": {
    "collapsed": false,
    "pycharm": {
     "name": "#%%\n",
     "is_executing": false
    }
   }
  },
  {
   "cell_type": "markdown",
   "source": [
    "#### std_oxygen"
   ],
   "metadata": {
    "collapsed": false,
    "pycharm": {
     "name": "#%% md\n"
    }
   }
  },
  {
   "cell_type": "code",
   "execution_count": 121,
   "outputs": [
    {
     "data": {
      "text/plain": "count    3969.000000\nmean       31.148558\nstd        22.263993\nmin         7.370432\n25%        15.024700\n50%        20.547873\n75%        43.253607\nmax       110.642211\nName: std_oxygen, dtype: float64"
     },
     "metadata": {},
     "output_type": "execute_result",
     "execution_count": 121
    }
   ],
   "source": [
    "train_other['std_oxygen'].describe()"
   ],
   "metadata": {
    "collapsed": false,
    "pycharm": {
     "name": "#%%\n",
     "is_executing": false
    }
   }
  },
  {
   "cell_type": "code",
   "execution_count": 122,
   "outputs": [
    {
     "data": {
      "text/plain": "<matplotlib.axes._subplots.AxesSubplot at 0x1d7bd2462b0>"
     },
     "metadata": {},
     "output_type": "execute_result",
     "execution_count": 122
    },
    {
     "data": {
      "text/plain": "<Figure size 432x288 with 1 Axes>",
      "image/png": "[encoded data removed]"
     },
     "metadata": {
      "needs_background": "light"
     },
     "output_type": "display_data"
    }
   ],
   "source": [
    "train_other['std_oxygen'].value_counts().plot(kind = 'line')"
   ],
   "metadata": {
    "collapsed": false,
    "pycharm": {
     "name": "#%%\n",
     "is_executing": false
    }
   }
  },
  {
   "cell_type": "markdown",
   "source": [
    "#### capital-gain"
   ],
   "metadata": {
    "collapsed": false
   }
  },
  {
   "cell_type": "code",
   "execution_count": 123,
   "outputs": [
    {
     "data": {
      "text/plain": "count     3967.000000\nmean      1042.988908\nstd       7006.726961\nmin          0.000000\n25%          0.000000\n50%          0.000000\n75%          0.000000\nmax      99999.000000\nName: capital-gain, dtype: float64"
     },
     "metadata": {},
     "output_type": "execute_result",
     "execution_count": 123
    }
   ],
   "source": [
    "train_other['capital-gain'].describe()"
   ],
   "metadata": {
    "collapsed": false,
    "pycharm": {
     "name": "#%%\n",
     "is_executing": false
    }
   }
  },
  {
   "cell_type": "code",
   "execution_count": 124,
   "outputs": [
    {
     "data": {
      "text/plain": "<matplotlib.axes._subplots.AxesSubplot at 0x1d7bd278a90>"
     },
     "metadata": {},
     "output_type": "execute_result",
     "execution_count": 124
    },
    {
     "data": {
      "text/plain": "<Figure size 432x288 with 1 Axes>",
      "image/png": "[encoded data removed]"
     },
     "metadata": {
      "needs_background": "light"
     },
     "output_type": "display_data"
    }
   ],
   "source": [
    "train_other['capital-gain'].value_counts().plot(kind = 'line')"
   ],
   "metadata": {
    "collapsed": false,
    "pycharm": {
     "name": "#%%\n",
     "is_executing": false
    }
   }
  },
  {
   "cell_type": "markdown",
   "source": [
    "#### skewness_oxygen"
   ],
   "metadata": {
    "collapsed": false
   }
  },
  {
   "cell_type": "code",
   "execution_count": 125,
   "outputs": [
    {
     "data": {
      "text/plain": "count    3970.000000\nmean       91.370712\nstd       108.475749\nmin        -1.976976\n25%        12.858504\n50%        68.623477\n75%       127.236918\nmax      1191.000837\nName: skewness_oxygen, dtype: float64"
     },
     "metadata": {},
     "output_type": "execute_result",
     "execution_count": 125
    }
   ],
   "source": [
    "train_other['skewness_oxygen'].describe()"
   ],
   "metadata": {
    "collapsed": false,
    "pycharm": {
     "name": "#%%\n",
     "is_executing": false
    }
   }
  },
  {
   "cell_type": "code",
   "execution_count": 126,
   "outputs": [
    {
     "data": {
      "text/plain": "<matplotlib.axes._subplots.AxesSubplot at 0x1d7bb592358>"
     },
     "metadata": {},
     "output_type": "execute_result",
     "execution_count": 126
    },
    {
     "data": {
      "text/plain": "<Figure size 432x288 with 1 Axes>",
      "image/png": "[encoded data removed]"
     },
     "metadata": {
      "needs_background": "light"
     },
     "output_type": "display_data"
    }
   ],
   "source": [
    "train_other['skewness_oxygen'].value_counts().plot(kind = 'line')"
   ],
   "metadata": {
    "collapsed": false,
    "pycharm": {
     "name": "#%%\n",
     "is_executing": false
    }
   }
  },
  {
   "cell_type": "markdown",
   "source": [
    "#### kurtosis_glucose"
   ],
   "metadata": {
    "collapsed": false
   }
  },
  {
   "cell_type": "code",
   "execution_count": 127,
   "outputs": [
    {
     "data": {
      "text/plain": "count    3965.000000\nmean        0.950507\nstd         1.611069\nmin        -1.641515\n25%         0.072144\n50%         0.310372\n75%         0.775684\nmax         8.069522\nName: kurtosis_glucose, dtype: float64"
     },
     "metadata": {},
     "output_type": "execute_result",
     "execution_count": 127
    }
   ],
   "source": [
    "train_other['kurtosis_glucose'].describe()"
   ],
   "metadata": {
    "collapsed": false,
    "pycharm": {
     "name": "#%%\n",
     "is_executing": false
    }
   }
  },
  {
   "cell_type": "code",
   "execution_count": 128,
   "outputs": [
    {
     "data": {
      "text/plain": "<matplotlib.axes._subplots.AxesSubplot at 0x1d7bd52c780>"
     },
     "metadata": {},
     "output_type": "execute_result",
     "execution_count": 128
    },
    {
     "data": {
      "text/plain": "<Figure size 432x288 with 1 Axes>",
      "image/png": "[encoded data removed]"
     },
     "metadata": {
      "needs_background": "light"
     },
     "output_type": "display_data"
    }
   ],
   "source": [
    "train_other['kurtosis_glucose'].value_counts().plot(kind = 'line')"
   ],
   "metadata": {
    "collapsed": false,
    "pycharm": {
     "name": "#%%\n",
     "is_executing": false
    }
   }
  },
  {
   "cell_type": "markdown",
   "source": [
    "#### personal_info"
   ],
   "metadata": {
    "collapsed": false
   }
  },
  {
   "cell_type": "code",
   "execution_count": 129,
   "outputs": [
    {
     "data": {
      "text/plain": "count                                                  3971\nunique                                                  800\ntop       Craft-repair|United-States\\r\\r\\nMarried-civ-sp...\nfreq                                                    198\nName: personal_info, dtype: object"
     },
     "metadata": {},
     "output_type": "execute_result",
     "execution_count": 129
    }
   ],
   "source": [
    "train_other['personal_info'].describe()"
   ],
   "metadata": {
    "collapsed": false,
    "pycharm": {
     "name": "#%%\n",
     "is_executing": false
    }
   }
  },
  {
   "cell_type": "code",
   "execution_count": 153,
   "outputs": [
    {
     "data": {
      "text/plain": "array(['Prof-specialty|United-States\\r\\r\\nMarried-civ-spouse -- Private|White',\n       'Prof-specialty|United-States\\r\\r\\nNever-married -- Private|White',\n       'Other-service|Mexico\\r\\r\\nSeparated -- Private|White',\n       'Prof-specialty|Canada\\r\\r\\nNever-married -- Private|White',\n       'Sales|United-States\\r\\r\\nMarried-civ-spouse -- Private|White',\n       'Other-service|United-States\\r\\r\\nNever-married -- Private|White',\n       'Adm-clerical|United-States\\r\\r\\nNever-married -- Private|White',\n       'Sales|United-States\\r\\r\\nNever-married -- Private|White',\n       '?|United-States\\r\\r\\nNever-married -- ?|White',\n       'Sales|United-States\\r\\r\\nNever-married -- Private|Black',\n       'Tech-support|United-States\\r\\r\\nNever-married -- Private|White',\n       'Transport-moving|Iran\\r\\r\\nNever-married -- Private|White',\n       'Craft-repair|?\\r\\r\\nNever-married -- Private|Black',\n       'Exec_managerial|United-States\\r\\r\\nMarried-civ-spouse -- Private|White',\n       'Other-service|United-States\\r\\r\\nDivorced -- Private|White',\n       'Prof-specialty|United-States\\r\\r\\nNever-married -- Self-emp-inc|White',\n       'Prof-specialty|United-States\\r\\r\\nWidowed -- Federal-gov|White',\n       'Other-service|United-States\\r\\r\\nMarried-civ-spouse -- Private|White',\n       'Adm-clerical|United-States\\r\\r\\nMarried-civ-spouse -- Private|White',\n       'Machine-op-inspct|United-States\\r\\r\\nMarried-civ-spouse -- Private|White',\n       'Machine-op-inspct|United-States\\r\\r\\nSeparated -- Local-gov|Black',\n       'Exec_managerial|United-States\\r\\r\\nNever-married -- Private|White',\n       'Protective-serv|United-States\\r\\r\\nMarried-civ-spouse -- Local-gov|White',\n       'Sales|United-States\\r\\r\\nNever-married -- Self-emp-not-inc|White',\n       'Sales|United-States\\r\\r\\nWidowed -- Private|White',\n       'Craft-repair|United-States\\r\\r\\nMarried-civ-spouse -- Private|White',\n       'Exec_managerial|Scotland\\r\\r\\nDivorced -- Private|White',\n       'Farming-fishing|United-States\\r\\r\\nMarried-civ-spouse -- Private|White',\n       'Exec_managerial|United-States\\r\\r\\nMarried-civ-spouse -- Local-gov|White',\n       'Sales|United-States\\r\\r\\nNever-married -- Self-emp-inc|White',\n       'Adm-clerical|United-States\\r\\r\\nNever-married -- Federal-gov|White',\n       '?|United-States\\r\\r\\nMarried-civ-spouse -- ?|Black',\n       'Transport-moving|United-States\\r\\r\\nSeparated -- Private|White',\n       'Exec-managerial|United-States\\r\\r\\nDivorced -- Self-emp-not-inc|White',\n       'Exec-managerial|Germany\\r\\r\\nDivorced -- Local-gov|White',\n       'Exec-managerial|United-States\\r\\r\\nMarried-civ-spouse -- Private|White',\n       'Prof-specialty|United-States\\r\\r\\nMarried-civ-spouse -- Self-emp-inc|White',\n       '?|United-States\\r\\r\\nWidowed -- ?|White',\n       'Farming_fishing|United-States\\r\\r\\nMarried-civ-spouse -- Self-emp-not-inc|White',\n       'Transport-moving|United-States\\r\\r\\nMarried-civ-spouse -- Local-gov|White',\n       'Farming-fishing|United-States\\r\\r\\nNever-married -- Private|Black',\n       'Adm-clerical|United-States\\r\\r\\nWidowed -- Federal-gov|White',\n       'Adm-clerical|United-States\\r\\r\\nMarried-spouse-absent -- Private|White',\n       'Exec-managerial|United-States\\r\\r\\nDivorced -- Private|White',\n       'Transport-moving|United-States\\r\\r\\nMarried-civ-spouse -- Private|White',\n       'Adm_clerical|United-States\\r\\r\\nMarried-civ-spouse -- Private|White',\n       '?|United-States\\r\\r\\nMarried-civ-spouse -- ?|White',\n       'Exec-managerial|United-States\\r\\r\\nWidowed -- Self-emp-inc|White',\n       'Transport-moving|?\\r\\r\\nNever-married -- Private|Asian-Pac-Islander',\n       'Craft-repair|United-States\\r\\r\\nNever-married -- Private|White',\n       'Other-service|United-States\\r\\r\\nSeparated -- Private|White',\n       'Exec-managerial|United-States\\r\\r\\nNever-married -- Private|White',\n       'Farming-fishing|United-States\\r\\r\\nMarried-civ-spouse -- Self-emp-not-inc|White',\n       'Craft-repair|Mexico\\r\\r\\nMarried-civ-spouse -- Private|White',\n       'Handlers-cleaners|United-States\\r\\r\\nMarried-civ-spouse -- Private|White',\n       'Prof-specialty|United-States\\r\\r\\nDivorced -- Private|White',\n       '?|?\\r\\r\\nMarried-civ-spouse -- ?|White',\n       'Handlers-cleaners|Mexico\\r\\r\\nNever-married -- Private|White',\n       'Priv-house-serv|Mexico\\r\\r\\nSeparated -- Private|White',\n       'Protective_serv|United-States\\r\\r\\nMarried-civ-spouse -- Private|White',\n       'Sales|United-States\\r\\r\\nMarried-civ-spouse -- Self-emp-not-inc|White',\n       'Sales|United-States\\r\\r\\nMarried-civ-spouse -- Self-emp-inc|White',\n       'Other-service|Mexico\\r\\r\\nNever-married -- Private|White',\n       '?|United-States\\r\\r\\nNever-married -- Never-worked|White',\n       'Handlers-cleaners|United-States\\r\\r\\nNever-married -- Private|White',\n       'Adm_clerical|United-States\\r\\r\\nNever-married -- Private|White',\n       'Machine-op-inspct|United-States\\r\\r\\nMarried-civ-spouse -- Self-emp-not-inc|White',\n       'Exec-managerial|Scotland\\r\\r\\nNever-married -- State-gov|White',\n       'Adm-clerical|United-States\\r\\r\\nNever-married -- Private|Black',\n       'Handlers_cleaners|United-States\\r\\r\\nNever-married -- Private|White',\n       'Machine-op-inspct|United-States\\r\\r\\nMarried-civ-spouse -- Private|Black',\n       'Handlers-cleaners|United-States\\r\\r\\nMarried-civ-spouse -- Private|Amer-Indian-Eskimo',\n       'Other_service|United-States\\r\\r\\nWidowed -- Private|White',\n       'Prof-specialty|United-States\\r\\r\\nNever-married -- State-gov|White',\n       'Craft-repair|United-States\\r\\r\\nDivorced -- Private|White',\n       'Craft-repair|United-States\\r\\r\\nNever-married -- Federal-gov|White',\n       'Adm-clerical|Mexico\\r\\r\\nNever-married -- Local-gov|White',\n       'Prof-specialty|United-States\\r\\r\\nNever-married -- Private|Black',\n       'Exec-managerial|United-States\\r\\r\\nMarried-civ-spouse -- State-gov|White',\n       'Handlers-cleaners|United-States\\r\\r\\nSeparated -- Private|White',\n       'Handlers-cleaners|United-States\\r\\r\\nNever-married -- Private|Amer-Indian-Eskimo',\n       'Exec-managerial|United-States\\r\\r\\nMarried-civ-spouse -- Self-emp-not-inc|White',\n       'Craft_repair|United-States\\r\\r\\nMarried-civ-spouse -- Self-emp-not-inc|White',\n       'Exec_managerial|Canada\\r\\r\\nMarried-civ-spouse -- Private|White',\n       'Transport-moving|United-States\\r\\r\\nNever-married -- Private|White',\n       'Prof_specialty|United-States\\r\\r\\nMarried-civ-spouse -- Private|White',\n       'Prof-specialty|United-States\\r\\r\\nMarried-civ-spouse -- Federal-gov|Black',\n       'Machine-op-inspct|United-States\\r\\r\\nMarried-civ-spouse -- Private|Other',\n       'Prof-specialty|United-States\\r\\r\\nMarried-civ-spouse -- Local-gov|White',\n       'Handlers-cleaners|Mexico\\r\\r\\nMarried-civ-spouse -- Private|White',\n       'Prof-specialty|United-States\\r\\r\\nNever-married -- Private|Asian-Pac-Islander',\n       'Other_service|United-States\\r\\r\\nNever-married -- Private|White',\n       'Tech-support|United-States\\r\\r\\nMarried-civ-spouse -- Private|White',\n       'Craft-repair|United-States\\r\\r\\nMarried-civ-spouse -- Self-emp-not-inc|White',\n       'Other-service|United-States\\r\\r\\nWidowed -- Private|White',\n       'Sales|United-States\\r\\r\\nDivorced -- Private|White',\n       'Prof-specialty|United-States\\r\\r\\nMarried-civ-spouse -- State-gov|Black',\n       'Machine-op-inspct|United-States\\r\\r\\nNever-married -- Private|White',\n       'Farming-fishing|United-States\\r\\r\\nNever-married -- Self-emp-not-inc|White',\n       'Sales|Mexico\\r\\r\\nNever-married -- Private|White',\n       'Farming-fishing|United-States\\r\\r\\nDivorced -- Private|White',\n       'Craft-repair|Philippines\\r\\r\\nMarried-civ-spouse -- Private|Asian-Pac-Islander',\n       'Exec-managerial|United-States\\r\\r\\nMarried-civ-spouse -- Federal-gov|White',\n       'Transport-moving|United-States\\r\\r\\nNever-married -- Private|Black',\n       'Exec-managerial|United-States\\r\\r\\nWidowed -- Private|White',\n       'Adm_clerical|United-States\\r\\r\\nMarried-civ-spouse -- Federal-gov|White',\n       'Machine-op-inspct|United-States\\r\\r\\nNever-married -- Private|Black',\n       'Machine-op-inspct|United-States\\r\\r\\nDivorced -- Private|White',\n       'Prof-specialty|United-States\\r\\r\\nSeparated -- Private|White',\n       'Protective-serv|United-States\\r\\r\\nNever-married -- Local-gov|White',\n       'Craft-repair|United-States\\r\\r\\nNever-married -- Private|Black',\n       'Other_service|Outlying-US(Guam-USVI-etc)\\r\\r\\nMarried-civ-spouse -- Private|White',\n       'Other_service|United-States\\r\\r\\nNever-married -- Private|Black',\n       'Adm-clerical|Mexico\\r\\r\\nMarried-civ-spouse -- Private|White',\n       'Adm-clerical|United-States\\r\\r\\nMarried-civ-spouse -- Federal-gov|White',\n       'Craft-repair|South\\r\\r\\nMarried-civ-spouse -- Private|Asian-Pac-Islander',\n       'Exec-managerial|United-States\\r\\r\\nDivorced -- Local-gov|White',\n       'Adm-clerical|England\\r\\r\\nMarried-civ-spouse -- Federal-gov|White',\n       'Prof-specialty|United-States\\r\\r\\nDivorced -- Private|Amer-Indian-Eskimo',\n       'Adm-clerical|United-States\\r\\r\\nDivorced -- Private|White',\n       'Other-service|United-States\\r\\r\\nNever-married -- Self-emp-not-inc|White',\n       'Sales|United-States\\r\\r\\nMarried-civ-spouse -- Private|Black',\n       'Adm-clerical|United-States\\r\\r\\nMarried-civ-spouse -- Local-gov|White',\n       'Prof-specialty|Japan\\r\\r\\nMarried-spouse-absent -- Private|Asian-Pac-Islander',\n       'Sales|United-States\\r\\r\\nDivorced -- Self-emp-not-inc|White',\n       'Farming-fishing|Mexico\\r\\r\\nMarried-civ-spouse -- Private|White',\n       'Prof-specialty|United-States\\r\\r\\nMarried-civ-spouse -- Federal-gov|White',\n       'Adm-clerical|United-States\\r\\r\\nDivorced -- State-gov|White',\n       'Prof-specialty|United-States\\r\\r\\nNever-married -- Local-gov|White',\n       'Prof-specialty|United-States\\r\\r\\nMarried-civ-spouse -- Self-emp-not-inc|White',\n       'Prof-specialty|United-States\\r\\r\\nDivorced -- Private|Black',\n       'Machine-op-inspct|Dominican-Republic\\r\\r\\nNever-married -- Private|White',\n       'Craft-repair|Mexico\\r\\r\\nMarried-spouse-absent -- Private|White',\n       'Tech_support|United-States\\r\\r\\nNever-married -- Private|Black',\n       'Exec-managerial|United-States\\r\\r\\nMarried-civ-spouse -- Self-emp-inc|White',\n       'Other-service|United-States\\r\\r\\nWidowed -- Private|Black',\n       'Prof_specialty|United-States\\r\\r\\nNever-married -- Private|White',\n       'Adm-clerical|United-States\\r\\r\\nDivorced -- Local-gov|White',\n       '?|United-States\\r\\r\\nDivorced -- ?|White',\n       'Other-service|United-States\\r\\r\\nDivorced -- Private|Black',\n       'Other-service|?\\r\\r\\nNever-married -- Private|Black',\n       'Transport-moving|United-States\\r\\r\\nDivorced -- Private|White',\n       'Priv-house-serv|United-States\\r\\r\\nWidowed -- Private|Black',\n       'Adm-clerical|Italy\\r\\r\\nMarried-civ-spouse -- Private|White',\n       'Sales|United-States\\r\\r\\nSeparated -- Private|White',\n       'Craft-repair|United-States\\r\\r\\nMarried-civ-spouse -- Self-emp-inc|White',\n       'Craft-repair|United-States\\r\\r\\nDivorced -- Private|Amer-Indian-Eskimo',\n       'Adm-clerical|United-States\\r\\r\\nWidowed -- Private|White',\n       'Sales|United-States\\r\\r\\nNever-married -- Self-emp-not-inc|Black',\n       'Transport-moving|Jamaica\\r\\r\\nMarried-civ-spouse -- Private|Black',\n       'Handlers-cleaners|United-States\\r\\r\\nMarried-civ-spouse -- Self-emp-inc|White',\n       'Transport-moving|United-States\\r\\r\\nMarried-civ-spouse -- Self-emp-not-inc|White',\n       'Craft-repair|United-States\\r\\r\\nNever-married -- Self-emp-not-inc|White',\n       'Prof-specialty|United-States\\r\\r\\nNever-married -- Self-emp-not-inc|White',\n       'Prof-specialty|China\\r\\r\\nMarried-civ-spouse -- Private|Asian-Pac-Islander',\n       'Exec-managerial|Mexico\\r\\r\\nMarried-civ-spouse -- Private|White',\n       'Adm-clerical|United-States\\r\\r\\nSeparated -- Private|White',\n       'Prof-specialty|?\\r\\r\\nNever-married -- Federal-gov|White',\n       'Prof_specialty|United-States\\r\\r\\nNever-married -- Local-gov|White',\n       'Exec-managerial|United-States\\r\\r\\nDivorced -- Private|Amer-Indian-Eskimo',\n       '?|South\\r\\r\\nMarried-civ-spouse -- ?|Asian-Pac-Islander',\n       'Exec-managerial|United-States\\r\\r\\nDivorced -- Self-emp-inc|White',\n       'Other-service|Dominican-Republic\\r\\r\\nNever-married -- Private|White',\n       'Prof-specialty|United-States\\r\\r\\nMarried-civ-spouse -- State-gov|White',\n       'Craft_repair|United-States\\r\\r\\nDivorced -- Private|White',\n       'Handlers-cleaners|United-States\\r\\r\\nNever-married -- Private|Black',\n       'Sales|United-States\\r\\r\\nMarried-spouse-absent -- Private|White',\n       'Transport-moving|United-States\\r\\r\\nMarried-civ-spouse -- Self-emp-inc|White',\n       'Craft-repair|United-States\\r\\r\\nMarried-civ-spouse -- Private|Black',\n       'Transport-moving|United-States\\r\\r\\nMarried-civ-spouse -- Private|Black',\n       'Adm-clerical|Germany\\r\\r\\nNever-married -- Private|White',\n       'Transport-moving|Canada\\r\\r\\nMarried-civ-spouse -- Private|White',\n       'Craft_repair|United-States\\r\\r\\nNever-married -- Private|White',\n       'Craft_repair|United-States\\r\\r\\nMarried-civ-spouse -- Private|White',\n       'Exec-managerial|Germany\\r\\r\\nMarried-civ-spouse -- Private|White',\n       'Tech_support|United-States\\r\\r\\nMarried-civ-spouse -- Private|White',\n       'Craft_repair|Portugal\\r\\r\\nMarried-civ-spouse -- Private|White',\n       'Adm-clerical|?\\r\\r\\nNever-married -- Private|Asian-Pac-Islander',\n       'Protective-serv|United-States\\r\\r\\nNever-married -- Private|White',\n       'Protective-serv|United-States\\r\\r\\nNever-married -- Federal-gov|White',\n       'Prof_specialty|United-States\\r\\r\\nSeparated -- Private|White',\n       'Adm-clerical|?\\r\\r\\nNever-married -- Private|Black', nan,\n       'Exec-managerial|United-States\\r\\r\\nDivorced -- Private|Black',\n       'Other_service|United-States\\r\\r\\nMarried-civ-spouse -- Private|White',\n       'Farming-fishing|United-States\\r\\r\\nMarried-civ-spouse -- Self-emp-inc|White',\n       'Adm-clerical|United-States\\r\\r\\nMarried-civ-spouse -- Private|Black',\n       'Machine-op-inspct|Mexico\\r\\r\\nMarried-civ-spouse -- Private|White',\n       'Protective_serv|United-States\\r\\r\\nDivorced -- Private|White',\n       'Prof-specialty|United-States\\r\\r\\nDivorced -- Local-gov|White',\n       'Other-service|United-States\\r\\r\\nMarried-civ-spouse -- Self-emp-not-inc|White',\n       'Prof_specialty|United-States\\r\\r\\nMarried-civ-spouse -- Local-gov|Black',\n       'Exec-managerial|?\\r\\r\\nMarried-civ-spouse -- Private|White',\n       'Other_service|United-States\\r\\r\\nNever-married -- State-gov|White',\n       'Exec-managerial|Mexico\\r\\r\\nMarried-civ-spouse -- Self-emp-not-inc|White',\n       'Craft-repair|?\\r\\r\\nNever-married -- Self-emp-inc|Other',\n       'Other-service|United-States\\r\\r\\nNever-married -- Private|Black',\n       'Other-service|South\\r\\r\\nMarried-civ-spouse -- Self-emp-not-inc|Asian-Pac-Islander',\n       'Sales|United-States\\r\\r\\nMarried-civ-spouse -- Federal-gov|White',\n       'Prof-specialty|United-States\\r\\r\\nDivorced -- Federal-gov|White',\n       'Prof-specialty|Philippines\\r\\r\\nMarried-civ-spouse -- Private|White',\n       'Transport-moving|United-States\\r\\r\\nNever-married -- Federal-gov|White',\n       'Prof-specialty|United-States\\r\\r\\nWidowed -- Private|Asian-Pac-Islander',\n       'Transport-moving|United-States\\r\\r\\nNever-married -- State-gov|Black',\n       'Craft-repair|United-States\\r\\r\\nMarried-spouse-absent -- Private|White',\n       'Priv_house_serv|United-States\\r\\r\\nWidowed -- Private|Black',\n       'Exec_managerial|United-States\\r\\r\\nSeparated -- Self-emp-not-inc|White',\n       'Machine-op-inspct|Thailand\\r\\r\\nMarried-civ-spouse -- Self-emp-not-inc|Asian-Pac-Islander',\n       'Other-service|United-States\\r\\r\\nMarried-civ-spouse -- Private|Black',\n       'Prof-specialty|United-States\\r\\r\\nDivorced -- Self-emp-not-inc|White',\n       'Adm-clerical|United-States\\r\\r\\nNever-married -- Federal-gov|Black',\n       'Protective-serv|Guatemala\\r\\r\\nMarried-civ-spouse -- Private|White',\n       'Farming-fishing|United-States\\r\\r\\nNever-married -- Private|White',\n       'Transport-moving|?\\r\\r\\nMarried-civ-spouse -- Self-emp-inc|White',\n       'Craft_repair|United-States\\r\\r\\nMarried-civ-spouse -- Self-emp-inc|White',\n       'Tech-support|United-States\\r\\r\\nSeparated -- Private|White',\n       'Prof-specialty|United-States\\r\\r\\nWidowed -- Local-gov|White',\n       'Prof-specialty|Germany\\r\\r\\nNever-married -- Private|White',\n       '?|El-Salvador\\r\\r\\nWidowed -- ?|White',\n       'Other-service|France\\r\\r\\nMarried-spouse-absent -- Private|White',\n       'Prof-specialty|?\\r\\r\\nMarried-civ-spouse -- Local-gov|White',\n       'Other-service|Philippines\\r\\r\\nSeparated -- Private|Asian-Pac-Islander',\n       'Other-service|England\\r\\r\\nMarried-civ-spouse -- Private|Black',\n       'Adm-clerical|United-States\\r\\r\\nDivorced -- Local-gov|Black',\n       'Craft-repair|?\\r\\r\\nMarried-civ-spouse -- Private|White',\n       'Sales|Mexico\\r\\r\\nNever-married -- Private|Other',\n       'Handlers-cleaners|Jamaica\\r\\r\\nNever-married -- Private|White',\n       'Other-service|Haiti\\r\\r\\nMarried-spouse-absent -- Private|Black',\n       'Adm_clerical|United-States\\r\\r\\nNever-married -- Local-gov|White',\n       'Transport-moving|United-States\\r\\r\\nMarried-civ-spouse -- State-gov|White',\n       'Exec-managerial|United-States\\r\\r\\nNever-married -- Federal-gov|White',\n       'Machine_op_inspct|United-States\\r\\r\\nNever-married -- Private|White',\n       'Sales|United-States\\r\\r\\nSeparated -- Self-emp-not-inc|White',\n       'Craft_repair|United-States\\r\\r\\nMarried-civ-spouse -- Federal-gov|White',\n       'Adm-clerical|Jamaica\\r\\r\\nNever-married -- Private|Black',\n       'Other-service|United-States\\r\\r\\nMarried-civ-spouse -- Federal-gov|White',\n       'Prof-specialty|China\\r\\r\\nMarried-spouse-absent -- Private|Asian-Pac-Islander',\n       'Exec_managerial|United-States\\r\\r\\nSeparated -- Private|White',\n       'Craft-repair|United-States\\r\\r\\nMarried-spouse-absent -- Self-emp-not-inc|White',\n       'Sales|?\\r\\r\\nNever-married -- Self-emp-inc|White',\n       'Transport_moving|United-States\\r\\r\\nMarried-civ-spouse -- Private|White',\n       'Craft_repair|United-States\\r\\r\\nMarried-civ-spouse -- Private|Asian-Pac-Islander',\n       'Protective_serv|United-States\\r\\r\\nNever-married -- Private|Black',\n       'Transport-moving|Dominican-Republic\\r\\r\\nMarried-civ-spouse -- Private|White',\n       'Tech-support|?\\r\\r\\nDivorced -- Private|White',\n       'Other_service|United-States\\r\\r\\nWidowed -- Private|Black',\n       'Handlers-cleaners|United-States\\r\\r\\nSeparated -- Private|Black',\n       'Adm-clerical|United-States\\r\\r\\nDivorced -- Self-emp-not-inc|White',\n       'Protective-serv|United-States\\r\\r\\nMarried-civ-spouse -- State-gov|Black',\n       'Machine_op_inspct|United-States\\r\\r\\nMarried-civ-spouse -- Private|Black',\n       'Farming-fishing|United-States\\r\\r\\nMarried-civ-spouse -- Private|Asian-Pac-Islander',\n       'Other-service|United-States\\r\\r\\nDivorced -- Local-gov|White',\n       'Prof-specialty|?\\r\\r\\nNever-married -- Local-gov|White',\n       '?|South\\r\\r\\nMarried-spouse-absent -- ?|Asian-Pac-Islander',\n       'Adm-clerical|?\\r\\r\\nMarried-civ-spouse -- Private|White',\n       'Priv-house-serv|United-States\\r\\r\\nWidowed -- Private|Asian-Pac-Islander',\n       'Handlers-cleaners|United-States\\r\\r\\nMarried-civ-spouse -- Local-gov|Black',\n       'Machine-op-inspct|United-States\\r\\r\\nSeparated -- Private|Black',\n       'Prof-specialty|United-States\\r\\r\\nWidowed -- Private|White',\n       'Machine-op-inspct|Columbia\\r\\r\\nWidowed -- Private|Other',\n       'Adm-clerical|United-States\\r\\r\\nNever-married -- State-gov|White',\n       'Adm-clerical|Nicaragua\\r\\r\\nNever-married -- Private|White',\n       'Adm-clerical|United-States\\r\\r\\nMarried-civ-spouse -- Self-emp-inc|White',\n       'Prof-specialty|Philippines\\r\\r\\nNever-married -- Private|Asian-Pac-Islander',\n       'Exec_managerial|United-States\\r\\r\\nMarried-civ-spouse -- Self-emp-not-inc|White',\n       'Prof-specialty|United-States\\r\\r\\nNever-married -- Federal-gov|White',\n       'Prof-specialty|Germany\\r\\r\\nNever-married -- Local-gov|White',\n       'Sales|United-States\\r\\r\\nDivorced -- Private|Black',\n       'Other-service|United-States\\r\\r\\nMarried-civ-spouse -- Self-emp-inc|White',\n       'Handlers_cleaners|United-States\\r\\r\\nMarried-civ-spouse -- Private|White',\n       'Adm-clerical|?\\r\\r\\nDivorced -- Private|Black',\n       'Prof-specialty|India\\r\\r\\nMarried-civ-spouse -- Private|Asian-Pac-Islander',\n       'Exec-managerial|United-States\\r\\r\\nMarried-civ-spouse -- Local-gov|White',\n       'Sales|India\\r\\r\\nNever-married -- Private|Asian-Pac-Islander',\n       'Craft-repair|United-States\\r\\r\\nSeparated -- Private|White',\n       'Adm_clerical|United-States\\r\\r\\nNever-married -- State-gov|Black',\n       'Prof_specialty|United-States\\r\\r\\nDivorced -- Private|White',\n       'Machine_op_inspct|United-States\\r\\r\\nMarried-civ-spouse -- Private|White',\n       'Exec-managerial|United-States\\r\\r\\nSeparated -- Private|White',\n       'Other-service|Mexico\\r\\r\\nDivorced -- Private|White',\n       'Sales|?\\r\\r\\nMarried-civ-spouse -- Private|White',\n       'Transport_moving|Mexico\\r\\r\\nMarried-civ-spouse -- Self-emp-not-inc|White',\n       'Machine_op_inspct|United-States\\r\\r\\nMarried-civ-spouse -- Self-emp-inc|White',\n       'Prof_specialty|United-States\\r\\r\\nMarried-civ-spouse -- Local-gov|White',\n       'Craft-repair|Jamaica\\r\\r\\nMarried-civ-spouse -- Private|Black',\n       'Farming-fishing|Puerto-Rico\\r\\r\\nSeparated -- Private|White',\n       'Exec_managerial|United-States\\r\\r\\nNever-married -- Self-emp-not-inc|White',\n       'Exec_managerial|United-States\\r\\r\\nMarried-civ-spouse -- Self-emp-not-inc|Amer-Indian-Eskimo',\n       'Craft-repair|United-States\\r\\r\\nNever-married -- Self-emp-inc|White',\n       'Machine-op-inspct|Poland\\r\\r\\nMarried-spouse-absent -- Private|White',\n       'Handlers-cleaners|Germany\\r\\r\\nMarried-civ-spouse -- Private|White',\n       'Tech_support|?\\r\\r\\nNever-married -- Private|Black',\n       'Sales|United-States\\r\\r\\nMarried-civ-spouse -- Self-emp-not-inc|Black',\n       '?|United-States\\r\\r\\nNever-married -- ?|Black',\n       'Adm_clerical|United-States\\r\\r\\nNever-married -- Private|Black',\n       'Adm-clerical|United-States\\r\\r\\nMarried-civ-spouse -- Federal-gov|Black',\n       'Machine_op_inspct|United-States\\r\\r\\nDivorced -- Private|White',\n       '?|United-States\\r\\r\\nDivorced -- ?|Black',\n       'Prof_specialty|?\\r\\r\\nMarried-civ-spouse -- Private|Black',\n       'Tech-support|United-States\\r\\r\\nMarried-civ-spouse -- Private|Asian-Pac-Islander',\n       'Other-service|United-States\\r\\r\\nNever-married -- State-gov|White',\n       'Adm_clerical|Cuba\\r\\r\\nNever-married -- Private|Other',\n       'Transport-moving|Puerto-Rico\\r\\r\\nMarried-civ-spouse -- State-gov|White',\n       'Exec-managerial|United-States\\r\\r\\nMarried-civ-spouse -- Private|Black',\n       'Craft-repair|Italy\\r\\r\\nMarried-civ-spouse -- Private|White',\n       'Sales|Poland\\r\\r\\nNever-married -- Private|White',\n       'Exec-managerial|Jamaica\\r\\r\\nDivorced -- Private|Black',\n       'Exec-managerial|China\\r\\r\\nMarried-civ-spouse -- Self-emp-not-inc|Asian-Pac-Islander',\n       'Exec-managerial|United-States\\r\\r\\nNever-married -- Private|Black',\n       'Prof-specialty|United-States\\r\\r\\nMarried-civ-spouse -- Local-gov|Amer-Indian-Eskimo',\n       'Craft-repair|United-States\\r\\r\\nDivorced -- Self-emp-not-inc|White',\n       'Craft-repair|United-States\\r\\r\\nMarried-civ-spouse -- Local-gov|White',\n       'Protective-serv|United-States\\r\\r\\nMarried-civ-spouse -- State-gov|White',\n       'Adm-clerical|Japan\\r\\r\\nDivorced -- Private|Asian-Pac-Islander',\n       'Sales|India\\r\\r\\nMarried-spouse-absent -- Private|Asian-Pac-Islander',\n       'Exec-managerial|United-States\\r\\r\\nSeparated -- Local-gov|White',\n       'Prof-specialty|United-States\\r\\r\\nNever-married -- Federal-gov|Asian-Pac-Islander',\n       'Exec-managerial|United-States\\r\\r\\nDivorced -- State-gov|White',\n       'Other_service|United-States\\r\\r\\nWidowed -- Local-gov|White',\n       'Exec-managerial|?\\r\\r\\nNever-married -- Private|White',\n       'Adm-clerical|United-States\\r\\r\\nMarried-civ-spouse -- State-gov|White',\n       '?|El-Salvador\\r\\r\\nMarried-civ-spouse -- ?|White',\n       'Sales|United-States\\r\\r\\nNever-married -- Private|Asian-Pac-Islander',\n       'Protective-serv|United-States\\r\\r\\nMarried-civ-spouse -- Self-emp-inc|White',\n       'Adm-clerical|United-States\\r\\r\\nSeparated -- Private|Black',\n       'Transport_moving|Cuba\\r\\r\\nMarried-civ-spouse -- Private|White',\n       'Prof_specialty|United-States\\r\\r\\nDivorced -- Local-gov|White',\n       'Handlers-cleaners|United-States\\r\\r\\nDivorced -- Private|White',\n       'Other-service|United-States\\r\\r\\nDivorced -- Self-emp-not-inc|White',\n       'Craft-repair|Columbia\\r\\r\\nMarried-civ-spouse -- Self-emp-not-inc|White',\n       'Adm_clerical|United-States\\r\\r\\nDivorced -- State-gov|White',\n       'Other-service|United-States\\r\\r\\nNever-married -- Local-gov|Black',\n       'Machine-op-inspct|Cuba\\r\\r\\nMarried-civ-spouse -- Private|White',\n       'Handlers-cleaners|United-States\\r\\r\\nMarried-civ-spouse -- Local-gov|White',\n       'Other-service|Iran\\r\\r\\nNever-married -- Private|White',\n       'Sales|South\\r\\r\\nSeparated -- Private|Asian-Pac-Islander',\n       'Machine_op_inspct|United-States\\r\\r\\nSeparated -- Private|White',\n       'Other-service|Puerto-Rico\\r\\r\\nNever-married -- Private|White',\n       'Exec-managerial|United-States\\r\\r\\nNever-married -- Self-emp-inc|White',\n       'Protective-serv|United-States\\r\\r\\nSeparated -- Local-gov|Other',\n       'Machine-op-inspct|United-States\\r\\r\\nWidowed -- Private|White',\n       'Exec-managerial|Japan\\r\\r\\nMarried-civ-spouse -- Private|Asian-Pac-Islander',\n       'Transport-moving|United-States\\r\\r\\nNever-married -- Self-emp-inc|White',\n       'Other-service|United-States\\r\\r\\nNever-married -- Local-gov|White',\n       '?|United-States\\r\\r\\nSeparated -- ?|White',\n       'Transport-moving|United-States\\r\\r\\nNever-married -- Self-emp-not-inc|White',\n       'Farming-fishing|Mexico\\r\\r\\nMarried-civ-spouse -- Private|Other',\n       'Sales|United-States\\r\\r\\nWidowed -- Private|Black',\n       'Adm-clerical|United-States\\r\\r\\nMarried-civ-spouse -- Self-emp-not-inc|White',\n       'Adm-clerical|Mexico\\r\\r\\nNever-married -- Private|White',\n       'Other-service|United-States\\r\\r\\nMarried-spouse-absent -- Private|Black',\n       'Protective_serv|United-States\\r\\r\\nMarried-civ-spouse -- State-gov|White',\n       'Handlers-cleaners|Guatemala\\r\\r\\nNever-married -- Private|White',\n       'Craft-repair|United-States\\r\\r\\nDivorced -- Self-emp-inc|White',\n       'Exec-managerial|Philippines\\r\\r\\nNever-married -- Private|Asian-Pac-Islander',\n       'Prof-specialty|United-States\\r\\r\\nMarried-civ-spouse -- Self-emp-inc|Black',\n       'Handlers-cleaners|United-States\\r\\r\\nMarried-civ-spouse -- Private|Black',\n       'Prof-specialty|United-States\\r\\r\\nNever-married -- Self-emp-not-inc|Asian-Pac-Islander',\n       'Exec-managerial|Canada\\r\\r\\nMarried-civ-spouse -- Private|White',\n       'Other-service|United-States\\r\\r\\nNever-married -- Federal-gov|Black',\n       '?|United-States\\r\\r\\nNever-married -- ?|Asian-Pac-Islander',\n       'Adm-clerical|United-States\\r\\r\\nDivorced -- Federal-gov|White',\n       'Sales|United-States\\r\\r\\nMarried-spouse-absent -- Private|Black',\n       'Sales|United-States\\r\\r\\nNever-married -- Private|Amer-Indian-Eskimo',\n       'Craft_repair|United-States\\r\\r\\nNever-married -- Private|Other',\n       'Tech-support|United-States\\r\\r\\nDivorced -- Private|White',\n       'Other-service|Vietnam\\r\\r\\nNever-married -- Private|Asian-Pac-Islander',\n       'Adm-clerical|United-States\\r\\r\\nDivorced -- Private|Black',\n       'Other-service|United-States\\r\\r\\nMarried-civ-spouse -- State-gov|White',\n       'Tech-support|United-States\\r\\r\\nMarried-civ-spouse -- Local-gov|White',\n       'Machine-op-inspct|Ireland\\r\\r\\nMarried-civ-spouse -- Private|White',\n       'Handlers-cleaners|Mexico\\r\\r\\nDivorced -- Private|White',\n       'Machine-op-inspct|United-States\\r\\r\\nMarried-civ-spouse -- Private|Asian-Pac-Islander',\n       '?|Puerto-Rico\\r\\r\\nSeparated -- ?|White',\n       'Machine-op-inspct|Guatemala\\r\\r\\nMarried-civ-spouse -- Private|White',\n       'Handlers-cleaners|United-States\\r\\r\\nDivorced -- Private|Black',\n       'Prof-specialty|Philippines\\r\\r\\nMarried-civ-spouse -- Private|Asian-Pac-Islander',\n       'Exec-managerial|United-States\\r\\r\\nNever-married -- Local-gov|Amer-Indian-Eskimo',\n       'Other-service|United-States\\r\\r\\nSeparated -- Private|Black',\n       'Other-service|?\\r\\r\\nNever-married -- Private|Other',\n       'Prof-specialty|?\\r\\r\\nMarried-civ-spouse -- Self-emp-inc|White',\n       'Other-service|United-States\\r\\r\\nMarried-civ-spouse -- Private|Asian-Pac-Islander',\n       'Protective-serv|Canada\\r\\r\\nMarried-civ-spouse -- Private|White',\n       'Prof-specialty|?\\r\\r\\nNever-married -- State-gov|White',\n       'Machine-op-inspct|Dominican-Republic\\r\\r\\nSeparated -- Private|White',\n       '?|United-States\\r\\r\\nMarried-spouse-absent -- ?|White',\n       'Craft-repair|United-States\\r\\r\\nMarried-civ-spouse -- Federal-gov|White',\n       'Prof-specialty|United-States\\r\\r\\nNever-married -- Private|Amer-Indian-Eskimo',\n       'Adm_clerical|United-States\\r\\r\\nNever-married -- State-gov|White',\n       'Exec-managerial|United-States\\r\\r\\nWidowed -- Federal-gov|White',\n       'Exec_managerial|United-States\\r\\r\\nDivorced -- Private|White',\n       '?|Canada\\r\\r\\nNever-married -- ?|White',\n       'Adm-clerical|?\\r\\r\\nNever-married -- State-gov|Asian-Pac-Islander',\n       'Handlers-cleaners|Poland\\r\\r\\nNever-married -- Private|White',\n       'Transport-moving|United-States\\r\\r\\nWidowed -- Private|Black',\n       'Transport_moving|United-States\\r\\r\\nMarried-civ-spouse -- Local-gov|White',\n       'Adm_clerical|United-States\\r\\r\\nMarried-spouse-absent -- Private|White',\n       'Exec-managerial|Canada\\r\\r\\nNever-married -- Private|White',\n       'Priv-house-serv|United-States\\r\\r\\nNever-married -- Private|White',\n       'Prof-specialty|United-States\\r\\r\\nMarried-civ-spouse -- Private|Amer-Indian-Eskimo',\n       'Other-service|United-States\\r\\r\\nMarried-civ-spouse -- Local-gov|White',\n       'Prof-specialty|?\\r\\r\\nWidowed -- Private|White',\n       'Exec-managerial|United-States\\r\\r\\nNever-married -- Federal-gov|Black',\n       'Adm-clerical|United-States\\r\\r\\nNever-married -- Private|Asian-Pac-Islander',\n       'Handlers-cleaners|United-States\\r\\r\\nNever-married -- Self-emp-not-inc|Black',\n       'Other-service|?\\r\\r\\nNever-married -- Private|White',\n       'Prof-specialty|United-States\\r\\r\\nDivorced -- Local-gov|Amer-Indian-Eskimo',\n       'Adm-clerical|Germany\\r\\r\\nWidowed -- Private|White',\n       'Prof_specialty|United-States\\r\\r\\nMarried-civ-spouse -- Federal-gov|White',\n       'Farming-fishing|United-States\\r\\r\\nMarried-spouse-absent -- State-gov|White',\n       'Protective-serv|United-States\\r\\r\\nMarried-civ-spouse -- Self-emp-not-inc|White',\n       'Transport-moving|United-States\\r\\r\\nNever-married -- State-gov|White',\n       'Sales|Puerto-Rico\\r\\r\\nNever-married -- Private|Other',\n       'Prof-specialty|United-States\\r\\r\\nMarried-civ-spouse -- Self-emp-not-inc|Black',\n       'Other-service|United-States\\r\\r\\nMarried-spouse-absent -- Private|White',\n       'Prof-specialty|England\\r\\r\\nMarried-civ-spouse -- Private|White',\n       'Prof-specialty|Iran\\r\\r\\nMarried-civ-spouse -- Private|White',\n       'Machine_op_inspct|United-States\\r\\r\\nDivorced -- Private|Black',\n       'Sales|Germany\\r\\r\\nDivorced -- Self-emp-inc|White',\n       'Farming-fishing|United-States\\r\\r\\nWidowed -- Self-emp-not-inc|White',\n       'Protective-serv|United-States\\r\\r\\nDivorced -- Private|White',\n       'Exec_managerial|United-States\\r\\r\\nNever-married -- Private|Black',\n       'Exec-managerial|South\\r\\r\\nDivorced -- Self-emp-not-inc|Asian-Pac-Islander',\n       'Other-service|Mexico\\r\\r\\nMarried-civ-spouse -- Private|White',\n       'Machine-op-inspct|Laos\\r\\r\\nMarried-civ-spouse -- Private|Asian-Pac-Islander',\n       'Farming-fishing|United-States\\r\\r\\nNever-married -- Self-emp-inc|White',\n       'Adm_clerical|United-States\\r\\r\\nDivorced -- Private|White',\n       'Sales|Columbia\\r\\r\\nMarried-civ-spouse -- Private|White',\n       'Adm-clerical|Vietnam\\r\\r\\nNever-married -- Private|Asian-Pac-Islander',\n       'Prof-specialty|United-States\\r\\r\\nWidowed -- Self-emp-inc|White',\n       'Farming-fishing|Germany\\r\\r\\nMarried-civ-spouse -- Private|White',\n       'Transport-moving|Puerto-Rico\\r\\r\\nMarried-civ-spouse -- Private|White',\n       'Farming-fishing|United-States\\r\\r\\nMarried-civ-spouse -- State-gov|White',\n       'Adm_clerical|United-States\\r\\r\\nNever-married -- Private|Other',\n       'Exec-managerial|England\\r\\r\\nDivorced -- Private|White',\n       'Transport-moving|Mexico\\r\\r\\nMarried-civ-spouse -- Private|White',\n       '?|United-States\\r\\r\\nWidowed -- ?|Black',\n       'Craft-repair|Guatemala\\r\\r\\nMarried-civ-spouse -- Private|White',\n       'Handlers-cleaners|United-States\\r\\r\\nDivorced -- Local-gov|White',\n       'Farming-fishing|United-States\\r\\r\\nSeparated -- Private|White',\n       'Handlers-cleaners|United-States\\r\\r\\nNever-married -- Private|Other',\n       'Tech_support|United-States\\r\\r\\nNever-married -- Private|White',\n       'Other-service|Greece\\r\\r\\nMarried-civ-spouse -- Private|White',\n       'Other-service|United-States\\r\\r\\nDivorced -- State-gov|Asian-Pac-Islander',\n       'Adm-clerical|United-States\\r\\r\\nMarried-AF-spouse -- State-gov|White',\n       'Craft_repair|?\\r\\r\\nMarried-civ-spouse -- Private|White',\n       'Protective-serv|United-States\\r\\r\\nNever-married -- State-gov|White',\n       'Protective-serv|United-States\\r\\r\\nMarried-civ-spouse -- Private|White',\n       'Handlers-cleaners|United-States\\r\\r\\nNever-married -- Federal-gov|Amer-Indian-Eskimo',\n       'Other-service|?\\r\\r\\nWidowed -- Private|White',\n       'Priv-house-serv|Mexico\\r\\r\\nNever-married -- Private|White',\n       'Adm-clerical|United-States\\r\\r\\nNever-married -- Self-emp-inc|White',\n       'Other_service|Mexico\\r\\r\\nNever-married -- Private|White',\n       'Adm-clerical|India\\r\\r\\nMarried-civ-spouse -- State-gov|White',\n       'Farming-fishing|United-States\\r\\r\\nMarried-civ-spouse -- Local-gov|White',\n       'Adm-clerical|United-States\\r\\r\\nNever-married -- Local-gov|White',\n       'Protective-serv|United-States\\r\\r\\nMarried-civ-spouse -- Private|Black',\n       'Sales|Puerto-Rico\\r\\r\\nMarried-civ-spouse -- Private|Other',\n       'Other-service|El-Salvador\\r\\r\\nNever-married -- Private|White',\n       'Handlers-cleaners|Ireland\\r\\r\\nDivorced -- Private|White',\n       'Exec-managerial|Greece\\r\\r\\nMarried-civ-spouse -- Self-emp-inc|White',\n       'Exec_managerial|United-States\\r\\r\\nNever-married -- Federal-gov|White',\n       'Handlers-cleaners|United-States\\r\\r\\nDivorced -- Local-gov|Black',\n       'Sales|United-States\\r\\r\\nWidowed -- Self-emp-inc|White',\n       '?|Philippines\\r\\r\\nNever-married -- ?|Asian-Pac-Islander',\n       'Farming-fishing|United-States\\r\\r\\nDivorced -- Local-gov|Asian-Pac-Islander',\n       'Sales|England\\r\\r\\nNever-married -- Private|White',\n       'Protective-serv|United-States\\r\\r\\nMarried-civ-spouse -- Federal-gov|Black',\n       'Tech-support|United-States\\r\\r\\nMarried-civ-spouse -- Private|Black',\n       'Farming-fishing|Ireland\\r\\r\\nNever-married -- Private|White',\n       'Adm-clerical|United-States\\r\\r\\nWidowed -- Private|Black',\n       'Craft-repair|Mexico\\r\\r\\nMarried-civ-spouse -- Private|Other',\n       'Prof-specialty|United-States\\r\\r\\nNever-married -- Local-gov|Black',\n       'Prof-specialty|England\\r\\r\\nMarried-civ-spouse -- Self-emp-not-inc|White',\n       'Exec-managerial|United-States\\r\\r\\nMarried-civ-spouse -- Self-emp-not-inc|Amer-Indian-Eskimo',\n       'Tech-support|United-States\\r\\r\\nNever-married -- State-gov|White',\n       'Handlers-cleaners|United-States\\r\\r\\nMarried-spouse-absent -- Private|White',\n       'Machine-op-inspct|United-States\\r\\r\\nNever-married -- Federal-gov|White',\n       'Machine-op-inspct|?\\r\\r\\nMarried-civ-spouse -- Private|Black',\n       'Exec-managerial|United-States\\r\\r\\nMarried-civ-spouse -- Private|Asian-Pac-Islander',\n       'Adm-clerical|Canada\\r\\r\\nMarried-civ-spouse -- Private|White',\n       'Priv-house-serv|United-States\\r\\r\\nDivorced -- Private|Black',\n       'Craft-repair|United-States\\r\\r\\nDivorced -- Local-gov|White',\n       'Exec-managerial|Cuba\\r\\r\\nNever-married -- Private|Other',\n       '?|United-States\\r\\r\\nNever-married -- ?|Other',\n       'Prof-specialty|United-States\\r\\r\\nNever-married -- Local-gov|Amer-Indian-Eskimo',\n       'Prof-specialty|United-States\\r\\r\\nMarried-civ-spouse -- Private|Black',\n       'Tech-support|United-States\\r\\r\\nNever-married -- Local-gov|White',\n       'Transport_moving|United-States\\r\\r\\nMarried-civ-spouse -- Self-emp-not-inc|White',\n       'Craft_repair|United-States\\r\\r\\nDivorced -- Local-gov|White',\n       'Sales|United-States\\r\\r\\nWidowed -- Self-emp-inc|Asian-Pac-Islander',\n       'Prof-specialty|United-States\\r\\r\\nDivorced -- State-gov|White',\n       'Craft-repair|United-States\\r\\r\\nMarried-civ-spouse -- Local-gov|Black',\n       'Prof-specialty|United-States\\r\\r\\nMarried-spouse-absent -- Private|White',\n       'Exec-managerial|United-States\\r\\r\\nNever-married -- Local-gov|White',\n       'Other-service|?\\r\\r\\nMarried-civ-spouse -- Private|Asian-Pac-Islander',\n       'Machine-op-inspct|Puerto-Rico\\r\\r\\nNever-married -- Private|White',\n       'Machine-op-inspct|Mexico\\r\\r\\nMarried-civ-spouse -- Private|Other',\n       'Protective-serv|United-States\\r\\r\\nDivorced -- Local-gov|Asian-Pac-Islander',\n       'Machine_op_inspct|Mexico\\r\\r\\nMarried-civ-spouse -- Private|Other',\n       'Sales|El-Salvador\\r\\r\\nMarried-civ-spouse -- Private|White',\n       'Machine-op-inspct|United-States\\r\\r\\nDivorced -- Federal-gov|White',\n       'Exec-managerial|United-States\\r\\r\\nNever-married -- Self-emp-not-inc|White',\n       'Machine-op-inspct|England\\r\\r\\nMarried-civ-spouse -- Private|White',\n       'Craft-repair|United-States\\r\\r\\nMarried-civ-spouse -- Private|Amer-Indian-Eskimo',\n       'Tech-support|Canada\\r\\r\\nNever-married -- Private|White',\n       'Other-service|El-Salvador\\r\\r\\nWidowed -- Self-emp-not-inc|White',\n       'Armed-Forces|United-States\\r\\r\\nNever-married -- Federal-gov|White',\n       'Handlers_cleaners|Mexico\\r\\r\\nMarried-civ-spouse -- Private|White',\n       'Adm-clerical|United-States\\r\\r\\nWidowed -- Local-gov|White',\n       'Prof-specialty|United-States\\r\\r\\nMarried-AF-spouse -- Federal-gov|White',\n       'Prof-specialty|United-States\\r\\r\\nSeparated -- State-gov|White',\n       'Prof-specialty|France\\r\\r\\nDivorced -- Local-gov|White',\n       '?|?\\r\\r\\nNever-married -- ?|Black',\n       'Prof-specialty|India\\r\\r\\nMarried-civ-spouse -- Self-emp-inc|Asian-Pac-Islander',\n       'Prof-specialty|Germany\\r\\r\\nMarried-civ-spouse -- Private|White',\n       'Craft-repair|Portugal\\r\\r\\nMarried-civ-spouse -- Private|White',\n       'Other-service|United-States\\r\\r\\nNever-married -- State-gov|Black',\n       'Prof-specialty|Philippines\\r\\r\\nMarried-civ-spouse -- Federal-gov|White',\n       'Sales|United-States\\r\\r\\nNever-married -- State-gov|Black',\n       'Machine-op-inspct|Cambodia\\r\\r\\nMarried-civ-spouse -- Private|Asian-Pac-Islander',\n       '?|Mexico\\r\\r\\nMarried-civ-spouse -- ?|White',\n       'Protective-serv|England\\r\\r\\nMarried-civ-spouse -- Private|Black',\n       'Machine-op-inspct|?\\r\\r\\nMarried-spouse-absent -- Private|White',\n       'Prof-specialty|United-States\\r\\r\\nSeparated -- Self-emp-not-inc|White',\n       'Exec-managerial|?\\r\\r\\nMarried-civ-spouse -- Self-emp-inc|White',\n       'Prof-specialty|United-States\\r\\r\\nMarried-civ-spouse -- Local-gov|Black',\n       '?|United-States\\r\\r\\nSeparated -- ?|Black',\n       'Prof_specialty|United-States\\r\\r\\nDivorced -- State-gov|Black',\n       'Transport-moving|Jamaica\\r\\r\\nNever-married -- Private|Black',\n       'Tech-support|United-States\\r\\r\\nSeparated -- Self-emp-not-inc|White',\n       'Adm-clerical|Vietnam\\r\\r\\nMarried-civ-spouse -- State-gov|Asian-Pac-Islander',\n       'Other-service|United-States\\r\\r\\nMarried-AF-spouse -- Private|White',\n       'Transport-moving|United-States\\r\\r\\nMarried-civ-spouse -- Private|Asian-Pac-Islander',\n       'Machine-op-inspct|United-States\\r\\r\\nSeparated -- Private|White',\n       'Adm-clerical|United-States\\r\\r\\nSeparated -- Federal-gov|Black',\n       'Transport_moving|United-States\\r\\r\\nMarried-civ-spouse -- Local-gov|Black',\n       'Handlers-cleaners|United-States\\r\\r\\nWidowed -- Private|White',\n       'Exec-managerial|United-States\\r\\r\\nMarried-civ-spouse -- Self-emp-inc|Black',\n       'Craft-repair|Canada\\r\\r\\nMarried-civ-spouse -- Private|White',\n       'Machine-op-inspct|Dominican-Republic\\r\\r\\nMarried-civ-spouse -- Private|Black',\n       'Exec-managerial|Puerto-Rico\\r\\r\\nMarried-civ-spouse -- Private|Other',\n       'Prof-specialty|India\\r\\r\\nNever-married -- State-gov|Asian-Pac-Islander',\n       'Machine-op-inspct|Philippines\\r\\r\\nDivorced -- Private|Asian-Pac-Islander',\n       'Machine-op-inspct|Canada\\r\\r\\nNever-married -- Private|White',\n       'Other_service|United-States\\r\\r\\nDivorced -- Private|Amer-Indian-Eskimo',\n       'Protective-serv|United-States\\r\\r\\nNever-married -- Local-gov|Black',\n       'Exec_managerial|United-States\\r\\r\\nMarried-civ-spouse -- Federal-gov|White',\n       'Adm-clerical|United-States\\r\\r\\nMarried-civ-spouse -- Local-gov|Black',\n       'Adm_clerical|United-States\\r\\r\\nMarried-civ-spouse -- State-gov|White',\n       'Tech_support|Vietnam\\r\\r\\nNever-married -- Private|Asian-Pac-Islander',\n       'Machine-op-inspct|?\\r\\r\\nMarried-spouse-absent -- Private|Asian-Pac-Islander',\n       'Prof-specialty|United-States\\r\\r\\nSeparated -- Private|Amer-Indian-Eskimo',\n       'Machine_op_inspct|United-States\\r\\r\\nDivorced -- Private|Amer-Indian-Eskimo',\n       'Transport-moving|United-States\\r\\r\\nNever-married -- Private|Amer-Indian-Eskimo',\n       'Farming-fishing|United-States\\r\\r\\nNever-married -- State-gov|White',\n       'Prof-specialty|India\\r\\r\\nMarried-civ-spouse -- Self-emp-not-inc|Asian-Pac-Islander',\n       'Machine-op-inspct|Mexico\\r\\r\\nNever-married -- Private|White',\n       'Prof-specialty|?\\r\\r\\nNever-married -- Private|White',\n       'Prof-specialty|Taiwan\\r\\r\\nMarried-civ-spouse -- State-gov|Asian-Pac-Islander',\n       'Prof-specialty|?\\r\\r\\nMarried-civ-spouse -- Private|Asian-Pac-Islander',\n       'Sales|Puerto-Rico\\r\\r\\nMarried-civ-spouse -- Private|White',\n       'Other_service|United-States\\r\\r\\nNever-married -- Local-gov|Black',\n       'Exec_managerial|United-States\\r\\r\\nMarried-civ-spouse -- Self-emp-inc|White',\n       '?|Taiwan\\r\\r\\nNever-married -- ?|Asian-Pac-Islander',\n       'Prof_specialty|United-States\\r\\r\\nNever-married -- Federal-gov|White',\n       'Adm_clerical|United-States\\r\\r\\nDivorced -- Local-gov|White',\n       'Craft-repair|United-States\\r\\r\\nDivorced -- Federal-gov|Black',\n       'Exec-managerial|China\\r\\r\\nMarried-civ-spouse -- Private|Asian-Pac-Islander',\n       'Adm_clerical|United-States\\r\\r\\nDivorced -- Local-gov|Black',\n       'Tech-support|United-States\\r\\r\\nDivorced -- State-gov|White',\n       'Adm-clerical|Jamaica\\r\\r\\nMarried-civ-spouse -- Private|Black',\n       'Prof-specialty|United-States\\r\\r\\nSeparated -- Local-gov|White',\n       'Prof-specialty|Ireland\\r\\r\\nNever-married -- Private|Asian-Pac-Islander',\n       'Machine-op-inspct|India\\r\\r\\nNever-married -- Private|White',\n       'Prof-specialty|India\\r\\r\\nNever-married -- Private|Asian-Pac-Islander',\n       'Machine-op-inspct|United-States\\r\\r\\nDivorced -- Private|Black',\n       'Other-service|Philippines\\r\\r\\nMarried-civ-spouse -- Local-gov|Asian-Pac-Islander',\n       'Handlers-cleaners|Philippines\\r\\r\\nNever-married -- Private|Asian-Pac-Islander',\n       'Farming_fishing|Mexico\\r\\r\\nNever-married -- Private|Black',\n       'Prof-specialty|Jamaica\\r\\r\\nSeparated -- Private|Black',\n       '?|South\\r\\r\\nNever-married -- ?|Asian-Pac-Islander',\n       'Other-service|?\\r\\r\\nMarried-civ-spouse -- Private|White',\n       'Prof_specialty|Cuba\\r\\r\\nMarried-civ-spouse -- Self-emp-inc|White',\n       'Handlers-cleaners|El-Salvador\\r\\r\\nSeparated -- Private|White',\n       'Sales|?\\r\\r\\nNever-married -- Self-emp-not-inc|White',\n       'Priv-house-serv|Cuba\\r\\r\\nDivorced -- Private|White',\n       'Farming-fishing|Mexico\\r\\r\\nNever-married -- Private|White',\n       'Prof-specialty|?\\r\\r\\nMarried-civ-spouse -- Federal-gov|White',\n       'Craft-repair|United-States\\r\\r\\nMarried-civ-spouse -- State-gov|White',\n       'Adm-clerical|United-States\\r\\r\\nNever-married -- State-gov|Black',\n       'Priv_house_serv|Guatemala\\r\\r\\nNever-married -- Private|Other',\n       'Protective-serv|United-States\\r\\r\\nNever-married -- Private|Black',\n       'Exec-managerial|United-States\\r\\r\\nMarried-civ-spouse -- Local-gov|Black',\n       'Protective-serv|United-States\\r\\r\\nNever-married -- State-gov|Black',\n       'Sales|Dominican-Republic\\r\\r\\nMarried-civ-spouse -- Private|Other',\n       'Prof-specialty|India\\r\\r\\nMarried-civ-spouse -- Federal-gov|White',\n       'Exec-managerial|?\\r\\r\\nMarried-civ-spouse -- Self-emp-not-inc|Asian-Pac-Islander',\n       'Sales|United-States\\r\\r\\nDivorced -- Self-emp-inc|White',\n       'Sales|United-States\\r\\r\\nNever-married -- Private|Other',\n       'Sales|Italy\\r\\r\\nSeparated -- Private|White',\n       'Handlers-cleaners|United-States\\r\\r\\nNever-married -- State-gov|White',\n       'Priv-house-serv|United-States\\r\\r\\nNever-married -- Private|Black',\n       'Other-service|United-States\\r\\r\\nDivorced -- Private|Asian-Pac-Islander',\n       'Tech-support|United-States\\r\\r\\nDivorced -- Federal-gov|White',\n       'Sales|United-States\\r\\r\\nMarried-civ-spouse -- Self-emp-inc|Black',\n       'Craft-repair|Mexico\\r\\r\\nNever-married -- Private|White',\n       'Other_service|United-States\\r\\r\\nSeparated -- Private|White',\n       '?|Scotland\\r\\r\\nMarried-civ-spouse -- ?|White',\n       'Adm-clerical|Germany\\r\\r\\nDivorced -- Private|White',\n       'Priv-house-serv|United-States\\r\\r\\nSeparated -- Private|White',\n       'Exec_managerial|United-States\\r\\r\\nNever-married -- Self-emp-inc|White',\n       'Machine-op-inspct|United-States\\r\\r\\nWidowed -- Private|Black',\n       'Handlers_cleaners|United-States\\r\\r\\nDivorced -- Private|White',\n       'Craft-repair|United-States\\r\\r\\nNever-married -- Local-gov|Black',\n       'Other-service|United-States\\r\\r\\nWidowed -- Federal-gov|Black',\n       'Craft-repair|United-States\\r\\r\\nWidowed -- Self-emp-not-inc|White',\n       'Other-service|United-States\\r\\r\\nSeparated -- Local-gov|White',\n       'Adm-clerical|United-States\\r\\r\\nMarried-civ-spouse -- Private|Amer-Indian-Eskimo',\n       'Adm_clerical|Germany\\r\\r\\nMarried-civ-spouse -- Local-gov|White',\n       'Other-service|China\\r\\r\\nMarried-spouse-absent -- Private|Asian-Pac-Islander',\n       'Prof-specialty|Hong\\r\\r\\nMarried-civ-spouse -- Private|Asian-Pac-Islander',\n       'Exec-managerial|United-States\\r\\r\\nSeparated -- Private|Black',\n       'Exec-managerial|United-States\\r\\r\\nNever-married -- State-gov|White',\n       'Protective_serv|United-States\\r\\r\\nNever-married -- Local-gov|White',\n       'Farming-fishing|Cuba\\r\\r\\nMarried-civ-spouse -- Self-emp-not-inc|White',\n       'Craft-repair|Canada\\r\\r\\nMarried-civ-spouse -- Self-emp-inc|White',\n       'Tech_support|United-States\\r\\r\\nNever-married -- State-gov|White',\n       'Prof-specialty|United-States\\r\\r\\nMarried-spouse-absent -- Local-gov|White',\n       'Transport-moving|United-States\\r\\r\\nSeparated -- Private|Black',\n       'Craft-repair|Dominican-Republic\\r\\r\\nMarried-civ-spouse -- Private|White',\n       'Craft-repair|United-States\\r\\r\\nDivorced -- Private|Black',\n       'Other-service|El-Salvador\\r\\r\\nMarried-civ-spouse -- Private|White',\n       'Prof-specialty|India\\r\\r\\nMarried-civ-spouse -- State-gov|Asian-Pac-Islander',\n       'Sales|United-States\\r\\r\\nSeparated -- Private|Black',\n       'Exec-managerial|Cuba\\r\\r\\nNever-married -- Self-emp-inc|White',\n       'Adm-clerical|United-States\\r\\r\\nNever-married -- Local-gov|Black',\n       'Farming-fishing|United-States\\r\\r\\nMarried-civ-spouse -- Private|Amer-Indian-Eskimo',\n       'Adm-clerical|United-States\\r\\r\\nSeparated -- Local-gov|White',\n       'Exec_managerial|United-States\\r\\r\\nDivorced -- State-gov|White',\n       'Other-service|France\\r\\r\\nDivorced -- Private|White',\n       'Transport-moving|United-States\\r\\r\\nDivorced -- State-gov|White',\n       '?|?\\r\\r\\nMarried-spouse-absent -- ?|White',\n       'Exec-managerial|United-States\\r\\r\\nNever-married -- Private|Asian-Pac-Islander',\n       'Exec_managerial|United-States\\r\\r\\nDivorced -- Local-gov|Black',\n       'Sales|?\\r\\r\\nMarried-civ-spouse -- Self-emp-not-inc|Other',\n       'Adm-clerical|United-States\\r\\r\\nWidowed -- Self-emp-not-inc|White',\n       'Exec-managerial|United-States\\r\\r\\nNever-married -- Self-emp-inc|Black',\n       'Handlers_cleaners|United-States\\r\\r\\nNever-married -- Private|Black',\n       'Other-service|England\\r\\r\\nMarried-civ-spouse -- Private|White',\n       'Other_service|United-States\\r\\r\\nDivorced -- Private|White',\n       'Sales|United-States\\r\\r\\nSeparated -- Self-emp-inc|White',\n       'Adm_clerical|United-States\\r\\r\\nSeparated -- Private|White',\n       'Craft_repair|United-States\\r\\r\\nMarried-civ-spouse -- Local-gov|White',\n       'Sales|Japan\\r\\r\\nDivorced -- Private|Asian-Pac-Islander',\n       'Sales|Jamaica\\r\\r\\nNever-married -- Private|White',\n       'Other-service|United-States\\r\\r\\nMarried-civ-spouse -- Private|Other',\n       'Exec_managerial|Germany\\r\\r\\nDivorced -- Private|White',\n       'Tech-support|United-States\\r\\r\\nDivorced -- Local-gov|Black',\n       'Prof-specialty|?\\r\\r\\nNever-married -- Self-emp-not-inc|White',\n       'Craft-repair|India\\r\\r\\nMarried-civ-spouse -- Private|Asian-Pac-Islander',\n       'Craft-repair|Puerto-Rico\\r\\r\\nDivorced -- Private|White',\n       'Craft-repair|United-States\\r\\r\\nNever-married -- Local-gov|White',\n       'Prof_specialty|United-States\\r\\r\\nNever-married -- Federal-gov|Amer-Indian-Eskimo',\n       'Machine-op-inspct|Cambodia\\r\\r\\nNever-married -- Private|Asian-Pac-Islander',\n       'Prof-specialty|Taiwan\\r\\r\\nMarried-civ-spouse -- Self-emp-inc|Asian-Pac-Islander',\n       'Exec-managerial|United-States\\r\\r\\nMarried-civ-spouse -- Local-gov|Amer-Indian-Eskimo',\n       'Other-service|United-States\\r\\r\\nWidowed -- Self-emp-not-inc|White',\n       '?|United-States\\r\\r\\nWidowed -- ?|Amer-Indian-Eskimo',\n       'Prof_specialty|United-States\\r\\r\\nNever-married -- State-gov|Black',\n       'Other-service|United-States\\r\\r\\nDivorced -- Federal-gov|Black',\n       'Priv_house_serv|United-States\\r\\r\\nNever-married -- Private|White',\n       'Adm-clerical|Honduras\\r\\r\\nDivorced -- Local-gov|White',\n       'Farming-fishing|?\\r\\r\\nNever-married -- Private|White',\n       'Transport-moving|United-States\\r\\r\\nMarried-civ-spouse -- Private|Amer-Indian-Eskimo',\n       'Exec-managerial|Taiwan\\r\\r\\nMarried-civ-spouse -- Self-emp-inc|Asian-Pac-Islander',\n       'Exec-managerial|United-States\\r\\r\\nMarried-spouse-absent -- Self-emp-not-inc|White',\n       'Other-service|Poland\\r\\r\\nMarried-civ-spouse -- Private|White',\n       'Exec-managerial|Ecuador\\r\\r\\nMarried-civ-spouse -- Private|White',\n       'Other-service|Cuba\\r\\r\\nMarried-civ-spouse -- Private|White',\n       'Other-service|Philippines\\r\\r\\nNever-married -- Private|Asian-Pac-Islander',\n       'Machine-op-inspct|?\\r\\r\\nMarried-civ-spouse -- Private|White',\n       'Tech_support|United-States\\r\\r\\nSeparated -- Private|White',\n       'Machine_op_inspct|United-States\\r\\r\\nNever-married -- Self-emp-not-inc|White',\n       'Sales|Mexico\\r\\r\\nMarried-civ-spouse -- Private|White',\n       'Priv-house-serv|United-States\\r\\r\\nWidowed -- Private|White',\n       'Craft-repair|England\\r\\r\\nMarried-civ-spouse -- Private|White',\n       'Handlers-cleaners|United-States\\r\\r\\nNever-married -- Local-gov|Asian-Pac-Islander',\n       'Tech-support|United-States\\r\\r\\nNever-married -- Private|Black',\n       'Protective_serv|United-States\\r\\r\\nDivorced -- Local-gov|White',\n       'Other-service|Haiti\\r\\r\\nNever-married -- Private|Black',\n       'Prof_specialty|United-States\\r\\r\\nNever-married -- Self-emp-not-inc|Black',\n       'Machine-op-inspct|Puerto-Rico\\r\\r\\nNever-married -- Private|Amer-Indian-Eskimo',\n       'Prof-specialty|England\\r\\r\\nMarried-civ-spouse -- State-gov|White',\n       'Farming-fishing|United-States\\r\\r\\nDivorced -- Private|Black',\n       'Adm-clerical|Cuba\\r\\r\\nMarried-civ-spouse -- Private|White',\n       'Other-service|United-States\\r\\r\\nNever-married -- Private|Amer-Indian-Eskimo',\n       'Handlers-cleaners|Portugal\\r\\r\\nMarried-civ-spouse -- Private|White',\n       'Adm-clerical|United-States\\r\\r\\nDivorced -- State-gov|Black',\n       'Farming-fishing|United-States\\r\\r\\nDivorced -- Self-emp-not-inc|White',\n       'Craft_repair|Dominican-Republic\\r\\r\\nMarried-spouse-absent -- Private|Black',\n       'Exec-managerial|United-States\\r\\r\\nNever-married -- Self-emp-not-inc|Black',\n       'Adm-clerical|Vietnam\\r\\r\\nMarried-civ-spouse -- Private|Asian-Pac-Islander',\n       'Farming-fishing|Canada\\r\\r\\nMarried-civ-spouse -- Private|White',\n       'Other-service|Philippines\\r\\r\\nMarried-spouse-absent -- Private|Asian-Pac-Islander',\n       '?|United-States\\r\\r\\nMarried-spouse-absent -- ?|Black',\n       'Craft-repair|United-States\\r\\r\\nSeparated -- Private|Black',\n       'Other-service|United-States\\r\\r\\nSeparated -- Self-emp-not-inc|Black',\n       'Prof-specialty|Philippines\\r\\r\\nMarried-spouse-absent -- Private|Asian-Pac-Islander',\n       'Exec-managerial|United-States\\r\\r\\nDivorced -- Federal-gov|White',\n       'Sales|Honduras\\r\\r\\nSeparated -- Self-emp-inc|White',\n       'Other-service|Italy\\r\\r\\nSeparated -- Private|White',\n       'Exec-managerial|Italy\\r\\r\\nMarried-civ-spouse -- Private|White',\n       'Tech-support|United-States\\r\\r\\nDivorced -- Federal-gov|Black',\n       'Prof-specialty|Taiwan\\r\\r\\nMarried-civ-spouse -- Private|Asian-Pac-Islander',\n       'Tech-support|United-States\\r\\r\\nMarried-civ-spouse -- State-gov|White',\n       'Protective-serv|United-States\\r\\r\\nSeparated -- Private|Black',\n       'Handlers-cleaners|United-States\\r\\r\\nNever-married -- Private|Asian-Pac-Islander',\n       'Priv-house-serv|?\\r\\r\\nNever-married -- Private|Black',\n       'Sales|Peru\\r\\r\\nNever-married -- Private|White',\n       'Transport_moving|United-States\\r\\r\\nNever-married -- Self-emp-not-inc|White',\n       'Farming_fishing|Mexico\\r\\r\\nMarried-spouse-absent -- Private|White',\n       'Sales|Columbia\\r\\r\\nNever-married -- Private|White',\n       'Prof_specialty|United-States\\r\\r\\nNever-married -- State-gov|White',\n       'Craft-repair|?\\r\\r\\nMarried-civ-spouse -- Self-emp-inc|White',\n       'Handlers-cleaners|Dominican-Republic\\r\\r\\nMarried-spouse-absent -- Private|White',\n       'Exec_managerial|Taiwan\\r\\r\\nMarried-civ-spouse -- Self-emp-inc|Asian-Pac-Islander',\n       'Craft-repair|Puerto-Rico\\r\\r\\nMarried-civ-spouse -- Private|White',\n       'Craft-repair|United-States\\r\\r\\nSeparated -- Private|Other',\n       'Machine-op-inspct|Puerto-Rico\\r\\r\\nMarried-civ-spouse -- Private|Other',\n       'Prof-specialty|?\\r\\r\\nMarried-civ-spouse -- Private|White',\n       'Tech-support|Mexico\\r\\r\\nMarried-civ-spouse -- Private|White',\n       'Farming-fishing|Mexico\\r\\r\\nMarried-spouse-absent -- Private|Other',\n       'Prof-specialty|United-States\\r\\r\\nMarried-civ-spouse -- Self-emp-not-inc|Asian-Pac-Islander',\n       'Handlers-cleaners|United-States\\r\\r\\nWidowed -- Local-gov|Black',\n       'Farming_fishing|Mexico\\r\\r\\nSeparated -- Private|White',\n       'Other-service|Mexico\\r\\r\\nMarried-civ-spouse -- Local-gov|White',\n       'Sales|?\\r\\r\\nMarried-civ-spouse -- Private|Other',\n       'Farming-fishing|Mexico\\r\\r\\nNever-married -- Private|Other',\n       'Adm-clerical|Laos\\r\\r\\nNever-married -- Private|Asian-Pac-Islander',\n       'Machine-op-inspct|Dominican-Republic\\r\\r\\nMarried-spouse-absent -- Private|Other',\n       'Craft-repair|Germany\\r\\r\\nMarried-civ-spouse -- Private|White',\n       'Prof-specialty|Mexico\\r\\r\\nNever-married -- Local-gov|White',\n       'Craft-repair|United-States\\r\\r\\nWidowed -- Private|White',\n       'Craft-repair|Hong\\r\\r\\nNever-married -- Private|Asian-Pac-Islander',\n       'Other-service|United-States\\r\\r\\nDivorced -- State-gov|White',\n       'Adm-clerical|Cuba\\r\\r\\nNever-married -- Private|White',\n       'Craft-repair|Vietnam\\r\\r\\nNever-married -- Private|Asian-Pac-Islander',\n       'Craft-repair|Poland\\r\\r\\nMarried-civ-spouse -- Private|White',\n       'Adm-clerical|United-States\\r\\r\\nSeparated -- Private|Asian-Pac-Islander',\n       'Farming-fishing|United-States\\r\\r\\nMarried-spouse-absent -- Private|Black',\n       'Protective-serv|United-States\\r\\r\\nNever-married -- Federal-gov|Black',\n       'Other-service|Trinadad&Tobago\\r\\r\\nNever-married -- Self-emp-not-inc|Black',\n       'Machine-op-inspct|United-States\\r\\r\\nMarried-civ-spouse -- Federal-gov|White',\n       'Prof_specialty|India\\r\\r\\nNever-married -- Private|Other',\n       'Exec_managerial|United-States\\r\\r\\nMarried-civ-spouse -- State-gov|White',\n       'Sales|Mexico\\r\\r\\nMarried-civ-spouse -- Self-emp-inc|White',\n       'Other-service|United-States\\r\\r\\nNever-married -- Self-emp-inc|White',\n       'Prof-specialty|Italy\\r\\r\\nMarried-civ-spouse -- Private|White',\n       'Exec-managerial|United-States\\r\\r\\nDivorced -- Federal-gov|Black',\n       'Machine-op-inspct|United-States\\r\\r\\nMarried-civ-spouse -- Without-pay|White',\n       'Craft-repair|Japan\\r\\r\\nMarried-civ-spouse -- Private|Asian-Pac-Islander',\n       'Prof_specialty|United-States\\r\\r\\nMarried-civ-spouse -- Self-emp-inc|White',\n       'Other-service|United-States\\r\\r\\nSeparated -- Federal-gov|Black',\n       'Adm-clerical|United-States\\r\\r\\nMarried-spouse-absent -- Federal-gov|Black',\n       'Farming-fishing|United-States\\r\\r\\nMarried-civ-spouse -- Federal-gov|Black',\n       'Prof-specialty|Canada\\r\\r\\nSeparated -- Self-emp-not-inc|White',\n       'Craft_repair|Mexico\\r\\r\\nMarried-civ-spouse -- Private|White',\n       'Other-service|Germany\\r\\r\\nNever-married -- Private|White',\n       'Prof-specialty|England\\r\\r\\nNever-married -- Self-emp-not-inc|White',\n       'Adm-clerical|United-States\\r\\r\\nSeparated -- State-gov|White',\n       'Craft-repair|United-States\\r\\r\\nNever-married -- Private|Other',\n       'Machine-op-inspct|Columbia\\r\\r\\nMarried-spouse-absent -- Private|White',\n       'Craft-repair|United-States\\r\\r\\nMarried-civ-spouse -- Private|Other',\n       'Exec_managerial|Italy\\r\\r\\nMarried-civ-spouse -- Self-emp-inc|White',\n       'Handlers-cleaners|Nicaragua\\r\\r\\nDivorced -- Private|Black',\n       'Sales|Iran\\r\\r\\nDivorced -- Private|White',\n       'Exec-managerial|United-States\\r\\r\\nMarried-spouse-absent -- Federal-gov|White',\n       'Transport-moving|Cuba\\r\\r\\nMarried-civ-spouse -- Local-gov|White',\n       'Handlers-cleaners|United-States\\r\\r\\nMarried-civ-spouse -- Federal-gov|White',\n       'Handlers-cleaners|Dominican-Republic\\r\\r\\nMarried-spouse-absent -- Private|Other',\n       'Craft-repair|Haiti\\r\\r\\nMarried-civ-spouse -- Private|Black',\n       'Transport-moving|Mexico\\r\\r\\nNever-married -- Private|White',\n       'Transport-moving|United-States\\r\\r\\nNever-married -- Local-gov|Black',\n       'Transport-moving|United-States\\r\\r\\nDivorced -- Private|Black',\n       'Exec-managerial|United-States\\r\\r\\nWidowed -- State-gov|White',\n       'Exec_managerial|United-States\\r\\r\\nDivorced -- Self-emp-inc|White',\n       'Exec-managerial|France\\r\\r\\nNever-married -- Self-emp-inc|White',\n       'Protective-serv|United-States\\r\\r\\nMarried-civ-spouse -- Federal-gov|White',\n       'Prof-specialty|Puerto-Rico\\r\\r\\nMarried-civ-spouse -- Self-emp-not-inc|White',\n       'Prof_specialty|United-States\\r\\r\\nWidowed -- Local-gov|Black',\n       'Other-service|United-States\\r\\r\\nMarried-civ-spouse -- Self-emp-not-inc|Black',\n       'Farming_fishing|United-States\\r\\r\\nNever-married -- Private|White',\n       'Craft-repair|England\\r\\r\\nDivorced -- Private|White',\n       'Prof_specialty|United-States\\r\\r\\nMarried-civ-spouse -- Self-emp-not-inc|White',\n       'Adm-clerical|United-States\\r\\r\\nNever-married -- Self-emp-not-inc|White',\n       'Exec-managerial|Yugoslavia\\r\\r\\nNever-married -- Private|White',\n       'Protective-serv|United-States\\r\\r\\nNever-married -- State-gov|Asian-Pac-Islander',\n       'Priv-house-serv|United-States\\r\\r\\nDivorced -- Private|White',\n       'Tech_support|United-States\\r\\r\\nDivorced -- Self-emp-not-inc|White',\n       'Craft-repair|Greece\\r\\r\\nNever-married -- Self-emp-not-inc|White'],\n      dtype=object)"
     },
     "metadata": {},
     "output_type": "execute_result",
     "execution_count": 153
    }
   ],
   "source": [
    "train_other['personal_info'].unique()"
   ],
   "metadata": {
    "collapsed": false,
    "pycharm": {
     "name": "#%%\n",
     "is_executing": false
    }
   }
  },
  {
   "cell_type": "code",
   "execution_count": 155,
   "outputs": [
    {
     "data": {
      "text/plain": "<matplotlib.axes._subplots.AxesSubplot at 0x1d7bf242d30>"
     },
     "metadata": {},
     "output_type": "execute_result",
     "execution_count": 155
    },
    {
     "data": {
      "text/plain": "<Figure size 432x288 with 1 Axes>",
      "image/png": "[encoded data removed]"
     },
     "metadata": {
      "needs_background": "light"
     },
     "output_type": "display_data"
    }
   ],
   "source": [
    "train_other['personal_info'].value_counts().plot(kind = 'kde')"
   ],
   "metadata": {
    "collapsed": false,
    "pycharm": {
     "name": "#%%\n",
     "is_executing": false
    }
   }
  },
  {
   "cell_type": "markdown",
   "source": [
    "#### education"
   ],
   "metadata": {
    "collapsed": false
   }
  },
  {
   "cell_type": "code",
   "execution_count": 131,
   "outputs": [
    {
     "data": {
      "text/plain": "count         3971\nunique          16\ntop        HS-grad\nfreq          1278\nName: education, dtype: object"
     },
     "metadata": {},
     "output_type": "execute_result",
     "execution_count": 131
    }
   ],
   "source": [
    "train_other['education'].describe()"
   ],
   "metadata": {
    "collapsed": false,
    "pycharm": {
     "name": "#%%\n",
     "is_executing": false
    }
   }
  },
  {
   "cell_type": "code",
   "execution_count": 147,
   "outputs": [
    {
     "data": {
      "text/plain": "array([' Doctorate', ' Bachelors', ' HS-grad', ' Some-college',\n       ' Assoc-voc', ' 10th', ' Assoc-acdm', ' Masters', ' 5th-6th',\n       ' 11th', ' Prof-school', ' 9th', ' 1st-4th', ' 12th', ' 7th-8th',\n       ' Preschool', nan], dtype=object)"
     },
     "metadata": {},
     "output_type": "execute_result",
     "execution_count": 147
    }
   ],
   "source": [
    "train_other['education'].unique()"
   ],
   "metadata": {
    "collapsed": false,
    "pycharm": {
     "name": "#%%\n",
     "is_executing": false
    }
   }
  },
  {
   "cell_type": "code",
   "execution_count": 148,
   "outputs": [
    {
     "data": {
      "text/plain": "<matplotlib.axes._subplots.AxesSubplot at 0x1d7bd3902e8>"
     },
     "metadata": {},
     "output_type": "execute_result",
     "execution_count": 148
    },
    {
     "data": {
      "text/plain": "<Figure size 432x288 with 1 Axes>",
      "image/png": "[encoded data removed]"
     },
     "metadata": {
      "needs_background": "light"
     },
     "output_type": "display_data"
    }
   ],
   "source": [
    "train_other['education'].value_counts().plot(kind = 'bar')"
   ],
   "metadata": {
    "collapsed": false,
    "pycharm": {
     "name": "#%%\n",
     "is_executing": false
    }
   }
  },
  {
   "cell_type": "markdown",
   "source": [
    "#### fnlwgt"
   ],
   "metadata": {
    "collapsed": false
   }
  },
  {
   "cell_type": "code",
   "execution_count": 133,
   "outputs": [
    {
     "data": {
      "text/plain": "count      3970.000000\nmean     192967.197985\nstd      103285.567216\nmin       19214.000000\n25%      120960.000000\n50%      182045.000000\n75%      241631.000000\nmax      889965.000000\nName: fnlwgt, dtype: float64"
     },
     "metadata": {},
     "output_type": "execute_result",
     "execution_count": 133
    }
   ],
   "source": [
    "train_other['fnlwgt'].describe()"
   ],
   "metadata": {
    "collapsed": false,
    "pycharm": {
     "name": "#%%\n",
     "is_executing": false
    }
   }
  },
  {
   "cell_type": "code",
   "execution_count": 134,
   "outputs": [
    {
     "data": {
      "text/plain": "<matplotlib.axes._subplots.AxesSubplot at 0x1d7bd652a58>"
     },
     "metadata": {},
     "output_type": "execute_result",
     "execution_count": 134
    },
    {
     "data": {
      "text/plain": "<Figure size 432x288 with 1 Axes>",
      "image/png": "[encoded data removed]"
     },
     "metadata": {
      "needs_background": "light"
     },
     "output_type": "display_data"
    }
   ],
   "source": [
    "train_other['fnlwgt'].value_counts().plot(kind = 'line')"
   ],
   "metadata": {
    "collapsed": false,
    "pycharm": {
     "name": "#%%\n",
     "is_executing": false
    }
   }
  },
  {
   "cell_type": "markdown",
   "source": [
    "#### class"
   ],
   "metadata": {
    "collapsed": false
   }
  },
  {
   "cell_type": "code",
   "execution_count": 135,
   "outputs": [
    {
     "data": {
      "text/plain": "count    3964.000000\nmean        0.255298\nstd         0.436083\nmin         0.000000\n25%         0.000000\n50%         0.000000\n75%         1.000000\nmax         1.000000\nName: class, dtype: float64"
     },
     "metadata": {},
     "output_type": "execute_result",
     "execution_count": 135
    }
   ],
   "source": [
    "train_other['class'].describe()"
   ],
   "metadata": {
    "collapsed": false,
    "pycharm": {
     "name": "#%%\n",
     "is_executing": false
    }
   }
  },
  {
   "cell_type": "code",
   "execution_count": 136,
   "outputs": [
    {
     "data": {
      "text/plain": "<matplotlib.axes._subplots.AxesSubplot at 0x1d7bd6ba3c8>"
     },
     "metadata": {},
     "output_type": "execute_result",
     "execution_count": 136
    },
    {
     "data": {
      "text/plain": "<Figure size 432x288 with 1 Axes>",
      "image/png": "[encoded data removed]"
     },
     "metadata": {
      "needs_background": "light"
     },
     "output_type": "display_data"
    }
   ],
   "source": [
    "train_other['class'].value_counts().plot(kind = 'line')"
   ],
   "metadata": {
    "collapsed": false,
    "pycharm": {
     "name": "#%%\n",
     "is_executing": false
    }
   }
  },
  {
   "cell_type": "markdown",
   "source": [
    "#### std_glucose"
   ],
   "metadata": {
    "collapsed": false
   }
  },
  {
   "cell_type": "code",
   "execution_count": 137,
   "outputs": [
    {
     "data": {
      "text/plain": "count    3971.000000\nmean       74.479764\nstd      1448.165852\nmin     -8305.388133\n25%        39.502222\n50%        45.928079\n75%        51.048246\nmax      6649.471314\nName: std_glucose, dtype: float64"
     },
     "metadata": {},
     "output_type": "execute_result",
     "execution_count": 137
    }
   ],
   "source": [
    "train_other['std_glucose'].describe()"
   ],
   "metadata": {
    "collapsed": false,
    "pycharm": {
     "name": "#%%\n",
     "is_executing": false
    }
   }
  },
  {
   "cell_type": "code",
   "execution_count": 138,
   "outputs": [
    {
     "data": {
      "text/plain": "<matplotlib.axes._subplots.AxesSubplot at 0x1d7bd714978>"
     },
     "metadata": {},
     "output_type": "execute_result",
     "execution_count": 138
    },
    {
     "data": {
      "text/plain": "<Figure size 432x288 with 1 Axes>",
      "image/png": "[encoded data removed]"
     },
     "metadata": {
      "needs_background": "light"
     },
     "output_type": "display_data"
    }
   ],
   "source": [
    "train_other['std_glucose'].value_counts().plot(kind = 'line')"
   ],
   "metadata": {
    "collapsed": false,
    "pycharm": {
     "name": "#%%\n",
     "is_executing": false
    }
   }
  },
  {
   "cell_type": "markdown",
   "source": [
    "#### income"
   ],
   "metadata": {
    "collapsed": false
   }
  },
  {
   "cell_type": "code",
   "execution_count": 139,
   "outputs": [
    {
     "data": {
      "text/plain": "count       3969\nunique         2\ntop        <=50K\nfreq        2988\nName: income, dtype: object"
     },
     "metadata": {},
     "output_type": "execute_result",
     "execution_count": 139
    }
   ],
   "source": [
    "train_other['income'].describe()"
   ],
   "metadata": {
    "collapsed": false,
    "pycharm": {
     "name": "#%%\n",
     "is_executing": false
    }
   }
  },
  {
   "cell_type": "code",
   "execution_count": 149,
   "outputs": [
    {
     "data": {
      "text/plain": "array([' >50K', ' <=50K', nan], dtype=object)"
     },
     "metadata": {},
     "output_type": "execute_result",
     "execution_count": 149
    }
   ],
   "source": [
    "train_other['income'].unique()"
   ],
   "metadata": {
    "collapsed": false,
    "pycharm": {
     "name": "#%%\n",
     "is_executing": false
    }
   }
  },
  {
   "cell_type": "code",
   "execution_count": 150,
   "outputs": [
    {
     "data": {
      "text/plain": "<matplotlib.axes._subplots.AxesSubplot at 0x1d7be8879e8>"
     },
     "metadata": {},
     "output_type": "execute_result",
     "execution_count": 150
    },
    {
     "data": {
      "text/plain": "<Figure size 432x288 with 1 Axes>",
      "image/png": "[encoded data removed]"
     },
     "metadata": {
      "needs_background": "light"
     },
     "output_type": "display_data"
    }
   ],
   "source": [
    "train_other['income'].value_counts().plot(kind = 'bar')"
   ],
   "metadata": {
    "collapsed": false,
    "pycharm": {
     "name": "#%%\n",
     "is_executing": false
    }
   }
  },
  {
   "cell_type": "markdown",
   "source": [
    "#### mean_oxygen"
   ],
   "metadata": {
    "collapsed": false
   }
  },
  {
   "cell_type": "code",
   "execution_count": 141,
   "outputs": [
    {
     "data": {
      "text/plain": "count    3967.000000\nmean       18.470601\nstd        34.808695\nmin         0.213211\n25%         2.061873\n50%         3.223244\n75%        12.610786\nmax       217.371238\nName: mean_oxygen, dtype: float64"
     },
     "metadata": {},
     "output_type": "execute_result",
     "execution_count": 141
    }
   ],
   "source": [
    "train_other['mean_oxygen'].describe()"
   ],
   "metadata": {
    "collapsed": false,
    "pycharm": {
     "name": "#%%\n",
     "is_executing": false
    }
   }
  },
  {
   "cell_type": "code",
   "execution_count": 142,
   "outputs": [
    {
     "data": {
      "text/plain": "<matplotlib.axes._subplots.AxesSubplot at 0x1d7be7afc18>"
     },
     "metadata": {},
     "output_type": "execute_result",
     "execution_count": 142
    },
    {
     "data": {
      "text/plain": "<Figure size 432x288 with 1 Axes>",
      "image/png": "[encoded data removed]"
     },
     "metadata": {
      "needs_background": "light"
     },
     "output_type": "display_data"
    }
   ],
   "source": [
    "train_other['mean_oxygen'].value_counts().plot(kind = 'line')"
   ],
   "metadata": {
    "collapsed": false,
    "pycharm": {
     "name": "#%%\n",
     "is_executing": false
    }
   }
  },
  {
   "cell_type": "markdown",
   "source": [
    "#### hours-per-week"
   ],
   "metadata": {
    "collapsed": false
   }
  },
  {
   "cell_type": "code",
   "execution_count": 143,
   "outputs": [
    {
     "data": {
      "text/plain": "count    3970.000000\nmean       40.568766\nstd        12.601133\nmin         1.000000\n25%        40.000000\n50%        40.000000\n75%        45.000000\nmax        99.000000\nName: hours-per-week, dtype: float64"
     },
     "metadata": {},
     "output_type": "execute_result",
     "execution_count": 143
    }
   ],
   "source": [
    "train_other['hours-per-week'].describe()"
   ],
   "metadata": {
    "collapsed": false,
    "pycharm": {
     "name": "#%%\n",
     "is_executing": false
    }
   }
  },
  {
   "cell_type": "code",
   "execution_count": 144,
   "outputs": [
    {
     "data": {
      "text/plain": "<matplotlib.axes._subplots.AxesSubplot at 0x1d7be823898>"
     },
     "metadata": {},
     "output_type": "execute_result",
     "execution_count": 144
    },
    {
     "data": {
      "text/plain": "<Figure size 432x288 with 1 Axes>",
      "image/png": "[encoded data removed]"
     },
     "metadata": {
      "needs_background": "light"
     },
     "output_type": "display_data"
    }
   ],
   "source": [
    "train_other['hours-per-week'].value_counts().plot(kind = 'line')"
   ],
   "metadata": {
    "collapsed": false,
    "pycharm": {
     "name": "#%%\n",
     "is_executing": false
    }
   }
  },
  {
   "cell_type": "markdown",
   "source": [
    "#### capital-loss"
   ],
   "metadata": {
    "collapsed": false
   }
  },
  {
   "cell_type": "code",
   "execution_count": 145,
   "outputs": [
    {
     "data": {
      "text/plain": "count    3963.000000\nmean       80.275549\nstd       388.336046\nmin         0.000000\n25%         0.000000\n50%         0.000000\n75%         0.000000\nmax      3770.000000\nName: capital-loss, dtype: float64"
     },
     "metadata": {},
     "output_type": "execute_result",
     "execution_count": 145
    }
   ],
   "source": [
    "train_other['capital-loss'].describe()"
   ],
   "metadata": {
    "collapsed": false,
    "pycharm": {
     "name": "#%%\n",
     "is_executing": false
    }
   }
  },
  {
   "cell_type": "code",
   "execution_count": 146,
   "outputs": [
    {
     "data": {
      "text/plain": "<matplotlib.axes._subplots.AxesSubplot at 0x1d7be87b748>"
     },
     "metadata": {},
     "output_type": "execute_result",
     "execution_count": 146
    },
    {
     "data": {
      "text/plain": "<Figure size 432x288 with 1 Axes>",
      "image/png": "[encoded data removed]"
     },
     "metadata": {
      "needs_background": "light"
     },
     "output_type": "display_data"
    }
   ],
   "source": [
    "train_other['capital-loss'].value_counts().plot(kind = 'line')\n",
    "\n"
   ],
   "metadata": {
    "collapsed": false,
    "pycharm": {
     "name": "#%%\n",
     "is_executing": false
    }
   }
  }
 ],
 "metadata": {
  "kernelspec": {
   "display_name": "Python 3",
   "language": "python",
   "name": "python3"
  },
  "language_info": {
   "codemirror_mode": {
    "name": "ipython",
    "version": 2
   },
   "file_extension": ".py",
   "mimetype": "text/x-python",
   "name": "python",
   "nbconvert_exporter": "python",
   "pygments_lexer": "ipython2",
   "version": "2.7.6"
  },
  "pycharm": {
   "stem_cell": {
    "cell_type": "raw",
    "source": [],
    "metadata": {
     "collapsed": false
    }
   }
  }
 },
 "nbformat": 4,
 "nbformat_minor": 0
}