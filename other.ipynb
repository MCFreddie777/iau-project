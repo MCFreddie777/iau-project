{
 "cells": [
  {
   "cell_type": "code",
   "execution_count": 2,
   "metadata": {
    "collapsed": true,
    "pycharm": {
     "is_executing": false
    }
   },
   "outputs": [],
   "source": [
    "import pandas as pd\n",
    "import numpy as np\n",
    "import matplotlib as mat\n",
    "import matplotlib.pyplot as plt\n",
    "import seaborn as sns\n",
    "import statsmodels.api as sm\n",
    "import statsmodels.stats as sm_stats\n",
    "import statsmodels.stats.api as sms\n",
    "import scipy.stats as stats"
   ]
  },
  {
   "cell_type": "code",
   "execution_count": 5,
   "outputs": [],
   "source": [
    "train_other = pd.read_csv(\"data/other_train.csv\")\n"
   ],
   "metadata": {
    "collapsed": false,
    "pycharm": {
     "name": "#%%\n",
     "is_executing": false
    }
   }
  },
  {
   "cell_type": "markdown",
   "source": [
    "# Other data"
   ],
   "metadata": {
    "collapsed": false
   }
  },
  {
   "cell_type": "markdown",
   "source": [
    "## Identifikovane chyby\n",
    "**kutosis_oxygen** \n",
    "-chybaju niektore hodnoty(5)\n",
    "\n",
    "**pragnent**\n",
    "-viacere nazvy pre je typ + prazdne hodnoty\n",
    "\n",
    "**education-num**\n",
    "-prazdne hodnoty(18)\n",
    "\n",
    "**relationship**\n",
    "-niektore s hodnotou nan\n",
    "\n",
    "**skewnees_glucose**\n",
    "-chybaju hodnoty\n",
    "\n",
    "**ostatne**\n",
    "-chybajuce hodnoty"
   ],
   "metadata": {
    "collapsed": false
   }
  },
  {
   "cell_type": "code",
   "execution_count": 6,
   "outputs": [
    {
     "data": {
      "text/plain": "       Unnamed: 0  kurtosis_oxygen  education-num  skewness_glucose  \\\ncount  3983.00000      3978.000000    3965.000000       3960.000000   \nmean   1991.00000         7.414473      10.084489          4.242530   \nstd    1149.93739         4.811907       2.588918          9.706012   \nmin       0.00000        -2.597872       1.000000         -1.755332   \n25%     995.50000         3.630716       9.000000         -0.120081   \n50%    1991.00000         7.784802      10.000000          0.374657   \n75%    2986.50000        10.278883      12.000000          2.091543   \nmax    3982.00000        34.539844      16.000000         68.101622   \n\n       mean_glucose   std_oxygen  capital-gain  skewness_oxygen  \\\ncount   3973.000000  3969.000000   3967.000000      3970.000000   \nmean     101.248940    31.148558   1042.988908        91.370712   \nstd       33.601519    22.263993   7006.726961       108.475749   \nmin        6.187500     7.370432      0.000000        -1.976976   \n25%       87.742188    15.024700      0.000000        12.858504   \n50%      110.664062    20.547873      0.000000        68.623477   \n75%      124.132812    43.253607      0.000000       127.236918   \nmax      189.734375   110.642211  99999.000000      1191.000837   \n\n       kurtosis_glucose         fnlwgt        class  std_glucose  mean_oxygen  \\\ncount       3965.000000    3970.000000  3964.000000  3971.000000  3967.000000   \nmean           0.950507  192967.197985     0.255298    74.479764    18.470601   \nstd            1.611069  103285.567216     0.436083  1448.165852    34.808695   \nmin           -1.641515   19214.000000     0.000000 -8305.388133     0.213211   \n25%            0.072144  120960.000000     0.000000    39.502222     2.061873   \n50%            0.310372  182045.000000     0.000000    45.928079     3.223244   \n75%            0.775684  241631.000000     1.000000    51.048246    12.610786   \nmax            8.069522  889965.000000     1.000000  6649.471314   217.371238   \n\n       hours-per-week  capital-loss  \ncount     3970.000000   3963.000000  \nmean        40.568766     80.275549  \nstd         12.601133    388.336046  \nmin          1.000000      0.000000  \n25%         40.000000      0.000000  \n50%         40.000000      0.000000  \n75%         45.000000      0.000000  \nmax         99.000000   3770.000000  ",
      "text/html": "<div>\n<style scoped>\n    .dataframe tbody tr th:only-of-type {\n        vertical-align: middle;\n    }\n\n    .dataframe tbody tr th {\n        vertical-align: top;\n    }\n\n    .dataframe thead th {\n        text-align: right;\n    }\n</style>\n<table border=\"1\" class=\"dataframe\">\n  <thead>\n    <tr style=\"text-align: right;\">\n      <th></th>\n      <th>Unnamed: 0</th>\n      <th>kurtosis_oxygen</th>\n      <th>education-num</th>\n      <th>skewness_glucose</th>\n      <th>mean_glucose</th>\n      <th>std_oxygen</th>\n      <th>capital-gain</th>\n      <th>skewness_oxygen</th>\n      <th>kurtosis_glucose</th>\n      <th>fnlwgt</th>\n      <th>class</th>\n      <th>std_glucose</th>\n      <th>mean_oxygen</th>\n      <th>hours-per-week</th>\n      <th>capital-loss</th>\n    </tr>\n  </thead>\n  <tbody>\n    <tr>\n      <td>count</td>\n      <td>3983.00000</td>\n      <td>3978.000000</td>\n      <td>3965.000000</td>\n      <td>3960.000000</td>\n      <td>3973.000000</td>\n      <td>3969.000000</td>\n      <td>3967.000000</td>\n      <td>3970.000000</td>\n      <td>3965.000000</td>\n      <td>3970.000000</td>\n      <td>3964.000000</td>\n      <td>3971.000000</td>\n      <td>3967.000000</td>\n      <td>3970.000000</td>\n      <td>3963.000000</td>\n    </tr>\n    <tr>\n      <td>mean</td>\n      <td>1991.00000</td>\n      <td>7.414473</td>\n      <td>10.084489</td>\n      <td>4.242530</td>\n      <td>101.248940</td>\n      <td>31.148558</td>\n      <td>1042.988908</td>\n      <td>91.370712</td>\n      <td>0.950507</td>\n      <td>192967.197985</td>\n      <td>0.255298</td>\n      <td>74.479764</td>\n      <td>18.470601</td>\n      <td>40.568766</td>\n      <td>80.275549</td>\n    </tr>\n    <tr>\n      <td>std</td>\n      <td>1149.93739</td>\n      <td>4.811907</td>\n      <td>2.588918</td>\n      <td>9.706012</td>\n      <td>33.601519</td>\n      <td>22.263993</td>\n      <td>7006.726961</td>\n      <td>108.475749</td>\n      <td>1.611069</td>\n      <td>103285.567216</td>\n      <td>0.436083</td>\n      <td>1448.165852</td>\n      <td>34.808695</td>\n      <td>12.601133</td>\n      <td>388.336046</td>\n    </tr>\n    <tr>\n      <td>min</td>\n      <td>0.00000</td>\n      <td>-2.597872</td>\n      <td>1.000000</td>\n      <td>-1.755332</td>\n      <td>6.187500</td>\n      <td>7.370432</td>\n      <td>0.000000</td>\n      <td>-1.976976</td>\n      <td>-1.641515</td>\n      <td>19214.000000</td>\n      <td>0.000000</td>\n      <td>-8305.388133</td>\n      <td>0.213211</td>\n      <td>1.000000</td>\n      <td>0.000000</td>\n    </tr>\n    <tr>\n      <td>25%</td>\n      <td>995.50000</td>\n      <td>3.630716</td>\n      <td>9.000000</td>\n      <td>-0.120081</td>\n      <td>87.742188</td>\n      <td>15.024700</td>\n      <td>0.000000</td>\n      <td>12.858504</td>\n      <td>0.072144</td>\n      <td>120960.000000</td>\n      <td>0.000000</td>\n      <td>39.502222</td>\n      <td>2.061873</td>\n      <td>40.000000</td>\n      <td>0.000000</td>\n    </tr>\n    <tr>\n      <td>50%</td>\n      <td>1991.00000</td>\n      <td>7.784802</td>\n      <td>10.000000</td>\n      <td>0.374657</td>\n      <td>110.664062</td>\n      <td>20.547873</td>\n      <td>0.000000</td>\n      <td>68.623477</td>\n      <td>0.310372</td>\n      <td>182045.000000</td>\n      <td>0.000000</td>\n      <td>45.928079</td>\n      <td>3.223244</td>\n      <td>40.000000</td>\n      <td>0.000000</td>\n    </tr>\n    <tr>\n      <td>75%</td>\n      <td>2986.50000</td>\n      <td>10.278883</td>\n      <td>12.000000</td>\n      <td>2.091543</td>\n      <td>124.132812</td>\n      <td>43.253607</td>\n      <td>0.000000</td>\n      <td>127.236918</td>\n      <td>0.775684</td>\n      <td>241631.000000</td>\n      <td>1.000000</td>\n      <td>51.048246</td>\n      <td>12.610786</td>\n      <td>45.000000</td>\n      <td>0.000000</td>\n    </tr>\n    <tr>\n      <td>max</td>\n      <td>3982.00000</td>\n      <td>34.539844</td>\n      <td>16.000000</td>\n      <td>68.101622</td>\n      <td>189.734375</td>\n      <td>110.642211</td>\n      <td>99999.000000</td>\n      <td>1191.000837</td>\n      <td>8.069522</td>\n      <td>889965.000000</td>\n      <td>1.000000</td>\n      <td>6649.471314</td>\n      <td>217.371238</td>\n      <td>99.000000</td>\n      <td>3770.000000</td>\n    </tr>\n  </tbody>\n</table>\n</div>"
     },
     "metadata": {},
     "output_type": "execute_result",
     "execution_count": 6
    }
   ],
   "source": [
    "train_other.describe()"
   ],
   "metadata": {
    "collapsed": false,
    "pycharm": {
     "name": "#%%\n",
     "is_executing": false
    }
   }
  },
  {
   "cell_type": "code",
   "execution_count": 7,
   "outputs": [
    {
     "name": "stdout",
     "text": [
      "<class 'pandas.core.frame.DataFrame'>\nRangeIndex: 3983 entries, 0 to 3982\nData columns (total 22 columns):\nUnnamed: 0          3983 non-null int64\nname                3983 non-null object\naddress             3983 non-null object\nkurtosis_oxygen     3978 non-null float64\npregnant            3971 non-null object\neducation-num       3965 non-null float64\nrelationship        3970 non-null object\nskewness_glucose    3960 non-null float64\nmean_glucose        3973 non-null float64\nstd_oxygen          3969 non-null float64\ncapital-gain        3967 non-null float64\nskewness_oxygen     3970 non-null float64\nkurtosis_glucose    3965 non-null float64\npersonal_info       3971 non-null object\neducation           3971 non-null object\nfnlwgt              3970 non-null float64\nclass               3964 non-null float64\nstd_glucose         3971 non-null float64\nincome              3969 non-null object\nmean_oxygen         3967 non-null float64\nhours-per-week      3970 non-null float64\ncapital-loss        3963 non-null float64\ndtypes: float64(14), int64(1), object(7)\nmemory usage: 684.7+ KB\n"
     ],
     "output_type": "stream"
    }
   ],
   "source": [
    "train_other.info()"
   ],
   "metadata": {
    "collapsed": false,
    "pycharm": {
     "name": "#%%\n",
     "is_executing": false
    }
   }
  },
  {
   "cell_type": "code",
   "execution_count": 9,
   "outputs": [
    {
     "data": {
      "text/plain": "   Unnamed: 0           name  \\\n0           0    Alex Chinzi   \n1           1     Scott Bass   \n2           2      Chuck Lao   \n3           3  Floyd Squires   \n4           4  Kenneth Cadet   \n\n                                             address  kurtosis_oxygen  \\\n0  590 Samantha Bridge Apt. 572\\r\\nNorth Allison,...         8.286599   \n1  5384 Hurst Groves Apt. 092\\r\\nFreemanview, SD ...         6.455860   \n2                          USS Scott\\r\\nFPO AE 78885        11.513491   \n3  122 Ryan Ranch Suite 621\\r\\nPort Douglas, NM 0...         7.641796   \n4         30930 Ryan Groves\\r\\nKatelynside, MS 75220         8.826058   \n\n  pregnant  education-num    relationship  skewness_glucose  mean_glucose  \\\n0        f           16.0         Husband          0.234418    107.484375   \n1        f           13.0       Own-child          0.151130    140.203125   \n2        f            9.0       Unmarried         -0.024384    124.054688   \n3        f           13.0   Not-in-family         -0.564287    115.046875   \n4        f            9.0         Husband          0.495896     93.335938   \n\n   std_oxygen  ...  kurtosis_glucose  \\\n0   15.072284  ...          0.362969   \n1   21.925411  ...         -0.170101   \n2   11.822427  ...         -0.026966   \n3   22.965651  ...          0.269421   \n4   13.777158  ...          0.537549   \n\n                                       personal_info   education    fnlwgt  \\\n0  Prof-specialty|United-States\\r\\r\\nMarried-civ-...   Doctorate  320102.0   \n1  Prof-specialty|United-States\\r\\r\\nNever-marrie...   Bachelors  148300.0   \n2  Other-service|Mexico\\r\\r\\nSeparated -- Private...     HS-grad  190885.0   \n3  Prof-specialty|Canada\\r\\r\\nNever-married -- Pr...   Bachelors  191385.0   \n4  Sales|United-States\\r\\r\\nMarried-civ-spouse --...     HS-grad  226875.0   \n\n  class  std_glucose  income  mean_oxygen hours-per-week  capital-loss  \n0   0.0    44.487706    >50K     2.448161           50.0           0.0  \n1   0.0    44.586531   <=50K     4.445652           15.0           0.0  \n2   0.0    45.904165   <=50K     1.890468           40.0           0.0  \n3   0.0    58.140302   <=50K     3.639632           40.0           0.0  \n4   0.0    45.605865   <=50K     2.510870           40.0           0.0  \n\n[5 rows x 22 columns]",
      "text/html": "<div>\n<style scoped>\n    .dataframe tbody tr th:only-of-type {\n        vertical-align: middle;\n    }\n\n    .dataframe tbody tr th {\n        vertical-align: top;\n    }\n\n    .dataframe thead th {\n        text-align: right;\n    }\n</style>\n<table border=\"1\" class=\"dataframe\">\n  <thead>\n    <tr style=\"text-align: right;\">\n      <th></th>\n      <th>Unnamed: 0</th>\n      <th>name</th>\n      <th>address</th>\n      <th>kurtosis_oxygen</th>\n      <th>pregnant</th>\n      <th>education-num</th>\n      <th>relationship</th>\n      <th>skewness_glucose</th>\n      <th>mean_glucose</th>\n      <th>std_oxygen</th>\n      <th>...</th>\n      <th>kurtosis_glucose</th>\n      <th>personal_info</th>\n      <th>education</th>\n      <th>fnlwgt</th>\n      <th>class</th>\n      <th>std_glucose</th>\n      <th>income</th>\n      <th>mean_oxygen</th>\n      <th>hours-per-week</th>\n      <th>capital-loss</th>\n    </tr>\n  </thead>\n  <tbody>\n    <tr>\n      <td>0</td>\n      <td>0</td>\n      <td>Alex Chinzi</td>\n      <td>590 Samantha Bridge Apt. 572\\r\\nNorth Allison,...</td>\n      <td>8.286599</td>\n      <td>f</td>\n      <td>16.0</td>\n      <td>Husband</td>\n      <td>0.234418</td>\n      <td>107.484375</td>\n      <td>15.072284</td>\n      <td>...</td>\n      <td>0.362969</td>\n      <td>Prof-specialty|United-States\\r\\r\\nMarried-civ-...</td>\n      <td>Doctorate</td>\n      <td>320102.0</td>\n      <td>0.0</td>\n      <td>44.487706</td>\n      <td>&gt;50K</td>\n      <td>2.448161</td>\n      <td>50.0</td>\n      <td>0.0</td>\n    </tr>\n    <tr>\n      <td>1</td>\n      <td>1</td>\n      <td>Scott Bass</td>\n      <td>5384 Hurst Groves Apt. 092\\r\\nFreemanview, SD ...</td>\n      <td>6.455860</td>\n      <td>f</td>\n      <td>13.0</td>\n      <td>Own-child</td>\n      <td>0.151130</td>\n      <td>140.203125</td>\n      <td>21.925411</td>\n      <td>...</td>\n      <td>-0.170101</td>\n      <td>Prof-specialty|United-States\\r\\r\\nNever-marrie...</td>\n      <td>Bachelors</td>\n      <td>148300.0</td>\n      <td>0.0</td>\n      <td>44.586531</td>\n      <td>&lt;=50K</td>\n      <td>4.445652</td>\n      <td>15.0</td>\n      <td>0.0</td>\n    </tr>\n    <tr>\n      <td>2</td>\n      <td>2</td>\n      <td>Chuck Lao</td>\n      <td>USS Scott\\r\\nFPO AE 78885</td>\n      <td>11.513491</td>\n      <td>f</td>\n      <td>9.0</td>\n      <td>Unmarried</td>\n      <td>-0.024384</td>\n      <td>124.054688</td>\n      <td>11.822427</td>\n      <td>...</td>\n      <td>-0.026966</td>\n      <td>Other-service|Mexico\\r\\r\\nSeparated -- Private...</td>\n      <td>HS-grad</td>\n      <td>190885.0</td>\n      <td>0.0</td>\n      <td>45.904165</td>\n      <td>&lt;=50K</td>\n      <td>1.890468</td>\n      <td>40.0</td>\n      <td>0.0</td>\n    </tr>\n    <tr>\n      <td>3</td>\n      <td>3</td>\n      <td>Floyd Squires</td>\n      <td>122 Ryan Ranch Suite 621\\r\\nPort Douglas, NM 0...</td>\n      <td>7.641796</td>\n      <td>f</td>\n      <td>13.0</td>\n      <td>Not-in-family</td>\n      <td>-0.564287</td>\n      <td>115.046875</td>\n      <td>22.965651</td>\n      <td>...</td>\n      <td>0.269421</td>\n      <td>Prof-specialty|Canada\\r\\r\\nNever-married -- Pr...</td>\n      <td>Bachelors</td>\n      <td>191385.0</td>\n      <td>0.0</td>\n      <td>58.140302</td>\n      <td>&lt;=50K</td>\n      <td>3.639632</td>\n      <td>40.0</td>\n      <td>0.0</td>\n    </tr>\n    <tr>\n      <td>4</td>\n      <td>4</td>\n      <td>Kenneth Cadet</td>\n      <td>30930 Ryan Groves\\r\\nKatelynside, MS 75220</td>\n      <td>8.826058</td>\n      <td>f</td>\n      <td>9.0</td>\n      <td>Husband</td>\n      <td>0.495896</td>\n      <td>93.335938</td>\n      <td>13.777158</td>\n      <td>...</td>\n      <td>0.537549</td>\n      <td>Sales|United-States\\r\\r\\nMarried-civ-spouse --...</td>\n      <td>HS-grad</td>\n      <td>226875.0</td>\n      <td>0.0</td>\n      <td>45.605865</td>\n      <td>&lt;=50K</td>\n      <td>2.510870</td>\n      <td>40.0</td>\n      <td>0.0</td>\n    </tr>\n  </tbody>\n</table>\n<p>5 rows × 22 columns</p>\n</div>"
     },
     "metadata": {},
     "output_type": "execute_result",
     "execution_count": 9
    }
   ],
   "source": [
    "train_other.head()"
   ],
   "metadata": {
    "collapsed": false,
    "pycharm": {
     "name": "#%%\n",
     "is_executing": false
    }
   }
  },
  {
   "cell_type": "code",
   "execution_count": 78,
   "outputs": [
    {
     "name": "stdout",
     "text": [
      "Pocet stlpcov:  22 Pocet riadkov:  3983\n"
     ],
     "output_type": "stream"
    }
   ],
   "source": [
    "rows=train_other.shape[0]\n",
    "cols=train_other.shape[1]\n",
    "print('Pocet stlpcov: ',cols , 'Pocet riadkov: ', rows)"
   ],
   "metadata": {
    "collapsed": false,
    "pycharm": {
     "name": "#%%\n",
     "is_executing": false
    }
   }
  },
  {
   "cell_type": "code",
   "execution_count": 80,
   "outputs": [
    {
     "data": {
      "text/plain": "['Unnamed: 0',\n 'name',\n 'address',\n 'kurtosis_oxygen',\n 'pregnant',\n 'education-num',\n 'relationship',\n 'skewness_glucose',\n 'mean_glucose',\n 'std_oxygen',\n 'capital-gain',\n 'skewness_oxygen',\n 'kurtosis_glucose',\n 'personal_info',\n 'education',\n 'fnlwgt',\n 'class',\n 'std_glucose',\n 'income',\n 'mean_oxygen',\n 'hours-per-week',\n 'capital-loss']"
     },
     "metadata": {},
     "output_type": "execute_result",
     "execution_count": 80
    }
   ],
   "source": [
    "list(train_other.columns.values) "
   ],
   "metadata": {
    "collapsed": false,
    "pycharm": {
     "name": "#%%\n",
     "is_executing": false
    }
   }
  },
  {
   "cell_type": "markdown",
   "source": [
    "#### kurtosis_oxygen"
   ],
   "metadata": {
    "collapsed": false
   }
  },
  {
   "cell_type": "code",
   "execution_count": null,
   "outputs": [],
   "source": [
    "train_other['kurtosis_oxygen'].describe()"
   ],
   "metadata": {
    "collapsed": false,
    "pycharm": {
     "name": "#%%\n"
    }
   }
  },
  {
   "cell_type": "code",
   "execution_count": null,
   "outputs": [],
   "source": [
    "train_other['kurtosis_oxygen'].value_counts().plot(kind = 'line')"
   ],
   "metadata": {
    "collapsed": false,
    "pycharm": {
     "name": "#%%\n"
    }
   }
  },
  {
   "cell_type": "markdown",
   "source": [
    "#### pregnant "
   ],
   "metadata": {
    "collapsed": false
   }
  },
  {
   "cell_type": "code",
   "execution_count": null,
   "outputs": [],
   "source": [
    "train_other['pregnant'].describe()\n"
   ],
   "metadata": {
    "collapsed": false,
    "pycharm": {
     "name": "#%%\n"
    }
   }
  },
  {
   "cell_type": "code",
   "execution_count": null,
   "outputs": [],
   "source": [
    "train_other['pregnant'].unique()\n"
   ],
   "metadata": {
    "collapsed": false,
    "pycharm": {
     "name": "#%%\n"
    }
   }
  },
  {
   "cell_type": "code",
   "execution_count": null,
   "outputs": [],
   "source": [
    "train_other['pregnant'].value_counts().plot(kind = 'bar')"
   ],
   "metadata": {
    "collapsed": false,
    "pycharm": {
     "name": "#%%\n"
    }
   }
  },
  {
   "cell_type": "markdown",
   "source": [
    "#### education-num"
   ],
   "metadata": {
    "collapsed": false
   }
  },
  {
   "cell_type": "code",
   "execution_count": null,
   "outputs": [],
   "source": [
    "train_other['education-num'].describe()\n"
   ],
   "metadata": {
    "collapsed": false,
    "pycharm": {
     "name": "#%%\n"
    }
   }
  },
  {
   "cell_type": "code",
   "execution_count": null,
   "outputs": [],
   "source": [
    "train_other['education-num'].unique()\n"
   ],
   "metadata": {
    "collapsed": false,
    "pycharm": {
     "name": "#%%\n"
    }
   }
  },
  {
   "cell_type": "code",
   "execution_count": null,
   "outputs": [],
   "source": [
    "train_other['education-num'].value_counts().plot(kind = 'bar')"
   ],
   "metadata": {
    "collapsed": false,
    "pycharm": {
     "name": "#%%\n"
    }
   }
  },
  {
   "cell_type": "markdown",
   "source": [
    "#### Relationship"
   ],
   "metadata": {
    "collapsed": false
   }
  },
  {
   "cell_type": "code",
   "execution_count": null,
   "outputs": [],
   "source": [
    "train_other['relationship'].describe()"
   ],
   "metadata": {
    "collapsed": false,
    "pycharm": {
     "name": "#%%\n"
    }
   }
  },
  {
   "cell_type": "code",
   "execution_count": null,
   "outputs": [],
   "source": [
    "train_other['relationship'].unique()"
   ],
   "metadata": {
    "collapsed": false,
    "pycharm": {
     "name": "#%%\n"
    }
   }
  },
  {
   "cell_type": "code",
   "execution_count": null,
   "outputs": [],
   "source": [
    "train_other['relationship'].value_counts().plot(kind = 'bar')"
   ],
   "metadata": {
    "collapsed": false,
    "pycharm": {
     "name": "#%%\n"
    }
   }
  },
  {
   "cell_type": "markdown",
   "source": [
    "#### skewness_glucose"
   ],
   "metadata": {
    "collapsed": false
   }
  },
  {
   "cell_type": "code",
   "execution_count": null,
   "outputs": [],
   "source": [
    "train_other['skewness_glucose'].describe()"
   ],
   "metadata": {
    "collapsed": false,
    "pycharm": {
     "name": "#%%\n"
    }
   }
  },
  {
   "cell_type": "code",
   "execution_count": null,
   "outputs": [],
   "source": [
    "train_other['skewness_glucose'].value_counts().plot(kind = 'line')"
   ],
   "metadata": {
    "collapsed": false,
    "pycharm": {
     "name": "#%%\n"
    }
   }
  },
  {
   "cell_type": "code",
   "execution_count": null,
   "outputs": [],
   "source": [],
   "metadata": {
    "collapsed": false,
    "pycharm": {
     "name": "#%% \n"
    }
   }
  },
  {
   "cell_type": "code",
   "execution_count": null,
   "outputs": [],
   "source": [
    "\n"
   ],
   "metadata": {
    "collapsed": false,
    "pycharm": {
     "name": "#%%\n"
    }
   }
  }
 ],
 "metadata": {
  "kernelspec": {
   "display_name": "Python 3",
   "language": "python",
   "name": "python3"
  },
  "language_info": {
   "codemirror_mode": {
    "name": "ipython",
    "version": 2
   },
   "file_extension": ".py",
   "mimetype": "text/x-python",
   "name": "python",
   "nbconvert_exporter": "python",
   "pygments_lexer": "ipython2",
   "version": "2.7.6"
  },
  "pycharm": {
   "stem_cell": {
    "cell_type": "raw",
    "source": [],
    "metadata": {
     "collapsed": false
    }
   }
  }
 },
 "nbformat": 4,
 "nbformat_minor": 0
}