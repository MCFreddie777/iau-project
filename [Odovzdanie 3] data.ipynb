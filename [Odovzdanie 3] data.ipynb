{
 "cells": [
  {
   "cell_type": "markdown",
   "metadata": {
    "pycharm": {
     "name": "#%% md\n"
    }
   },
   "source": [
    "# Odovzdanie 3 - Strojové učenie \n",
    "#### Anton Rusňák, František Gič"
   ]
  },
  {
   "cell_type": "code",
   "execution_count": 1523,
   "metadata": {
    "pycharm": {
     "is_executing": false,
     "name": "#%%\n"
    }
   },
   "outputs": [],
   "source": [
    "import pandas as pd\n",
    "import numpy as np\n",
    "pd.set_option('display.max_rows', 1000)\n",
    "%matplotlib inline"
   ]
  },
  {
   "cell_type": "code",
   "execution_count": 1591,
   "metadata": {},
   "outputs": [],
   "source": [
    "%run \"functions.py\""
   ]
  },
  {
   "cell_type": "code",
   "execution_count": 1592,
   "metadata": {},
   "outputs": [],
   "source": [
    "datastore = dict()"
   ]
  },
  {
   "cell_type": "code",
   "execution_count": 1593,
   "metadata": {},
   "outputs": [],
   "source": [
    "def repair_data(filename):\n",
    "    \n",
    "    data_personal = load(\"data/personal_\"+filename+\".csv\")\n",
    "    data_other = load(\"data/other_\"+filename+\".csv\")\n",
    "    data = pd.merge(data_personal,data_other,on=['name','address'], how = 'outer')\n",
    "    \n",
    "    functions = [\n",
    "        sanitize_sex,\n",
    "        sanitize_pregnancy,\n",
    "        sanitize_personal_info,\n",
    "        sanitize_age_of_birth,\n",
    "        sanitize_age,\n",
    "        sanitize_income,\n",
    "        sanitize_string_attrs,\n",
    "        deduplicate,\n",
    "        predicate_kurt_oxygen,\n",
    "        fill_education_values,\n",
    "        fill_employment_values,\n",
    "        fill_skewness_glucose,\n",
    "        fill_pregnancy,\n",
    "        fill_relationship_info,\n",
    "        fill_mean_or_most_freq,\n",
    "        resolve_outliers,\n",
    "    ]\n",
    "    \n",
    "    for fn in functions:\n",
    "        data = fn(data,datastore)\n",
    "        \n",
    "    return data"
   ]
  },
  {
   "cell_type": "code",
   "execution_count": 1594,
   "metadata": {
    "pycharm": {
     "is_executing": false,
     "name": "#%%\n"
    }
   },
   "outputs": [
    {
     "name": "stderr",
     "output_type": "stream",
     "text": [
      "/Users/feri/anaconda3/lib/python3.7/site-packages/sklearn/utils/deprecation.py:66: DeprecationWarning: Class Imputer is deprecated; Imputer was deprecated in version 0.20 and will be removed in 0.22. Import impute.SimpleImputer from sklearn instead.\n",
      "  warnings.warn(msg, category=DeprecationWarning)\n",
      "/Users/feri/anaconda3/lib/python3.7/site-packages/sklearn/utils/deprecation.py:66: DeprecationWarning: Class Imputer is deprecated; Imputer was deprecated in version 0.20 and will be removed in 0.22. Import impute.SimpleImputer from sklearn instead.\n",
      "  warnings.warn(msg, category=DeprecationWarning)\n",
      "/Users/feri/Library/Mobile Documents/com~apple~CloudDocs/STU/1.Ing/IAU/projekt/iau-project/functions.py:366: DataConversionWarning: A column-vector y was passed when a 1d array was expected. Please change the shape of y to (n_samples, ), for example using ravel().\n",
      "  store['knn_pregnancy'].fit(X, Y)\n",
      "/Users/feri/Library/Mobile Documents/com~apple~CloudDocs/STU/1.Ing/IAU/projekt/iau-project/functions.py:388: DataConversionWarning: A column-vector y was passed when a 1d array was expected. Please change the shape of y to (n_samples, ), for example using ravel().\n",
      "  store['knn_relationship_info'].fit(X, Y)\n",
      "/Users/feri/Library/Mobile Documents/com~apple~CloudDocs/STU/1.Ing/IAU/projekt/iau-project/functions.py:424: SettingWithCopyWarning: \n",
      "A value is trying to be set on a copy of a slice from a DataFrame\n",
      "\n",
      "See the caveats in the documentation: http://pandas.pydata.org/pandas-docs/stable/indexing.html#indexing-view-versus-copy\n",
      "  X[mask] = self.mean\n",
      "/Users/feri/Library/Mobile Documents/com~apple~CloudDocs/STU/1.Ing/IAU/projekt/iau-project/functions.py:476: RuntimeWarning: divide by zero encountered in log\n",
      "/Users/feri/Library/Mobile Documents/com~apple~CloudDocs/STU/1.Ing/IAU/projekt/iau-project/functions.py:424: SettingWithCopyWarning: \n",
      "A value is trying to be set on a copy of a slice from a DataFrame\n",
      "\n",
      "See the caveats in the documentation: http://pandas.pydata.org/pandas-docs/stable/indexing.html#indexing-view-versus-copy\n",
      "  X[mask] = self.mean\n",
      "/Users/feri/Library/Mobile Documents/com~apple~CloudDocs/STU/1.Ing/IAU/projekt/iau-project/functions.py:476: RuntimeWarning: divide by zero encountered in log\n"
     ]
    }
   ],
   "source": [
    "data_train = repair_data(\"train\")\n",
    "data_valid = repair_data(\"valid\")"
   ]
  }
 ],
 "metadata": {
  "kernelspec": {
   "display_name": "Python 3",
   "language": "python",
   "name": "python3"
  },
  "language_info": {
   "codemirror_mode": {
    "name": "ipython",
    "version": 3
   },
   "file_extension": ".py",
   "mimetype": "text/x-python",
   "name": "python",
   "nbconvert_exporter": "python",
   "pygments_lexer": "ipython3",
   "version": "3.7.3"
  },
  "pycharm": {
   "stem_cell": {
    "cell_type": "raw",
    "metadata": {
     "collapsed": false
    },
    "source": []
   }
  }
 },
 "nbformat": 4,
 "nbformat_minor": 1
}
