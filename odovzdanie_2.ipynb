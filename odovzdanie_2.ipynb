{
 "cells": [
  {
   "cell_type": "code",
   "execution_count": 64,
   "metadata": {
    "collapsed": true,
    "pycharm": {
     "is_executing": false
    }
   },
   "outputs": [],
   "source": [
    "\n"
   ]
  },
  {
   "cell_type": "markdown",
   "source": [
    "# Dataset other_train.csv\n",
    "#### Anton Rusňák, František Gič"
   ],
   "metadata": {
    "collapsed": false
   }
  },
  {
   "cell_type": "code",
   "execution_count": 65,
   "outputs": [],
   "source": [
    "import pandas as pd\n",
    "import numpy as np\n",
    "import matplotlib as mat\n",
    "import matplotlib.pyplot as plt\n",
    "import matplotlib.pylab as pylab\n",
    "import seaborn as sns\n",
    "import statsmodels.api as sm\n",
    "import statsmodels.stats as sm_stats\n",
    "import statsmodels.stats.api as sms\n",
    "import scipy.stats as stats\n",
    "%matplotlib inline\n",
    "\n",
    "data_other = pd.read_csv(\"data/other_train.csv\",sep=\",\")"
   ],
   "metadata": {
    "collapsed": false,
    "pycharm": {
     "name": "#%%\n",
     "is_executing": false
    }
   }
  },
  {
   "cell_type": "code",
   "execution_count": 66,
   "outputs": [],
   "source": [
    "#data_other = data_other.drop(data_other.columns[0],axis=1)\n"
   ],
   "metadata": {
    "collapsed": false,
    "pycharm": {
     "name": "#%%\n",
     "is_executing": false
    }
   }
  },
  {
   "cell_type": "code",
   "execution_count": 67,
   "outputs": [],
   "source": [
    "def sanitize_boolean(boolean):\n",
    "    try:\n",
    "        if boolean.strip() in ['f','F','FALSE','false','False']:\n",
    "            return False\n",
    "        elif boolean.strip() in ['t','T','TRUE','true','True']:\n",
    "            return True\n",
    "    except AttributeError:\n",
    "        return None\n",
    "    \n",
    "data_other.pregnant = data_other.pregnant.apply(sanitize_boolean)\n"
   ],
   "metadata": {
    "collapsed": false,
    "pycharm": {
     "name": "#%%\n",
     "is_executing": false
    }
   }
  },
  {
   "cell_type": "code",
   "execution_count": 68,
   "outputs": [],
   "source": [
    "def parse_personal_info(personal_info):\n",
    "    try:    \n",
    "        return np.array(personal_info.replace(' -- ', ',').replace('|', ',').replace('\\r\\r\\n', ',').split(','))\n",
    "    except AttributeError:\n",
    "        return None\n",
    "    \n",
    "def remove_empty(arr):\n",
    "        if arr is not None:\n",
    "            empty = ['?','??']\n",
    "            for i in range(0,len(arr)):\n",
    "                if (arr[i] != None):\n",
    "                    if arr[i] in empty:\n",
    "                        arr[i] = None\n",
    "        return arr\n",
    "    \n",
    "def fill_value(number,arr):\n",
    "    if arr is not None:\n",
    "        return arr[number]"
   ],
   "metadata": {
    "collapsed": false,
    "pycharm": {
     "name": "#%%\n",
     "is_executing": false
    }
   }
  },
  {
   "cell_type": "code",
   "execution_count": 69,
   "outputs": [],
   "source": [
    "parsed_info = data_other.personal_info.apply(parse_personal_info).apply(remove_empty)\n",
    "\n",
    "for index,name in enumerate(['employment','country','relationship_info','employment_info','race']):\n",
    "    data_other[name] = parsed_info.apply(lambda x: fill_value(index,x))"
   ],
   "metadata": {
    "collapsed": false,
    "pycharm": {
     "name": "#%%\n",
     "is_executing": false
    }
   }
  },
  {
   "cell_type": "code",
   "execution_count": 70,
   "outputs": [
    {
     "name": "stdout",
     "text": [
      "      Unnamed: 0                  name  \\\n611          611        Thomas Sanchez   \n1011        1011          Scott Devine   \n1056        1056           Brian Sayle   \n1579        1579     Timothy Morrissey   \n1612        1612            Jeff Clark   \n1664        1664          Charles Ryan   \n1782        1782             Van Mason   \n1806        1806       Clarence Rivers   \n1844        1844        Edward Peschel   \n1916        1916        Timothy Sexton   \n2032        2032           Robert Coen   \n2146        2146         Jeffrey Silva   \n2300        2300          Joseph Davis   \n2328        2328        William Snyder   \n2433        2433            Carl Gross   \n2452        2452          Leslie Marks   \n2641        2641        Michael Parker   \n2744        2744          Randal Louis   \n3031        3031         Jesse Garrett   \n3039        3039       George Hairston   \n3087        3087         Marcus Martin   \n3124        3124            Ken Howard   \n3142        3142         Matthew Barry   \n3167        3167        Anthony Huston   \n3232        3232         Ronald Vernon   \n3234        3234         William Lacey   \n3261        3261         Adrian Alnutt   \n3289        3289        Martin Winslow   \n3296        3296        Joshua Sanders   \n3299        3299       Francis Siebert   \n3317        3317          Damon Gordon   \n3335        3335         Daniel Browne   \n3353        3353           Walter Lohr   \n3384        3384        Robert Barnett   \n3430        3430             Paul Todd   \n3470        3470      Thomas Hernandez   \n3504        3504       Michale Robbins   \n3540        3540         James Morales   \n3542        3542          Lance Palmer   \n3628        3628         Kenneth Green   \n3654        3654  Christopher Jennings   \n3708        3708           Bert Fowler   \n3722        3722          John Bormann   \n3780        3780           Dean Foster   \n3787        3787          David Muller   \n3881        3881           Peter Simon   \n3882        3882          Julian Davis   \n3926        3926    Zachary Grandfield   \n3943        3943        Larry Hastings   \n3961        3961            John Jaffe   \n\n                                                address  kurtosis_oxygen  \\\n611   08508 Fernandez Flat Apt. 002\\r\\nWest Andrea, ...         2.229245   \n1011            13640 King Way\\r\\nCandacestad, CO 48501        12.921804   \n1056                 Unit 8665 Box 3853\\r\\nDPO AE 91497        10.745293   \n1579        2502 Barker Grove\\r\\nLake Michael, MD 09357         0.641441   \n1612  7111 Brown Divide Suite 582\\r\\nLake Adam, WY 8...         2.481615   \n1664  753 Jenna Forest Suite 302\\r\\nAndrewstad, SC 8...         1.821402   \n1782  07119 Allen Springs Apt. 535\\r\\nTracyfurt, ID ...         9.745960   \n1806         5800 Murphy Hollow\\r\\nPalmerbury, MA 20073        10.912477   \n1844    6562 James Plaza Apt. 950\\r\\nRyanberg, ND 07273              NaN   \n1916                 PSC 7866, Box 3941\\r\\nAPO AE 38197        10.802464   \n2032                      USCGC Roberts\\r\\nFPO AP 79030         4.373814   \n2146  0806 Matthew Radial Suite 640\\r\\nPort Geraldch...         7.350902   \n2300        908 John Squares\\r\\nGordonchester, DE 34696         7.508943   \n2328      935 Patricia Underpass\\r\\nHardyberg, MA 64743        10.811388   \n2433           765 Cruz Walks\\r\\nBentleyburgh, IN 37147         8.359921   \n2452        657 Williams Lakes\\r\\nNew Jessica, SC 19216         7.708201   \n2641  00045 Stuart Divide\\r\\nLake Anthonyfurt, NM 15518         8.620896   \n2744   95639 Gordon Alley Apt. 014\\r\\nAmyview, IA 08273        11.692194   \n3031   02673 Clark Hollow\\r\\nNew Isabellaberg, MS 37603         3.817963   \n3039      18356 Benjamin Roads\\r\\nSouth Nancy, NJ 58120        19.696449   \n3087  0767 Cheryl Spring Suite 383\\r\\nSmithburgh, NC...         9.619149   \n3124  1266 Rice Villages Apt. 837\\r\\nPort Christophe...         3.602677   \n3142                 Unit 3881 Box 9328\\r\\nDPO AE 56526        -0.354235   \n3167  053 Jacob Cape Suite 034\\r\\nFigueroashire, SC ...         9.262513   \n3232        93783 Koch Shore\\r\\nBowersborough, NV 11345        15.797562   \n3234      03291 Stewart Greens\\r\\nSouth David, GA 86868         5.498867   \n3261        8942 Kaufman Park\\r\\nJennifertown, AK 67798         2.902775   \n3289         624 Jones Mountains\\r\\nYoungberg, MO 94502        13.203427   \n3296  0629 Trevor Inlet Suite 858\\r\\nHarrisonborough...        11.938502   \n3299        982 Douglas Lights\\r\\nStewartfort, WY 59574         1.509937   \n3317  9853 Sims Tunnel Apt. 990\\r\\nNorth Katherinebu...        10.728410   \n3335  62435 William Mill Apt. 976\\r\\nMalloryland, ND...        10.115970   \n3353         54747 Corey Shore\\r\\nWest Miguel, ME 23170         9.131698   \n3384  70417 Rodgers Gardens Apt. 766\\r\\nSarahport, N...         3.874827   \n3430  67426 Pierce Greens\\r\\nSouth Kimberlyport, MS ...         9.853659   \n3470      3197 Ashley Street\\r\\nNorth Brandon, WA 90798        11.130535   \n3504  31046 Amy Expressway Suite 183\\r\\nNorth Markbe...         0.766689   \n3540  758 Rush Junctions Suite 181\\r\\nNorth Brenda, ...         0.204406   \n3542                 PSC 3789, Box 2884\\r\\nAPO AA 45129         8.998641   \n3628  1381 Schneider Common Apt. 574\\r\\nSouth Nichol...         9.766992   \n3654  09825 Brian Freeway\\r\\nEast Austinborough, AR ...         1.333386   \n3708         83987 Smith Mall\\r\\nPort Cynthia, NY 01518         2.225273   \n3722          71353 Miller Point\\r\\nLake John, PA 33429        11.919944   \n3780  0953 Jenkins Extensions Suite 206\\r\\nKimhaven,...        12.274998   \n3787    96941 Heather Heights\\r\\nPetersonberg, OK 45722        -0.936519   \n3881          1348 Carlos Valleys\\r\\nJosebury, MD 62824        11.953114   \n3882  75930 Jonathan Passage Suite 688\\r\\nPort Jamie...         9.849796   \n3926  77606 Maxwell Rest Apt. 485\\r\\nPort Jennifer, ...              NaN   \n3943                 PSC 5570, Box 2217\\r\\nAPO AP 22025        15.381605   \n3961                 PSC 3677, Box 2117\\r\\nAPO AE 28076         6.023659   \n\n     pregnant  education-num     relationship  skewness_glucose  mean_glucose  \\\n611     False            NaN   Other-relative         17.381483     50.929688   \n1011     None           13.0          Husband               NaN    128.539062   \n1056    False           15.0          Husband          0.682723    105.484375   \n1579     None           13.0          Husband         18.678145     42.507812   \n1612    False           14.0          Husband         29.112486     39.742188   \n1664    False            7.0        Own-child         16.484870     54.742188   \n1782    False            9.0    Not-in-family          0.683885    113.882812   \n1806    False            9.0    Not-in-family          1.183415    119.671875   \n1844    False            NaN          Husband               NaN     92.773438   \n1916    False           13.0        Own-child         -0.151936    154.187500   \n2032     None           10.0          Husband               NaN    117.765625   \n2146    False           14.0    Not-in-family               NaN    107.828125   \n2300     None            NaN          Husband         -0.344439    117.828125   \n2328    False            4.0        Own-child          0.511960    121.734375   \n2433    False            9.0              NaN          0.535185     95.664062   \n2452    False           13.0              NaN               NaN    118.468750   \n2641    False           10.0          Husband         -0.685681    116.437500   \n2744    False           14.0          Husband          0.036374    122.968750   \n3031    False           13.0    Not-in-family          3.407330     75.500000   \n3039    False           10.0          Husband         -0.016932    124.640625   \n3087    False           14.0          Husband          0.277213    138.195312   \n3124    False            NaN             Wife         -0.200794    130.640625   \n3142    False           10.0    Not-in-family         13.069902     23.789062   \n3167    False           10.0          Husband               NaN     91.468750   \n3232    False            9.0          Husband         -0.707691    119.367188   \n3234    False            NaN          Husband          0.049202    140.179688   \n3261    False            9.0          Husband         -0.394452    118.054688   \n3289    False            9.0    Not-in-family               NaN    127.531250   \n3296     None            NaN        Unmarried         -0.368959           NaN   \n3299    False            9.0          Husband         33.156220     19.492188   \n3317    False           13.0          Husband         -0.734330    139.117188   \n3335    False            9.0        Unmarried         -0.135072    114.906250   \n3353    False           14.0    Not-in-family               NaN    100.515625   \n3384    False            NaN    Not-in-family               NaN     53.796875   \n3430    False           10.0          Husband          0.087275    133.421875   \n3470     None            9.0          Husband         -0.487009           NaN   \n3504    False            NaN          Husband         36.841550     25.882812   \n3540    False            9.0   Other-relative         39.094605      8.109375   \n3542    False           14.0          Husband               NaN    153.429688   \n3628    False           10.0              NaN         -0.397321    106.835938   \n3654    False            9.0    Not-in-family         -1.168893    122.656250   \n3708    False           14.0              NaN               NaN           NaN   \n3722    False           13.0          Husband          0.169072     99.679688   \n3780    False           15.0          Husband          0.118957    120.664062   \n3787    False            9.0              NaN               NaN     54.257812   \n3881    False            NaN   Other-relative          0.504810    111.460938   \n3882     None            NaN        Own-child          0.793905           NaN   \n3926    False            9.0    Not-in-family         -0.043235    102.710938   \n3943    False           11.0    Not-in-family          0.093926    101.718750   \n3961     None            9.0              NaN          1.906458    114.789062   \n\n      std_oxygen  ...  std_glucose  income  mean_oxygen hours-per-week  \\\n611          NaN  ...          NaN   <=50K          NaN            NaN   \n1011         NaN  ...    46.694302   <=50K     1.286789            NaN   \n1056   13.776845  ...    42.219661    >50K     2.162207           60.0   \n1579         NaN  ...    34.301056     NaN          NaN           50.0   \n1612   52.242833  ...    31.130332   <=50K    23.057692            8.0   \n1664   59.420044  ...    32.337634   <=50K    32.774247           30.0   \n1782   19.769107  ...    44.344289   <=50K     2.200669           60.0   \n1806   16.864159  ...    39.307106   <=50K     1.746656           43.0   \n1844   74.427846  ...          NaN    >50K    43.400502            NaN   \n1916         NaN  ...          NaN   <=50K     2.069398           60.0   \n2032   34.429408  ...    50.315176   <=50K     8.146321           40.0   \n2146   22.454845  ...  4627.518054   <=50K          NaN           40.0   \n2300   21.297861  ...    50.184520     NaN     3.221572            3.0   \n2328   13.245584  ...    44.908150   <=50K     2.082776           84.0   \n2433   16.519310  ...    47.606505   <=50K     2.897993           40.0   \n2452   25.240915  ...    52.182663   <=50K          NaN           50.0   \n2641   19.802528  ... -6180.434729    >50K     2.981605           60.0   \n2744   13.656888  ...  4809.446068   <=50K     1.427258           40.0   \n3031   42.676728  ...    47.715629   <=50K    13.190635           45.0   \n3039    9.349634  ...    50.170605    >50K     0.867893           84.0   \n3087   13.620776  ...    43.169010    >50K     2.142977           47.0   \n3124         NaN  ...    50.376044     NaN    11.642977           40.0   \n3142   68.195929  ...  4475.151051   <=50K   130.994147           14.0   \n3167   13.619921  ...    41.077658    >50K     2.407191           40.0   \n3232   10.974850  ...    57.607219   <=50K     0.999164            2.0   \n3234         NaN  ...    45.839127    >50K     6.209866           45.0   \n3261   56.808479  ...    53.474922   <=50K    18.591137           40.0   \n3289         NaN  ...    54.948689   <=50K          NaN           30.0   \n3296   13.171622  ...    55.480443   <=50K     1.644649           40.0   \n3299   57.232719  ...    32.671661   <=50K          NaN           70.0   \n3317   12.430800  ...    61.714390     NaN     2.083612           40.0   \n3335   16.451133  ...    54.366729   <=50K     1.826923            NaN   \n3353   17.132455  ...    36.479871   <=50K     2.175585           35.0   \n3384   41.062448  ...    35.224583   <=50K    12.570234            NaN   \n3430   13.955411  ...    47.333196    >50K     2.377926           40.0   \n3470         NaN  ...    49.812343   <=50K     1.821070           40.0   \n3504   59.255379  ...          NaN     NaN    96.708194           43.0   \n3540   72.147916  ...    33.709057   <=50K   111.352007           40.0   \n3542   19.747333  ...          NaN    >50K     2.485786           50.0   \n3628         NaN  ...    53.789052   <=50K          NaN           50.0   \n3654   69.048403  ...    65.026730   <=50K    40.698997           75.0   \n3708   60.656770  ...    47.029319    >50K    26.102007            NaN   \n3722   12.875357  ...    44.752607   <=50K     1.771739           50.0   \n3780   16.270931  ...    44.941851   <=50K     1.489967           40.0   \n3787   64.792196  ...    41.582231   <=50K   159.611204            NaN   \n3881   16.437662  ...    43.919832     NaN     1.607023           60.0   \n3882   13.091273  ... -4211.331440     NaN     2.339465           40.0   \n3926   17.773259  ...    54.770566   <=50K     2.377090            NaN   \n3943   10.512441  ...    48.484201   <=50K     1.130435           40.0   \n3961         NaN  ...          NaN   <=50K          NaN           40.0   \n\n     capital-loss         employment        country   relationship_info  \\\n611           0.0     Prof-specialty  United-States       Never-married   \n1011          NaN  Machine-op-inspct  United-States  Married-civ-spouse   \n1056          NaN     Prof-specialty  United-States  Married-civ-spouse   \n1579          0.0              Sales  United-States  Married-civ-spouse   \n1612          0.0               None  United-States  Married-civ-spouse   \n1664          0.0      Other-service  United-States       Never-married   \n1782          0.0              Sales  United-States            Divorced   \n1806          0.0  Machine_op_inspct  United-States           Separated   \n1844          0.0      Other-service  United-States  Married-civ-spouse   \n1916          NaN              Sales  United-States       Never-married   \n2032          NaN               None           None                None   \n2146          NaN              Sales  United-States            Divorced   \n2300          NaN               None  United-States  Married-civ-spouse   \n2328          0.0               None  United-States            Divorced   \n2433          0.0              Sales  United-States  Married-civ-spouse   \n2452          NaN     Prof-specialty  United-States            Divorced   \n2641          0.0               None           None                None   \n2744          0.0              Sales  United-States  Married-civ-spouse   \n3031          NaN     Prof-specialty  United-States       Never-married   \n3039          0.0  Machine-op-inspct  United-States  Married-civ-spouse   \n3087          0.0     Prof-specialty  United-States  Married-civ-spouse   \n3124          0.0     Prof-specialty  United-States  Married-civ-spouse   \n3142          0.0       Adm_clerical  United-States       Never-married   \n3167          0.0    Exec-managerial  United-States  Married-civ-spouse   \n3232          0.0               None           None                None   \n3234          0.0     Prof-specialty  United-States  Married-civ-spouse   \n3261          0.0       Craft-repair  United-States  Married-civ-spouse   \n3289          0.0      Other-service  United-States       Never-married   \n3296          0.0              Sales  United-States            Divorced   \n3299          NaN               None           None                None   \n3317          0.0     Prof-specialty  United-States  Married-civ-spouse   \n3335          0.0    Exec-managerial  United-States       Never-married   \n3353          0.0               None         Canada       Never-married   \n3384          0.0               None           None                None   \n3430          0.0       Craft-repair  United-States  Married-civ-spouse   \n3470          0.0               None           None  Married-civ-spouse   \n3504          NaN               None           None                None   \n3540          0.0   Transport-moving  United-States       Never-married   \n3542          0.0    Exec-managerial  United-States  Married-civ-spouse   \n3628          NaN               None           None                None   \n3654          0.0               None           None                None   \n3708          0.0     Prof-specialty  United-States  Married-civ-spouse   \n3722          0.0       Craft-repair         Canada  Married-civ-spouse   \n3780          0.0       Adm-clerical  United-States  Married-civ-spouse   \n3787          0.0               None           None                None   \n3881          0.0  Machine-op-inspct         Mexico       Never-married   \n3882          NaN       Adm-clerical  United-States       Never-married   \n3926          0.0       Adm-clerical  United-States       Never-married   \n3943          0.0       Craft-repair  United-States       Never-married   \n3961          0.0  Machine-op-inspct  United-States  Married-civ-spouse   \n\n       employment_info   race  \n611            Private  White  \n1011           Private  Black  \n1056      Self-emp-inc  White  \n1579           Private  White  \n1612              None  White  \n1664           Private  White  \n1782           Private  White  \n1806           Private  White  \n1844  Self-emp-not-inc  White  \n1916           Private  White  \n2032              None   None  \n2146           Private  White  \n2300              None  White  \n2328              None  White  \n2433           Private  White  \n2452           Private  White  \n2641              None   None  \n2744           Private  White  \n3031           Private  White  \n3039           Private  White  \n3087           Private  White  \n3124         Local-gov  Black  \n3142           Private  Black  \n3167      Self-emp-inc  White  \n3232              None   None  \n3234           Private  White  \n3261         State-gov  White  \n3289           Private  White  \n3296           Private  White  \n3299              None   None  \n3317           Private  White  \n3335           Private  Black  \n3353              None  White  \n3384              None   None  \n3430           Private  White  \n3470              None  White  \n3504              None   None  \n3540           Private  White  \n3542           Private  White  \n3628              None   None  \n3654              None   None  \n3708           Private  White  \n3722      Self-emp-inc  White  \n3780           Private  White  \n3787              None   None  \n3881           Private  White  \n3882         State-gov  White  \n3926           Private  White  \n3943  Self-emp-not-inc  White  \n3961       Federal-gov  White  \n\n[50 rows x 27 columns]\n"
     ],
     "output_type": "stream"
    }
   ],
   "source": [
    "data_duplicates = data_other[data_other.duplicated(subset='name', keep='first')]\n",
    "#print(data_duplicates)"
   ],
   "metadata": {
    "collapsed": false,
    "pycharm": {
     "name": "#%%\n",
     "is_executing": false
    }
   }
  },
  {
   "cell_type": "code",
   "execution_count": 71,
   "outputs": [
    {
     "name": "stdout",
     "text": [
      "<class 'pandas.core.frame.DataFrame'>\nRangeIndex: 3983 entries, 0 to 3982\nData columns (total 27 columns):\nUnnamed: 0           3983 non-null int64\nname                 3983 non-null object\naddress              3983 non-null object\nkurtosis_oxygen      3978 non-null float64\npregnant             3971 non-null object\neducation-num        3965 non-null float64\nrelationship         3970 non-null object\nskewness_glucose     3960 non-null float64\nmean_glucose         3973 non-null float64\nstd_oxygen           3969 non-null float64\ncapital-gain         3967 non-null float64\nskewness_oxygen      3970 non-null float64\nkurtosis_glucose     3965 non-null float64\npersonal_info        3971 non-null object\neducation            3971 non-null object\nfnlwgt               3970 non-null float64\nclass                3964 non-null float64\nstd_glucose          3971 non-null float64\nincome               3969 non-null object\nmean_oxygen          3967 non-null float64\nhours-per-week       3970 non-null float64\ncapital-loss         3963 non-null float64\nemployment           3971 non-null object\ncountry              3971 non-null object\nrelationship_info    3971 non-null object\nemployment_info      3971 non-null object\nrace                 3971 non-null object\ndtypes: float64(14), int64(1), object(12)\nmemory usage: 840.3+ KB\n"
     ],
     "output_type": "stream"
    },
    {
     "data": {
      "text/plain": "   Unnamed: 0           name  \\\n0           0    Alex Chinzi   \n1           1     Scott Bass   \n2           2      Chuck Lao   \n3           3  Floyd Squires   \n4           4  Kenneth Cadet   \n\n                                             address  kurtosis_oxygen  \\\n0  590 Samantha Bridge Apt. 572\\r\\nNorth Allison,...         8.286599   \n1  5384 Hurst Groves Apt. 092\\r\\nFreemanview, SD ...         6.455860   \n2                          USS Scott\\r\\nFPO AE 78885        11.513491   \n3  122 Ryan Ranch Suite 621\\r\\nPort Douglas, NM 0...         7.641796   \n4         30930 Ryan Groves\\r\\nKatelynside, MS 75220         8.826058   \n\n  pregnant  education-num    relationship  skewness_glucose  mean_glucose  \\\n0    False           16.0         Husband          0.234418    107.484375   \n1    False           13.0       Own-child          0.151130    140.203125   \n2    False            9.0       Unmarried         -0.024384    124.054688   \n3    False           13.0   Not-in-family         -0.564287    115.046875   \n4    False            9.0         Husband          0.495896     93.335938   \n\n   std_oxygen  ...  std_glucose  income  mean_oxygen hours-per-week  \\\n0   15.072284  ...    44.487706    >50K     2.448161           50.0   \n1   21.925411  ...    44.586531   <=50K     4.445652           15.0   \n2   11.822427  ...    45.904165   <=50K     1.890468           40.0   \n3   22.965651  ...    58.140302   <=50K     3.639632           40.0   \n4   13.777158  ...    45.605865   <=50K     2.510870           40.0   \n\n  capital-loss      employment        country   relationship_info  \\\n0          0.0  Prof-specialty  United-States  Married-civ-spouse   \n1          0.0  Prof-specialty  United-States       Never-married   \n2          0.0   Other-service         Mexico           Separated   \n3          0.0  Prof-specialty         Canada       Never-married   \n4          0.0           Sales  United-States  Married-civ-spouse   \n\n  employment_info   race  \n0         Private  White  \n1         Private  White  \n2         Private  White  \n3         Private  White  \n4         Private  White  \n\n[5 rows x 27 columns]",
      "text/html": "<div>\n<style scoped>\n    .dataframe tbody tr th:only-of-type {\n        vertical-align: middle;\n    }\n\n    .dataframe tbody tr th {\n        vertical-align: top;\n    }\n\n    .dataframe thead th {\n        text-align: right;\n    }\n</style>\n<table border=\"1\" class=\"dataframe\">\n  <thead>\n    <tr style=\"text-align: right;\">\n      <th></th>\n      <th>Unnamed: 0</th>\n      <th>name</th>\n      <th>address</th>\n      <th>kurtosis_oxygen</th>\n      <th>pregnant</th>\n      <th>education-num</th>\n      <th>relationship</th>\n      <th>skewness_glucose</th>\n      <th>mean_glucose</th>\n      <th>std_oxygen</th>\n      <th>...</th>\n      <th>std_glucose</th>\n      <th>income</th>\n      <th>mean_oxygen</th>\n      <th>hours-per-week</th>\n      <th>capital-loss</th>\n      <th>employment</th>\n      <th>country</th>\n      <th>relationship_info</th>\n      <th>employment_info</th>\n      <th>race</th>\n    </tr>\n  </thead>\n  <tbody>\n    <tr>\n      <td>0</td>\n      <td>0</td>\n      <td>Alex Chinzi</td>\n      <td>590 Samantha Bridge Apt. 572\\r\\nNorth Allison,...</td>\n      <td>8.286599</td>\n      <td>False</td>\n      <td>16.0</td>\n      <td>Husband</td>\n      <td>0.234418</td>\n      <td>107.484375</td>\n      <td>15.072284</td>\n      <td>...</td>\n      <td>44.487706</td>\n      <td>&gt;50K</td>\n      <td>2.448161</td>\n      <td>50.0</td>\n      <td>0.0</td>\n      <td>Prof-specialty</td>\n      <td>United-States</td>\n      <td>Married-civ-spouse</td>\n      <td>Private</td>\n      <td>White</td>\n    </tr>\n    <tr>\n      <td>1</td>\n      <td>1</td>\n      <td>Scott Bass</td>\n      <td>5384 Hurst Groves Apt. 092\\r\\nFreemanview, SD ...</td>\n      <td>6.455860</td>\n      <td>False</td>\n      <td>13.0</td>\n      <td>Own-child</td>\n      <td>0.151130</td>\n      <td>140.203125</td>\n      <td>21.925411</td>\n      <td>...</td>\n      <td>44.586531</td>\n      <td>&lt;=50K</td>\n      <td>4.445652</td>\n      <td>15.0</td>\n      <td>0.0</td>\n      <td>Prof-specialty</td>\n      <td>United-States</td>\n      <td>Never-married</td>\n      <td>Private</td>\n      <td>White</td>\n    </tr>\n    <tr>\n      <td>2</td>\n      <td>2</td>\n      <td>Chuck Lao</td>\n      <td>USS Scott\\r\\nFPO AE 78885</td>\n      <td>11.513491</td>\n      <td>False</td>\n      <td>9.0</td>\n      <td>Unmarried</td>\n      <td>-0.024384</td>\n      <td>124.054688</td>\n      <td>11.822427</td>\n      <td>...</td>\n      <td>45.904165</td>\n      <td>&lt;=50K</td>\n      <td>1.890468</td>\n      <td>40.0</td>\n      <td>0.0</td>\n      <td>Other-service</td>\n      <td>Mexico</td>\n      <td>Separated</td>\n      <td>Private</td>\n      <td>White</td>\n    </tr>\n    <tr>\n      <td>3</td>\n      <td>3</td>\n      <td>Floyd Squires</td>\n      <td>122 Ryan Ranch Suite 621\\r\\nPort Douglas, NM 0...</td>\n      <td>7.641796</td>\n      <td>False</td>\n      <td>13.0</td>\n      <td>Not-in-family</td>\n      <td>-0.564287</td>\n      <td>115.046875</td>\n      <td>22.965651</td>\n      <td>...</td>\n      <td>58.140302</td>\n      <td>&lt;=50K</td>\n      <td>3.639632</td>\n      <td>40.0</td>\n      <td>0.0</td>\n      <td>Prof-specialty</td>\n      <td>Canada</td>\n      <td>Never-married</td>\n      <td>Private</td>\n      <td>White</td>\n    </tr>\n    <tr>\n      <td>4</td>\n      <td>4</td>\n      <td>Kenneth Cadet</td>\n      <td>30930 Ryan Groves\\r\\nKatelynside, MS 75220</td>\n      <td>8.826058</td>\n      <td>False</td>\n      <td>9.0</td>\n      <td>Husband</td>\n      <td>0.495896</td>\n      <td>93.335938</td>\n      <td>13.777158</td>\n      <td>...</td>\n      <td>45.605865</td>\n      <td>&lt;=50K</td>\n      <td>2.510870</td>\n      <td>40.0</td>\n      <td>0.0</td>\n      <td>Sales</td>\n      <td>United-States</td>\n      <td>Married-civ-spouse</td>\n      <td>Private</td>\n      <td>White</td>\n    </tr>\n  </tbody>\n</table>\n<p>5 rows × 27 columns</p>\n</div>"
     },
     "metadata": {},
     "output_type": "execute_result",
     "execution_count": 71
    }
   ],
   "source": [
    "data_other.info()\n",
    "data_other.head()"
   ],
   "metadata": {
    "collapsed": false,
    "pycharm": {
     "name": "#%%\n",
     "is_executing": false
    }
   }
  },
  {
   "cell_type": "code",
   "execution_count": 72,
   "outputs": [],
   "source": [
    "aggregation_functions = {'name': 'first','address':'first', 'kurtosis_oxygen': 'first','pregnant': 'first','education-num': 'first',\n",
    "                         'relationship': 'first','skewness_glucose': 'first','mean_glucose': 'first','std_oxygen': 'first',\n",
    "                         'capital-gain': 'first','skewness_oxygen': 'first','kurtosis_glucose': 'first','personal_info': 'first',\n",
    "                         'education': 'first','fnlwgt': 'first','class': 'first','std_glucose': 'first',\n",
    "                         'income': 'first','mean_oxygen': 'first','hours-per-week': 'first','capital-loss': 'first' ,'employment': 'first' \n",
    "                         ,'country': 'first' ,'relationship_info': 'first' ,'employment_info': 'first' ,'race': 'first' }\n",
    "\n",
    "data_other = data_other.groupby(data_other['name']).aggregate(aggregation_functions)"
   ],
   "metadata": {
    "collapsed": false,
    "pycharm": {
     "name": "#%%\n",
     "is_executing": false
    }
   }
  },
  {
   "cell_type": "code",
   "execution_count": 73,
   "outputs": [
    {
     "name": "stdout",
     "text": [
      "Empty DataFrame\nColumns: [name, address, kurtosis_oxygen, pregnant, education-num, relationship, skewness_glucose, mean_glucose, std_oxygen, capital-gain, skewness_oxygen, kurtosis_glucose, personal_info, education, fnlwgt, class, std_glucose, income, mean_oxygen, hours-per-week, capital-loss, employment, country, relationship_info, employment_info, race]\nIndex: []\n\n[0 rows x 26 columns]\n"
     ],
     "output_type": "stream"
    }
   ],
   "source": [
    "data_duplicates = data_other[data_other.duplicated(subset='name', keep='first')]\n",
    "print(data_duplicates)"
   ],
   "metadata": {
    "collapsed": false,
    "pycharm": {
     "name": "#%%\n",
     "is_executing": false
    }
   }
  },
  {
   "cell_type": "code",
   "execution_count": 74,
   "outputs": [],
   "source": [
    "data_personal = pd.read_csv(\"data/personal_train.csv\",sep=\",\")"
   ],
   "metadata": {
    "collapsed": false,
    "pycharm": {
     "name": "#%%\n",
     "is_executing": false
    }
   }
  },
  {
   "cell_type": "code",
   "execution_count": 75,
   "outputs": [
    {
     "data": {
      "text/plain": "   Unnamed: 0             name  \\\n0           0  Roscoe Bohannon   \n1           1     Ernest Kline   \n2           2  Harold Hendriks   \n3           3   Randy Baptiste   \n4           4  Anthony Colucci   \n\n                                             address  age      sex  \\\n0  7183 Osborne Ways Apt. 651\\r\\nEast Andrew, OH ...   59     Male   \n1  391 Ball Road Suite 961\\r\\nFlowersborough, IN ...   47   Female   \n2     8702 Vincent Square\\r\\nNew Jerryfurt, CO 30614   59     Male   \n3     2751 Harris Crossroad\\r\\nWest Ashley, CA 30311   51   Female   \n4  904 Robert Cliffs Suite 186\\r\\nWest Kyle, CO 7...  NaN   Female   \n\n  date_of_birth  \n0    1960-07-04  \n1    1972-07-20  \n2    1960-02-28  \n3    1967-12-04  \n4    1938-04-22  ",
      "text/html": "<div>\n<style scoped>\n    .dataframe tbody tr th:only-of-type {\n        vertical-align: middle;\n    }\n\n    .dataframe tbody tr th {\n        vertical-align: top;\n    }\n\n    .dataframe thead th {\n        text-align: right;\n    }\n</style>\n<table border=\"1\" class=\"dataframe\">\n  <thead>\n    <tr style=\"text-align: right;\">\n      <th></th>\n      <th>Unnamed: 0</th>\n      <th>name</th>\n      <th>address</th>\n      <th>age</th>\n      <th>sex</th>\n      <th>date_of_birth</th>\n    </tr>\n  </thead>\n  <tbody>\n    <tr>\n      <td>0</td>\n      <td>0</td>\n      <td>Roscoe Bohannon</td>\n      <td>7183 Osborne Ways Apt. 651\\r\\nEast Andrew, OH ...</td>\n      <td>59</td>\n      <td>Male</td>\n      <td>1960-07-04</td>\n    </tr>\n    <tr>\n      <td>1</td>\n      <td>1</td>\n      <td>Ernest Kline</td>\n      <td>391 Ball Road Suite 961\\r\\nFlowersborough, IN ...</td>\n      <td>47</td>\n      <td>Female</td>\n      <td>1972-07-20</td>\n    </tr>\n    <tr>\n      <td>2</td>\n      <td>2</td>\n      <td>Harold Hendriks</td>\n      <td>8702 Vincent Square\\r\\nNew Jerryfurt, CO 30614</td>\n      <td>59</td>\n      <td>Male</td>\n      <td>1960-02-28</td>\n    </tr>\n    <tr>\n      <td>3</td>\n      <td>3</td>\n      <td>Randy Baptiste</td>\n      <td>2751 Harris Crossroad\\r\\nWest Ashley, CA 30311</td>\n      <td>51</td>\n      <td>Female</td>\n      <td>1967-12-04</td>\n    </tr>\n    <tr>\n      <td>4</td>\n      <td>4</td>\n      <td>Anthony Colucci</td>\n      <td>904 Robert Cliffs Suite 186\\r\\nWest Kyle, CO 7...</td>\n      <td>NaN</td>\n      <td>Female</td>\n      <td>1938-04-22</td>\n    </tr>\n  </tbody>\n</table>\n</div>"
     },
     "metadata": {},
     "output_type": "execute_result",
     "execution_count": 75
    }
   ],
   "source": [
    "data_personal.head()"
   ],
   "metadata": {
    "collapsed": false,
    "pycharm": {
     "name": "#%% \n",
     "is_executing": false
    }
   }
  },
  {
   "cell_type": "code",
   "execution_count": 76,
   "outputs": [],
   "source": [
    "data_personal = data_personal.drop(data_personal.columns[0],axis=1)"
   ],
   "metadata": {
    "collapsed": false,
    "pycharm": {
     "name": "#%%\n",
     "is_executing": false
    }
   }
  },
  {
   "cell_type": "code",
   "execution_count": 77,
   "outputs": [
    {
     "name": "stdout",
     "text": [
      "<class 'pandas.core.frame.DataFrame'>\nRangeIndex: 3933 entries, 0 to 3932\nData columns (total 5 columns):\nname             3933 non-null object\naddress          3933 non-null object\nage              3343 non-null object\nsex              3933 non-null object\ndate_of_birth    3933 non-null object\ndtypes: object(5)\nmemory usage: 153.8+ KB\n"
     ],
     "output_type": "stream"
    }
   ],
   "source": [
    "data_personal.info()"
   ],
   "metadata": {
    "collapsed": false,
    "pycharm": {
     "name": "#%%\n",
     "is_executing": false
    }
   }
  },
  {
   "cell_type": "code",
   "execution_count": 78,
   "outputs": [
    {
     "name": "stdout",
     "text": [
      "Empty DataFrame\nColumns: [name, address, age, sex, date_of_birth]\nIndex: []\n"
     ],
     "output_type": "stream"
    }
   ],
   "source": [
    "duplicateRowsDF = data_personal[data_personal.duplicated()]\n",
    "print(duplicateRowsDF)"
   ],
   "metadata": {
    "collapsed": false,
    "pycharm": {
     "name": "#%%\n",
     "is_executing": false
    }
   }
  },
  {
   "cell_type": "code",
   "execution_count": 79,
   "outputs": [],
   "source": [
    "def reload_data():\n",
    "    \"\"\"Reloads the data from CSV file\"\"\"\n",
    "    return pd.read_csv(\"data/personal_train.csv\",sep=\",\",index_col=0)\n",
    "    \n",
    "data_personal = reload_data()\n"
   ],
   "metadata": {
    "collapsed": false,
    "pycharm": {
     "name": "#%%\n",
     "is_executing": false
    }
   }
  },
  {
   "cell_type": "code",
   "execution_count": 84,
   "outputs": [],
   "source": [
    "data_personal.index.name = None\n",
    "data_other.index.name = None\n",
    "\n",
    "data = pd.merge(data_personal,data_other ,left_on=['name','address'], right_on=['name','address'], how = 'outer')"
   ],
   "metadata": {
    "collapsed": false,
    "pycharm": {
     "name": "#%%\n",
     "is_executing": false
    }
   }
  },
  {
   "cell_type": "code",
   "execution_count": 87,
   "outputs": [
    {
     "name": "stdout",
     "text": [
      "<class 'pandas.core.frame.DataFrame'>\nInt64Index: 3933 entries, 0 to 3932\nData columns (total 29 columns):\nname                 3933 non-null object\naddress              3933 non-null object\nage                  3343 non-null object\nsex                  3933 non-null object\ndate_of_birth        3933 non-null object\nkurtosis_oxygen      3933 non-null float64\npregnant             3929 non-null object\neducation-num        3932 non-null float64\nrelationship         3932 non-null object\nskewness_glucose     3931 non-null float64\nmean_glucose         3932 non-null float64\nstd_oxygen           3932 non-null float64\ncapital-gain         3933 non-null float64\nskewness_oxygen      3932 non-null float64\nkurtosis_glucose     3932 non-null float64\npersonal_info        3933 non-null object\neducation            3932 non-null object\nfnlwgt               3933 non-null float64\nclass                3932 non-null float64\nstd_glucose          3933 non-null float64\nincome               3932 non-null object\nmean_oxygen          3933 non-null float64\nhours-per-week       3933 non-null float64\ncapital-loss         3933 non-null float64\nemployment           3930 non-null object\ncountry              3930 non-null object\nrelationship_info    3930 non-null object\nemployment_info      3930 non-null object\nrace                 3930 non-null object\ndtypes: float64(14), object(15)\nmemory usage: 921.8+ KB\n"
     ],
     "output_type": "stream"
    }
   ],
   "source": [
    "data.info()\n"
   ],
   "metadata": {
    "collapsed": false,
    "pycharm": {
     "name": "#%%\n",
     "is_executing": false
    }
   }
  }
 ],
 "metadata": {
  "kernelspec": {
   "display_name": "Python 3",
   "language": "python",
   "name": "python3"
  },
  "language_info": {
   "codemirror_mode": {
    "name": "ipython",
    "version": 2
   },
   "file_extension": ".py",
   "mimetype": "text/x-python",
   "name": "python",
   "nbconvert_exporter": "python",
   "pygments_lexer": "ipython2",
   "version": "2.7.6"
  },
  "pycharm": {
   "stem_cell": {
    "cell_type": "raw",
    "source": [],
    "metadata": {
     "collapsed": false
    }
   }
  }
 },
 "nbformat": 4,
 "nbformat_minor": 0
}