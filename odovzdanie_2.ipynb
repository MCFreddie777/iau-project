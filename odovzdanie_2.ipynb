{
 "cells": [
  {
   "cell_type": "code",
   "execution_count": 407,
   "metadata": {
    "collapsed": true,
    "pycharm": {
     "is_executing": false
    }
   },
   "outputs": [],
   "source": [
    "\n"
   ]
  },
  {
   "cell_type": "markdown",
   "source": [
    "# Dataset other_train.csv\n",
    "#### Anton Rusňák, František Gič"
   ],
   "metadata": {
    "collapsed": false
   }
  },
  {
   "cell_type": "code",
   "execution_count": 408,
   "outputs": [],
   "source": [
    "import pandas as pd\n",
    "import numpy as np\n",
    "import matplotlib as mat\n",
    "import matplotlib.pyplot as plt\n",
    "import matplotlib.pylab as pylab\n",
    "import seaborn as sns\n",
    "import statsmodels.api as sm\n",
    "import statsmodels.stats as sm_stats\n",
    "import statsmodels.stats.api as sms\n",
    "import scipy.stats as stats\n",
    "import statistics \n",
    "from statistics import mode \n",
    "%matplotlib inline\n",
    "\n",
    "data_other = pd.read_csv(\"data/other_train.csv\",sep=\",\")"
   ],
   "metadata": {
    "collapsed": false,
    "pycharm": {
     "name": "#%%\n",
     "is_executing": false
    }
   }
  },
  {
   "cell_type": "code",
   "execution_count": 409,
   "outputs": [],
   "source": [
    "#data_other = data_other.drop(data_other.columns[0],axis=1)\n"
   ],
   "metadata": {
    "collapsed": false,
    "pycharm": {
     "name": "#%%\n",
     "is_executing": false
    }
   }
  },
  {
   "cell_type": "code",
   "execution_count": 410,
   "outputs": [],
   "source": [
    "def sanitize_boolean(boolean):\n",
    "    try:\n",
    "        if boolean.strip() in ['f','F','FALSE','false','False']:\n",
    "            return False\n",
    "        elif boolean.strip() in ['t','T','TRUE','true','True']:\n",
    "            return True\n",
    "    except AttributeError:\n",
    "        return None\n",
    "    \n",
    "data_other.pregnant = data_other.pregnant.apply(sanitize_boolean)\n"
   ],
   "metadata": {
    "collapsed": false,
    "pycharm": {
     "name": "#%%\n",
     "is_executing": false
    }
   }
  },
  {
   "cell_type": "code",
   "execution_count": 411,
   "outputs": [],
   "source": [
    "def parse_personal_info(personal_info):\n",
    "    try:    \n",
    "        return np.array(personal_info.replace(' -- ', ',').replace('|', ',').replace('\\r\\r\\n', ',').split(','))\n",
    "    except AttributeError:\n",
    "        return None\n",
    "    \n",
    "def remove_empty(arr):\n",
    "        if arr is not None:\n",
    "            empty = ['?','??']\n",
    "            for i in range(0,len(arr)):\n",
    "                if (arr[i] != None):\n",
    "                    if arr[i] in empty:\n",
    "                        arr[i] = None\n",
    "        return arr\n",
    "    \n",
    "def fill_value(number,arr):\n",
    "    if arr is not None:\n",
    "        return arr[number]"
   ],
   "metadata": {
    "collapsed": false,
    "pycharm": {
     "name": "#%%\n",
     "is_executing": false
    }
   }
  },
  {
   "cell_type": "code",
   "execution_count": 412,
   "outputs": [],
   "source": [
    "parsed_info = data_other.personal_info.apply(parse_personal_info).apply(remove_empty)\n",
    "\n",
    "for index,name in enumerate(['employment','country','relationship_info','employment_info','race']):\n",
    "    data_other[name] = parsed_info.apply(lambda x: fill_value(index,x))"
   ],
   "metadata": {
    "collapsed": false,
    "pycharm": {
     "name": "#%%\n",
     "is_executing": false
    }
   }
  },
  {
   "cell_type": "code",
   "execution_count": 413,
   "outputs": [],
   "source": [
    "data_duplicates = data_other[data_other.duplicated(subset='name', keep='first')]\n",
    "#print(data_duplicates)"
   ],
   "metadata": {
    "collapsed": false,
    "pycharm": {
     "name": "#%%\n",
     "is_executing": false
    }
   }
  },
  {
   "cell_type": "code",
   "execution_count": 414,
   "outputs": [
    {
     "name": "stdout",
     "text": [
      "<class 'pandas.core.frame.DataFrame'>\nRangeIndex: 3983 entries, 0 to 3982\nData columns (total 27 columns):\nUnnamed: 0           3983 non-null int64\nname                 3983 non-null object\naddress              3983 non-null object\nkurtosis_oxygen      3978 non-null float64\npregnant             3971 non-null object\neducation-num        3965 non-null float64\nrelationship         3970 non-null object\nskewness_glucose     3960 non-null float64\nmean_glucose         3973 non-null float64\nstd_oxygen           3969 non-null float64\ncapital-gain         3967 non-null float64\nskewness_oxygen      3970 non-null float64\nkurtosis_glucose     3965 non-null float64\npersonal_info        3971 non-null object\neducation            3971 non-null object\nfnlwgt               3970 non-null float64\nclass                3964 non-null float64\nstd_glucose          3971 non-null float64\nincome               3969 non-null object\nmean_oxygen          3967 non-null float64\nhours-per-week       3970 non-null float64\ncapital-loss         3963 non-null float64\nemployment           3971 non-null object\ncountry              3971 non-null object\nrelationship_info    3971 non-null object\nemployment_info      3971 non-null object\nrace                 3971 non-null object\ndtypes: float64(14), int64(1), object(12)\nmemory usage: 840.3+ KB\n"
     ],
     "output_type": "stream"
    }
   ],
   "source": [
    " data_other.info()\n",
    "# data_other.head()"
   ],
   "metadata": {
    "collapsed": false,
    "pycharm": {
     "name": "#%%\n",
     "is_executing": false
    }
   }
  },
  {
   "cell_type": "code",
   "execution_count": 415,
   "outputs": [],
   "source": [
    "aggregation_functions = {'name': 'first','address':'first', 'kurtosis_oxygen': 'first','pregnant': 'first','education-num': 'first',\n",
    "                         'relationship': 'first','skewness_glucose': 'first','mean_glucose': 'first','std_oxygen': 'first',\n",
    "                         'capital-gain': 'first','skewness_oxygen': 'first','kurtosis_glucose': 'first','personal_info': 'first',\n",
    "                         'education': 'first','fnlwgt': 'first','class': 'first','std_glucose': 'first',\n",
    "                         'income': 'first','mean_oxygen': 'first','hours-per-week': 'first','capital-loss': 'first' ,'employment': 'first' \n",
    "                         ,'country': 'first' ,'relationship_info': 'first' ,'employment_info': 'first' ,'race': 'first' }\n",
    "\n",
    "data_other = data_other.groupby(data_other['name']).aggregate(aggregation_functions)"
   ],
   "metadata": {
    "collapsed": false,
    "pycharm": {
     "name": "#%%\n",
     "is_executing": false
    }
   }
  },
  {
   "cell_type": "code",
   "execution_count": 416,
   "outputs": [
    {
     "name": "stdout",
     "text": [
      "Empty DataFrame\nColumns: [name, address, kurtosis_oxygen, pregnant, education-num, relationship, skewness_glucose, mean_glucose, std_oxygen, capital-gain, skewness_oxygen, kurtosis_glucose, personal_info, education, fnlwgt, class, std_glucose, income, mean_oxygen, hours-per-week, capital-loss, employment, country, relationship_info, employment_info, race]\nIndex: []\n\n[0 rows x 26 columns]\n"
     ],
     "output_type": "stream"
    }
   ],
   "source": [
    "data_duplicates = data_other[data_other.duplicated(subset='name', keep='first')]\n",
    "print(data_duplicates)"
   ],
   "metadata": {
    "collapsed": false,
    "pycharm": {
     "name": "#%%\n",
     "is_executing": false
    }
   }
  },
  {
   "cell_type": "code",
   "execution_count": 417,
   "outputs": [],
   "source": [
    "data_personal = pd.read_csv(\"data/personal_train.csv\",sep=\",\")"
   ],
   "metadata": {
    "collapsed": false,
    "pycharm": {
     "name": "#%%\n",
     "is_executing": false
    }
   }
  },
  {
   "cell_type": "code",
   "execution_count": 418,
   "outputs": [
    {
     "data": {
      "text/plain": "   Unnamed: 0             name  \\\n0           0  Roscoe Bohannon   \n1           1     Ernest Kline   \n2           2  Harold Hendriks   \n3           3   Randy Baptiste   \n4           4  Anthony Colucci   \n\n                                             address  age      sex  \\\n0  7183 Osborne Ways Apt. 651\\r\\nEast Andrew, OH ...   59     Male   \n1  391 Ball Road Suite 961\\r\\nFlowersborough, IN ...   47   Female   \n2     8702 Vincent Square\\r\\nNew Jerryfurt, CO 30614   59     Male   \n3     2751 Harris Crossroad\\r\\nWest Ashley, CA 30311   51   Female   \n4  904 Robert Cliffs Suite 186\\r\\nWest Kyle, CO 7...  NaN   Female   \n\n  date_of_birth  \n0    1960-07-04  \n1    1972-07-20  \n2    1960-02-28  \n3    1967-12-04  \n4    1938-04-22  ",
      "text/html": "<div>\n<style scoped>\n    .dataframe tbody tr th:only-of-type {\n        vertical-align: middle;\n    }\n\n    .dataframe tbody tr th {\n        vertical-align: top;\n    }\n\n    .dataframe thead th {\n        text-align: right;\n    }\n</style>\n<table border=\"1\" class=\"dataframe\">\n  <thead>\n    <tr style=\"text-align: right;\">\n      <th></th>\n      <th>Unnamed: 0</th>\n      <th>name</th>\n      <th>address</th>\n      <th>age</th>\n      <th>sex</th>\n      <th>date_of_birth</th>\n    </tr>\n  </thead>\n  <tbody>\n    <tr>\n      <td>0</td>\n      <td>0</td>\n      <td>Roscoe Bohannon</td>\n      <td>7183 Osborne Ways Apt. 651\\r\\nEast Andrew, OH ...</td>\n      <td>59</td>\n      <td>Male</td>\n      <td>1960-07-04</td>\n    </tr>\n    <tr>\n      <td>1</td>\n      <td>1</td>\n      <td>Ernest Kline</td>\n      <td>391 Ball Road Suite 961\\r\\nFlowersborough, IN ...</td>\n      <td>47</td>\n      <td>Female</td>\n      <td>1972-07-20</td>\n    </tr>\n    <tr>\n      <td>2</td>\n      <td>2</td>\n      <td>Harold Hendriks</td>\n      <td>8702 Vincent Square\\r\\nNew Jerryfurt, CO 30614</td>\n      <td>59</td>\n      <td>Male</td>\n      <td>1960-02-28</td>\n    </tr>\n    <tr>\n      <td>3</td>\n      <td>3</td>\n      <td>Randy Baptiste</td>\n      <td>2751 Harris Crossroad\\r\\nWest Ashley, CA 30311</td>\n      <td>51</td>\n      <td>Female</td>\n      <td>1967-12-04</td>\n    </tr>\n    <tr>\n      <td>4</td>\n      <td>4</td>\n      <td>Anthony Colucci</td>\n      <td>904 Robert Cliffs Suite 186\\r\\nWest Kyle, CO 7...</td>\n      <td>NaN</td>\n      <td>Female</td>\n      <td>1938-04-22</td>\n    </tr>\n  </tbody>\n</table>\n</div>"
     },
     "metadata": {},
     "output_type": "execute_result",
     "execution_count": 418
    }
   ],
   "source": [
    "data_personal.head()"
   ],
   "metadata": {
    "collapsed": false,
    "pycharm": {
     "name": "#%% \n",
     "is_executing": false
    }
   }
  },
  {
   "cell_type": "code",
   "execution_count": 419,
   "outputs": [],
   "source": [
    "data_personal = data_personal.drop(data_personal.columns[0],axis=1)"
   ],
   "metadata": {
    "collapsed": false,
    "pycharm": {
     "name": "#%%\n",
     "is_executing": false
    }
   }
  },
  {
   "cell_type": "code",
   "execution_count": 420,
   "outputs": [
    {
     "name": "stdout",
     "text": [
      "<class 'pandas.core.frame.DataFrame'>\nRangeIndex: 3933 entries, 0 to 3932\nData columns (total 5 columns):\nname             3933 non-null object\naddress          3933 non-null object\nage              3343 non-null object\nsex              3933 non-null object\ndate_of_birth    3933 non-null object\ndtypes: object(5)\nmemory usage: 153.8+ KB\n"
     ],
     "output_type": "stream"
    }
   ],
   "source": [
    "data_personal.info()"
   ],
   "metadata": {
    "collapsed": false,
    "pycharm": {
     "name": "#%%\n",
     "is_executing": false
    }
   }
  },
  {
   "cell_type": "code",
   "execution_count": 421,
   "outputs": [
    {
     "name": "stdout",
     "text": [
      "Empty DataFrame\nColumns: [name, address, age, sex, date_of_birth]\nIndex: []\n"
     ],
     "output_type": "stream"
    }
   ],
   "source": [
    "duplicateRowsDF = data_personal[data_personal.duplicated()]\n",
    "print(duplicateRowsDF)"
   ],
   "metadata": {
    "collapsed": false,
    "pycharm": {
     "name": "#%%\n",
     "is_executing": false
    }
   }
  },
  {
   "cell_type": "code",
   "execution_count": 422,
   "outputs": [],
   "source": [
    "def reload_data():\n",
    "    \"\"\"Reloads the data from CSV file\"\"\"\n",
    "    return pd.read_csv(\"data/personal_train.csv\",sep=\",\",index_col=0)\n",
    "    \n",
    "data_personal = reload_data()\n"
   ],
   "metadata": {
    "collapsed": false,
    "pycharm": {
     "name": "#%%\n",
     "is_executing": false
    }
   }
  },
  {
   "cell_type": "code",
   "execution_count": 423,
   "outputs": [],
   "source": [
    "data_personal.index.name = None\n",
    "data_other.index.name = None\n",
    "\n",
    "data = pd.merge(data_personal,data_other ,left_on=['name','address'], right_on=['name','address'], how = 'outer')\n"
   ],
   "metadata": {
    "collapsed": false,
    "pycharm": {
     "name": "#%%\n",
     "is_executing": false
    }
   }
  },
  {
   "cell_type": "markdown",
   "source": [
    "Upravenie  dátumu na jednotný formát  \n",
    "Vidíme, podla výpisu nižšie že dátumy majú rôzne formáty"
   ],
   "metadata": {
    "collapsed": false
   }
  },
  {
   "cell_type": "code",
   "execution_count": 424,
   "outputs": [
    {
     "data": {
      "text/plain": "0              1960-07-04\n1              1972-07-20\n2              1960-02-28\n3              1967-12-04\n4              1938-04-22\n5              02/01/1969\n6              1967-04-30\n7     1957-03-08 00:00:00\n8              1980-04-06\n9              1986-08-26\n10               65-09-15\n11    1962-09-17 00:00:00\n12             1926-01-19\n13             1961-03-23\n14               63-05-18\n15    1967-03-31 00 00 00\n16             1971-12-23\n17             1998-05-23\n18             1974-04-08\n19             1978-10-24\n20             1971-03-30\n21             1975-09-28\n22             1998-01-14\n23    1973-11-10 00:00:00\n24             1960-08-06\n25             1973-04-01\n26             1982-08-12\n27             1960-07-29\n28             1994-11-08\n29             1966-06-04\n30             1953-07-18\n31             1955-12-22\n32             1969-05-10\n33    1958-04-18 00 00 00\n34             1953-07-26\n35             1962/12/01\n36             1976-11-20\n37             1955-12-26\n38             1945-08-20\n39             1961-11-14\n40    1964-02-02 00 00 00\n41             1961-02-13\n42             15/08/1974\n43             1978-06-27\n44               59-08-10\n45    1971-01-19 00:00:00\n46             1972-01-01\n47             1983-08-12\n48             1984/11/13\n49             1971-01-10\nName: date_of_birth, dtype: object"
     },
     "metadata": {},
     "output_type": "execute_result",
     "execution_count": 424
    }
   ],
   "source": [
    "data.date_of_birth.head(50)"
   ],
   "metadata": {
    "collapsed": false,
    "pycharm": {
     "name": "#%%\n",
     "is_executing": false
    }
   }
  },
  {
   "cell_type": "code",
   "execution_count": 424,
   "outputs": [],
   "source": [],
   "metadata": {
    "collapsed": false,
    "pycharm": {
     "name": "#%%\n",
     "is_executing": false
    }
   }
  },
  {
   "cell_type": "code",
   "execution_count": 425,
   "outputs": [],
   "source": [
    "def uprav_datum(data,stlpec,):\n",
    "    data_date = data.copy()\n",
    "  \n",
    "    data_date[stlpec] = data_date[stlpec].apply(str)\n",
    "    \n",
    "  #  data_date.loc[~data_date[stlpec].isnull(),stlpec] = data_date.loc[~data_date[stlpec].isnull(),stlpec].str[0:10]\n",
    "    new_date = []\n",
    "  \n",
    "    for i in data_date[stlpec]:\n",
    "        new_i = \"\"\n",
    "        if (str(i).find('n')!=-1):\n",
    "            new_date.append(i)\n",
    "            continue\n",
    "        else:\n",
    "            if (i[2] == '/' ):\n",
    "                i = i.replace('/', '-') \n",
    "                new_date.append(i)\n",
    "                continue\n",
    "            if (i[4] =='/'):\n",
    "                i = i.replace('/', '-')    \n",
    "            if (i[2] == '-'):\n",
    "                new_i = i[6]+i[7]+i[2]+i[3]+i[4]+i[2]+'19'+i[0]+i[1] \n",
    "            if (i[4] == '-'):\n",
    "                new_i = i[8]+i[9]+i[4]+i[5]+i[6]+i[4]+i[0]+i[1]+i[2]+i[3]\n",
    "            new_date.append(new_i)\n",
    "    \n",
    "    data_date[stlpec] = new_date\n",
    " \n",
    "    return new_date"
   ],
   "metadata": {
    "collapsed": false,
    "pycharm": {
     "name": "#%%\n",
     "is_executing": false
    }
   }
  },
  {
   "cell_type": "code",
   "execution_count": 426,
   "outputs": [
    {
     "data": {
      "text/plain": "0"
     },
     "metadata": {},
     "output_type": "execute_result",
     "execution_count": 426
    }
   ],
   "source": [
    "data['date_of_birth']= uprav_datum(data, 'date_of_birth')\n",
    "data['date_of_birth'].isnull().sum()"
   ],
   "metadata": {
    "collapsed": false,
    "pycharm": {
     "name": "#%%\n",
     "is_executing": false
    }
   }
  },
  {
   "cell_type": "markdown",
   "source": [
    "Vidíme že dátum má už jednotný formát "
   ],
   "metadata": {
    "collapsed": false,
    "pycharm": {
     "name": "#%% md\n",
     "is_executing": false
    }
   }
  },
  {
   "cell_type": "code",
   "execution_count": 427,
   "outputs": [
    {
     "data": {
      "text/plain": "0     04-07-1960\n1     20-07-1972\n2     28-02-1960\n3     04-12-1967\n4     22-04-1938\n5     02-01-1969\n6     30-04-1967\n7     08-03-1957\n8     06-04-1980\n9     26-08-1986\n10    15-09-1965\n11    17-09-1962\n12    19-01-1926\n13    23-03-1961\n14    18-05-1963\n15    31-03-1967\n16    23-12-1971\n17    23-05-1998\n18    08-04-1974\n19    24-10-1978\n20    30-03-1971\n21    28-09-1975\n22    14-01-1998\n23    10-11-1973\n24    06-08-1960\n25    01-04-1973\n26    12-08-1982\n27    29-07-1960\n28    08-11-1994\n29    04-06-1966\n30    18-07-1953\n31    22-12-1955\n32    10-05-1969\n33    18-04-1958\n34    26-07-1953\n35    01-12-1962\n36    20-11-1976\n37    26-12-1955\n38    20-08-1945\n39    14-11-1961\n40    02-02-1964\n41    13-02-1961\n42    15-08-1974\n43    27-06-1978\n44    10-08-1959\n45    19-01-1971\n46    01-01-1972\n47    12-08-1983\n48    13-11-1984\n49    10-01-1971\nName: date_of_birth, dtype: object"
     },
     "metadata": {},
     "output_type": "execute_result",
     "execution_count": 427
    }
   ],
   "source": [
    "data.date_of_birth.head(50)"
   ],
   "metadata": {
    "collapsed": false,
    "pycharm": {
     "name": "#%%\n",
     "is_executing": false
    }
   }
  },
  {
   "cell_type": "markdown",
   "source": [
    "# 2 Časť\n",
    "\n",
    "Dplnenie chýbajúcich hodnôt do stĺpca s vekom.\n",
    "Na prázdne hodnoty s"
   ],
   "metadata": {
    "collapsed": false,
    "pycharm": {
     "name": "#%% md\n",
     "is_executing": false
    }
   }
  },
  {
   "cell_type": "code",
   "execution_count": 428,
   "outputs": [
    {
     "data": {
      "text/plain": "0        59\n1        47\n2        59\n3        51\n4       NaN\n       ... \n3928     50\n3929     52\n3930     58\n3931    NaN\n3932     60\nName: age, Length: 3933, dtype: object"
     },
     "metadata": {},
     "output_type": "execute_result",
     "execution_count": 428
    }
   ],
   "source": [
    "data.age"
   ],
   "metadata": {
    "collapsed": false,
    "pycharm": {
     "name": "#%%\n",
     "is_executing": false
    }
   }
  },
  {
   "cell_type": "code",
   "execution_count": 429,
   "outputs": [],
   "source": [
    "def change(age):\n",
    "    empty = ['?','??','nan\\t','\\r\\r\\n??','nan\\r\\r\\n','??\\t',' nan','\\r\\r\\nnan', '\\t??','nan ','??\\r\\r\\n','\\tnan',' ??',None,'?? ', -1 ]\n",
    "    if age in empty:\n",
    "           age = None   \n",
    "    return age"
   ],
   "metadata": {
    "collapsed": false,
    "pycharm": {
     "name": "#%%\n",
     "is_executing": false
    }
   }
  },
  {
   "cell_type": "code",
   "execution_count": 430,
   "outputs": [],
   "source": [
    "df = data.age.apply(change)"
   ],
   "metadata": {
    "collapsed": false,
    "pycharm": {
     "name": "#%%\n",
     "is_executing": false
    }
   }
  },
  {
   "cell_type": "code",
   "execution_count": 431,
   "outputs": [
    {
     "data": {
      "text/plain": "array(['59', '47', '51', nan, '50', '52', '62', '39', '33', '57', '58',\n       None, '45', '40', '48', '44', '21', '46', '37', '24', '66', '63',\n       '42', '74', '55', '41', '60', '36', '34', '53', '77', '38', '69',\n       '43', '54', '29', '61', '73', '64', '31', '71', '65', '49', '32',\n       '70', '27', '68', '9', '67', '56', '81', '35', '78', '25', '30',\n       '26', '75', '-1', '23', '82', '79', '72', '16', '18', '76', '99',\n       '22', '28', '17', '20', '80', '7', '86', '19', '83', '84', '85',\n       '90', '3', '12', '87', '97', '14'], dtype=object)"
     },
     "metadata": {},
     "output_type": "execute_result",
     "execution_count": 431
    }
   ],
   "source": [
    "df.unique()"
   ],
   "metadata": {
    "collapsed": false,
    "pycharm": {
     "name": "#%%\n",
     "is_executing": false
    }
   }
  },
  {
   "cell_type": "code",
   "execution_count": 432,
   "outputs": [],
   "source": [
    "# df = pd.to_numeric(df)\n",
    "df = df.fillna(0)"
   ],
   "metadata": {
    "collapsed": false,
    "pycharm": {
     "name": "#%%\n",
     "is_executing": false
    }
   }
  },
  {
   "cell_type": "code",
   "execution_count": 433,
   "outputs": [
    {
     "data": {
      "text/plain": "0       59\n1       47\n2       59\n3       51\n4        0\n        ..\n3928    50\n3929    52\n3930    58\n3931     0\n3932    60\nName: age, Length: 3933, dtype: int32"
     },
     "metadata": {},
     "output_type": "execute_result",
     "execution_count": 433
    }
   ],
   "source": [
    "df = df.astype(int)\n",
    "df"
   ],
   "metadata": {
    "collapsed": false,
    "pycharm": {
     "name": "#%%\n",
     "is_executing": false
    }
   }
  },
  {
   "cell_type": "code",
   "execution_count": 434,
   "outputs": [
    {
     "data": {
      "text/plain": "count     3343\nunique      94\ntop         53\nfreq       120\nName: age, dtype: object"
     },
     "metadata": {},
     "output_type": "execute_result",
     "execution_count": 434
    }
   ],
   "source": [
    "data['age'].describe()"
   ],
   "metadata": {
    "collapsed": false,
    "pycharm": {
     "name": "#%%\n",
     "is_executing": false
    }
   }
  },
  {
   "cell_type": "markdown",
   "source": [
    "Doplnenie veku podla mean - m;6u nasta5 nezhody s d8tumom narodenia"
   ],
   "metadata": {
    "collapsed": false,
    "pycharm": {
     "name": "#%% md\n",
     "is_executing": false
    }
   }
  },
  {
   "cell_type": "code",
   "execution_count": 435,
   "outputs": [],
   "source": [
    "data.age = df\n",
    "# \n",
    "# mean_age = data['age'].mean()\n",
    "# mean_age = int(mean_age)\n",
    "# mean_age"
   ],
   "metadata": {
    "collapsed": false,
    "pycharm": {
     "name": "#%%\n",
     "is_executing": false
    }
   }
  },
  {
   "cell_type": "code",
   "execution_count": 436,
   "outputs": [],
   "source": [
    "# data.info()\n",
    "# data.loc[data.age <= 0, 'age'] = mean_age"
   ],
   "metadata": {
    "collapsed": false,
    "pycharm": {
     "name": "#%%\n",
     "is_executing": false
    }
   }
  },
  {
   "cell_type": "markdown",
   "source": [
    "Najdeme najfrekventovanejsi rok po scitani veku a roku narodenia a ten vyuzijeme na dopocitanie veku osob ktore ho nemaju "
   ],
   "metadata": {
    "collapsed": false,
    "pycharm": {
     "name": "#%% md\n"
    }
   }
  },
  {
   "cell_type": "code",
   "execution_count": 437,
   "outputs": [],
   "source": [
    "def most_frequent(List): \n",
    "    num = List[0] \n",
    "    for i in List: \n",
    "        num = i \n",
    "    return num \n",
    "  "
   ],
   "metadata": {
    "collapsed": false,
    "pycharm": {
     "name": "#%%\n",
     "is_executing": false
    }
   }
  },
  {
   "cell_type": "code",
   "execution_count": 438,
   "outputs": [],
   "source": [
    "def najdi_rok(data):\n",
    "    valid_date_data = []\n",
    "    person_date = data['date_of_birth'].str[6:10]\n",
    "    person_age = data['age']\n",
    "    person_date  =  person_date .astype(int)\n",
    "    temp = person_age+person_date\n",
    "    valid_date_data.append(temp)\n",
    "    return most_frequent(valid_date_data)\n",
    "\n",
    "\n"
   ],
   "metadata": {
    "collapsed": false,
    "pycharm": {
     "name": "#%%\n",
     "is_executing": false
    }
   }
  },
  {
   "cell_type": "code",
   "execution_count": 439,
   "outputs": [],
   "source": [
    "valid = najdi_rok(data)"
   ],
   "metadata": {
    "collapsed": false,
    "pycharm": {
     "name": "#%%\n",
     "is_executing": false
    }
   }
  },
  {
   "cell_type": "code",
   "execution_count": 440,
   "outputs": [
    {
     "data": {
      "text/plain": "      0\n0  2019",
      "text/html": "<div>\n<style scoped>\n    .dataframe tbody tr th:only-of-type {\n        vertical-align: middle;\n    }\n\n    .dataframe tbody tr th {\n        vertical-align: top;\n    }\n\n    .dataframe thead th {\n        text-align: right;\n    }\n</style>\n<table border=\"1\" class=\"dataframe\">\n  <thead>\n    <tr style=\"text-align: right;\">\n      <th></th>\n      <th>0</th>\n    </tr>\n  </thead>\n  <tbody>\n    <tr>\n      <td>0</td>\n      <td>2019</td>\n    </tr>\n  </tbody>\n</table>\n</div>"
     },
     "metadata": {},
     "output_type": "execute_result",
     "execution_count": 440
    }
   ],
   "source": [
    "temp = pd.DataFrame(valid)\n",
    "temp.mode()"
   ],
   "metadata": {
    "collapsed": false,
    "pycharm": {
     "name": "#%%\n",
     "is_executing": false
    }
   }
  },
  {
   "cell_type": "code",
   "execution_count": 441,
   "outputs": [
    {
     "data": {
      "text/plain": "2019"
     },
     "metadata": {},
     "output_type": "execute_result",
     "execution_count": 441
    }
   ],
   "source": [
    "validny_rok=temp.iloc[0][0]\n",
    "validny_rok"
   ],
   "metadata": {
    "collapsed": false,
    "pycharm": {
     "name": "#%%\n",
     "is_executing": false
    }
   }
  },
  {
   "cell_type": "code",
   "execution_count": 442,
   "outputs": [],
   "source": [
    "def dopocitanie_vek(data):\n",
    "        #person_age = data['age']\n",
    "        person_date = data['date_of_birth'].str[6:10]\n",
    "        person_date  =  person_date.astype(int)\n",
    "       # if person_age <=0:\n",
    "        print('bla')\n",
    "        temp = validny_rok - person_date\n",
    "        print(temp)\n",
    "        data.loc[data.age <= 0, 'age'] = temp\n",
    "        return data\n"
   ],
   "metadata": {
    "collapsed": false,
    "pycharm": {
     "name": "#%%\n",
     "is_executing": false
    }
   }
  },
  {
   "cell_type": "code",
   "execution_count": 443,
   "outputs": [
    {
     "name": "stdout",
     "text": [
      "bla\n0       59\n1       47\n2       59\n3       52\n4       81\n        ..\n3928    50\n3929    53\n3930    59\n3931    68\n3932    60\nName: date_of_birth, Length: 3933, dtype: int32\n"
     ],
     "output_type": "stream"
    }
   ],
   "source": [
    "data = dopocitanie_vek(data)"
   ],
   "metadata": {
    "collapsed": false,
    "pycharm": {
     "name": "#%%\n",
     "is_executing": false
    }
   }
  },
  {
   "cell_type": "code",
   "execution_count": 444,
   "outputs": [
    {
     "data": {
      "text/plain": "0    59\n1    47\n2    59\n3    51\n4    81\nName: age, dtype: int32"
     },
     "metadata": {},
     "output_type": "execute_result",
     "execution_count": 444
    }
   ],
   "source": [
    "data.age.head()"
   ],
   "metadata": {
    "collapsed": false,
    "pycharm": {
     "name": "#%%\n",
     "is_executing": false
    }
   }
  },
  {
   "cell_type": "code",
   "execution_count": 445,
   "outputs": [
    {
     "data": {
      "text/plain": "                     name                                            address  \\\n0         Roscoe Bohannon  7183 Osborne Ways Apt. 651\\r\\nEast Andrew, OH ...   \n1            Ernest Kline  391 Ball Road Suite 961\\r\\nFlowersborough, IN ...   \n2         Harold Hendriks     8702 Vincent Square\\r\\nNew Jerryfurt, CO 30614   \n3          Randy Baptiste     2751 Harris Crossroad\\r\\nWest Ashley, CA 30311   \n4         Anthony Colucci  904 Robert Cliffs Suite 186\\r\\nWest Kyle, CO 7...   \n...                   ...                                                ...   \n3928      Clair Pinkleton             8582 Lee Roads\\r\\nCostaburgh, SC 21897   \n3929         William Pope  68430 Erik Terrace Suite 279\\r\\nPort Adamborou...   \n3930         Jared Kinsey                 Unit 8416 Box 3801\\r\\nDPO AE 31166   \n3931     Frederick Lawley   34420 Brian Stream\\r\\nLake Michaeltown, MS 01832   \n3932  Adalberto Daughters                 Unit 7931 Box 0601\\r\\nDPO AE 50505   \n\n      age      sex date_of_birth  kurtosis_oxygen pregnant  education-num  \\\n0      59     Male    04-07-1960         5.190414    False            9.0   \n1      47   Female    20-07-1972        10.079446    False            9.0   \n2      59     Male    28-02-1960         9.967118    False           13.0   \n3      51   Female    04-12-1967        12.175754    False            9.0   \n4      81   Female    22-04-1938         0.942381    False           10.0   \n...   ...      ...           ...              ...      ...            ...   \n3928   50     Male    27-08-1969        14.217960    False           13.0   \n3929   52   Female    21-11-1966        14.629993    False            9.0   \n3930   58   Female    29-10-1960         8.715394    False            7.0   \n3931   68   Female    14-02-1951        -1.283502    False           12.0   \n3932   60     Male    03-04-1959         7.162547    False           13.0   \n\n        relationship  skewness_glucose  ...  std_glucose  income  mean_oxygen  \\\n0      Not-in-family         -0.043867  ...    48.037897   <=50K     5.914716   \n1          Own-child          0.923553  ...    42.581355   <=50K     2.192308   \n2            Husband          0.060398  ...    46.838379    >50K     2.127090   \n3               Wife         -0.583193  ...  5297.316538    >50K     1.627090   \n4      Not-in-family          3.656040  ...    44.538595   <=50K    64.813545   \n...              ...               ...  ...          ...     ...          ...   \n3928   Not-in-family          2.375737  ...    36.946458   <=50K     1.307692   \n3929            Wife          0.158678  ...    46.378884   <=50K     1.239130   \n3930       Unmarried         -0.475804  ...    50.472706   <=50K     2.816890   \n3931   Not-in-family          7.695857  ...    43.649443   <=50K   178.700669   \n3932       Unmarried          1.254641  ...    37.779071   <=50K     3.210702   \n\n      hours-per-week  capital-loss         employment             country  \\\n0               40.0           0.0   Transport-moving       United-States   \n1               45.0           0.0       Adm-clerical       United-States   \n2               40.0           0.0     Prof-specialty       United-States   \n3               40.0           0.0     Prof-specialty       United-States   \n4               16.0           0.0       Tech-support       United-States   \n...              ...           ...                ...                 ...   \n3928            40.0           0.0       Craft_repair  Dominican-Republic   \n3929            20.0           0.0               None       United-States   \n3930            40.0           0.0  Machine-op-inspct       United-States   \n3931            45.0           0.0       Adm-clerical       United-States   \n3932            40.0           0.0       Tech-support       United-States   \n\n          relationship_info  employment_info   race  \n0                  Divorced          Private  White  \n1                  Divorced          Private  White  \n2        Married-civ-spouse          Private  White  \n3        Married-civ-spouse        State-gov  White  \n4             Never-married          Private  White  \n...                     ...              ...    ...  \n3928  Married-spouse-absent          Private  Black  \n3929     Married-civ-spouse             None  White  \n3930               Divorced          Private  White  \n3931          Never-married          Private  White  \n3932          Never-married          Private  White  \n\n[3933 rows x 29 columns]",
      "text/html": "<div>\n<style scoped>\n    .dataframe tbody tr th:only-of-type {\n        vertical-align: middle;\n    }\n\n    .dataframe tbody tr th {\n        vertical-align: top;\n    }\n\n    .dataframe thead th {\n        text-align: right;\n    }\n</style>\n<table border=\"1\" class=\"dataframe\">\n  <thead>\n    <tr style=\"text-align: right;\">\n      <th></th>\n      <th>name</th>\n      <th>address</th>\n      <th>age</th>\n      <th>sex</th>\n      <th>date_of_birth</th>\n      <th>kurtosis_oxygen</th>\n      <th>pregnant</th>\n      <th>education-num</th>\n      <th>relationship</th>\n      <th>skewness_glucose</th>\n      <th>...</th>\n      <th>std_glucose</th>\n      <th>income</th>\n      <th>mean_oxygen</th>\n      <th>hours-per-week</th>\n      <th>capital-loss</th>\n      <th>employment</th>\n      <th>country</th>\n      <th>relationship_info</th>\n      <th>employment_info</th>\n      <th>race</th>\n    </tr>\n  </thead>\n  <tbody>\n    <tr>\n      <td>0</td>\n      <td>Roscoe Bohannon</td>\n      <td>7183 Osborne Ways Apt. 651\\r\\nEast Andrew, OH ...</td>\n      <td>59</td>\n      <td>Male</td>\n      <td>04-07-1960</td>\n      <td>5.190414</td>\n      <td>False</td>\n      <td>9.0</td>\n      <td>Not-in-family</td>\n      <td>-0.043867</td>\n      <td>...</td>\n      <td>48.037897</td>\n      <td>&lt;=50K</td>\n      <td>5.914716</td>\n      <td>40.0</td>\n      <td>0.0</td>\n      <td>Transport-moving</td>\n      <td>United-States</td>\n      <td>Divorced</td>\n      <td>Private</td>\n      <td>White</td>\n    </tr>\n    <tr>\n      <td>1</td>\n      <td>Ernest Kline</td>\n      <td>391 Ball Road Suite 961\\r\\nFlowersborough, IN ...</td>\n      <td>47</td>\n      <td>Female</td>\n      <td>20-07-1972</td>\n      <td>10.079446</td>\n      <td>False</td>\n      <td>9.0</td>\n      <td>Own-child</td>\n      <td>0.923553</td>\n      <td>...</td>\n      <td>42.581355</td>\n      <td>&lt;=50K</td>\n      <td>2.192308</td>\n      <td>45.0</td>\n      <td>0.0</td>\n      <td>Adm-clerical</td>\n      <td>United-States</td>\n      <td>Divorced</td>\n      <td>Private</td>\n      <td>White</td>\n    </tr>\n    <tr>\n      <td>2</td>\n      <td>Harold Hendriks</td>\n      <td>8702 Vincent Square\\r\\nNew Jerryfurt, CO 30614</td>\n      <td>59</td>\n      <td>Male</td>\n      <td>28-02-1960</td>\n      <td>9.967118</td>\n      <td>False</td>\n      <td>13.0</td>\n      <td>Husband</td>\n      <td>0.060398</td>\n      <td>...</td>\n      <td>46.838379</td>\n      <td>&gt;50K</td>\n      <td>2.127090</td>\n      <td>40.0</td>\n      <td>0.0</td>\n      <td>Prof-specialty</td>\n      <td>United-States</td>\n      <td>Married-civ-spouse</td>\n      <td>Private</td>\n      <td>White</td>\n    </tr>\n    <tr>\n      <td>3</td>\n      <td>Randy Baptiste</td>\n      <td>2751 Harris Crossroad\\r\\nWest Ashley, CA 30311</td>\n      <td>51</td>\n      <td>Female</td>\n      <td>04-12-1967</td>\n      <td>12.175754</td>\n      <td>False</td>\n      <td>9.0</td>\n      <td>Wife</td>\n      <td>-0.583193</td>\n      <td>...</td>\n      <td>5297.316538</td>\n      <td>&gt;50K</td>\n      <td>1.627090</td>\n      <td>40.0</td>\n      <td>0.0</td>\n      <td>Prof-specialty</td>\n      <td>United-States</td>\n      <td>Married-civ-spouse</td>\n      <td>State-gov</td>\n      <td>White</td>\n    </tr>\n    <tr>\n      <td>4</td>\n      <td>Anthony Colucci</td>\n      <td>904 Robert Cliffs Suite 186\\r\\nWest Kyle, CO 7...</td>\n      <td>81</td>\n      <td>Female</td>\n      <td>22-04-1938</td>\n      <td>0.942381</td>\n      <td>False</td>\n      <td>10.0</td>\n      <td>Not-in-family</td>\n      <td>3.656040</td>\n      <td>...</td>\n      <td>44.538595</td>\n      <td>&lt;=50K</td>\n      <td>64.813545</td>\n      <td>16.0</td>\n      <td>0.0</td>\n      <td>Tech-support</td>\n      <td>United-States</td>\n      <td>Never-married</td>\n      <td>Private</td>\n      <td>White</td>\n    </tr>\n    <tr>\n      <td>...</td>\n      <td>...</td>\n      <td>...</td>\n      <td>...</td>\n      <td>...</td>\n      <td>...</td>\n      <td>...</td>\n      <td>...</td>\n      <td>...</td>\n      <td>...</td>\n      <td>...</td>\n      <td>...</td>\n      <td>...</td>\n      <td>...</td>\n      <td>...</td>\n      <td>...</td>\n      <td>...</td>\n      <td>...</td>\n      <td>...</td>\n      <td>...</td>\n      <td>...</td>\n      <td>...</td>\n    </tr>\n    <tr>\n      <td>3928</td>\n      <td>Clair Pinkleton</td>\n      <td>8582 Lee Roads\\r\\nCostaburgh, SC 21897</td>\n      <td>50</td>\n      <td>Male</td>\n      <td>27-08-1969</td>\n      <td>14.217960</td>\n      <td>False</td>\n      <td>13.0</td>\n      <td>Not-in-family</td>\n      <td>2.375737</td>\n      <td>...</td>\n      <td>36.946458</td>\n      <td>&lt;=50K</td>\n      <td>1.307692</td>\n      <td>40.0</td>\n      <td>0.0</td>\n      <td>Craft_repair</td>\n      <td>Dominican-Republic</td>\n      <td>Married-spouse-absent</td>\n      <td>Private</td>\n      <td>Black</td>\n    </tr>\n    <tr>\n      <td>3929</td>\n      <td>William Pope</td>\n      <td>68430 Erik Terrace Suite 279\\r\\nPort Adamborou...</td>\n      <td>52</td>\n      <td>Female</td>\n      <td>21-11-1966</td>\n      <td>14.629993</td>\n      <td>False</td>\n      <td>9.0</td>\n      <td>Wife</td>\n      <td>0.158678</td>\n      <td>...</td>\n      <td>46.378884</td>\n      <td>&lt;=50K</td>\n      <td>1.239130</td>\n      <td>20.0</td>\n      <td>0.0</td>\n      <td>None</td>\n      <td>United-States</td>\n      <td>Married-civ-spouse</td>\n      <td>None</td>\n      <td>White</td>\n    </tr>\n    <tr>\n      <td>3930</td>\n      <td>Jared Kinsey</td>\n      <td>Unit 8416 Box 3801\\r\\nDPO AE 31166</td>\n      <td>58</td>\n      <td>Female</td>\n      <td>29-10-1960</td>\n      <td>8.715394</td>\n      <td>False</td>\n      <td>7.0</td>\n      <td>Unmarried</td>\n      <td>-0.475804</td>\n      <td>...</td>\n      <td>50.472706</td>\n      <td>&lt;=50K</td>\n      <td>2.816890</td>\n      <td>40.0</td>\n      <td>0.0</td>\n      <td>Machine-op-inspct</td>\n      <td>United-States</td>\n      <td>Divorced</td>\n      <td>Private</td>\n      <td>White</td>\n    </tr>\n    <tr>\n      <td>3931</td>\n      <td>Frederick Lawley</td>\n      <td>34420 Brian Stream\\r\\nLake Michaeltown, MS 01832</td>\n      <td>68</td>\n      <td>Female</td>\n      <td>14-02-1951</td>\n      <td>-1.283502</td>\n      <td>False</td>\n      <td>12.0</td>\n      <td>Not-in-family</td>\n      <td>7.695857</td>\n      <td>...</td>\n      <td>43.649443</td>\n      <td>&lt;=50K</td>\n      <td>178.700669</td>\n      <td>45.0</td>\n      <td>0.0</td>\n      <td>Adm-clerical</td>\n      <td>United-States</td>\n      <td>Never-married</td>\n      <td>Private</td>\n      <td>White</td>\n    </tr>\n    <tr>\n      <td>3932</td>\n      <td>Adalberto Daughters</td>\n      <td>Unit 7931 Box 0601\\r\\nDPO AE 50505</td>\n      <td>60</td>\n      <td>Male</td>\n      <td>03-04-1959</td>\n      <td>7.162547</td>\n      <td>False</td>\n      <td>13.0</td>\n      <td>Unmarried</td>\n      <td>1.254641</td>\n      <td>...</td>\n      <td>37.779071</td>\n      <td>&lt;=50K</td>\n      <td>3.210702</td>\n      <td>40.0</td>\n      <td>0.0</td>\n      <td>Tech-support</td>\n      <td>United-States</td>\n      <td>Never-married</td>\n      <td>Private</td>\n      <td>White</td>\n    </tr>\n  </tbody>\n</table>\n<p>3933 rows × 29 columns</p>\n</div>"
     },
     "metadata": {},
     "output_type": "execute_result",
     "execution_count": 445
    }
   ],
   "source": [
    "data\n",
    "\n"
   ],
   "metadata": {
    "collapsed": false,
    "pycharm": {
     "name": "#%%\n",
     "is_executing": false
    }
   }
  },
  {
   "cell_type": "code",
   "execution_count": 445,
   "outputs": [],
   "source": [
    "\n"
   ],
   "metadata": {
    "collapsed": false,
    "pycharm": {
     "name": "#%%\n",
     "is_executing": false
    }
   }
  }
 ],
 "metadata": {
  "kernelspec": {
   "display_name": "Python 3",
   "language": "python",
   "name": "python3"
  },
  "language_info": {
   "codemirror_mode": {
    "name": "ipython",
    "version": 2
   },
   "file_extension": ".py",
   "mimetype": "text/x-python",
   "name": "python",
   "nbconvert_exporter": "python",
   "pygments_lexer": "ipython2",
   "version": "2.7.6"
  },
  "pycharm": {
   "stem_cell": {
    "cell_type": "raw",
    "source": [],
    "metadata": {
     "collapsed": false
    }
   }
  }
 },
 "nbformat": 4,
 "nbformat_minor": 0
}