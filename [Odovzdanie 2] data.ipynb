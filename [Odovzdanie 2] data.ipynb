{
 "cells": [
  {
   "cell_type": "markdown",
   "metadata": {
    "pycharm": {
     "name": "#%% md\n"
    }
   },
   "source": [
    "    # Odovzdanie 2 - Predspracovanie\n",
    "#### Anton Rusňák, František Gič"
   ]
  },
  {
   "cell_type": "code",
   "execution_count": 1,
   "metadata": {
    "pycharm": {
     "is_executing": false,
     "name": "#%%\n"
    }
   },
   "outputs": [],
   "source": [
    "import pandas as pd\n",
    "import numpy as np\n",
    "import matplotlib as mat\n",
    "import matplotlib.pyplot as plt\n",
    "import matplotlib.pylab as pylab\n",
    "import seaborn as sns\n",
    "import statsmodels.api as sm\n",
    "import statsmodels.stats as sm_stats\n",
    "import statsmodels.stats.api as sms\n",
    "import scipy.stats as stats\n",
    "import statistics \n",
    "from statistics import mode \n",
    "%matplotlib inline\n",
    "pd.set_option('display.max_rows', 1000)"
   ]
  },
  {
   "cell_type": "markdown",
   "metadata": {},
   "source": [
    "Nacitanie pomocnych funkcii zo skriptu"
   ]
  },
  {
   "cell_type": "code",
   "execution_count": 2,
   "metadata": {
    "pycharm": {
     "is_executing": false,
     "name": "#%%\n"
    }
   },
   "outputs": [],
   "source": [
    "%run \"functions.py\""
   ]
  },
  {
   "cell_type": "markdown",
   "metadata": {
    "pycharm": {
     "name": "#%% md\n"
    }
   },
   "source": [
    "### Nacitanie datasetov "
   ]
  },
  {
   "cell_type": "code",
   "execution_count": 3,
   "metadata": {
    "pycharm": {
     "is_executing": false,
     "name": "#%%\n"
    }
   },
   "outputs": [
    {
     "name": "stdout",
     "output_type": "stream",
     "text": [
      "3933\n",
      "3983\n"
     ]
    }
   ],
   "source": [
    "data_personal = load(\"data/personal_train.csv\")\n",
    "data_other = load(\"data/other_train.csv\")\n",
    "\n",
    "print(len(data_personal))\n",
    "print(len(data_other))"
   ]
  },
  {
   "cell_type": "markdown",
   "metadata": {
    "pycharm": {
     "name": "#%% md\n"
    }
   },
   "source": [
    "### Spajanie datasetov"
   ]
  },
  {
   "cell_type": "code",
   "execution_count": 4,
   "metadata": {
    "pycharm": {
     "is_executing": false,
     "name": "#%%\n"
    }
   },
   "outputs": [
    {
     "name": "stdout",
     "output_type": "stream",
     "text": [
      "3983\n"
     ]
    }
   ],
   "source": [
    "data = pd.merge(data_personal,data_other,on=['name','address'], how = 'outer')\n",
    "\n",
    "print(len(data))"
   ]
  },
  {
   "cell_type": "markdown",
   "metadata": {},
   "source": [
    "### Predspracovanie jednotlivych atributov"
   ]
  },
  {
   "cell_type": "markdown",
   "metadata": {},
   "source": [
    "#### Atribut sex\n",
    "\n",
    "Neobsahuje ziadne prazdne hodnoty, len stripneme whitespace a nahradime kategoricke hodnoty ich ciselnymi reprezentaciami - 1 (Male) a 0 (Female)"
   ]
  },
  {
   "cell_type": "code",
   "execution_count": 5,
   "metadata": {
    "pycharm": {
     "is_executing": false,
     "name": "#%%\n"
    }
   },
   "outputs": [
    {
     "name": "stdout",
     "output_type": "stream",
     "text": [
      "0\n"
     ]
    }
   ],
   "source": [
    "print(len((data[data.sex.isnull()])))"
   ]
  },
  {
   "cell_type": "code",
   "execution_count": 6,
   "metadata": {
    "pycharm": {
     "is_executing": false
    }
   },
   "outputs": [],
   "source": [
    "def sanitize_sex(sex):\n",
    "    return 1 if sex.strip() == 'Male' else 0"
   ]
  },
  {
   "cell_type": "code",
   "execution_count": 7,
   "metadata": {
    "pycharm": {
     "is_executing": false,
     "name": "#%%\n"
    }
   },
   "outputs": [],
   "source": [
    "data.sex = data.sex.map(lambda sex: sanitize_sex(sex))"
   ]
  },
  {
   "cell_type": "code",
   "execution_count": 8,
   "metadata": {
    "pycharm": {
     "is_executing": false
    }
   },
   "outputs": [
    {
     "data": {
      "text/plain": [
       "array([1, 0], dtype=int64)"
      ]
     },
     "execution_count": 8,
     "metadata": {},
     "output_type": "execute_result"
    }
   ],
   "source": [
    "data.sex.unique()"
   ]
  },
  {
   "cell_type": "markdown",
   "metadata": {},
   "source": [
    "#### Atribut age<br>\n",
    "Ako aj v prvom odovzdani spracuvame age na ciselny atribut a jeho zaporne hodnoty nahradime NaN"
   ]
  },
  {
   "cell_type": "code",
   "execution_count": 9,
   "metadata": {
    "pycharm": {
     "is_executing": false,
     "name": "#%%\n"
    }
   },
   "outputs": [],
   "source": [
    "data.age = data.age.map(sanitize_age)"
   ]
  },
  {
   "cell_type": "code",
   "execution_count": 10,
   "metadata": {
    "pycharm": {
     "is_executing": false
    }
   },
   "outputs": [
    {
     "data": {
      "text/plain": [
       "756"
      ]
     },
     "execution_count": 10,
     "metadata": {},
     "output_type": "execute_result"
    }
   ],
   "source": [
    "len(data[pd.isnull(data.age)])"
   ]
  },
  {
   "cell_type": "markdown",
   "metadata": {},
   "source": [
    "Po spracovani vsak mame vela prazdnych hodnot (756).<br>\n",
    "Napada nas sposob vypocet nahradenim podla datumu, ale nemame zatial rozparsovany atribut date of birth.\n",
    "<br>"
   ]
  },
  {
   "cell_type": "markdown",
   "metadata": {},
   "source": [
    "Mohli by sme nahradit chybajuce hodnoty pacienta priemerom veku jeho pohlavia.\n",
    "Pokial by pacient nemal uvedene pohlavie, nahradili by sme primerom vsetkych pacientov. Tuto funkciu si naprogramujeme, a uvidime ci sa bude dat pouzit neskor."
   ]
  },
  {
   "cell_type": "code",
   "execution_count": 11,
   "metadata": {
    "pycharm": {
     "is_executing": false,
     "name": "#%%\n"
    }
   },
   "outputs": [],
   "source": [
    "def fill_null_age(data): \n",
    "\tunique_sexes = data.sex.unique()\n",
    "\tfor sex in unique_sexes:\n",
    "\t\tmean = data.loc[(data.age.notnull()) & (data.sex == sex)].age.mean()\n",
    "\t\tdata.loc[(data.sex == sex) & (data.age.isna()),'age'] = mean\n",
    "\treturn data\t"
   ]
  },
  {
   "cell_type": "markdown",
   "metadata": {},
   "source": [
    "#### Atribut pregnant<br>\n",
    "Upravime boolean hodnoty a nahradime ich ciselnou reprezentaciou.\n",
    "<br>Taktiez vsetkym muzom nastavime pregnant na 0"
   ]
  },
  {
   "cell_type": "code",
   "execution_count": 12,
   "metadata": {
    "pycharm": {
     "is_executing": false
    }
   },
   "outputs": [],
   "source": [
    "def sanitize_boolean(boolean):\n",
    "    try:\n",
    "        if boolean.strip() in ['f','F','FALSE','false','False']:\n",
    "            return 0\n",
    "        elif boolean.strip() in ['t','T','TRUE','true','True']:\n",
    "            return 1\n",
    "        else:\n",
    "            return np.nan\n",
    "    except AttributeError:\n",
    "        return np.nan"
   ]
  },
  {
   "cell_type": "code",
   "execution_count": 13,
   "metadata": {
    "pycharm": {
     "is_executing": false,
     "name": "#%%\n"
    }
   },
   "outputs": [],
   "source": [
    "data.pregnant = data.pregnant.map(sanitize_boolean)"
   ]
  },
  {
   "cell_type": "code",
   "execution_count": 14,
   "metadata": {
    "pycharm": {
     "is_executing": false,
     "name": "#%%\n"
    }
   },
   "outputs": [],
   "source": [
    "def sanitize_pregnancy(data):\n",
    "\tdata.loc[(data.sex == 1),'pregnant'] = 0\n",
    "\treturn data\n",
    "\n",
    "data = sanitize_pregnancy(data)\t"
   ]
  },
  {
   "cell_type": "markdown",
   "metadata": {
    "pycharm": {
     "name": "#%% md\n"
    }
   },
   "source": [
    "Po vycisteni atributu pregnant by sme mohli v pripade ak nejaky zaznam ma chybajuci atribut sex a zaroven ma pregnant 1 -  nastavit ako sex ako zenu (0).\n",
    "V tomto datasete take nemame, ale je dobre pripravit nasu funkciu just in case."
   ]
  },
  {
   "cell_type": "code",
   "execution_count": 15,
   "metadata": {
    "pycharm": {
     "is_executing": false,
     "name": "#%%\n"
    }
   },
   "outputs": [],
   "source": [
    "def sanitize_pregnancy(data):\n",
    "\tdata.loc[(data.sex == 1),'pregnant'] = 0\n",
    "\tdata.loc[(data.sex.isnull()) & (data.pregnant == 1),'sex'] = 0\n",
    "\treturn data\n",
    "\n",
    "data = sanitize_pregnancy(data)\t"
   ]
  },
  {
   "cell_type": "markdown",
   "metadata": {},
   "source": [
    "Vidime ze v datasete mame aj prazdne hodnoty, budeme sa tym zaoberat neskor"
   ]
  },
  {
   "cell_type": "code",
   "execution_count": 16,
   "metadata": {
    "pycharm": {
     "is_executing": false
    }
   },
   "outputs": [
    {
     "name": "stdout",
     "output_type": "stream",
     "text": [
      "[ 0.  1. nan]\n"
     ]
    },
    {
     "data": {
      "text/plain": [
       "1"
      ]
     },
     "execution_count": 16,
     "metadata": {},
     "output_type": "execute_result"
    }
   ],
   "source": [
    "print(data.pregnant.unique())\n",
    "data.pregnant.isnull().sum()"
   ]
  },
  {
   "cell_type": "markdown",
   "metadata": {},
   "source": [
    "#### Atribut personal info<br>\n",
    "Vyparsujeme vsetky hodnoty z tohto stringu a vytvorime nove columny"
   ]
  },
  {
   "cell_type": "code",
   "execution_count": 17,
   "metadata": {
    "pycharm": {
     "is_executing": false,
     "name": "#%%\n"
    }
   },
   "outputs": [],
   "source": [
    "parsed_info = data.personal_info.map(parse_personal_info).map(remove_empty)"
   ]
  },
  {
   "cell_type": "code",
   "execution_count": 18,
   "metadata": {
    "pycharm": {
     "is_executing": false,
     "name": "#%%\n"
    }
   },
   "outputs": [],
   "source": [
    "personal_info_columns = ['employment','country','relationship_info','employment_info','race']\n",
    "for index,name in enumerate(personal_info_columns):\n",
    "    data[name] = parsed_info.map(lambda x: fill_value(index,x))\n",
    "\t\n",
    "data = data.drop('personal_info', axis=1)"
   ]
  },
  {
   "cell_type": "code",
   "execution_count": 19,
   "metadata": {
    "pycharm": {
     "is_executing": false
    }
   },
   "outputs": [
    {
     "data": {
      "text/html": [
       "<div>\n",
       "<style scoped>\n",
       "    .dataframe tbody tr th:only-of-type {\n",
       "        vertical-align: middle;\n",
       "    }\n",
       "\n",
       "    .dataframe tbody tr th {\n",
       "        vertical-align: top;\n",
       "    }\n",
       "\n",
       "    .dataframe thead th {\n",
       "        text-align: right;\n",
       "    }\n",
       "</style>\n",
       "<table border=\"1\" class=\"dataframe\">\n",
       "  <thead>\n",
       "    <tr style=\"text-align: right;\">\n",
       "      <th></th>\n",
       "      <th>employment</th>\n",
       "      <th>country</th>\n",
       "      <th>relationship_info</th>\n",
       "      <th>employment_info</th>\n",
       "      <th>race</th>\n",
       "    </tr>\n",
       "  </thead>\n",
       "  <tbody>\n",
       "    <tr>\n",
       "      <td>0</td>\n",
       "      <td>Transport-moving</td>\n",
       "      <td>United-States</td>\n",
       "      <td>Divorced</td>\n",
       "      <td>Private</td>\n",
       "      <td>White</td>\n",
       "    </tr>\n",
       "    <tr>\n",
       "      <td>1</td>\n",
       "      <td>Adm-clerical</td>\n",
       "      <td>United-States</td>\n",
       "      <td>Divorced</td>\n",
       "      <td>Private</td>\n",
       "      <td>White</td>\n",
       "    </tr>\n",
       "    <tr>\n",
       "      <td>2</td>\n",
       "      <td>Prof-specialty</td>\n",
       "      <td>United-States</td>\n",
       "      <td>Married-civ-spouse</td>\n",
       "      <td>Private</td>\n",
       "      <td>White</td>\n",
       "    </tr>\n",
       "    <tr>\n",
       "      <td>3</td>\n",
       "      <td>Prof-specialty</td>\n",
       "      <td>United-States</td>\n",
       "      <td>Married-civ-spouse</td>\n",
       "      <td>State-gov</td>\n",
       "      <td>White</td>\n",
       "    </tr>\n",
       "    <tr>\n",
       "      <td>4</td>\n",
       "      <td>Tech-support</td>\n",
       "      <td>United-States</td>\n",
       "      <td>Never-married</td>\n",
       "      <td>Private</td>\n",
       "      <td>White</td>\n",
       "    </tr>\n",
       "  </tbody>\n",
       "</table>\n",
       "</div>"
      ],
      "text/plain": [
       "         employment        country   relationship_info employment_info   race\n",
       "0  Transport-moving  United-States            Divorced         Private  White\n",
       "1      Adm-clerical  United-States            Divorced         Private  White\n",
       "2    Prof-specialty  United-States  Married-civ-spouse         Private  White\n",
       "3    Prof-specialty  United-States  Married-civ-spouse       State-gov  White\n",
       "4      Tech-support  United-States       Never-married         Private  White"
      ]
     },
     "execution_count": 19,
     "metadata": {},
     "output_type": "execute_result"
    }
   ],
   "source": [
    "data[personal_info_columns].head(5)"
   ]
  },
  {
   "cell_type": "markdown",
   "metadata": {},
   "source": [
    "#### Atribut date of birth<br>\n",
    "Z prvotnej analyzy vieme ze date of birth nema unifikovany tvar datumu, cize bude nutne ho osetrit."
   ]
  },
  {
   "cell_type": "code",
   "execution_count": 20,
   "metadata": {
    "pycharm": {
     "is_executing": false
    }
   },
   "outputs": [],
   "source": [
    "def sanitize_date(date):\n",
    "    date = str(date).replace('/', '-')\n",
    "    date = date[:10]\n",
    "    date = date.split(\"-\")\n",
    "    \n",
    "    if date[0] != 'nan':\n",
    "        if len(date[0]) != 4:\n",
    "            if len(date[2]) == 2 and int(date[0]) > 31:\n",
    "                new_date = \"19\"+ date[0] +\"-\"+date[1]+\"-\"+date[2] \n",
    "                \n",
    "            elif ((len(date[2]) == 2) and (int(date[0]) < 31) and (int(date[2]) > 31)):\n",
    "                new_date = \"19\"+date[2]+\"-\"+date[1]+\"-\"+date[0] \n",
    "                \n",
    "            elif ((len(date[2]) == 2) and (int(date[0]) < 31) and (int(date[2]) < 31)):\n",
    "                new_date = \"20\"+ date[2] + \"-\" +date[1]+\"-\" + date[0] \n",
    "            else:\n",
    "                new_date = date[2]+\"-\"+date[1]+\"-\"+date[0] \n",
    "            return new_date        \n",
    "    return '-'.join(date)"
   ]
  },
  {
   "cell_type": "code",
   "execution_count": 21,
   "metadata": {
    "pycharm": {
     "is_executing": false
    }
   },
   "outputs": [
    {
     "data": {
      "text/plain": [
       "0    1960-07-04\n",
       "1    1972-07-20\n",
       "2    1960-02-28\n",
       "3    1967-12-04\n",
       "4    1938-04-22\n",
       "Name: date_of_birth, dtype: object"
      ]
     },
     "execution_count": 21,
     "metadata": {},
     "output_type": "execute_result"
    }
   ],
   "source": [
    "data.date_of_birth = data.date_of_birth.map(sanitize_date)\n",
    "data.date_of_birth.head(5)"
   ]
  },
  {
   "cell_type": "markdown",
   "metadata": {},
   "source": [
    "Vidime, ze datumy maju uz rovnaky format. Teraz sa mozme vratit k upravovaniu atributu age - vypocitat chybajuce hodnoty na zaklade datumu."
   ]
  },
  {
   "cell_type": "markdown",
   "metadata": {},
   "source": [
    "### Dopocitanie veku na zaklade datumu"
   ]
  },
  {
   "cell_type": "markdown",
   "metadata": {},
   "source": [
    "Prejdeme vsetky datumy a najdeme najfrekventovanejsi rok po scitani veku a roku narodenia. To je rok, v ktorom bolo uskutocnene meranie (supis) veku.\n",
    "Tento rok vyuzijeme na dopocitanie veku osob na zaklade ich datumu narodenia ktore ho nemaju."
   ]
  },
  {
   "cell_type": "code",
   "execution_count": 22,
   "metadata": {
    "pycharm": {
     "is_executing": false
    }
   },
   "outputs": [],
   "source": [
    "years = [];\n",
    "\n",
    "def store_measure_year(age,date):\n",
    "    if (pd.notnull(age)):\n",
    "        years.append(int(date.split('-')[0]) + age)\n",
    "        \n",
    "data.apply(lambda x: store_measure_year(x.age,x.date_of_birth),axis=1)\n",
    "\n",
    "measure_year = pd.Series(years).mode();"
   ]
  },
  {
   "cell_type": "code",
   "execution_count": 23,
   "metadata": {
    "pycharm": {
     "is_executing": false
    }
   },
   "outputs": [],
   "source": [
    "def fill_null_age(age,date):\n",
    "    if (date):\n",
    "        return (measure_year - int(date.split('-')[0]))[0]\n",
    "    return np.nan\n",
    "\n",
    "data.loc[data.age.isnull(),'age'] = data[data.age.isnull()].apply(lambda x: fill_null_age(x.age,x.date_of_birth),axis=1)"
   ]
  },
  {
   "cell_type": "markdown",
   "metadata": {},
   "source": [
    "Podarilo sa nam vsetkym zaznamom dopocitat vek."
   ]
  },
  {
   "cell_type": "code",
   "execution_count": 24,
   "metadata": {
    "pycharm": {
     "is_executing": false
    }
   },
   "outputs": [
    {
     "data": {
      "text/plain": [
       "0"
      ]
     },
     "execution_count": 24,
     "metadata": {},
     "output_type": "execute_result"
    }
   ],
   "source": [
    "len(data[data.age.isnull()])"
   ]
  },
  {
   "cell_type": "markdown",
   "metadata": {},
   "source": [
    "Nastastie nemame ziadne take ze bez datumu a bez veku."
   ]
  },
  {
   "cell_type": "code",
   "execution_count": 25,
   "metadata": {
    "pycharm": {
     "is_executing": false
    }
   },
   "outputs": [
    {
     "data": {
      "text/plain": [
       "0"
      ]
     },
     "execution_count": 25,
     "metadata": {},
     "output_type": "execute_result"
    }
   ],
   "source": [
    "len(data[(data.date_of_birth.isna()) & (data.age.isnull())])"
   ]
  },
  {
   "cell_type": "markdown",
   "metadata": {},
   "source": [
    "#### Atribut income\n",
    "Prehodime kategoricke hodnoty na ciselnu reprezentaciu ('<=50K' == 0, '>50K' == 1)"
   ]
  },
  {
   "cell_type": "code",
   "execution_count": 26,
   "metadata": {
    "pycharm": {
     "is_executing": false
    }
   },
   "outputs": [
    {
     "data": {
      "text/plain": [
       "array([' <=50K', ' >50K', nan], dtype=object)"
      ]
     },
     "execution_count": 26,
     "metadata": {},
     "output_type": "execute_result"
    }
   ],
   "source": [
    "data.income.unique()"
   ]
  },
  {
   "cell_type": "code",
   "execution_count": 27,
   "metadata": {
    "pycharm": {
     "is_executing": false
    }
   },
   "outputs": [],
   "source": [
    "data.income = data.income.map(lambda income: 0 if str(income).strip() == '<=50K' else 1 if str(income).strip() == '>50K' else np.nan)"
   ]
  },
  {
   "cell_type": "code",
   "execution_count": 28,
   "metadata": {
    "pycharm": {
     "is_executing": false
    }
   },
   "outputs": [
    {
     "data": {
      "text/plain": [
       "array([ 0.,  1., nan])"
      ]
     },
     "execution_count": 28,
     "metadata": {},
     "output_type": "execute_result"
    }
   ],
   "source": [
    "data.income.unique()"
   ]
  },
  {
   "cell_type": "markdown",
   "metadata": {},
   "source": [
    "#### String Atributy\n",
    "Tieto atributy su stringove, viackrat duplicitne, skusime ich troska quickfixnut a zjednotit data"
   ]
  },
  {
   "cell_type": "code",
   "execution_count": 29,
   "metadata": {
    "pycharm": {
     "is_executing": false
    }
   },
   "outputs": [
    {
     "name": "stdout",
     "output_type": "stream",
     "text": [
      "relationship :  ['Not in family' 'Own child' 'Husband' 'Wife' 'Unmarried' 'Other relative'\n",
      " None] \n",
      "\n",
      "relationship_info :  ['Divorced' 'Married civ spouse' 'Never married' None 'Widowed'\n",
      " 'Married spouse absent' 'Separated' 'Married AF spouse'] \n",
      "\n",
      "employment :  ['Transport moving' 'Adm clerical' 'Prof specialty' 'Tech support' None\n",
      " 'Sales' 'Craft repair' 'Other service' 'Handlers cleaners'\n",
      " 'Farming fishing' 'Exec managerial' 'Machine op inspct' 'Priv house serv'\n",
      " 'Protective serv' 'Armed Forces'] \n",
      "\n",
      "employment_info :  ['Private' 'State gov' None 'Self emp not inc' 'Federal gov' 'Local gov'\n",
      " 'Self emp inc' 'Without pay' 'Never worked'] \n",
      "\n"
     ]
    }
   ],
   "source": [
    "def strip_string(string):\n",
    "    try:\n",
    "        return str(string).strip()\n",
    "    except AttributeError:\n",
    "        return None\n",
    "\n",
    "def sanitize_string(string):\n",
    "    string = strip_string(string);\n",
    "    if string in ['None','nan','??','?']:\n",
    "        return None\n",
    "    return string\n",
    "\n",
    "def sanitize_multiword_string(string):\n",
    "    try:\n",
    "        return sanitize_string(string).replace('-',' ').replace('_',' ')\n",
    "    except AttributeError:\n",
    "        return None\n",
    "\n",
    "for column in ['relationship','relationship_info','employment','employment_info']:\n",
    "    data[column] = data[column].map(sanitize_multiword_string)\n",
    "    print(column,': ',data[column].unique(),'\\n')\n"
   ]
  },
  {
   "cell_type": "code",
   "execution_count": 30,
   "metadata": {
    "pycharm": {
     "is_executing": false
    },
    "scrolled": true
   },
   "outputs": [
    {
     "name": "stdout",
     "output_type": "stream",
     "text": [
      "13\n",
      "12\n"
     ]
    }
   ],
   "source": [
    "print(len(data[data.relationship.isnull()]))\n",
    "print(len(data[data.relationship_info.isnull()]))"
   ]
  },
  {
   "cell_type": "markdown",
   "metadata": {},
   "source": [
    "Velmi ma zaujali atributy relationship a relationship_info, a rad by som doplnil ich nejake prazdne hodnoty. \n",
    "\n",
    "Najskor by som asi zjednotil hodnoty 'Married civ spouse','Married AF spouse','Married spouse absent', na 'Married', vsak to je asi jedno za koho je zenaty/vydata. Teda vlasne iba ten treti typ to vyhral, ten ma o problem postarane.<br>\n",
    "<img src=\"http://m.quickmeme.com/img/db/dbd8d8db8056e48ac72fd40435157978a1bbf2b63b297b41a9ba4302ed9962e0.jpg\" height=200 width=200 align=\"left\">"
   ]
  },
  {
   "cell_type": "code",
   "execution_count": 31,
   "metadata": {
    "pycharm": {
     "is_executing": false
    }
   },
   "outputs": [],
   "source": [
    "data.loc[data.relationship_info.str.contains('Married',na=False),'relationship_info'] = data[data.relationship_info.str.contains('Married',na=False)].relationship_info.map(lambda x: 'Married')"
   ]
  },
  {
   "cell_type": "markdown",
   "metadata": {},
   "source": [
    "Dalsie co mozeme urobit je ze ak ma dany clovek relationship_info Never married, tak relationship mozme nastavit na Unmarried."
   ]
  },
  {
   "cell_type": "code",
   "execution_count": 32,
   "metadata": {
    "pycharm": {
     "is_executing": false
    }
   },
   "outputs": [],
   "source": [
    "def sanitize_relationship(relationship,relationship_info):\n",
    "    if relationship_info == 'Never married':\n",
    "            return 'Unmarried'\n",
    "    return relationship\n",
    "    \n",
    "data.loc[data.relationship.isnull(),'relationship'] = data[data.relationship.isnull()].apply(lambda row: sanitize_relationship(row.relationship,row.relationship_info), axis=1)"
   ]
  },
  {
   "cell_type": "markdown",
   "metadata": {},
   "source": [
    "Este jedna vec nas napada, a to ti, ktori maju Husband alebo Wife v relationship, tak im implicitne dame Married."
   ]
  },
  {
   "cell_type": "code",
   "execution_count": 33,
   "metadata": {
    "pycharm": {
     "is_executing": false
    }
   },
   "outputs": [],
   "source": [
    "def sanitize_relationship_info(relationship,relationship_info):\n",
    "    if relationship in ['Wife','Husband']:\n",
    "            return 'Married'\n",
    "    return relationship_info\n",
    "    \n",
    "data.loc[data.relationship_info.isnull(),'relationship_info'] = data[data.relationship_info.isnull()].apply(lambda row: sanitize_relationship_info(row.relationship,row.relationship_info), axis=1)"
   ]
  },
  {
   "cell_type": "markdown",
   "metadata": {},
   "source": [
    "Mozno este ti co maju relationship Married tak sa pozriet na ich pohlavie a podla toho dat Wife alebo Husband? (No nechceme to hrotit, takze to nehame tak)"
   ]
  },
  {
   "cell_type": "code",
   "execution_count": 34,
   "metadata": {
    "pycharm": {
     "is_executing": false
    }
   },
   "outputs": [
    {
     "name": "stdout",
     "output_type": "stream",
     "text": [
      "1132        None\n",
      "1442     Married\n",
      "1516    Divorced\n",
      "1837        None\n",
      "2018        None\n",
      "3161     Married\n",
      "3162     Married\n",
      "3449     Married\n",
      "3801     Married\n",
      "3963     Married\n",
      "Name: relationship_info, dtype: object \n",
      "\n",
      "1009    Not in family\n",
      "1132             None\n",
      "1535    Not in family\n",
      "1837             None\n",
      "2018             None\n",
      "2506        Unmarried\n",
      "Name: relationship, dtype: object\n"
     ]
    }
   ],
   "source": [
    "print(data[data.relationship.isnull()].relationship_info,'\\n')\n",
    "print(data[data.relationship_info.isnull()].relationship)"
   ]
  },
  {
   "cell_type": "markdown",
   "metadata": {},
   "source": [
    "Pozrieme sa este na country a education:"
   ]
  },
  {
   "cell_type": "code",
   "execution_count": 35,
   "metadata": {
    "pycharm": {
     "is_executing": false
    }
   },
   "outputs": [
    {
     "name": "stdout",
     "output_type": "stream",
     "text": [
      "country :  ['United-States' None 'El-Salvador' 'South' 'Germany' 'Mexico' 'Cuba'\n",
      " 'Philippines' 'England' 'Ireland' 'Canada' 'China' 'France' 'Japan'\n",
      " 'India' 'Scotland' 'Italy' 'Puerto-Rico' 'Portugal' 'Jamaica' 'Thailand'\n",
      " 'Dominican-Republic' 'Nicaragua' 'Poland' 'Peru' 'Vietnam' 'Ecuador'\n",
      " 'Iran' 'Columbia' 'Laos' 'Guatemala' 'Hong' 'Haiti'\n",
      " 'Outlying-US(Guam-USVI-etc)' 'Honduras' 'Cambodia' 'Taiwan' 'Greece'\n",
      " 'Trinadad&Tobago' 'Yugoslavia'] \n",
      "\n",
      "education :  ['HS-grad' 'Bachelors' 'Some-college' '10th' 'Assoc-acdm' 'Masters' None\n",
      " '1st-4th' '7th-8th' 'Prof-school' '11th' '5th-6th' 'Assoc-voc' '9th'\n",
      " 'Doctorate' '12th' 'Preschool'] \n",
      "\n",
      "race :  ['White' None 'Asian-Pac-Islander' 'Black' 'Other' 'Amer-Indian-Eskimo'] \n",
      "\n"
     ]
    }
   ],
   "source": [
    "for column in ['country','education','race']:\n",
    "    data[column] = data[column].map(sanitize_string)\n",
    "    print(column,': ',data[column].unique(),'\\n')"
   ]
  },
  {
   "cell_type": "markdown",
   "metadata": {},
   "source": [
    "### Odstranenie duplikatov"
   ]
  },
  {
   "cell_type": "markdown",
   "metadata": {},
   "source": [
    "Rozhodli sme sa odstranit duplikaty na zaklade mena, adresy a datumu narodenia."
   ]
  },
  {
   "cell_type": "code",
   "execution_count": 36,
   "metadata": {
    "pycharm": {
     "is_executing": false
    }
   },
   "outputs": [
    {
     "name": "stdout",
     "output_type": "stream",
     "text": [
      "length other: 3983\n",
      "length personal 3933\n"
     ]
    }
   ],
   "source": [
    "print('length other:',len(data_other))\n",
    "print('length personal',len(data_personal))"
   ]
  },
  {
   "cell_type": "code",
   "execution_count": 37,
   "metadata": {
    "pycharm": {
     "is_executing": false
    }
   },
   "outputs": [
    {
     "name": "stdout",
     "output_type": "stream",
     "text": [
      "length data 3983\n"
     ]
    }
   ],
   "source": [
    "print('length data',len(data))"
   ]
  },
  {
   "cell_type": "code",
   "execution_count": 38,
   "metadata": {
    "pycharm": {
     "is_executing": false
    }
   },
   "outputs": [
    {
     "name": "stdout",
     "output_type": "stream",
     "text": [
      "length duplicated before:  50\n",
      "length data 3933\n",
      "length duplicated after:  0\n"
     ]
    }
   ],
   "source": [
    "print('length duplicated before: ',len(data[data.duplicated(['name','address','date_of_birth'])]))\n",
    "data = data.drop_duplicates(['name','address','date_of_birth'],keep=\"last\")\n",
    "print('length data',len(data))\n",
    "print('length duplicated after: ',len(data[data.duplicated(['name','address','date_of_birth'])]))"
   ]
  },
  {
   "cell_type": "markdown",
   "metadata": {},
   "source": [
    "# ------------------------------------------------------\n",
    "# Kamosko tolko zatial odomna asi"
   ]
  },
  {
   "cell_type": "markdown",
   "metadata": {},
   "source": [
    "### Chybajuce hodnoty\n",
    "\n",
    "Tu vidíme v ktorých stĺpcoch potrebujeme doplniť hodnoty.\n",
    "Využijeme viacero metód - knn, linearnu regresiu, median.\n",
    "Hodnoty za pomoci ktorých budeme predikovať musia mať istú koreláciu aby boli spravne.\n"
   ]
  },
  {
   "cell_type": "code",
   "execution_count": 39,
   "metadata": {},
   "outputs": [
    {
     "data": {
      "text/plain": [
       "<matplotlib.axes._subplots.AxesSubplot at 0x20af6276358>"
      ]
     },
     "execution_count": 39,
     "metadata": {},
     "output_type": "execute_result"
    },
    {
     "data": {
      "image/png": "[encoded data removed]",
      "text/plain": [
       "<Figure size 1440x1152 with 2 Axes>"
      ]
     },
     "metadata": {
      "needs_background": "light"
     },
     "output_type": "display_data"
    }
   ],
   "source": [
    "fig, ax = plt.subplots(figsize=(20,16))\n",
    "sns.heatmap(data.corr(),ax=ax, annot =True, fmt = \".3f\")"
   ]
  },
  {
   "cell_type": "code",
   "execution_count": 40,
   "metadata": {
    "pycharm": {
     "is_executing": false
    },
    "scrolled": true
   },
   "outputs": [
    {
     "data": {
      "text/plain": [
       "kurtosis_oxygen        2\n",
       "pregnant               1\n",
       "education-num         10\n",
       "relationship           6\n",
       "skewness_glucose      12\n",
       "mean_glucose           4\n",
       "std_oxygen            10\n",
       "capital-gain           8\n",
       "skewness_oxygen        5\n",
       "kurtosis_glucose       7\n",
       "education              6\n",
       "fnlwgt                 6\n",
       "class                  8\n",
       "std_glucose            6\n",
       "income                 7\n",
       "mean_oxygen            8\n",
       "hours-per-week         8\n",
       "capital-loss          12\n",
       "employment           238\n",
       "country               74\n",
       "relationship_info      4\n",
       "employment_info      237\n",
       "race                   9\n",
       "dtype: int64"
      ]
     },
     "execution_count": 40,
     "metadata": {},
     "output_type": "execute_result"
    }
   ],
   "source": [
    "data[data.columns[data.isnull().any()].tolist()].isnull().sum()"
   ]
  },
  {
   "cell_type": "markdown",
   "metadata": {},
   "source": [
    "### Predikcia kurtosis oxygen na základe mean_glucose a std_glucose\n"
   ]
  },
  {
   "cell_type": "code",
   "execution_count": 41,
   "metadata": {
    "pycharm": {
     "is_executing": false
    }
   },
   "outputs": [
    {
     "name": "stderr",
     "output_type": "stream",
     "text": [
      "C:\\Users\\rusna\\Anaconda2\\lib\\site-packages\\sklearn\\utils\\deprecation.py:66: DeprecationWarning: Class Imputer is deprecated; Imputer was deprecated in version 0.20 and will be removed in 0.22. Import impute.SimpleImputer from sklearn instead.\n",
      "  warnings.warn(msg, category=DeprecationWarning)\n"
     ]
    }
   ],
   "source": [
    "from sklearn.preprocessing import Imputer\n",
    "from sklearn import linear_model\n",
    "\n",
    "imp_median = Imputer(missing_values='NaN', strategy='median')"
   ]
  },
  {
   "cell_type": "markdown",
   "metadata": {},
   "source": [
    "Ako možeme vidieť korelácie medyi atribútmi sú vysoké, takže môžeme predpokladať vyššiu úspešnosť. "
   ]
  },
  {
   "cell_type": "code",
   "execution_count": 42,
   "metadata": {
    "pycharm": {
     "is_executing": false
    }
   },
   "outputs": [
    {
     "data": {
      "text/html": [
       "<div>\n",
       "<style scoped>\n",
       "    .dataframe tbody tr th:only-of-type {\n",
       "        vertical-align: middle;\n",
       "    }\n",
       "\n",
       "    .dataframe tbody tr th {\n",
       "        vertical-align: top;\n",
       "    }\n",
       "\n",
       "    .dataframe thead th {\n",
       "        text-align: right;\n",
       "    }\n",
       "</style>\n",
       "<table border=\"1\" class=\"dataframe\">\n",
       "  <thead>\n",
       "    <tr style=\"text-align: right;\">\n",
       "      <th></th>\n",
       "      <th>kurtosis_oxygen</th>\n",
       "      <th>std_oxygen</th>\n",
       "      <th>mean_oxygen</th>\n",
       "    </tr>\n",
       "  </thead>\n",
       "  <tbody>\n",
       "    <tr>\n",
       "      <td>kurtosis_oxygen</td>\n",
       "      <td>1.000000</td>\n",
       "      <td>-0.842162</td>\n",
       "      <td>-0.660024</td>\n",
       "    </tr>\n",
       "    <tr>\n",
       "      <td>std_oxygen</td>\n",
       "      <td>-0.842162</td>\n",
       "      <td>1.000000</td>\n",
       "      <td>0.801301</td>\n",
       "    </tr>\n",
       "    <tr>\n",
       "      <td>mean_oxygen</td>\n",
       "      <td>-0.660024</td>\n",
       "      <td>0.801301</td>\n",
       "      <td>1.000000</td>\n",
       "    </tr>\n",
       "  </tbody>\n",
       "</table>\n",
       "</div>"
      ],
      "text/plain": [
       "                 kurtosis_oxygen  std_oxygen  mean_oxygen\n",
       "kurtosis_oxygen         1.000000   -0.842162    -0.660024\n",
       "std_oxygen             -0.842162    1.000000     0.801301\n",
       "mean_oxygen            -0.660024    0.801301     1.000000"
      ]
     },
     "execution_count": 42,
     "metadata": {},
     "output_type": "execute_result"
    }
   ],
   "source": [
    "data['std_oxygen'] = imp_median.fit_transform(data[['std_oxygen']])\n",
    "data['mean_oxygen'] = imp_median.fit_transform(data[['mean_oxygen']])\n",
    "data[['kurtosis_oxygen','std_oxygen','mean_oxygen']].astype('float64').corr()\n",
    "\n"
   ]
  },
  {
   "cell_type": "code",
   "execution_count": 43,
   "metadata": {},
   "outputs": [
    {
     "data": {
      "text/plain": [
       "0"
      ]
     },
     "execution_count": 43,
     "metadata": {},
     "output_type": "execute_result"
    }
   ],
   "source": [
    "data.mean_oxygen.astype('float64').isnull().any()\n",
    "data['std_oxygen'].isnull().sum()"
   ]
  },
  {
   "cell_type": "code",
   "execution_count": 44,
   "metadata": {
    "pycharm": {
     "is_executing": false
    },
    "scrolled": true
   },
   "outputs": [
    {
     "data": {
      "text/plain": [
       "0        5.190414\n",
       "1       10.079446\n",
       "2        9.967118\n",
       "3       12.175754\n",
       "4        0.942381\n",
       "          ...    \n",
       "3978    14.217960\n",
       "3979    14.629993\n",
       "3980     8.715394\n",
       "3981    -1.283502\n",
       "3982     7.162547\n",
       "Name: kurtosis_oxygen, Length: 3931, dtype: float64"
      ]
     },
     "execution_count": 44,
     "metadata": {},
     "output_type": "execute_result"
    }
   ],
   "source": [
    "fin = data.kurtosis_oxygen.dropna()\n",
    "fin"
   ]
  },
  {
   "cell_type": "code",
   "execution_count": 45,
   "metadata": {
    "pycharm": {
     "is_executing": false
    }
   },
   "outputs": [
    {
     "name": "stdout",
     "output_type": "stream",
     "text": [
      "0.3146106334538543 Úspešnosť doplnenia\n"
     ]
    },
    {
     "data": {
      "text/plain": [
       "array([9.03597604, 1.9881909 ])"
      ]
     },
     "execution_count": 45,
     "metadata": {},
     "output_type": "execute_result"
    }
   ],
   "source": [
    "X = data[['std_oxygen','mean_oxygen']].head(fin.count())\n",
    "y = fin\n",
    "lm = linear_model.LinearRegression()\n",
    "model = lm.fit(X,y)\n",
    "print(lm.score(X,y), 'Úspešnosť doplnenia')\n",
    "missing_kurtosis_oxygen = data[['std_oxygen','mean_oxygen']].loc[data['kurtosis_oxygen'].isna()]\n",
    "predictions = lm.predict(missing_kurtosis_oxygen)\n",
    "predictions"
   ]
  },
  {
   "cell_type": "code",
   "execution_count": 46,
   "metadata": {
    "pycharm": {
     "is_executing": false
    }
   },
   "outputs": [],
   "source": [
    "missing = data.kurtosis_oxygen.isna()\n",
    "onlyNans = data[missing]\n",
    "data.loc[onlyNans.kurtosis_oxygen.index,'kurtosis_oxygen'] = predictions"
   ]
  },
  {
   "cell_type": "code",
   "execution_count": 47,
   "metadata": {
    "pycharm": {
     "is_executing": false
    }
   },
   "outputs": [
    {
     "data": {
      "text/plain": [
       "pregnant               1\n",
       "education-num         10\n",
       "relationship           6\n",
       "skewness_glucose      12\n",
       "mean_glucose           4\n",
       "capital-gain           8\n",
       "skewness_oxygen        5\n",
       "kurtosis_glucose       7\n",
       "education              6\n",
       "fnlwgt                 6\n",
       "class                  8\n",
       "std_glucose            6\n",
       "income                 7\n",
       "hours-per-week         8\n",
       "capital-loss          12\n",
       "employment           238\n",
       "country               74\n",
       "relationship_info      4\n",
       "employment_info      237\n",
       "race                   9\n",
       "dtype: int64"
      ]
     },
     "execution_count": 47,
     "metadata": {},
     "output_type": "execute_result"
    }
   ],
   "source": [
    "data[data.columns[data.isnull().any()].tolist()].isnull().sum()"
   ]
  },
  {
   "cell_type": "markdown",
   "metadata": {},
   "source": [
    "Doplnenie education-num"
   ]
  },
  {
   "cell_type": "code",
   "execution_count": 48,
   "metadata": {},
   "outputs": [],
   "source": [
    "data['education'] = data['education'].str.replace('-', '_')\n"
   ]
  },
  {
   "cell_type": "code",
   "execution_count": 49,
   "metadata": {},
   "outputs": [
    {
     "data": {
      "text/plain": [
       "array(['HS_grad', 'Bachelors', 'Some_college', '10th', 'Assoc_acdm',\n",
       "       'Masters', '1st_4th', '7th_8th', 'Prof_school', '11th', '5th_6th',\n",
       "       'Assoc_voc', '9th', 'Doctorate', '12th', 'Preschool', None],\n",
       "      dtype=object)"
      ]
     },
     "execution_count": 49,
     "metadata": {},
     "output_type": "execute_result"
    }
   ],
   "source": [
    "\n",
    "data['education'].unique()"
   ]
  },
  {
   "cell_type": "code",
   "execution_count": 50,
   "metadata": {},
   "outputs": [],
   "source": [
    "def minimum_positive(cond):\n",
    "    mi = 11000\n",
    "    for o in data['education-num'].loc[data['education'] == cond]:\n",
    "        if (o > 0) & (o < mi):\n",
    "            mi = o\n",
    "            \n",
    "    return mi\n",
    "\n",
    "dic = {}\n",
    "\n",
    "for a in data['education'].unique():\n",
    "    dic[a] = (minimum_positive(a))\n",
    "    \n"
   ]
  },
  {
   "cell_type": "code",
   "execution_count": 51,
   "metadata": {},
   "outputs": [
    {
     "data": {
      "text/plain": [
       "0     9.0\n",
       "1     9.0\n",
       "2    13.0\n",
       "3     9.0\n",
       "4    10.0\n",
       "5     9.0\n",
       "6     6.0\n",
       "7     9.0\n",
       "8    12.0\n",
       "9    10.0\n",
       "Name: education-num, dtype: float64"
      ]
     },
     "execution_count": 51,
     "metadata": {},
     "output_type": "execute_result"
    }
   ],
   "source": [
    "data['education-num'] = data.education.map(dic)\n",
    "data['education-num'].head(10)"
   ]
  },
  {
   "cell_type": "code",
   "execution_count": 52,
   "metadata": {},
   "outputs": [
    {
     "data": {
      "text/plain": [
       "array(['Transport moving', 'Adm clerical', 'Prof specialty',\n",
       "       'Tech support', None, 'Sales', 'Craft repair', 'Other service',\n",
       "       'Handlers cleaners', 'Farming fishing', 'Exec managerial',\n",
       "       'Machine op inspct', 'Priv house serv', 'Protective serv',\n",
       "       'Armed Forces'], dtype=object)"
      ]
     },
     "execution_count": 52,
     "metadata": {},
     "output_type": "execute_result"
    }
   ],
   "source": [
    "data['employment'].unique()"
   ]
  },
  {
   "cell_type": "code",
   "execution_count": 53,
   "metadata": {},
   "outputs": [],
   "source": [
    "# data.loc[data['employment'] == '', 'employment'].replace({data['employment_info']: np.nan})\n",
    "data.loc[data['employment'].isnull(), 'employment_info'] = None"
   ]
  },
  {
   "cell_type": "code",
   "execution_count": 54,
   "metadata": {},
   "outputs": [
    {
     "data": {
      "text/plain": [
       "pregnant               1\n",
       "relationship           6\n",
       "skewness_glucose      12\n",
       "mean_glucose           4\n",
       "capital-gain           8\n",
       "skewness_oxygen        5\n",
       "kurtosis_glucose       7\n",
       "education              6\n",
       "fnlwgt                 6\n",
       "class                  8\n",
       "std_glucose            6\n",
       "income                 7\n",
       "hours-per-week         8\n",
       "capital-loss          12\n",
       "employment           238\n",
       "country               74\n",
       "relationship_info      4\n",
       "employment_info      238\n",
       "race                   9\n",
       "dtype: int64"
      ]
     },
     "execution_count": 54,
     "metadata": {},
     "output_type": "execute_result"
    }
   ],
   "source": [
    "data[data.columns[data.isnull().any()].tolist()].isnull().sum()"
   ]
  },
  {
   "cell_type": "markdown",
   "metadata": {},
   "source": [
    "## Doplnenie hodnout employment_info a employment pomocou knn "
   ]
  },
  {
   "cell_type": "code",
   "execution_count": 55,
   "metadata": {},
   "outputs": [],
   "source": [
    "from sklearn.neighbors import KNeighborsClassifier"
   ]
  },
  {
   "cell_type": "code",
   "execution_count": 56,
   "metadata": {},
   "outputs": [
    {
     "data": {
      "text/html": [
       "<div>\n",
       "<style scoped>\n",
       "    .dataframe tbody tr th:only-of-type {\n",
       "        vertical-align: middle;\n",
       "    }\n",
       "\n",
       "    .dataframe tbody tr th {\n",
       "        vertical-align: top;\n",
       "    }\n",
       "\n",
       "    .dataframe thead th {\n",
       "        text-align: right;\n",
       "    }\n",
       "</style>\n",
       "<table border=\"1\" class=\"dataframe\">\n",
       "  <thead>\n",
       "    <tr style=\"text-align: right;\">\n",
       "      <th></th>\n",
       "      <th>education</th>\n",
       "      <th>education-num</th>\n",
       "      <th>age</th>\n",
       "      <th>hours-per-week</th>\n",
       "      <th>employment_info</th>\n",
       "      <th>employment</th>\n",
       "    </tr>\n",
       "  </thead>\n",
       "  <tbody>\n",
       "    <tr>\n",
       "      <td>0</td>\n",
       "      <td>HS_grad</td>\n",
       "      <td>9.0</td>\n",
       "      <td>59.0</td>\n",
       "      <td>40.0</td>\n",
       "      <td>Private</td>\n",
       "      <td>Transport moving</td>\n",
       "    </tr>\n",
       "    <tr>\n",
       "      <td>1</td>\n",
       "      <td>HS_grad</td>\n",
       "      <td>9.0</td>\n",
       "      <td>47.0</td>\n",
       "      <td>45.0</td>\n",
       "      <td>Private</td>\n",
       "      <td>Adm clerical</td>\n",
       "    </tr>\n",
       "    <tr>\n",
       "      <td>2</td>\n",
       "      <td>Bachelors</td>\n",
       "      <td>13.0</td>\n",
       "      <td>59.0</td>\n",
       "      <td>40.0</td>\n",
       "      <td>Private</td>\n",
       "      <td>Prof specialty</td>\n",
       "    </tr>\n",
       "    <tr>\n",
       "      <td>3</td>\n",
       "      <td>HS_grad</td>\n",
       "      <td>9.0</td>\n",
       "      <td>51.0</td>\n",
       "      <td>40.0</td>\n",
       "      <td>State gov</td>\n",
       "      <td>Prof specialty</td>\n",
       "    </tr>\n",
       "    <tr>\n",
       "      <td>4</td>\n",
       "      <td>Some_college</td>\n",
       "      <td>10.0</td>\n",
       "      <td>81.0</td>\n",
       "      <td>16.0</td>\n",
       "      <td>Private</td>\n",
       "      <td>Tech support</td>\n",
       "    </tr>\n",
       "    <tr>\n",
       "      <td>...</td>\n",
       "      <td>...</td>\n",
       "      <td>...</td>\n",
       "      <td>...</td>\n",
       "      <td>...</td>\n",
       "      <td>...</td>\n",
       "      <td>...</td>\n",
       "    </tr>\n",
       "    <tr>\n",
       "      <td>3978</td>\n",
       "      <td>Bachelors</td>\n",
       "      <td>13.0</td>\n",
       "      <td>50.0</td>\n",
       "      <td>40.0</td>\n",
       "      <td>Private</td>\n",
       "      <td>Craft repair</td>\n",
       "    </tr>\n",
       "    <tr>\n",
       "      <td>3979</td>\n",
       "      <td>HS_grad</td>\n",
       "      <td>9.0</td>\n",
       "      <td>52.0</td>\n",
       "      <td>20.0</td>\n",
       "      <td>None</td>\n",
       "      <td>None</td>\n",
       "    </tr>\n",
       "    <tr>\n",
       "      <td>3980</td>\n",
       "      <td>11th</td>\n",
       "      <td>7.0</td>\n",
       "      <td>58.0</td>\n",
       "      <td>40.0</td>\n",
       "      <td>Private</td>\n",
       "      <td>Machine op inspct</td>\n",
       "    </tr>\n",
       "    <tr>\n",
       "      <td>3981</td>\n",
       "      <td>Assoc_acdm</td>\n",
       "      <td>12.0</td>\n",
       "      <td>68.0</td>\n",
       "      <td>45.0</td>\n",
       "      <td>Private</td>\n",
       "      <td>Adm clerical</td>\n",
       "    </tr>\n",
       "    <tr>\n",
       "      <td>3982</td>\n",
       "      <td>Bachelors</td>\n",
       "      <td>13.0</td>\n",
       "      <td>60.0</td>\n",
       "      <td>40.0</td>\n",
       "      <td>Private</td>\n",
       "      <td>Tech support</td>\n",
       "    </tr>\n",
       "  </tbody>\n",
       "</table>\n",
       "<p>3933 rows × 6 columns</p>\n",
       "</div>"
      ],
      "text/plain": [
       "         education  education-num   age  hours-per-week employment_info  \\\n",
       "0          HS_grad            9.0  59.0            40.0         Private   \n",
       "1          HS_grad            9.0  47.0            45.0         Private   \n",
       "2        Bachelors           13.0  59.0            40.0         Private   \n",
       "3          HS_grad            9.0  51.0            40.0       State gov   \n",
       "4     Some_college           10.0  81.0            16.0         Private   \n",
       "...            ...            ...   ...             ...             ...   \n",
       "3978     Bachelors           13.0  50.0            40.0         Private   \n",
       "3979       HS_grad            9.0  52.0            20.0            None   \n",
       "3980          11th            7.0  58.0            40.0         Private   \n",
       "3981    Assoc_acdm           12.0  68.0            45.0         Private   \n",
       "3982     Bachelors           13.0  60.0            40.0         Private   \n",
       "\n",
       "             employment  \n",
       "0      Transport moving  \n",
       "1          Adm clerical  \n",
       "2        Prof specialty  \n",
       "3        Prof specialty  \n",
       "4          Tech support  \n",
       "...                 ...  \n",
       "3978       Craft repair  \n",
       "3979               None  \n",
       "3980  Machine op inspct  \n",
       "3981       Adm clerical  \n",
       "3982       Tech support  \n",
       "\n",
       "[3933 rows x 6 columns]"
      ]
     },
     "execution_count": 56,
     "metadata": {},
     "output_type": "execute_result"
    }
   ],
   "source": [
    "df = data[['education', 'education-num', 'age', 'hours-per-week', 'employment_info', 'employment']]\n",
    "df"
   ]
  },
  {
   "cell_type": "code",
   "execution_count": 57,
   "metadata": {},
   "outputs": [
    {
     "data": {
      "text/html": [
       "<div>\n",
       "<style scoped>\n",
       "    .dataframe tbody tr th:only-of-type {\n",
       "        vertical-align: middle;\n",
       "    }\n",
       "\n",
       "    .dataframe tbody tr th {\n",
       "        vertical-align: top;\n",
       "    }\n",
       "\n",
       "    .dataframe thead th {\n",
       "        text-align: right;\n",
       "    }\n",
       "</style>\n",
       "<table border=\"1\" class=\"dataframe\">\n",
       "  <thead>\n",
       "    <tr style=\"text-align: right;\">\n",
       "      <th></th>\n",
       "      <th>education</th>\n",
       "      <th>education-num</th>\n",
       "      <th>age</th>\n",
       "      <th>hours-per-week</th>\n",
       "      <th>employment_info</th>\n",
       "      <th>employment</th>\n",
       "    </tr>\n",
       "  </thead>\n",
       "  <tbody>\n",
       "    <tr>\n",
       "      <td>0</td>\n",
       "      <td>HS_grad</td>\n",
       "      <td>9.0</td>\n",
       "      <td>59.0</td>\n",
       "      <td>40.0</td>\n",
       "      <td>Private</td>\n",
       "      <td>Transport moving</td>\n",
       "    </tr>\n",
       "    <tr>\n",
       "      <td>1</td>\n",
       "      <td>HS_grad</td>\n",
       "      <td>9.0</td>\n",
       "      <td>47.0</td>\n",
       "      <td>45.0</td>\n",
       "      <td>Private</td>\n",
       "      <td>Adm clerical</td>\n",
       "    </tr>\n",
       "    <tr>\n",
       "      <td>2</td>\n",
       "      <td>Bachelors</td>\n",
       "      <td>13.0</td>\n",
       "      <td>59.0</td>\n",
       "      <td>40.0</td>\n",
       "      <td>Private</td>\n",
       "      <td>Prof specialty</td>\n",
       "    </tr>\n",
       "    <tr>\n",
       "      <td>3</td>\n",
       "      <td>HS_grad</td>\n",
       "      <td>9.0</td>\n",
       "      <td>51.0</td>\n",
       "      <td>40.0</td>\n",
       "      <td>State gov</td>\n",
       "      <td>Prof specialty</td>\n",
       "    </tr>\n",
       "    <tr>\n",
       "      <td>4</td>\n",
       "      <td>Some_college</td>\n",
       "      <td>10.0</td>\n",
       "      <td>81.0</td>\n",
       "      <td>16.0</td>\n",
       "      <td>Private</td>\n",
       "      <td>Tech support</td>\n",
       "    </tr>\n",
       "    <tr>\n",
       "      <td>...</td>\n",
       "      <td>...</td>\n",
       "      <td>...</td>\n",
       "      <td>...</td>\n",
       "      <td>...</td>\n",
       "      <td>...</td>\n",
       "      <td>...</td>\n",
       "    </tr>\n",
       "    <tr>\n",
       "      <td>3977</td>\n",
       "      <td>Some_college</td>\n",
       "      <td>10.0</td>\n",
       "      <td>37.0</td>\n",
       "      <td>20.0</td>\n",
       "      <td>Private</td>\n",
       "      <td>Other service</td>\n",
       "    </tr>\n",
       "    <tr>\n",
       "      <td>3978</td>\n",
       "      <td>Bachelors</td>\n",
       "      <td>13.0</td>\n",
       "      <td>50.0</td>\n",
       "      <td>40.0</td>\n",
       "      <td>Private</td>\n",
       "      <td>Craft repair</td>\n",
       "    </tr>\n",
       "    <tr>\n",
       "      <td>3980</td>\n",
       "      <td>11th</td>\n",
       "      <td>7.0</td>\n",
       "      <td>58.0</td>\n",
       "      <td>40.0</td>\n",
       "      <td>Private</td>\n",
       "      <td>Machine op inspct</td>\n",
       "    </tr>\n",
       "    <tr>\n",
       "      <td>3981</td>\n",
       "      <td>Assoc_acdm</td>\n",
       "      <td>12.0</td>\n",
       "      <td>68.0</td>\n",
       "      <td>45.0</td>\n",
       "      <td>Private</td>\n",
       "      <td>Adm clerical</td>\n",
       "    </tr>\n",
       "    <tr>\n",
       "      <td>3982</td>\n",
       "      <td>Bachelors</td>\n",
       "      <td>13.0</td>\n",
       "      <td>60.0</td>\n",
       "      <td>40.0</td>\n",
       "      <td>Private</td>\n",
       "      <td>Tech support</td>\n",
       "    </tr>\n",
       "  </tbody>\n",
       "</table>\n",
       "<p>3686 rows × 6 columns</p>\n",
       "</div>"
      ],
      "text/plain": [
       "         education  education-num   age  hours-per-week employment_info  \\\n",
       "0          HS_grad            9.0  59.0            40.0         Private   \n",
       "1          HS_grad            9.0  47.0            45.0         Private   \n",
       "2        Bachelors           13.0  59.0            40.0         Private   \n",
       "3          HS_grad            9.0  51.0            40.0       State gov   \n",
       "4     Some_college           10.0  81.0            16.0         Private   \n",
       "...            ...            ...   ...             ...             ...   \n",
       "3977  Some_college           10.0  37.0            20.0         Private   \n",
       "3978     Bachelors           13.0  50.0            40.0         Private   \n",
       "3980          11th            7.0  58.0            40.0         Private   \n",
       "3981    Assoc_acdm           12.0  68.0            45.0         Private   \n",
       "3982     Bachelors           13.0  60.0            40.0         Private   \n",
       "\n",
       "             employment  \n",
       "0      Transport moving  \n",
       "1          Adm clerical  \n",
       "2        Prof specialty  \n",
       "3        Prof specialty  \n",
       "4          Tech support  \n",
       "...                 ...  \n",
       "3977      Other service  \n",
       "3978       Craft repair  \n",
       "3980  Machine op inspct  \n",
       "3981       Adm clerical  \n",
       "3982       Tech support  \n",
       "\n",
       "[3686 rows x 6 columns]"
      ]
     },
     "execution_count": 57,
     "metadata": {},
     "output_type": "execute_result"
    }
   ],
   "source": [
    "chopped = df.dropna(axis = 0, how = \"any\")\n",
    "chopped"
   ]
  },
  {
   "cell_type": "code",
   "execution_count": 58,
   "metadata": {},
   "outputs": [
    {
     "data": {
      "text/plain": [
       "array([[ 9., 59., 40.],\n",
       "       [ 9., 47., 45.],\n",
       "       [13., 59., 40.],\n",
       "       ...,\n",
       "       [ 7., 58., 40.],\n",
       "       [12., 68., 45.],\n",
       "       [13., 60., 40.]])"
      ]
     },
     "execution_count": 58,
     "metadata": {},
     "output_type": "execute_result"
    }
   ],
   "source": [
    "X = np.array(chopped.iloc[:, 1:4])\n",
    "X"
   ]
  },
  {
   "cell_type": "code",
   "execution_count": 59,
   "metadata": {},
   "outputs": [
    {
     "data": {
      "text/plain": [
       "array([['Private', 'Transport moving'],\n",
       "       ['Private', 'Adm clerical'],\n",
       "       ['Private', 'Prof specialty'],\n",
       "       ...,\n",
       "       ['Private', 'Machine op inspct'],\n",
       "       ['Private', 'Adm clerical'],\n",
       "       ['Private', 'Tech support']], dtype=object)"
      ]
     },
     "execution_count": 59,
     "metadata": {},
     "output_type": "execute_result"
    }
   ],
   "source": [
    "\n",
    "y = np.array(chopped[['employment_info', 'employment']])\n",
    "y"
   ]
  },
  {
   "cell_type": "code",
   "execution_count": 60,
   "metadata": {},
   "outputs": [
    {
     "name": "stdout",
     "output_type": "stream",
     "text": [
      "[[ 9. 52. 20.]]\n"
     ]
    }
   ],
   "source": [
    "example = np.array(df[['education-num', 'age', 'hours-per-week']].iloc[df.index == 3979])\n",
    "print(example)"
   ]
  },
  {
   "cell_type": "code",
   "execution_count": 61,
   "metadata": {},
   "outputs": [
    {
     "data": {
      "text/plain": [
       "array([['Private', 'Adm clerical']], dtype=object)"
      ]
     },
     "execution_count": 61,
     "metadata": {},
     "output_type": "execute_result"
    }
   ],
   "source": [
    "\n",
    "\n",
    "#example = example.dropna(axis = 1, how = \"any\")\n",
    "\n",
    "knn = KNeighborsClassifier(n_neighbors = 5)\n",
    "knn.fit(X, y)\n",
    "\n",
    "prf = knn.predict(example.reshape(1, -1))\n",
    "prf"
   ]
  },
  {
   "cell_type": "code",
   "execution_count": 62,
   "metadata": {},
   "outputs": [],
   "source": [
    "data['age'] = data['age'].astype(int)\n",
    "# data['hours-per-week'] = data['hours-per-week'].astype(int)\n",
    "data['education-num'] = data['education-num'].astype(int)\n",
    "\n",
    "\n",
    "data['hours-per-week'] = imp_median.fit_transform(data[['hours-per-week']])\n"
   ]
  },
  {
   "cell_type": "code",
   "execution_count": 63,
   "metadata": {},
   "outputs": [
    {
     "data": {
      "text/plain": [
       "pregnant               1\n",
       "relationship           6\n",
       "skewness_glucose      12\n",
       "mean_glucose           4\n",
       "capital-gain           8\n",
       "skewness_oxygen        5\n",
       "kurtosis_glucose       7\n",
       "education              6\n",
       "fnlwgt                 6\n",
       "class                  8\n",
       "std_glucose            6\n",
       "income                 7\n",
       "capital-loss          12\n",
       "employment           238\n",
       "country               74\n",
       "relationship_info      4\n",
       "employment_info      238\n",
       "race                   9\n",
       "dtype: int64"
      ]
     },
     "execution_count": 63,
     "metadata": {},
     "output_type": "execute_result"
    }
   ],
   "source": [
    "# data['education-num'].iloc[df['education-num'] == 11000] = 1110\n",
    "# data.loc[df['education-num'] == 11000, 'education-num'] = 11\n",
    "# data['education-num'].unique()\n",
    "data[data.columns[data.isnull().any()].tolist()].isnull().sum()"
   ]
  },
  {
   "cell_type": "code",
   "execution_count": 64,
   "metadata": {},
   "outputs": [
    {
     "data": {
      "text/plain": [
       "array([['Private', 'Sales'],\n",
       "       ['Private', 'Adm clerical'],\n",
       "       ['Private', 'Exec managerial'],\n",
       "       ['Private', 'Adm clerical'],\n",
       "       ['Private', 'Craft repair'],\n",
       "       ['Private', 'Adm clerical'],\n",
       "       ['Private', 'Handlers cleaners'],\n",
       "       ['Private', 'Other service'],\n",
       "       ['Private', 'Exec managerial'],\n",
       "       ['Private', 'Adm clerical'],\n",
       "       ['Private', 'Exec managerial'],\n",
       "       ['Private', 'Craft repair'],\n",
       "       ['Private', 'Sales'],\n",
       "       ['Private', 'Craft repair'],\n",
       "       ['Private', 'Craft repair'],\n",
       "       ['Private', 'Prof specialty'],\n",
       "       ['Private', 'Adm clerical'],\n",
       "       ['Private', 'Handlers cleaners'],\n",
       "       ['Private', 'Adm clerical'],\n",
       "       ['Private', 'Craft repair'],\n",
       "       ['Private', 'Other service'],\n",
       "       ['Private', 'Adm clerical'],\n",
       "       ['Private', 'Other service'],\n",
       "       ['Private', 'Sales'],\n",
       "       ['Private', 'Other service'],\n",
       "       ['Private', 'Craft repair'],\n",
       "       ['Local gov', 'Adm clerical'],\n",
       "       ['Private', 'Prof specialty'],\n",
       "       ['Private', 'Adm clerical'],\n",
       "       ['Private', 'Adm clerical'],\n",
       "       ['Private', 'Other service'],\n",
       "       ['Private', 'Adm clerical'],\n",
       "       ['Private', 'Exec managerial'],\n",
       "       ['Private', 'Adm clerical'],\n",
       "       ['Private', 'Handlers cleaners'],\n",
       "       ['Private', 'Adm clerical'],\n",
       "       ['Private', 'Prof specialty'],\n",
       "       ['Private', 'Sales'],\n",
       "       ['Private', 'Craft repair'],\n",
       "       ['Private', 'Exec managerial'],\n",
       "       ['Private', 'Adm clerical'],\n",
       "       ['Private', 'Handlers cleaners'],\n",
       "       ['Private', 'Prof specialty'],\n",
       "       ['Private', 'Prof specialty'],\n",
       "       ['Private', 'Adm clerical'],\n",
       "       ['Private', 'Adm clerical'],\n",
       "       ['Private', 'Sales'],\n",
       "       ['Private', 'Exec managerial'],\n",
       "       ['Private', 'Adm clerical'],\n",
       "       ['Private', 'Adm clerical'],\n",
       "       ['Private', 'Craft repair'],\n",
       "       ['Private', 'Other service'],\n",
       "       ['Private', 'Adm clerical'],\n",
       "       ['Private', 'Other service'],\n",
       "       ['Private', 'Adm clerical'],\n",
       "       ['Private', 'Prof specialty'],\n",
       "       ['Private', 'Adm clerical'],\n",
       "       ['Private', 'Adm clerical'],\n",
       "       ['Private', 'Handlers cleaners'],\n",
       "       ['Private', 'Prof specialty'],\n",
       "       ['Private', 'Adm clerical'],\n",
       "       ['Private', 'Exec managerial'],\n",
       "       ['Private', 'Adm clerical'],\n",
       "       ['Private', 'Adm clerical'],\n",
       "       ['Private', 'Adm clerical'],\n",
       "       ['Private', 'Handlers cleaners'],\n",
       "       ['Private', 'Adm clerical'],\n",
       "       ['Private', 'Craft repair'],\n",
       "       ['Private', 'Sales'],\n",
       "       ['Private', 'Adm clerical'],\n",
       "       ['Private', 'Other service'],\n",
       "       ['Private', 'Adm clerical'],\n",
       "       ['Private', 'Prof specialty'],\n",
       "       ['Private', 'Craft repair'],\n",
       "       ['Private', 'Adm clerical'],\n",
       "       ['Private', 'Prof specialty'],\n",
       "       ['Private', 'Craft repair'],\n",
       "       ['Private', 'Adm clerical'],\n",
       "       ['Private', 'Adm clerical'],\n",
       "       ['Private', 'Prof specialty'],\n",
       "       ['Private', 'Craft repair'],\n",
       "       ['Private', 'Craft repair'],\n",
       "       ['Private', 'Other service'],\n",
       "       ['Private', 'Prof specialty'],\n",
       "       ['Private', 'Adm clerical'],\n",
       "       ['Private', 'Machine op inspct'],\n",
       "       ['Private', 'Adm clerical'],\n",
       "       ['Private', 'Other service'],\n",
       "       ['Private', 'Other service'],\n",
       "       ['Private', 'Adm clerical'],\n",
       "       ['Private', 'Adm clerical'],\n",
       "       ['Private', 'Exec managerial'],\n",
       "       ['Private', 'Handlers cleaners'],\n",
       "       ['Private', 'Craft repair'],\n",
       "       ['Private', 'Machine op inspct'],\n",
       "       ['Private', 'Craft repair'],\n",
       "       ['Private', 'Exec managerial'],\n",
       "       ['Private', 'Adm clerical'],\n",
       "       ['Private', 'Prof specialty'],\n",
       "       ['Self emp not inc', 'Sales'],\n",
       "       ['Private', 'Adm clerical'],\n",
       "       ['Private', 'Adm clerical'],\n",
       "       ['Private', 'Adm clerical'],\n",
       "       ['Private', 'Prof specialty'],\n",
       "       ['Private', 'Craft repair'],\n",
       "       ['Private', 'Craft repair'],\n",
       "       ['Private', 'Exec managerial'],\n",
       "       ['Private', 'Other service'],\n",
       "       ['Private', 'Sales'],\n",
       "       ['Private', 'Machine op inspct'],\n",
       "       ['Private', 'Other service'],\n",
       "       ['Private', 'Other service'],\n",
       "       ['Private', 'Craft repair'],\n",
       "       ['Private', 'Other service'],\n",
       "       ['Private', 'Adm clerical'],\n",
       "       ['Federal gov', 'Other service'],\n",
       "       ['Private', 'Exec managerial'],\n",
       "       ['Private', 'Prof specialty'],\n",
       "       ['Private', 'Adm clerical'],\n",
       "       ['Private', 'Craft repair'],\n",
       "       ['Private', 'Prof specialty'],\n",
       "       ['Private', 'Prof specialty'],\n",
       "       ['Private', 'Adm clerical'],\n",
       "       ['Private', 'Sales'],\n",
       "       ['Private', 'Other service'],\n",
       "       ['Private', 'Adm clerical'],\n",
       "       ['Private', 'Machine op inspct'],\n",
       "       ['Private', 'Handlers cleaners'],\n",
       "       ['Private', 'Other service'],\n",
       "       ['Private', 'Craft repair'],\n",
       "       ['Private', 'Other service'],\n",
       "       ['Private', 'Adm clerical'],\n",
       "       ['Private', 'Adm clerical'],\n",
       "       ['Private', 'Machine op inspct'],\n",
       "       ['Private', 'Exec managerial'],\n",
       "       ['Private', 'Adm clerical'],\n",
       "       ['Private', 'Adm clerical'],\n",
       "       ['Private', 'Handlers cleaners'],\n",
       "       ['Private', 'Prof specialty'],\n",
       "       ['Private', 'Machine op inspct'],\n",
       "       ['Private', 'Other service'],\n",
       "       ['Private', 'Other service'],\n",
       "       ['Private', 'Machine op inspct'],\n",
       "       ['Private', 'Other service'],\n",
       "       ['Private', 'Other service'],\n",
       "       ['Private', 'Craft repair'],\n",
       "       ['Private', 'Machine op inspct'],\n",
       "       ['Private', 'Craft repair'],\n",
       "       ['Private', 'Exec managerial'],\n",
       "       ['Private', 'Farming fishing'],\n",
       "       ['Private', 'Adm clerical'],\n",
       "       ['Private', 'Adm clerical'],\n",
       "       ['Private', 'Machine op inspct'],\n",
       "       ['Private', 'Prof specialty'],\n",
       "       ['Private', 'Exec managerial'],\n",
       "       ['Private', 'Exec managerial'],\n",
       "       ['Private', 'Protective serv'],\n",
       "       ['Private', 'Other service'],\n",
       "       ['Private', 'Adm clerical'],\n",
       "       ['Private', 'Sales'],\n",
       "       ['Private', 'Adm clerical'],\n",
       "       ['Private', 'Handlers cleaners'],\n",
       "       ['Private', 'Machine op inspct'],\n",
       "       ['Private', 'Machine op inspct'],\n",
       "       ['Private', 'Adm clerical'],\n",
       "       ['Private', 'Prof specialty'],\n",
       "       ['Private', 'Other service'],\n",
       "       ['Private', 'Adm clerical'],\n",
       "       ['Federal gov', 'Adm clerical'],\n",
       "       ['Private', 'Adm clerical'],\n",
       "       ['Private', 'Craft repair'],\n",
       "       ['Private', 'Exec managerial'],\n",
       "       ['Private', 'Exec managerial'],\n",
       "       ['Private', 'Adm clerical'],\n",
       "       ['Private', 'Sales'],\n",
       "       ['Private', 'Handlers cleaners'],\n",
       "       ['Private', 'Adm clerical'],\n",
       "       ['Private', 'Machine op inspct'],\n",
       "       ['Private', 'Adm clerical'],\n",
       "       ['Private', 'Adm clerical'],\n",
       "       ['Private', 'Adm clerical'],\n",
       "       ['Private', 'Sales'],\n",
       "       ['Private', 'Other service'],\n",
       "       ['Private', 'Handlers cleaners'],\n",
       "       ['Private', 'Prof specialty'],\n",
       "       ['Private', 'Other service'],\n",
       "       ['Private', 'Other service'],\n",
       "       ['Private', 'Adm clerical'],\n",
       "       ['Private', 'Other service'],\n",
       "       ['Private', 'Adm clerical'],\n",
       "       ['Private', 'Exec managerial'],\n",
       "       ['Private', 'Adm clerical'],\n",
       "       ['Private', 'Craft repair'],\n",
       "       ['Private', 'Adm clerical'],\n",
       "       ['Private', 'Machine op inspct'],\n",
       "       ['Private', 'Craft repair'],\n",
       "       ['Private', 'Adm clerical'],\n",
       "       ['Private', 'Exec managerial'],\n",
       "       ['Private', 'Prof specialty'],\n",
       "       ['Private', 'Other service'],\n",
       "       ['Private', 'Prof specialty'],\n",
       "       ['Private', 'Exec managerial'],\n",
       "       ['Private', 'Prof specialty'],\n",
       "       ['Private', 'Craft repair'],\n",
       "       ['Private', 'Adm clerical'],\n",
       "       ['Private', 'Exec managerial'],\n",
       "       ['Private', 'Other service'],\n",
       "       ['Private', 'Handlers cleaners'],\n",
       "       ['Private', 'Prof specialty'],\n",
       "       ['Private', 'Machine op inspct'],\n",
       "       ['Private', 'Other service'],\n",
       "       ['Private', 'Sales'],\n",
       "       ['Private', 'Other service'],\n",
       "       ['Private', 'Other service'],\n",
       "       ['Self emp not inc', 'Farming fishing'],\n",
       "       ['Private', 'Craft repair'],\n",
       "       ['Private', 'Adm clerical'],\n",
       "       ['Private', 'Prof specialty'],\n",
       "       ['Self emp not inc', 'Prof specialty'],\n",
       "       ['Private', 'Adm clerical'],\n",
       "       ['Private', 'Craft repair'],\n",
       "       ['Private', 'Machine op inspct'],\n",
       "       ['Private', 'Sales'],\n",
       "       ['Self emp not inc', 'Sales'],\n",
       "       ['Private', 'Sales'],\n",
       "       ['Private', 'Adm clerical'],\n",
       "       ['Private', 'Adm clerical'],\n",
       "       ['Private', 'Adm clerical'],\n",
       "       ['Private', 'Handlers cleaners'],\n",
       "       ['Private', 'Other service'],\n",
       "       ['Private', 'Adm clerical'],\n",
       "       ['Private', 'Prof specialty'],\n",
       "       ['Private', 'Other service'],\n",
       "       ['Private', 'Prof specialty'],\n",
       "       ['Private', 'Adm clerical'],\n",
       "       ['Private', 'Adm clerical'],\n",
       "       ['Private', 'Prof specialty'],\n",
       "       ['Private', 'Adm clerical']], dtype=object)"
      ]
     },
     "execution_count": 64,
     "metadata": {},
     "output_type": "execute_result"
    }
   ],
   "source": [
    "to_be_filled = data[['education', 'education-num', 'age', 'hours-per-week', 'employment_info', 'employment']].loc[data['employment_info'].isnull() == True]\n",
    "\n",
    "dic_work = {}\n",
    "\n",
    "\n",
    "to_be_filled = (to_be_filled.iloc[:, 1:4])\n",
    "# to_be_filled = to_be_filled.dropna()\n",
    "to_be_filled = np.array(to_be_filled)\n",
    "\n",
    "predicted = knn.predict(to_be_filled)\n",
    "predicted"
   ]
  },
  {
   "cell_type": "code",
   "execution_count": 65,
   "metadata": {},
   "outputs": [
    {
     "data": {
      "text/plain": [
       "pregnant               1\n",
       "relationship           6\n",
       "skewness_glucose      12\n",
       "mean_glucose           4\n",
       "capital-gain           8\n",
       "skewness_oxygen        5\n",
       "kurtosis_glucose       7\n",
       "education              6\n",
       "fnlwgt                 6\n",
       "class                  8\n",
       "std_glucose            6\n",
       "income                 7\n",
       "capital-loss          12\n",
       "employment           238\n",
       "country               74\n",
       "relationship_info      4\n",
       "employment_info      238\n",
       "race                   9\n",
       "dtype: int64"
      ]
     },
     "execution_count": 65,
     "metadata": {},
     "output_type": "execute_result"
    }
   ],
   "source": [
    "data[data.columns[data.isnull().any()].tolist()].isnull().sum()"
   ]
  },
  {
   "cell_type": "code",
   "execution_count": 66,
   "metadata": {},
   "outputs": [
    {
     "data": {
      "text/html": [
       "<div>\n",
       "<style scoped>\n",
       "    .dataframe tbody tr th:only-of-type {\n",
       "        vertical-align: middle;\n",
       "    }\n",
       "\n",
       "    .dataframe tbody tr th {\n",
       "        vertical-align: top;\n",
       "    }\n",
       "\n",
       "    .dataframe thead th {\n",
       "        text-align: right;\n",
       "    }\n",
       "</style>\n",
       "<table border=\"1\" class=\"dataframe\">\n",
       "  <thead>\n",
       "    <tr style=\"text-align: right;\">\n",
       "      <th></th>\n",
       "      <th>0</th>\n",
       "      <th>1</th>\n",
       "    </tr>\n",
       "  </thead>\n",
       "  <tbody>\n",
       "    <tr>\n",
       "      <td>0</td>\n",
       "      <td>Private</td>\n",
       "      <td>Sales</td>\n",
       "    </tr>\n",
       "    <tr>\n",
       "      <td>1</td>\n",
       "      <td>Private</td>\n",
       "      <td>Adm clerical</td>\n",
       "    </tr>\n",
       "    <tr>\n",
       "      <td>2</td>\n",
       "      <td>Private</td>\n",
       "      <td>Exec managerial</td>\n",
       "    </tr>\n",
       "    <tr>\n",
       "      <td>3</td>\n",
       "      <td>Private</td>\n",
       "      <td>Adm clerical</td>\n",
       "    </tr>\n",
       "    <tr>\n",
       "      <td>4</td>\n",
       "      <td>Private</td>\n",
       "      <td>Craft repair</td>\n",
       "    </tr>\n",
       "    <tr>\n",
       "      <td>5</td>\n",
       "      <td>Private</td>\n",
       "      <td>Adm clerical</td>\n",
       "    </tr>\n",
       "    <tr>\n",
       "      <td>6</td>\n",
       "      <td>Private</td>\n",
       "      <td>Handlers cleaners</td>\n",
       "    </tr>\n",
       "    <tr>\n",
       "      <td>7</td>\n",
       "      <td>Private</td>\n",
       "      <td>Other service</td>\n",
       "    </tr>\n",
       "    <tr>\n",
       "      <td>8</td>\n",
       "      <td>Private</td>\n",
       "      <td>Exec managerial</td>\n",
       "    </tr>\n",
       "    <tr>\n",
       "      <td>9</td>\n",
       "      <td>Private</td>\n",
       "      <td>Adm clerical</td>\n",
       "    </tr>\n",
       "    <tr>\n",
       "      <td>10</td>\n",
       "      <td>Private</td>\n",
       "      <td>Exec managerial</td>\n",
       "    </tr>\n",
       "    <tr>\n",
       "      <td>11</td>\n",
       "      <td>Private</td>\n",
       "      <td>Craft repair</td>\n",
       "    </tr>\n",
       "    <tr>\n",
       "      <td>12</td>\n",
       "      <td>Private</td>\n",
       "      <td>Sales</td>\n",
       "    </tr>\n",
       "    <tr>\n",
       "      <td>13</td>\n",
       "      <td>Private</td>\n",
       "      <td>Craft repair</td>\n",
       "    </tr>\n",
       "    <tr>\n",
       "      <td>14</td>\n",
       "      <td>Private</td>\n",
       "      <td>Craft repair</td>\n",
       "    </tr>\n",
       "    <tr>\n",
       "      <td>15</td>\n",
       "      <td>Private</td>\n",
       "      <td>Prof specialty</td>\n",
       "    </tr>\n",
       "    <tr>\n",
       "      <td>16</td>\n",
       "      <td>Private</td>\n",
       "      <td>Adm clerical</td>\n",
       "    </tr>\n",
       "    <tr>\n",
       "      <td>17</td>\n",
       "      <td>Private</td>\n",
       "      <td>Handlers cleaners</td>\n",
       "    </tr>\n",
       "    <tr>\n",
       "      <td>18</td>\n",
       "      <td>Private</td>\n",
       "      <td>Adm clerical</td>\n",
       "    </tr>\n",
       "    <tr>\n",
       "      <td>19</td>\n",
       "      <td>Private</td>\n",
       "      <td>Craft repair</td>\n",
       "    </tr>\n",
       "    <tr>\n",
       "      <td>20</td>\n",
       "      <td>Private</td>\n",
       "      <td>Other service</td>\n",
       "    </tr>\n",
       "    <tr>\n",
       "      <td>21</td>\n",
       "      <td>Private</td>\n",
       "      <td>Adm clerical</td>\n",
       "    </tr>\n",
       "    <tr>\n",
       "      <td>22</td>\n",
       "      <td>Private</td>\n",
       "      <td>Other service</td>\n",
       "    </tr>\n",
       "    <tr>\n",
       "      <td>23</td>\n",
       "      <td>Private</td>\n",
       "      <td>Sales</td>\n",
       "    </tr>\n",
       "    <tr>\n",
       "      <td>24</td>\n",
       "      <td>Private</td>\n",
       "      <td>Other service</td>\n",
       "    </tr>\n",
       "    <tr>\n",
       "      <td>25</td>\n",
       "      <td>Private</td>\n",
       "      <td>Craft repair</td>\n",
       "    </tr>\n",
       "    <tr>\n",
       "      <td>26</td>\n",
       "      <td>Local gov</td>\n",
       "      <td>Adm clerical</td>\n",
       "    </tr>\n",
       "    <tr>\n",
       "      <td>27</td>\n",
       "      <td>Private</td>\n",
       "      <td>Prof specialty</td>\n",
       "    </tr>\n",
       "    <tr>\n",
       "      <td>28</td>\n",
       "      <td>Private</td>\n",
       "      <td>Adm clerical</td>\n",
       "    </tr>\n",
       "    <tr>\n",
       "      <td>29</td>\n",
       "      <td>Private</td>\n",
       "      <td>Adm clerical</td>\n",
       "    </tr>\n",
       "    <tr>\n",
       "      <td>30</td>\n",
       "      <td>Private</td>\n",
       "      <td>Other service</td>\n",
       "    </tr>\n",
       "    <tr>\n",
       "      <td>31</td>\n",
       "      <td>Private</td>\n",
       "      <td>Adm clerical</td>\n",
       "    </tr>\n",
       "    <tr>\n",
       "      <td>32</td>\n",
       "      <td>Private</td>\n",
       "      <td>Exec managerial</td>\n",
       "    </tr>\n",
       "    <tr>\n",
       "      <td>33</td>\n",
       "      <td>Private</td>\n",
       "      <td>Adm clerical</td>\n",
       "    </tr>\n",
       "    <tr>\n",
       "      <td>34</td>\n",
       "      <td>Private</td>\n",
       "      <td>Handlers cleaners</td>\n",
       "    </tr>\n",
       "    <tr>\n",
       "      <td>35</td>\n",
       "      <td>Private</td>\n",
       "      <td>Adm clerical</td>\n",
       "    </tr>\n",
       "    <tr>\n",
       "      <td>36</td>\n",
       "      <td>Private</td>\n",
       "      <td>Prof specialty</td>\n",
       "    </tr>\n",
       "    <tr>\n",
       "      <td>37</td>\n",
       "      <td>Private</td>\n",
       "      <td>Sales</td>\n",
       "    </tr>\n",
       "    <tr>\n",
       "      <td>38</td>\n",
       "      <td>Private</td>\n",
       "      <td>Craft repair</td>\n",
       "    </tr>\n",
       "    <tr>\n",
       "      <td>39</td>\n",
       "      <td>Private</td>\n",
       "      <td>Exec managerial</td>\n",
       "    </tr>\n",
       "    <tr>\n",
       "      <td>40</td>\n",
       "      <td>Private</td>\n",
       "      <td>Adm clerical</td>\n",
       "    </tr>\n",
       "    <tr>\n",
       "      <td>41</td>\n",
       "      <td>Private</td>\n",
       "      <td>Handlers cleaners</td>\n",
       "    </tr>\n",
       "    <tr>\n",
       "      <td>42</td>\n",
       "      <td>Private</td>\n",
       "      <td>Prof specialty</td>\n",
       "    </tr>\n",
       "    <tr>\n",
       "      <td>43</td>\n",
       "      <td>Private</td>\n",
       "      <td>Prof specialty</td>\n",
       "    </tr>\n",
       "    <tr>\n",
       "      <td>44</td>\n",
       "      <td>Private</td>\n",
       "      <td>Adm clerical</td>\n",
       "    </tr>\n",
       "    <tr>\n",
       "      <td>45</td>\n",
       "      <td>Private</td>\n",
       "      <td>Adm clerical</td>\n",
       "    </tr>\n",
       "    <tr>\n",
       "      <td>46</td>\n",
       "      <td>Private</td>\n",
       "      <td>Sales</td>\n",
       "    </tr>\n",
       "    <tr>\n",
       "      <td>47</td>\n",
       "      <td>Private</td>\n",
       "      <td>Exec managerial</td>\n",
       "    </tr>\n",
       "    <tr>\n",
       "      <td>48</td>\n",
       "      <td>Private</td>\n",
       "      <td>Adm clerical</td>\n",
       "    </tr>\n",
       "    <tr>\n",
       "      <td>49</td>\n",
       "      <td>Private</td>\n",
       "      <td>Adm clerical</td>\n",
       "    </tr>\n",
       "    <tr>\n",
       "      <td>50</td>\n",
       "      <td>Private</td>\n",
       "      <td>Craft repair</td>\n",
       "    </tr>\n",
       "    <tr>\n",
       "      <td>51</td>\n",
       "      <td>Private</td>\n",
       "      <td>Other service</td>\n",
       "    </tr>\n",
       "    <tr>\n",
       "      <td>52</td>\n",
       "      <td>Private</td>\n",
       "      <td>Adm clerical</td>\n",
       "    </tr>\n",
       "    <tr>\n",
       "      <td>53</td>\n",
       "      <td>Private</td>\n",
       "      <td>Other service</td>\n",
       "    </tr>\n",
       "    <tr>\n",
       "      <td>54</td>\n",
       "      <td>Private</td>\n",
       "      <td>Adm clerical</td>\n",
       "    </tr>\n",
       "    <tr>\n",
       "      <td>55</td>\n",
       "      <td>Private</td>\n",
       "      <td>Prof specialty</td>\n",
       "    </tr>\n",
       "    <tr>\n",
       "      <td>56</td>\n",
       "      <td>Private</td>\n",
       "      <td>Adm clerical</td>\n",
       "    </tr>\n",
       "    <tr>\n",
       "      <td>57</td>\n",
       "      <td>Private</td>\n",
       "      <td>Adm clerical</td>\n",
       "    </tr>\n",
       "    <tr>\n",
       "      <td>58</td>\n",
       "      <td>Private</td>\n",
       "      <td>Handlers cleaners</td>\n",
       "    </tr>\n",
       "    <tr>\n",
       "      <td>59</td>\n",
       "      <td>Private</td>\n",
       "      <td>Prof specialty</td>\n",
       "    </tr>\n",
       "    <tr>\n",
       "      <td>60</td>\n",
       "      <td>Private</td>\n",
       "      <td>Adm clerical</td>\n",
       "    </tr>\n",
       "    <tr>\n",
       "      <td>61</td>\n",
       "      <td>Private</td>\n",
       "      <td>Exec managerial</td>\n",
       "    </tr>\n",
       "    <tr>\n",
       "      <td>62</td>\n",
       "      <td>Private</td>\n",
       "      <td>Adm clerical</td>\n",
       "    </tr>\n",
       "    <tr>\n",
       "      <td>63</td>\n",
       "      <td>Private</td>\n",
       "      <td>Adm clerical</td>\n",
       "    </tr>\n",
       "    <tr>\n",
       "      <td>64</td>\n",
       "      <td>Private</td>\n",
       "      <td>Adm clerical</td>\n",
       "    </tr>\n",
       "    <tr>\n",
       "      <td>65</td>\n",
       "      <td>Private</td>\n",
       "      <td>Handlers cleaners</td>\n",
       "    </tr>\n",
       "    <tr>\n",
       "      <td>66</td>\n",
       "      <td>Private</td>\n",
       "      <td>Adm clerical</td>\n",
       "    </tr>\n",
       "    <tr>\n",
       "      <td>67</td>\n",
       "      <td>Private</td>\n",
       "      <td>Craft repair</td>\n",
       "    </tr>\n",
       "    <tr>\n",
       "      <td>68</td>\n",
       "      <td>Private</td>\n",
       "      <td>Sales</td>\n",
       "    </tr>\n",
       "    <tr>\n",
       "      <td>69</td>\n",
       "      <td>Private</td>\n",
       "      <td>Adm clerical</td>\n",
       "    </tr>\n",
       "    <tr>\n",
       "      <td>70</td>\n",
       "      <td>Private</td>\n",
       "      <td>Other service</td>\n",
       "    </tr>\n",
       "    <tr>\n",
       "      <td>71</td>\n",
       "      <td>Private</td>\n",
       "      <td>Adm clerical</td>\n",
       "    </tr>\n",
       "    <tr>\n",
       "      <td>72</td>\n",
       "      <td>Private</td>\n",
       "      <td>Prof specialty</td>\n",
       "    </tr>\n",
       "    <tr>\n",
       "      <td>73</td>\n",
       "      <td>Private</td>\n",
       "      <td>Craft repair</td>\n",
       "    </tr>\n",
       "    <tr>\n",
       "      <td>74</td>\n",
       "      <td>Private</td>\n",
       "      <td>Adm clerical</td>\n",
       "    </tr>\n",
       "    <tr>\n",
       "      <td>75</td>\n",
       "      <td>Private</td>\n",
       "      <td>Prof specialty</td>\n",
       "    </tr>\n",
       "    <tr>\n",
       "      <td>76</td>\n",
       "      <td>Private</td>\n",
       "      <td>Craft repair</td>\n",
       "    </tr>\n",
       "    <tr>\n",
       "      <td>77</td>\n",
       "      <td>Private</td>\n",
       "      <td>Adm clerical</td>\n",
       "    </tr>\n",
       "    <tr>\n",
       "      <td>78</td>\n",
       "      <td>Private</td>\n",
       "      <td>Adm clerical</td>\n",
       "    </tr>\n",
       "    <tr>\n",
       "      <td>79</td>\n",
       "      <td>Private</td>\n",
       "      <td>Prof specialty</td>\n",
       "    </tr>\n",
       "    <tr>\n",
       "      <td>80</td>\n",
       "      <td>Private</td>\n",
       "      <td>Craft repair</td>\n",
       "    </tr>\n",
       "    <tr>\n",
       "      <td>81</td>\n",
       "      <td>Private</td>\n",
       "      <td>Craft repair</td>\n",
       "    </tr>\n",
       "    <tr>\n",
       "      <td>82</td>\n",
       "      <td>Private</td>\n",
       "      <td>Other service</td>\n",
       "    </tr>\n",
       "    <tr>\n",
       "      <td>83</td>\n",
       "      <td>Private</td>\n",
       "      <td>Prof specialty</td>\n",
       "    </tr>\n",
       "    <tr>\n",
       "      <td>84</td>\n",
       "      <td>Private</td>\n",
       "      <td>Adm clerical</td>\n",
       "    </tr>\n",
       "    <tr>\n",
       "      <td>85</td>\n",
       "      <td>Private</td>\n",
       "      <td>Machine op inspct</td>\n",
       "    </tr>\n",
       "    <tr>\n",
       "      <td>86</td>\n",
       "      <td>Private</td>\n",
       "      <td>Adm clerical</td>\n",
       "    </tr>\n",
       "    <tr>\n",
       "      <td>87</td>\n",
       "      <td>Private</td>\n",
       "      <td>Other service</td>\n",
       "    </tr>\n",
       "    <tr>\n",
       "      <td>88</td>\n",
       "      <td>Private</td>\n",
       "      <td>Other service</td>\n",
       "    </tr>\n",
       "    <tr>\n",
       "      <td>89</td>\n",
       "      <td>Private</td>\n",
       "      <td>Adm clerical</td>\n",
       "    </tr>\n",
       "    <tr>\n",
       "      <td>90</td>\n",
       "      <td>Private</td>\n",
       "      <td>Adm clerical</td>\n",
       "    </tr>\n",
       "    <tr>\n",
       "      <td>91</td>\n",
       "      <td>Private</td>\n",
       "      <td>Exec managerial</td>\n",
       "    </tr>\n",
       "    <tr>\n",
       "      <td>92</td>\n",
       "      <td>Private</td>\n",
       "      <td>Handlers cleaners</td>\n",
       "    </tr>\n",
       "    <tr>\n",
       "      <td>93</td>\n",
       "      <td>Private</td>\n",
       "      <td>Craft repair</td>\n",
       "    </tr>\n",
       "    <tr>\n",
       "      <td>94</td>\n",
       "      <td>Private</td>\n",
       "      <td>Machine op inspct</td>\n",
       "    </tr>\n",
       "    <tr>\n",
       "      <td>95</td>\n",
       "      <td>Private</td>\n",
       "      <td>Craft repair</td>\n",
       "    </tr>\n",
       "    <tr>\n",
       "      <td>96</td>\n",
       "      <td>Private</td>\n",
       "      <td>Exec managerial</td>\n",
       "    </tr>\n",
       "    <tr>\n",
       "      <td>97</td>\n",
       "      <td>Private</td>\n",
       "      <td>Adm clerical</td>\n",
       "    </tr>\n",
       "    <tr>\n",
       "      <td>98</td>\n",
       "      <td>Private</td>\n",
       "      <td>Prof specialty</td>\n",
       "    </tr>\n",
       "    <tr>\n",
       "      <td>99</td>\n",
       "      <td>Self emp not inc</td>\n",
       "      <td>Sales</td>\n",
       "    </tr>\n",
       "    <tr>\n",
       "      <td>100</td>\n",
       "      <td>Private</td>\n",
       "      <td>Adm clerical</td>\n",
       "    </tr>\n",
       "    <tr>\n",
       "      <td>101</td>\n",
       "      <td>Private</td>\n",
       "      <td>Adm clerical</td>\n",
       "    </tr>\n",
       "    <tr>\n",
       "      <td>102</td>\n",
       "      <td>Private</td>\n",
       "      <td>Adm clerical</td>\n",
       "    </tr>\n",
       "    <tr>\n",
       "      <td>103</td>\n",
       "      <td>Private</td>\n",
       "      <td>Prof specialty</td>\n",
       "    </tr>\n",
       "    <tr>\n",
       "      <td>104</td>\n",
       "      <td>Private</td>\n",
       "      <td>Craft repair</td>\n",
       "    </tr>\n",
       "    <tr>\n",
       "      <td>105</td>\n",
       "      <td>Private</td>\n",
       "      <td>Craft repair</td>\n",
       "    </tr>\n",
       "    <tr>\n",
       "      <td>106</td>\n",
       "      <td>Private</td>\n",
       "      <td>Exec managerial</td>\n",
       "    </tr>\n",
       "    <tr>\n",
       "      <td>107</td>\n",
       "      <td>Private</td>\n",
       "      <td>Other service</td>\n",
       "    </tr>\n",
       "    <tr>\n",
       "      <td>108</td>\n",
       "      <td>Private</td>\n",
       "      <td>Sales</td>\n",
       "    </tr>\n",
       "    <tr>\n",
       "      <td>109</td>\n",
       "      <td>Private</td>\n",
       "      <td>Machine op inspct</td>\n",
       "    </tr>\n",
       "    <tr>\n",
       "      <td>110</td>\n",
       "      <td>Private</td>\n",
       "      <td>Other service</td>\n",
       "    </tr>\n",
       "    <tr>\n",
       "      <td>111</td>\n",
       "      <td>Private</td>\n",
       "      <td>Other service</td>\n",
       "    </tr>\n",
       "    <tr>\n",
       "      <td>112</td>\n",
       "      <td>Private</td>\n",
       "      <td>Craft repair</td>\n",
       "    </tr>\n",
       "    <tr>\n",
       "      <td>113</td>\n",
       "      <td>Private</td>\n",
       "      <td>Other service</td>\n",
       "    </tr>\n",
       "    <tr>\n",
       "      <td>114</td>\n",
       "      <td>Private</td>\n",
       "      <td>Adm clerical</td>\n",
       "    </tr>\n",
       "    <tr>\n",
       "      <td>115</td>\n",
       "      <td>Federal gov</td>\n",
       "      <td>Other service</td>\n",
       "    </tr>\n",
       "    <tr>\n",
       "      <td>116</td>\n",
       "      <td>Private</td>\n",
       "      <td>Exec managerial</td>\n",
       "    </tr>\n",
       "    <tr>\n",
       "      <td>117</td>\n",
       "      <td>Private</td>\n",
       "      <td>Prof specialty</td>\n",
       "    </tr>\n",
       "    <tr>\n",
       "      <td>118</td>\n",
       "      <td>Private</td>\n",
       "      <td>Adm clerical</td>\n",
       "    </tr>\n",
       "    <tr>\n",
       "      <td>119</td>\n",
       "      <td>Private</td>\n",
       "      <td>Craft repair</td>\n",
       "    </tr>\n",
       "    <tr>\n",
       "      <td>120</td>\n",
       "      <td>Private</td>\n",
       "      <td>Prof specialty</td>\n",
       "    </tr>\n",
       "    <tr>\n",
       "      <td>121</td>\n",
       "      <td>Private</td>\n",
       "      <td>Prof specialty</td>\n",
       "    </tr>\n",
       "    <tr>\n",
       "      <td>122</td>\n",
       "      <td>Private</td>\n",
       "      <td>Adm clerical</td>\n",
       "    </tr>\n",
       "    <tr>\n",
       "      <td>123</td>\n",
       "      <td>Private</td>\n",
       "      <td>Sales</td>\n",
       "    </tr>\n",
       "    <tr>\n",
       "      <td>124</td>\n",
       "      <td>Private</td>\n",
       "      <td>Other service</td>\n",
       "    </tr>\n",
       "    <tr>\n",
       "      <td>125</td>\n",
       "      <td>Private</td>\n",
       "      <td>Adm clerical</td>\n",
       "    </tr>\n",
       "    <tr>\n",
       "      <td>126</td>\n",
       "      <td>Private</td>\n",
       "      <td>Machine op inspct</td>\n",
       "    </tr>\n",
       "    <tr>\n",
       "      <td>127</td>\n",
       "      <td>Private</td>\n",
       "      <td>Handlers cleaners</td>\n",
       "    </tr>\n",
       "    <tr>\n",
       "      <td>128</td>\n",
       "      <td>Private</td>\n",
       "      <td>Other service</td>\n",
       "    </tr>\n",
       "    <tr>\n",
       "      <td>129</td>\n",
       "      <td>Private</td>\n",
       "      <td>Craft repair</td>\n",
       "    </tr>\n",
       "    <tr>\n",
       "      <td>130</td>\n",
       "      <td>Private</td>\n",
       "      <td>Other service</td>\n",
       "    </tr>\n",
       "    <tr>\n",
       "      <td>131</td>\n",
       "      <td>Private</td>\n",
       "      <td>Adm clerical</td>\n",
       "    </tr>\n",
       "    <tr>\n",
       "      <td>132</td>\n",
       "      <td>Private</td>\n",
       "      <td>Adm clerical</td>\n",
       "    </tr>\n",
       "    <tr>\n",
       "      <td>133</td>\n",
       "      <td>Private</td>\n",
       "      <td>Machine op inspct</td>\n",
       "    </tr>\n",
       "    <tr>\n",
       "      <td>134</td>\n",
       "      <td>Private</td>\n",
       "      <td>Exec managerial</td>\n",
       "    </tr>\n",
       "    <tr>\n",
       "      <td>135</td>\n",
       "      <td>Private</td>\n",
       "      <td>Adm clerical</td>\n",
       "    </tr>\n",
       "    <tr>\n",
       "      <td>136</td>\n",
       "      <td>Private</td>\n",
       "      <td>Adm clerical</td>\n",
       "    </tr>\n",
       "    <tr>\n",
       "      <td>137</td>\n",
       "      <td>Private</td>\n",
       "      <td>Handlers cleaners</td>\n",
       "    </tr>\n",
       "    <tr>\n",
       "      <td>138</td>\n",
       "      <td>Private</td>\n",
       "      <td>Prof specialty</td>\n",
       "    </tr>\n",
       "    <tr>\n",
       "      <td>139</td>\n",
       "      <td>Private</td>\n",
       "      <td>Machine op inspct</td>\n",
       "    </tr>\n",
       "    <tr>\n",
       "      <td>140</td>\n",
       "      <td>Private</td>\n",
       "      <td>Other service</td>\n",
       "    </tr>\n",
       "    <tr>\n",
       "      <td>141</td>\n",
       "      <td>Private</td>\n",
       "      <td>Other service</td>\n",
       "    </tr>\n",
       "    <tr>\n",
       "      <td>142</td>\n",
       "      <td>Private</td>\n",
       "      <td>Machine op inspct</td>\n",
       "    </tr>\n",
       "    <tr>\n",
       "      <td>143</td>\n",
       "      <td>Private</td>\n",
       "      <td>Other service</td>\n",
       "    </tr>\n",
       "    <tr>\n",
       "      <td>144</td>\n",
       "      <td>Private</td>\n",
       "      <td>Other service</td>\n",
       "    </tr>\n",
       "    <tr>\n",
       "      <td>145</td>\n",
       "      <td>Private</td>\n",
       "      <td>Craft repair</td>\n",
       "    </tr>\n",
       "    <tr>\n",
       "      <td>146</td>\n",
       "      <td>Private</td>\n",
       "      <td>Machine op inspct</td>\n",
       "    </tr>\n",
       "    <tr>\n",
       "      <td>147</td>\n",
       "      <td>Private</td>\n",
       "      <td>Craft repair</td>\n",
       "    </tr>\n",
       "    <tr>\n",
       "      <td>148</td>\n",
       "      <td>Private</td>\n",
       "      <td>Exec managerial</td>\n",
       "    </tr>\n",
       "    <tr>\n",
       "      <td>149</td>\n",
       "      <td>Private</td>\n",
       "      <td>Farming fishing</td>\n",
       "    </tr>\n",
       "    <tr>\n",
       "      <td>150</td>\n",
       "      <td>Private</td>\n",
       "      <td>Adm clerical</td>\n",
       "    </tr>\n",
       "    <tr>\n",
       "      <td>151</td>\n",
       "      <td>Private</td>\n",
       "      <td>Adm clerical</td>\n",
       "    </tr>\n",
       "    <tr>\n",
       "      <td>152</td>\n",
       "      <td>Private</td>\n",
       "      <td>Machine op inspct</td>\n",
       "    </tr>\n",
       "    <tr>\n",
       "      <td>153</td>\n",
       "      <td>Private</td>\n",
       "      <td>Prof specialty</td>\n",
       "    </tr>\n",
       "    <tr>\n",
       "      <td>154</td>\n",
       "      <td>Private</td>\n",
       "      <td>Exec managerial</td>\n",
       "    </tr>\n",
       "    <tr>\n",
       "      <td>155</td>\n",
       "      <td>Private</td>\n",
       "      <td>Exec managerial</td>\n",
       "    </tr>\n",
       "    <tr>\n",
       "      <td>156</td>\n",
       "      <td>Private</td>\n",
       "      <td>Protective serv</td>\n",
       "    </tr>\n",
       "    <tr>\n",
       "      <td>157</td>\n",
       "      <td>Private</td>\n",
       "      <td>Other service</td>\n",
       "    </tr>\n",
       "    <tr>\n",
       "      <td>158</td>\n",
       "      <td>Private</td>\n",
       "      <td>Adm clerical</td>\n",
       "    </tr>\n",
       "    <tr>\n",
       "      <td>159</td>\n",
       "      <td>Private</td>\n",
       "      <td>Sales</td>\n",
       "    </tr>\n",
       "    <tr>\n",
       "      <td>160</td>\n",
       "      <td>Private</td>\n",
       "      <td>Adm clerical</td>\n",
       "    </tr>\n",
       "    <tr>\n",
       "      <td>161</td>\n",
       "      <td>Private</td>\n",
       "      <td>Handlers cleaners</td>\n",
       "    </tr>\n",
       "    <tr>\n",
       "      <td>162</td>\n",
       "      <td>Private</td>\n",
       "      <td>Machine op inspct</td>\n",
       "    </tr>\n",
       "    <tr>\n",
       "      <td>163</td>\n",
       "      <td>Private</td>\n",
       "      <td>Machine op inspct</td>\n",
       "    </tr>\n",
       "    <tr>\n",
       "      <td>164</td>\n",
       "      <td>Private</td>\n",
       "      <td>Adm clerical</td>\n",
       "    </tr>\n",
       "    <tr>\n",
       "      <td>165</td>\n",
       "      <td>Private</td>\n",
       "      <td>Prof specialty</td>\n",
       "    </tr>\n",
       "    <tr>\n",
       "      <td>166</td>\n",
       "      <td>Private</td>\n",
       "      <td>Other service</td>\n",
       "    </tr>\n",
       "    <tr>\n",
       "      <td>167</td>\n",
       "      <td>Private</td>\n",
       "      <td>Adm clerical</td>\n",
       "    </tr>\n",
       "    <tr>\n",
       "      <td>168</td>\n",
       "      <td>Federal gov</td>\n",
       "      <td>Adm clerical</td>\n",
       "    </tr>\n",
       "    <tr>\n",
       "      <td>169</td>\n",
       "      <td>Private</td>\n",
       "      <td>Adm clerical</td>\n",
       "    </tr>\n",
       "    <tr>\n",
       "      <td>170</td>\n",
       "      <td>Private</td>\n",
       "      <td>Craft repair</td>\n",
       "    </tr>\n",
       "    <tr>\n",
       "      <td>171</td>\n",
       "      <td>Private</td>\n",
       "      <td>Exec managerial</td>\n",
       "    </tr>\n",
       "    <tr>\n",
       "      <td>172</td>\n",
       "      <td>Private</td>\n",
       "      <td>Exec managerial</td>\n",
       "    </tr>\n",
       "    <tr>\n",
       "      <td>173</td>\n",
       "      <td>Private</td>\n",
       "      <td>Adm clerical</td>\n",
       "    </tr>\n",
       "    <tr>\n",
       "      <td>174</td>\n",
       "      <td>Private</td>\n",
       "      <td>Sales</td>\n",
       "    </tr>\n",
       "    <tr>\n",
       "      <td>175</td>\n",
       "      <td>Private</td>\n",
       "      <td>Handlers cleaners</td>\n",
       "    </tr>\n",
       "    <tr>\n",
       "      <td>176</td>\n",
       "      <td>Private</td>\n",
       "      <td>Adm clerical</td>\n",
       "    </tr>\n",
       "    <tr>\n",
       "      <td>177</td>\n",
       "      <td>Private</td>\n",
       "      <td>Machine op inspct</td>\n",
       "    </tr>\n",
       "    <tr>\n",
       "      <td>178</td>\n",
       "      <td>Private</td>\n",
       "      <td>Adm clerical</td>\n",
       "    </tr>\n",
       "    <tr>\n",
       "      <td>179</td>\n",
       "      <td>Private</td>\n",
       "      <td>Adm clerical</td>\n",
       "    </tr>\n",
       "    <tr>\n",
       "      <td>180</td>\n",
       "      <td>Private</td>\n",
       "      <td>Adm clerical</td>\n",
       "    </tr>\n",
       "    <tr>\n",
       "      <td>181</td>\n",
       "      <td>Private</td>\n",
       "      <td>Sales</td>\n",
       "    </tr>\n",
       "    <tr>\n",
       "      <td>182</td>\n",
       "      <td>Private</td>\n",
       "      <td>Other service</td>\n",
       "    </tr>\n",
       "    <tr>\n",
       "      <td>183</td>\n",
       "      <td>Private</td>\n",
       "      <td>Handlers cleaners</td>\n",
       "    </tr>\n",
       "    <tr>\n",
       "      <td>184</td>\n",
       "      <td>Private</td>\n",
       "      <td>Prof specialty</td>\n",
       "    </tr>\n",
       "    <tr>\n",
       "      <td>185</td>\n",
       "      <td>Private</td>\n",
       "      <td>Other service</td>\n",
       "    </tr>\n",
       "    <tr>\n",
       "      <td>186</td>\n",
       "      <td>Private</td>\n",
       "      <td>Other service</td>\n",
       "    </tr>\n",
       "    <tr>\n",
       "      <td>187</td>\n",
       "      <td>Private</td>\n",
       "      <td>Adm clerical</td>\n",
       "    </tr>\n",
       "    <tr>\n",
       "      <td>188</td>\n",
       "      <td>Private</td>\n",
       "      <td>Other service</td>\n",
       "    </tr>\n",
       "    <tr>\n",
       "      <td>189</td>\n",
       "      <td>Private</td>\n",
       "      <td>Adm clerical</td>\n",
       "    </tr>\n",
       "    <tr>\n",
       "      <td>190</td>\n",
       "      <td>Private</td>\n",
       "      <td>Exec managerial</td>\n",
       "    </tr>\n",
       "    <tr>\n",
       "      <td>191</td>\n",
       "      <td>Private</td>\n",
       "      <td>Adm clerical</td>\n",
       "    </tr>\n",
       "    <tr>\n",
       "      <td>192</td>\n",
       "      <td>Private</td>\n",
       "      <td>Craft repair</td>\n",
       "    </tr>\n",
       "    <tr>\n",
       "      <td>193</td>\n",
       "      <td>Private</td>\n",
       "      <td>Adm clerical</td>\n",
       "    </tr>\n",
       "    <tr>\n",
       "      <td>194</td>\n",
       "      <td>Private</td>\n",
       "      <td>Machine op inspct</td>\n",
       "    </tr>\n",
       "    <tr>\n",
       "      <td>195</td>\n",
       "      <td>Private</td>\n",
       "      <td>Craft repair</td>\n",
       "    </tr>\n",
       "    <tr>\n",
       "      <td>196</td>\n",
       "      <td>Private</td>\n",
       "      <td>Adm clerical</td>\n",
       "    </tr>\n",
       "    <tr>\n",
       "      <td>197</td>\n",
       "      <td>Private</td>\n",
       "      <td>Exec managerial</td>\n",
       "    </tr>\n",
       "    <tr>\n",
       "      <td>198</td>\n",
       "      <td>Private</td>\n",
       "      <td>Prof specialty</td>\n",
       "    </tr>\n",
       "    <tr>\n",
       "      <td>199</td>\n",
       "      <td>Private</td>\n",
       "      <td>Other service</td>\n",
       "    </tr>\n",
       "    <tr>\n",
       "      <td>200</td>\n",
       "      <td>Private</td>\n",
       "      <td>Prof specialty</td>\n",
       "    </tr>\n",
       "    <tr>\n",
       "      <td>201</td>\n",
       "      <td>Private</td>\n",
       "      <td>Exec managerial</td>\n",
       "    </tr>\n",
       "    <tr>\n",
       "      <td>202</td>\n",
       "      <td>Private</td>\n",
       "      <td>Prof specialty</td>\n",
       "    </tr>\n",
       "    <tr>\n",
       "      <td>203</td>\n",
       "      <td>Private</td>\n",
       "      <td>Craft repair</td>\n",
       "    </tr>\n",
       "    <tr>\n",
       "      <td>204</td>\n",
       "      <td>Private</td>\n",
       "      <td>Adm clerical</td>\n",
       "    </tr>\n",
       "    <tr>\n",
       "      <td>205</td>\n",
       "      <td>Private</td>\n",
       "      <td>Exec managerial</td>\n",
       "    </tr>\n",
       "    <tr>\n",
       "      <td>206</td>\n",
       "      <td>Private</td>\n",
       "      <td>Other service</td>\n",
       "    </tr>\n",
       "    <tr>\n",
       "      <td>207</td>\n",
       "      <td>Private</td>\n",
       "      <td>Handlers cleaners</td>\n",
       "    </tr>\n",
       "    <tr>\n",
       "      <td>208</td>\n",
       "      <td>Private</td>\n",
       "      <td>Prof specialty</td>\n",
       "    </tr>\n",
       "    <tr>\n",
       "      <td>209</td>\n",
       "      <td>Private</td>\n",
       "      <td>Machine op inspct</td>\n",
       "    </tr>\n",
       "    <tr>\n",
       "      <td>210</td>\n",
       "      <td>Private</td>\n",
       "      <td>Other service</td>\n",
       "    </tr>\n",
       "    <tr>\n",
       "      <td>211</td>\n",
       "      <td>Private</td>\n",
       "      <td>Sales</td>\n",
       "    </tr>\n",
       "    <tr>\n",
       "      <td>212</td>\n",
       "      <td>Private</td>\n",
       "      <td>Other service</td>\n",
       "    </tr>\n",
       "    <tr>\n",
       "      <td>213</td>\n",
       "      <td>Private</td>\n",
       "      <td>Other service</td>\n",
       "    </tr>\n",
       "    <tr>\n",
       "      <td>214</td>\n",
       "      <td>Self emp not inc</td>\n",
       "      <td>Farming fishing</td>\n",
       "    </tr>\n",
       "    <tr>\n",
       "      <td>215</td>\n",
       "      <td>Private</td>\n",
       "      <td>Craft repair</td>\n",
       "    </tr>\n",
       "    <tr>\n",
       "      <td>216</td>\n",
       "      <td>Private</td>\n",
       "      <td>Adm clerical</td>\n",
       "    </tr>\n",
       "    <tr>\n",
       "      <td>217</td>\n",
       "      <td>Private</td>\n",
       "      <td>Prof specialty</td>\n",
       "    </tr>\n",
       "    <tr>\n",
       "      <td>218</td>\n",
       "      <td>Self emp not inc</td>\n",
       "      <td>Prof specialty</td>\n",
       "    </tr>\n",
       "    <tr>\n",
       "      <td>219</td>\n",
       "      <td>Private</td>\n",
       "      <td>Adm clerical</td>\n",
       "    </tr>\n",
       "    <tr>\n",
       "      <td>220</td>\n",
       "      <td>Private</td>\n",
       "      <td>Craft repair</td>\n",
       "    </tr>\n",
       "    <tr>\n",
       "      <td>221</td>\n",
       "      <td>Private</td>\n",
       "      <td>Machine op inspct</td>\n",
       "    </tr>\n",
       "    <tr>\n",
       "      <td>222</td>\n",
       "      <td>Private</td>\n",
       "      <td>Sales</td>\n",
       "    </tr>\n",
       "    <tr>\n",
       "      <td>223</td>\n",
       "      <td>Self emp not inc</td>\n",
       "      <td>Sales</td>\n",
       "    </tr>\n",
       "    <tr>\n",
       "      <td>224</td>\n",
       "      <td>Private</td>\n",
       "      <td>Sales</td>\n",
       "    </tr>\n",
       "    <tr>\n",
       "      <td>225</td>\n",
       "      <td>Private</td>\n",
       "      <td>Adm clerical</td>\n",
       "    </tr>\n",
       "    <tr>\n",
       "      <td>226</td>\n",
       "      <td>Private</td>\n",
       "      <td>Adm clerical</td>\n",
       "    </tr>\n",
       "    <tr>\n",
       "      <td>227</td>\n",
       "      <td>Private</td>\n",
       "      <td>Adm clerical</td>\n",
       "    </tr>\n",
       "    <tr>\n",
       "      <td>228</td>\n",
       "      <td>Private</td>\n",
       "      <td>Handlers cleaners</td>\n",
       "    </tr>\n",
       "    <tr>\n",
       "      <td>229</td>\n",
       "      <td>Private</td>\n",
       "      <td>Other service</td>\n",
       "    </tr>\n",
       "    <tr>\n",
       "      <td>230</td>\n",
       "      <td>Private</td>\n",
       "      <td>Adm clerical</td>\n",
       "    </tr>\n",
       "    <tr>\n",
       "      <td>231</td>\n",
       "      <td>Private</td>\n",
       "      <td>Prof specialty</td>\n",
       "    </tr>\n",
       "    <tr>\n",
       "      <td>232</td>\n",
       "      <td>Private</td>\n",
       "      <td>Other service</td>\n",
       "    </tr>\n",
       "    <tr>\n",
       "      <td>233</td>\n",
       "      <td>Private</td>\n",
       "      <td>Prof specialty</td>\n",
       "    </tr>\n",
       "    <tr>\n",
       "      <td>234</td>\n",
       "      <td>Private</td>\n",
       "      <td>Adm clerical</td>\n",
       "    </tr>\n",
       "    <tr>\n",
       "      <td>235</td>\n",
       "      <td>Private</td>\n",
       "      <td>Adm clerical</td>\n",
       "    </tr>\n",
       "    <tr>\n",
       "      <td>236</td>\n",
       "      <td>Private</td>\n",
       "      <td>Prof specialty</td>\n",
       "    </tr>\n",
       "    <tr>\n",
       "      <td>237</td>\n",
       "      <td>Private</td>\n",
       "      <td>Adm clerical</td>\n",
       "    </tr>\n",
       "  </tbody>\n",
       "</table>\n",
       "</div>"
      ],
      "text/plain": [
       "                    0                  1\n",
       "0             Private              Sales\n",
       "1             Private       Adm clerical\n",
       "2             Private    Exec managerial\n",
       "3             Private       Adm clerical\n",
       "4             Private       Craft repair\n",
       "5             Private       Adm clerical\n",
       "6             Private  Handlers cleaners\n",
       "7             Private      Other service\n",
       "8             Private    Exec managerial\n",
       "9             Private       Adm clerical\n",
       "10            Private    Exec managerial\n",
       "11            Private       Craft repair\n",
       "12            Private              Sales\n",
       "13            Private       Craft repair\n",
       "14            Private       Craft repair\n",
       "15            Private     Prof specialty\n",
       "16            Private       Adm clerical\n",
       "17            Private  Handlers cleaners\n",
       "18            Private       Adm clerical\n",
       "19            Private       Craft repair\n",
       "20            Private      Other service\n",
       "21            Private       Adm clerical\n",
       "22            Private      Other service\n",
       "23            Private              Sales\n",
       "24            Private      Other service\n",
       "25            Private       Craft repair\n",
       "26          Local gov       Adm clerical\n",
       "27            Private     Prof specialty\n",
       "28            Private       Adm clerical\n",
       "29            Private       Adm clerical\n",
       "30            Private      Other service\n",
       "31            Private       Adm clerical\n",
       "32            Private    Exec managerial\n",
       "33            Private       Adm clerical\n",
       "34            Private  Handlers cleaners\n",
       "35            Private       Adm clerical\n",
       "36            Private     Prof specialty\n",
       "37            Private              Sales\n",
       "38            Private       Craft repair\n",
       "39            Private    Exec managerial\n",
       "40            Private       Adm clerical\n",
       "41            Private  Handlers cleaners\n",
       "42            Private     Prof specialty\n",
       "43            Private     Prof specialty\n",
       "44            Private       Adm clerical\n",
       "45            Private       Adm clerical\n",
       "46            Private              Sales\n",
       "47            Private    Exec managerial\n",
       "48            Private       Adm clerical\n",
       "49            Private       Adm clerical\n",
       "50            Private       Craft repair\n",
       "51            Private      Other service\n",
       "52            Private       Adm clerical\n",
       "53            Private      Other service\n",
       "54            Private       Adm clerical\n",
       "55            Private     Prof specialty\n",
       "56            Private       Adm clerical\n",
       "57            Private       Adm clerical\n",
       "58            Private  Handlers cleaners\n",
       "59            Private     Prof specialty\n",
       "60            Private       Adm clerical\n",
       "61            Private    Exec managerial\n",
       "62            Private       Adm clerical\n",
       "63            Private       Adm clerical\n",
       "64            Private       Adm clerical\n",
       "65            Private  Handlers cleaners\n",
       "66            Private       Adm clerical\n",
       "67            Private       Craft repair\n",
       "68            Private              Sales\n",
       "69            Private       Adm clerical\n",
       "70            Private      Other service\n",
       "71            Private       Adm clerical\n",
       "72            Private     Prof specialty\n",
       "73            Private       Craft repair\n",
       "74            Private       Adm clerical\n",
       "75            Private     Prof specialty\n",
       "76            Private       Craft repair\n",
       "77            Private       Adm clerical\n",
       "78            Private       Adm clerical\n",
       "79            Private     Prof specialty\n",
       "80            Private       Craft repair\n",
       "81            Private       Craft repair\n",
       "82            Private      Other service\n",
       "83            Private     Prof specialty\n",
       "84            Private       Adm clerical\n",
       "85            Private  Machine op inspct\n",
       "86            Private       Adm clerical\n",
       "87            Private      Other service\n",
       "88            Private      Other service\n",
       "89            Private       Adm clerical\n",
       "90            Private       Adm clerical\n",
       "91            Private    Exec managerial\n",
       "92            Private  Handlers cleaners\n",
       "93            Private       Craft repair\n",
       "94            Private  Machine op inspct\n",
       "95            Private       Craft repair\n",
       "96            Private    Exec managerial\n",
       "97            Private       Adm clerical\n",
       "98            Private     Prof specialty\n",
       "99   Self emp not inc              Sales\n",
       "100           Private       Adm clerical\n",
       "101           Private       Adm clerical\n",
       "102           Private       Adm clerical\n",
       "103           Private     Prof specialty\n",
       "104           Private       Craft repair\n",
       "105           Private       Craft repair\n",
       "106           Private    Exec managerial\n",
       "107           Private      Other service\n",
       "108           Private              Sales\n",
       "109           Private  Machine op inspct\n",
       "110           Private      Other service\n",
       "111           Private      Other service\n",
       "112           Private       Craft repair\n",
       "113           Private      Other service\n",
       "114           Private       Adm clerical\n",
       "115       Federal gov      Other service\n",
       "116           Private    Exec managerial\n",
       "117           Private     Prof specialty\n",
       "118           Private       Adm clerical\n",
       "119           Private       Craft repair\n",
       "120           Private     Prof specialty\n",
       "121           Private     Prof specialty\n",
       "122           Private       Adm clerical\n",
       "123           Private              Sales\n",
       "124           Private      Other service\n",
       "125           Private       Adm clerical\n",
       "126           Private  Machine op inspct\n",
       "127           Private  Handlers cleaners\n",
       "128           Private      Other service\n",
       "129           Private       Craft repair\n",
       "130           Private      Other service\n",
       "131           Private       Adm clerical\n",
       "132           Private       Adm clerical\n",
       "133           Private  Machine op inspct\n",
       "134           Private    Exec managerial\n",
       "135           Private       Adm clerical\n",
       "136           Private       Adm clerical\n",
       "137           Private  Handlers cleaners\n",
       "138           Private     Prof specialty\n",
       "139           Private  Machine op inspct\n",
       "140           Private      Other service\n",
       "141           Private      Other service\n",
       "142           Private  Machine op inspct\n",
       "143           Private      Other service\n",
       "144           Private      Other service\n",
       "145           Private       Craft repair\n",
       "146           Private  Machine op inspct\n",
       "147           Private       Craft repair\n",
       "148           Private    Exec managerial\n",
       "149           Private    Farming fishing\n",
       "150           Private       Adm clerical\n",
       "151           Private       Adm clerical\n",
       "152           Private  Machine op inspct\n",
       "153           Private     Prof specialty\n",
       "154           Private    Exec managerial\n",
       "155           Private    Exec managerial\n",
       "156           Private    Protective serv\n",
       "157           Private      Other service\n",
       "158           Private       Adm clerical\n",
       "159           Private              Sales\n",
       "160           Private       Adm clerical\n",
       "161           Private  Handlers cleaners\n",
       "162           Private  Machine op inspct\n",
       "163           Private  Machine op inspct\n",
       "164           Private       Adm clerical\n",
       "165           Private     Prof specialty\n",
       "166           Private      Other service\n",
       "167           Private       Adm clerical\n",
       "168       Federal gov       Adm clerical\n",
       "169           Private       Adm clerical\n",
       "170           Private       Craft repair\n",
       "171           Private    Exec managerial\n",
       "172           Private    Exec managerial\n",
       "173           Private       Adm clerical\n",
       "174           Private              Sales\n",
       "175           Private  Handlers cleaners\n",
       "176           Private       Adm clerical\n",
       "177           Private  Machine op inspct\n",
       "178           Private       Adm clerical\n",
       "179           Private       Adm clerical\n",
       "180           Private       Adm clerical\n",
       "181           Private              Sales\n",
       "182           Private      Other service\n",
       "183           Private  Handlers cleaners\n",
       "184           Private     Prof specialty\n",
       "185           Private      Other service\n",
       "186           Private      Other service\n",
       "187           Private       Adm clerical\n",
       "188           Private      Other service\n",
       "189           Private       Adm clerical\n",
       "190           Private    Exec managerial\n",
       "191           Private       Adm clerical\n",
       "192           Private       Craft repair\n",
       "193           Private       Adm clerical\n",
       "194           Private  Machine op inspct\n",
       "195           Private       Craft repair\n",
       "196           Private       Adm clerical\n",
       "197           Private    Exec managerial\n",
       "198           Private     Prof specialty\n",
       "199           Private      Other service\n",
       "200           Private     Prof specialty\n",
       "201           Private    Exec managerial\n",
       "202           Private     Prof specialty\n",
       "203           Private       Craft repair\n",
       "204           Private       Adm clerical\n",
       "205           Private    Exec managerial\n",
       "206           Private      Other service\n",
       "207           Private  Handlers cleaners\n",
       "208           Private     Prof specialty\n",
       "209           Private  Machine op inspct\n",
       "210           Private      Other service\n",
       "211           Private              Sales\n",
       "212           Private      Other service\n",
       "213           Private      Other service\n",
       "214  Self emp not inc    Farming fishing\n",
       "215           Private       Craft repair\n",
       "216           Private       Adm clerical\n",
       "217           Private     Prof specialty\n",
       "218  Self emp not inc     Prof specialty\n",
       "219           Private       Adm clerical\n",
       "220           Private       Craft repair\n",
       "221           Private  Machine op inspct\n",
       "222           Private              Sales\n",
       "223  Self emp not inc              Sales\n",
       "224           Private              Sales\n",
       "225           Private       Adm clerical\n",
       "226           Private       Adm clerical\n",
       "227           Private       Adm clerical\n",
       "228           Private  Handlers cleaners\n",
       "229           Private      Other service\n",
       "230           Private       Adm clerical\n",
       "231           Private     Prof specialty\n",
       "232           Private      Other service\n",
       "233           Private     Prof specialty\n",
       "234           Private       Adm clerical\n",
       "235           Private       Adm clerical\n",
       "236           Private     Prof specialty\n",
       "237           Private       Adm clerical"
      ]
     },
     "execution_count": 66,
     "metadata": {},
     "output_type": "execute_result"
    }
   ],
   "source": [
    "\n",
    "df_predicted = pd.DataFrame(predicted)\n",
    "df_predicted\n"
   ]
  },
  {
   "cell_type": "code",
   "execution_count": 67,
   "metadata": {},
   "outputs": [
    {
     "name": "stderr",
     "output_type": "stream",
     "text": [
      "C:\\Users\\rusna\\Anaconda2\\lib\\site-packages\\pandas\\core\\indexing.py:205: SettingWithCopyWarning: \n",
      "A value is trying to be set on a copy of a slice from a DataFrame\n",
      "\n",
      "See the caveats in the documentation: http://pandas.pydata.org/pandas-docs/stable/user_guide/indexing.html#returning-a-view-versus-a-copy\n",
      "  self._setitem_with_indexer(indexer, value)\n"
     ]
    }
   ],
   "source": [
    "data['employment_info'].loc[data['employment_info'].isnull() == True] = df_predicted[0].values"
   ]
  },
  {
   "cell_type": "code",
   "execution_count": 68,
   "metadata": {},
   "outputs": [],
   "source": [
    "data['employment'].loc[data['employment'].isnull() == True] = df_predicted[1].values"
   ]
  },
  {
   "cell_type": "markdown",
   "metadata": {},
   "source": [
    "**//////////////////////////////////////////////////////////////////////////////////////////////////////////////////////////////////////////////////////////////////////////////////////////////////////////////////////////////////**"
   ]
  },
  {
   "cell_type": "code",
   "execution_count": 69,
   "metadata": {
    "scrolled": true
   },
   "outputs": [
    {
     "data": {
      "text/plain": [
       "pregnant              1\n",
       "relationship          6\n",
       "skewness_glucose     12\n",
       "mean_glucose          4\n",
       "capital-gain          8\n",
       "skewness_oxygen       5\n",
       "kurtosis_glucose      7\n",
       "education             6\n",
       "fnlwgt                6\n",
       "class                 8\n",
       "std_glucose           6\n",
       "income                7\n",
       "capital-loss         12\n",
       "country              74\n",
       "relationship_info     4\n",
       "race                  9\n",
       "dtype: int64"
      ]
     },
     "execution_count": 69,
     "metadata": {},
     "output_type": "execute_result"
    }
   ],
   "source": [
    "data[data.columns[data.isnull().any()].tolist()].isnull().sum()"
   ]
  },
  {
   "cell_type": "code",
   "execution_count": 70,
   "metadata": {},
   "outputs": [
    {
     "data": {
      "text/plain": [
       "array([ 29.33438934, 119.4506868 , 119.7982303 , ...,  78.49212012,\n",
       "         0.48247399,  61.69992429])"
      ]
     },
     "execution_count": 70,
     "metadata": {},
     "output_type": "execute_result"
    }
   ],
   "source": [
    "data['skewness_oxygen'].unique()"
   ]
  },
  {
   "cell_type": "markdown",
   "metadata": {},
   "source": [
    "#### Doplnenie skewnes"
   ]
  },
  {
   "cell_type": "code",
   "execution_count": 71,
   "metadata": {},
   "outputs": [
    {
     "name": "stderr",
     "output_type": "stream",
     "text": [
      "C:\\Users\\rusna\\Anaconda2\\lib\\site-packages\\ipykernel_launcher.py:5: SettingWithCopyWarning: \n",
      "A value is trying to be set on a copy of a slice from a DataFrame\n",
      "\n",
      "See the caveats in the documentation: http://pandas.pydata.org/pandas-docs/stable/user_guide/indexing.html#returning-a-view-versus-a-copy\n",
      "  \"\"\"\n",
      "C:\\Users\\rusna\\Anaconda2\\lib\\site-packages\\pandas\\core\\indexing.py:205: SettingWithCopyWarning: \n",
      "A value is trying to be set on a copy of a slice from a DataFrame\n",
      "\n",
      "See the caveats in the documentation: http://pandas.pydata.org/pandas-docs/stable/user_guide/indexing.html#returning-a-view-versus-a-copy\n",
      "  self._setitem_with_indexer(indexer, value)\n"
     ]
    }
   ],
   "source": [
    "import sklearn\n",
    "from sklearn.linear_model import LinearRegression\n",
    "lm = LinearRegression()\n",
    "df = data[['kurtosis_glucose','skewness_glucose']]\n",
    "df.dropna(axis=0, how='any', inplace=True)\n",
    "X = df['kurtosis_glucose'].values.reshape(-1,1)\n",
    "\n",
    "\n",
    "lm.fit(X,df['skewness_glucose'])\n",
    "data_T3_null = data['kurtosis_glucose'].loc[(data['skewness_glucose'].isna()) & (~data['kurtosis_glucose'].isna())]\n",
    "data_T3_null\n",
    "temp = lm.predict(np.array(data_T3_null).reshape(-1,1))\n",
    "temp\n",
    "data['skewness_glucose'].loc[(data['skewness_glucose'].isna()) & (~data['kurtosis_glucose'].isna())] = temp"
   ]
  },
  {
   "cell_type": "markdown",
   "metadata": {},
   "source": []
  },
  {
   "cell_type": "code",
   "execution_count": 75,
   "metadata": {},
   "outputs": [
    {
     "data": {
      "text/plain": [
       "<matplotlib.axes._subplots.AxesSubplot at 0x20af8b97be0>"
      ]
     },
     "execution_count": 75,
     "metadata": {},
     "output_type": "execute_result"
    },
    {
     "data": {
      "image/png": "[encoded data removed]",
      "text/plain": [
       "<Figure size 432x288 with 1 Axes>"
      ]
     },
     "metadata": {
      "needs_background": "light"
     },
     "output_type": "display_data"
    }
   ],
   "source": [
    "import copy\n",
    "Zaloha = copy.deepcopy(data['skewness_glucose'])\n",
    "PomDF = copy.deepcopy(data['skewness_glucose'])\n",
    "PomDF.fillna(PomDF.mean(), inplace=True)\n",
    "PomDF.plot(kind='kde')"
   ]
  },
  {
   "cell_type": "code",
   "execution_count": 76,
   "metadata": {},
   "outputs": [
    {
     "data": {
      "text/plain": [
       "pregnant              1\n",
       "relationship          6\n",
       "skewness_glucose      3\n",
       "mean_glucose          4\n",
       "capital-gain          8\n",
       "skewness_oxygen       5\n",
       "kurtosis_glucose      7\n",
       "education             6\n",
       "fnlwgt                6\n",
       "class                 8\n",
       "std_glucose           6\n",
       "income                7\n",
       "capital-loss         12\n",
       "country              74\n",
       "relationship_info     4\n",
       "race                  9\n",
       "dtype: int64"
      ]
     },
     "execution_count": 76,
     "metadata": {},
     "output_type": "execute_result"
    }
   ],
   "source": [
    "data[data.columns[data.isnull().any()].tolist()].isnull().sum()"
   ]
  },
  {
   "cell_type": "code",
   "execution_count": 77,
   "metadata": {},
   "outputs": [
    {
     "data": {
      "text/plain": [
       "<matplotlib.axes._subplots.AxesSubplot at 0x20af8bec668>"
      ]
     },
     "execution_count": 77,
     "metadata": {},
     "output_type": "execute_result"
    },
    {
     "data": {
      "image/png": "[encoded data removed]",
      "text/plain": [
       "<Figure size 432x288 with 1 Axes>"
      ]
     },
     "metadata": {
      "needs_background": "light"
     },
     "output_type": "display_data"
    }
   ],
   "source": [
    "data['skewness_glucose'].plot(kind='kde')"
   ]
  },
  {
   "cell_type": "code",
   "execution_count": 78,
   "metadata": {},
   "outputs": [
    {
     "data": {
      "text/plain": [
       "3"
      ]
     },
     "execution_count": 78,
     "metadata": {},
     "output_type": "execute_result"
    }
   ],
   "source": [
    "data['skewness_glucose'].isna().sum()"
   ]
  },
  {
   "cell_type": "code",
   "execution_count": 79,
   "metadata": {},
   "outputs": [
    {
     "data": {
      "text/plain": [
       "0      -0.043867\n",
       "1       0.923553\n",
       "2       0.060398\n",
       "3      -0.583193\n",
       "4       3.656040\n",
       "          ...   \n",
       "3978    2.375737\n",
       "3979    0.158678\n",
       "3980   -0.475804\n",
       "3981    7.695857\n",
       "3982    1.254641\n",
       "Name: skewness_glucose, Length: 3933, dtype: float64"
      ]
     },
     "execution_count": 79,
     "metadata": {},
     "output_type": "execute_result"
    }
   ],
   "source": [
    "linearRegressionWM = copy.deepcopy(data['skewness_glucose'])\n",
    "linearRegressionWM"
   ]
  },
  {
   "cell_type": "code",
   "execution_count": 80,
   "metadata": {},
   "outputs": [],
   "source": [
    "data['skewness_glucose'].fillna(data['skewness_glucose'].mean(),inplace=True)"
   ]
  },
  {
   "cell_type": "code",
   "execution_count": 81,
   "metadata": {},
   "outputs": [
    {
     "data": {
      "text/plain": [
       "pregnant              1\n",
       "relationship          6\n",
       "mean_glucose          4\n",
       "capital-gain          8\n",
       "skewness_oxygen       5\n",
       "kurtosis_glucose      7\n",
       "education             6\n",
       "fnlwgt                6\n",
       "class                 8\n",
       "std_glucose           6\n",
       "income                7\n",
       "capital-loss         12\n",
       "country              74\n",
       "relationship_info     4\n",
       "race                  9\n",
       "dtype: int64"
      ]
     },
     "execution_count": 81,
     "metadata": {},
     "output_type": "execute_result"
    }
   ],
   "source": [
    "data[data.columns[data.isnull().any()].tolist()].isnull().sum()"
   ]
  },
  {
   "cell_type": "code",
   "execution_count": null,
   "metadata": {},
   "outputs": [],
   "source": []
  },
  {
   "cell_type": "code",
   "execution_count": null,
   "metadata": {},
   "outputs": [],
   "source": []
  }
 ],
 "metadata": {
  "kernelspec": {
   "display_name": "Python 3",
   "language": "python",
   "name": "python3"
  },
  "language_info": {
   "codemirror_mode": {
    "name": "ipython",
    "version": 3
   },
   "file_extension": ".py",
   "mimetype": "text/x-python",
   "name": "python",
   "nbconvert_exporter": "python",
   "pygments_lexer": "ipython3",
   "version": "3.6.9"
  },
  "pycharm": {
   "stem_cell": {
    "cell_type": "raw",
    "metadata": {
     "collapsed": false
    },
    "source": []
   }
  }
 },
 "nbformat": 4,
 "nbformat_minor": 1
}
