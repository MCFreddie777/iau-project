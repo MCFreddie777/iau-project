{
 "cells": [
  {
   "cell_type": "markdown",
   "metadata": {
    "pycharm": {
     "name": "#%% md\n"
    }
   },
   "source": [
    "# Odovzdanie 2 - Predspracovanie\n",
    "#### Anton Rusňák, František Gič"
   ]
  },
  {
   "cell_type": "code",
   "execution_count": 1290,
   "metadata": {
    "pycharm": {
     "is_executing": false,
     "name": "#%%\n"
    }
   },
   "outputs": [],
   "source": [
    "import pandas as pd\n",
    "import numpy as np\n",
    "import matplotlib as mat\n",
    "import matplotlib.pyplot as plt\n",
    "import matplotlib.pylab as pylab\n",
    "import seaborn as sns\n",
    "import statsmodels.api as sm\n",
    "import statsmodels.stats as sm_stats\n",
    "import statsmodels.stats.api as sms\n",
    "import scipy.stats as stats\n",
    "import statistics \n",
    "from statistics import mode \n",
    "%matplotlib inline"
   ]
  },
  {
   "cell_type": "markdown",
   "metadata": {},
   "source": [
    "Nacitanie pomocnych funkcii zo skriptu"
   ]
  },
  {
   "cell_type": "code",
   "execution_count": 1291,
   "metadata": {
    "pycharm": {
     "is_executing": false,
     "name": "#%%\n"
    }
   },
   "outputs": [],
   "source": [
    "%run \"functions.py\""
   ]
  },
  {
   "cell_type": "markdown",
   "metadata": {
    "pycharm": {
     "name": "#%% md\n"
    }
   },
   "source": [
    "### Nacitanie datasetov "
   ]
  },
  {
   "cell_type": "code",
   "execution_count": 1292,
   "metadata": {
    "pycharm": {
     "is_executing": false,
     "name": "#%%\n"
    }
   },
   "outputs": [
    {
     "name": "stdout",
     "output_type": "stream",
     "text": [
      "3933\n",
      "3983\n"
     ]
    }
   ],
   "source": [
    "data_personal = load(\"data/personal_train.csv\")\n",
    "data_other = load(\"data/other_train.csv\")\n",
    "\n",
    "print(len(data_personal))\n",
    "print(len(data_other))"
   ]
  },
  {
   "cell_type": "markdown",
   "metadata": {
    "pycharm": {
     "name": "#%% md\n"
    }
   },
   "source": [
    "### Spajanie datasetov"
   ]
  },
  {
   "cell_type": "code",
   "execution_count": 1293,
   "metadata": {
    "pycharm": {
     "is_executing": false,
     "name": "#%%\n"
    }
   },
   "outputs": [
    {
     "name": "stdout",
     "output_type": "stream",
     "text": [
      "3983\n"
     ]
    }
   ],
   "source": [
    "data = pd.merge(data_personal,data_other,on=['name','address'], how = 'outer')\n",
    "\n",
    "print(len(data))"
   ]
  },
  {
   "cell_type": "markdown",
   "metadata": {},
   "source": [
    "### Predspracovanie jednotlivych atributov"
   ]
  },
  {
   "cell_type": "markdown",
   "metadata": {},
   "source": [
    "#### Atribut sex\n",
    "\n",
    "Neobsahuje ziadne prazdne hodnoty, len stripneme whitespace a nahradime kategoricke hodnoty ich ciselnymi reprezentaciami - 1 (Male) a 0 (Female)"
   ]
  },
  {
   "cell_type": "code",
   "execution_count": 1294,
   "metadata": {
    "pycharm": {
     "is_executing": false,
     "name": "#%%\n"
    }
   },
   "outputs": [
    {
     "name": "stdout",
     "output_type": "stream",
     "text": [
      "0\n"
     ]
    }
   ],
   "source": [
    "print(len((data[data.sex.isnull()])))"
   ]
  },
  {
   "cell_type": "code",
   "execution_count": 1295,
   "metadata": {},
   "outputs": [],
   "source": [
    "def sanitize_sex(sex):\n",
    "    return 1 if sex.strip() == 'Male' else 0"
   ]
  },
  {
   "cell_type": "code",
   "execution_count": 1296,
   "metadata": {
    "pycharm": {
     "is_executing": false,
     "name": "#%%\n"
    }
   },
   "outputs": [],
   "source": [
    "data.sex = data.sex.map(lambda sex: sanitize_sex(sex))"
   ]
  },
  {
   "cell_type": "code",
   "execution_count": 1297,
   "metadata": {},
   "outputs": [
    {
     "data": {
      "text/plain": [
       "array([1, 0])"
      ]
     },
     "execution_count": 1297,
     "metadata": {},
     "output_type": "execute_result"
    }
   ],
   "source": [
    "data.sex.unique()"
   ]
  },
  {
   "cell_type": "markdown",
   "metadata": {},
   "source": [
    "#### Atribut age<br>\n",
    "Ako aj v prvom odovzdani spracuvame age na ciselny atribut a jeho zaporne hodnoty nahradime NaN"
   ]
  },
  {
   "cell_type": "code",
   "execution_count": 1298,
   "metadata": {
    "pycharm": {
     "is_executing": false,
     "name": "#%%\n"
    }
   },
   "outputs": [],
   "source": [
    "data.age = data.age.map(sanitize_age)"
   ]
  },
  {
   "cell_type": "code",
   "execution_count": 1299,
   "metadata": {},
   "outputs": [
    {
     "data": {
      "text/plain": [
       "756"
      ]
     },
     "execution_count": 1299,
     "metadata": {},
     "output_type": "execute_result"
    }
   ],
   "source": [
    "len(data[pd.isnull(data.age)])"
   ]
  },
  {
   "cell_type": "markdown",
   "metadata": {},
   "source": [
    "Po spracovani vsak mame vela prazdnych hodnot (756).<br>\n",
    "Napada nas sposob vypocet nahradenim podla datumu, ale nemame zatial rozparsovany atribut date of birth.\n",
    "<br>"
   ]
  },
  {
   "cell_type": "markdown",
   "metadata": {},
   "source": [
    "Mohli by sme nahradit chybajuce hodnoty pacienta priemerom veku jeho pohlavia.\n",
    "Pokial by pacient nemal uvedene pohlavie, nahradili by sme primerom vsetkych pacientov. Tuto funkciu si naprogramujeme, a uvidime ci sa bude dat pouzit neskor."
   ]
  },
  {
   "cell_type": "code",
   "execution_count": 1300,
   "metadata": {
    "pycharm": {
     "is_executing": false,
     "name": "#%%\n"
    }
   },
   "outputs": [],
   "source": [
    "def fill_null_age(data): \n",
    "\tunique_sexes = data.sex.unique()\n",
    "\tfor sex in unique_sexes:\n",
    "\t\tmean = data.loc[(data.age.notnull()) & (data.sex == sex)].age.mean()\n",
    "\t\tdata.loc[(data.sex == sex) & (data.age.isna()),'age'] = mean\n",
    "\treturn data\t"
   ]
  },
  {
   "cell_type": "markdown",
   "metadata": {},
   "source": [
    "#### Atribut pregnant<br>\n",
    "Upravime boolean hodnoty a nahradime ich ciselnou reprezentaciou.\n",
    "<br>Taktiez vsetkym muzom nastavime pregnant na 0"
   ]
  },
  {
   "cell_type": "code",
   "execution_count": 1301,
   "metadata": {},
   "outputs": [],
   "source": [
    "def sanitize_boolean(boolean):\n",
    "    try:\n",
    "        if boolean.strip() in ['f','F','FALSE','false','False']:\n",
    "            return 0\n",
    "        elif boolean.strip() in ['t','T','TRUE','true','True']:\n",
    "            return 1\n",
    "        else:\n",
    "            return np.nan\n",
    "    except AttributeError:\n",
    "        return np.nan"
   ]
  },
  {
   "cell_type": "code",
   "execution_count": 1302,
   "metadata": {
    "pycharm": {
     "name": "#%%\n"
    }
   },
   "outputs": [],
   "source": [
    "data.pregnant = data.pregnant.map(sanitize_boolean)"
   ]
  },
  {
   "cell_type": "code",
   "execution_count": 1303,
   "metadata": {
    "pycharm": {
     "name": "#%%\n"
    }
   },
   "outputs": [],
   "source": [
    "def sanitize_pregnancy(data):\n",
    "\tdata.loc[(data.sex == 1),'pregnant'] = 0\n",
    "\treturn data\n",
    "\n",
    "data = sanitize_pregnancy(data)\t"
   ]
  },
  {
   "cell_type": "markdown",
   "metadata": {
    "pycharm": {
     "name": "#%% md\n"
    }
   },
   "source": [
    "Po vycisteni atributu pregnant by sme mohli v pripade ak nejaky zaznam ma chybajuci atribut sex a zaroven ma pregnant 1 -  nastavit ako sex ako zenu (0).\n",
    "V tomto datasete take nemame, ale je dobre pripravit nasu funkciu just in case."
   ]
  },
  {
   "cell_type": "code",
   "execution_count": 1304,
   "metadata": {
    "pycharm": {
     "is_executing": false,
     "name": "#%%\n"
    }
   },
   "outputs": [],
   "source": [
    "def sanitize_pregnancy(data):\n",
    "\tdata.loc[(data.sex == 1),'pregnant'] = 0\n",
    "\tdata.loc[(data.sex.isnull()) & (data.pregnant == 1),'sex'] = 0\n",
    "\treturn data\n",
    "\n",
    "data = sanitize_pregnancy(data)\t"
   ]
  },
  {
   "cell_type": "markdown",
   "metadata": {},
   "source": [
    "Vidime ze v datasete mame aj prazdne hodnoty, budeme sa tym zaoberat neskor"
   ]
  },
  {
   "cell_type": "code",
   "execution_count": 1305,
   "metadata": {},
   "outputs": [
    {
     "name": "stdout",
     "output_type": "stream",
     "text": [
      "[ 0.  1. nan]\n"
     ]
    },
    {
     "data": {
      "text/plain": [
       "1"
      ]
     },
     "execution_count": 1305,
     "metadata": {},
     "output_type": "execute_result"
    }
   ],
   "source": [
    "print(data.pregnant.unique())\n",
    "data.pregnant.isnull().sum()"
   ]
  },
  {
   "cell_type": "markdown",
   "metadata": {},
   "source": [
    "#### Atribut personal info<br>\n",
    "Vyparsujeme vsetky hodnoty z tohto stringu a vytvorime nove columny"
   ]
  },
  {
   "cell_type": "code",
   "execution_count": 1306,
   "metadata": {
    "pycharm": {
     "is_executing": false,
     "name": "#%%\n"
    }
   },
   "outputs": [],
   "source": [
    "parsed_info = data.personal_info.map(parse_personal_info).map(remove_empty)"
   ]
  },
  {
   "cell_type": "code",
   "execution_count": 1307,
   "metadata": {
    "pycharm": {
     "is_executing": false,
     "name": "#%%\n"
    }
   },
   "outputs": [],
   "source": [
    "personal_info_columns = ['employment','country','relationship_info','employment_info','race']\n",
    "for index,name in enumerate(personal_info_columns):\n",
    "    data[name] = parsed_info.map(lambda x: fill_value(index,x))\n",
    "\t\n",
    "data = data.drop('personal_info', axis=1)"
   ]
  },
  {
   "cell_type": "code",
   "execution_count": 1308,
   "metadata": {},
   "outputs": [
    {
     "data": {
      "text/html": [
       "<div>\n",
       "<style scoped>\n",
       "    .dataframe tbody tr th:only-of-type {\n",
       "        vertical-align: middle;\n",
       "    }\n",
       "\n",
       "    .dataframe tbody tr th {\n",
       "        vertical-align: top;\n",
       "    }\n",
       "\n",
       "    .dataframe thead th {\n",
       "        text-align: right;\n",
       "    }\n",
       "</style>\n",
       "<table border=\"1\" class=\"dataframe\">\n",
       "  <thead>\n",
       "    <tr style=\"text-align: right;\">\n",
       "      <th></th>\n",
       "      <th>employment</th>\n",
       "      <th>country</th>\n",
       "      <th>relationship_info</th>\n",
       "      <th>employment_info</th>\n",
       "      <th>race</th>\n",
       "    </tr>\n",
       "  </thead>\n",
       "  <tbody>\n",
       "    <tr>\n",
       "      <th>0</th>\n",
       "      <td>Transport-moving</td>\n",
       "      <td>United-States</td>\n",
       "      <td>Divorced</td>\n",
       "      <td>Private</td>\n",
       "      <td>White</td>\n",
       "    </tr>\n",
       "    <tr>\n",
       "      <th>1</th>\n",
       "      <td>Adm-clerical</td>\n",
       "      <td>United-States</td>\n",
       "      <td>Divorced</td>\n",
       "      <td>Private</td>\n",
       "      <td>White</td>\n",
       "    </tr>\n",
       "    <tr>\n",
       "      <th>2</th>\n",
       "      <td>Prof-specialty</td>\n",
       "      <td>United-States</td>\n",
       "      <td>Married-civ-spouse</td>\n",
       "      <td>Private</td>\n",
       "      <td>White</td>\n",
       "    </tr>\n",
       "    <tr>\n",
       "      <th>3</th>\n",
       "      <td>Prof-specialty</td>\n",
       "      <td>United-States</td>\n",
       "      <td>Married-civ-spouse</td>\n",
       "      <td>State-gov</td>\n",
       "      <td>White</td>\n",
       "    </tr>\n",
       "    <tr>\n",
       "      <th>4</th>\n",
       "      <td>Tech-support</td>\n",
       "      <td>United-States</td>\n",
       "      <td>Never-married</td>\n",
       "      <td>Private</td>\n",
       "      <td>White</td>\n",
       "    </tr>\n",
       "  </tbody>\n",
       "</table>\n",
       "</div>"
      ],
      "text/plain": [
       "         employment        country   relationship_info employment_info   race\n",
       "0  Transport-moving  United-States            Divorced         Private  White\n",
       "1      Adm-clerical  United-States            Divorced         Private  White\n",
       "2    Prof-specialty  United-States  Married-civ-spouse         Private  White\n",
       "3    Prof-specialty  United-States  Married-civ-spouse       State-gov  White\n",
       "4      Tech-support  United-States       Never-married         Private  White"
      ]
     },
     "execution_count": 1308,
     "metadata": {},
     "output_type": "execute_result"
    }
   ],
   "source": [
    "data[personal_info_columns].head(5)"
   ]
  },
  {
   "cell_type": "markdown",
   "metadata": {},
   "source": [
    "#### Atribut date of birth<br>\n",
    "Z prvotnej analyzy vieme ze date of birth nema unifikovany tvar datumu, cize bude nutne ho osetrit."
   ]
  },
  {
   "cell_type": "code",
   "execution_count": 1309,
   "metadata": {},
   "outputs": [],
   "source": [
    "def sanitize_date(date):\n",
    "    date = str(date).replace('/', '-')\n",
    "    date = date[:10]\n",
    "    date = date.split(\"-\")\n",
    "    \n",
    "    if date[0] != 'nan':\n",
    "        if len(date[0]) != 4:\n",
    "            if len(date[2]) == 2 and int(date[0]) > 31:\n",
    "                new_date = \"19\"+ date[0] +\"-\"+date[1]+\"-\"+date[2] \n",
    "                \n",
    "            elif ((len(date[2]) == 2) and (int(date[0]) < 31) and (int(date[2]) > 31)):\n",
    "                new_date = \"19\"+date[2]+\"-\"+date[1]+\"-\"+date[0] \n",
    "                \n",
    "            elif ((len(date[2]) == 2) and (int(date[0]) < 31) and (int(date[2]) < 31)):\n",
    "                new_date = \"20\"+ date[2] + \"-\" +date[1]+\"-\" + date[0] \n",
    "            else:\n",
    "                new_date = date[2]+\"-\"+date[1]+\"-\"+date[0] \n",
    "            return new_date        \n",
    "    return '-'.join(date)"
   ]
  },
  {
   "cell_type": "code",
   "execution_count": 1310,
   "metadata": {},
   "outputs": [
    {
     "data": {
      "text/plain": [
       "0    1960-07-04\n",
       "1    1972-07-20\n",
       "2    1960-02-28\n",
       "3    1967-12-04\n",
       "4    1938-04-22\n",
       "Name: date_of_birth, dtype: object"
      ]
     },
     "execution_count": 1310,
     "metadata": {},
     "output_type": "execute_result"
    }
   ],
   "source": [
    "data.date_of_birth = data.date_of_birth.map(sanitize_date)\n",
    "data.date_of_birth.head(5)"
   ]
  },
  {
   "cell_type": "markdown",
   "metadata": {},
   "source": [
    "Vidime, ze datumy maju uz rovnaky format. Teraz sa mozme vratit k upravovaniu atributu age - vypocitat chybajuce hodnoty na zaklade datumu."
   ]
  },
  {
   "cell_type": "markdown",
   "metadata": {},
   "source": [
    "### Dopocitanie veku na zaklade datumu"
   ]
  },
  {
   "cell_type": "markdown",
   "metadata": {},
   "source": [
    "Prejdeme vsetky datumy a najdeme najfrekventovanejsi rok po scitani veku a roku narodenia. To je rok, v ktorom bolo uskutocnene meranie (supis) veku.\n",
    "Tento rok vyuzijeme na dopocitanie veku osob na zaklade ich datumu narodenia ktore ho nemaju."
   ]
  },
  {
   "cell_type": "code",
   "execution_count": 1311,
   "metadata": {},
   "outputs": [],
   "source": [
    "years = [];\n",
    "\n",
    "def store_measure_year(age,date):\n",
    "    if (pd.notnull(age)):\n",
    "        years.append(int(date.split('-')[0]) + age)\n",
    "        \n",
    "data.apply(lambda x: store_measure_year(x.age,x.date_of_birth),axis=1)\n",
    "\n",
    "measure_year = pd.Series(years).mode();"
   ]
  },
  {
   "cell_type": "code",
   "execution_count": 1312,
   "metadata": {},
   "outputs": [],
   "source": [
    "def fill_null_age(age,date):\n",
    "    if (date):\n",
    "        return (measure_year - int(date.split('-')[0]))[0]\n",
    "    return np.nan\n",
    "\n",
    "data.loc[data.age.isnull(),'age'] = data[data.age.isnull()].apply(lambda x: fill_null_age(x.age,x.date_of_birth),axis=1)"
   ]
  },
  {
   "cell_type": "markdown",
   "metadata": {},
   "source": [
    "Podarilo sa nam vsetkym zaznamom dopocitat vek."
   ]
  },
  {
   "cell_type": "code",
   "execution_count": 1313,
   "metadata": {},
   "outputs": [
    {
     "data": {
      "text/plain": [
       "0"
      ]
     },
     "execution_count": 1313,
     "metadata": {},
     "output_type": "execute_result"
    }
   ],
   "source": [
    "len(data[data.age.isnull()])"
   ]
  },
  {
   "cell_type": "markdown",
   "metadata": {},
   "source": [
    "Nastastie nemame ziadne take ze bez datumu a bez veku."
   ]
  },
  {
   "cell_type": "code",
   "execution_count": 1314,
   "metadata": {},
   "outputs": [
    {
     "data": {
      "text/plain": [
       "0"
      ]
     },
     "execution_count": 1314,
     "metadata": {},
     "output_type": "execute_result"
    }
   ],
   "source": [
    "len(data[(data.date_of_birth.isna()) & (data.age.isnull())])"
   ]
  },
  {
   "cell_type": "markdown",
   "metadata": {},
   "source": [
    "#### Atribut income\n",
    "Prehodime kategoricke hodnoty na ciselnu reprezentaciu ('<=50K' == 0, '>50K' == 1)"
   ]
  },
  {
   "cell_type": "code",
   "execution_count": 1315,
   "metadata": {},
   "outputs": [
    {
     "data": {
      "text/plain": [
       "array([' <=50K', ' >50K', nan], dtype=object)"
      ]
     },
     "execution_count": 1315,
     "metadata": {},
     "output_type": "execute_result"
    }
   ],
   "source": [
    "data.income.unique()"
   ]
  },
  {
   "cell_type": "code",
   "execution_count": 1316,
   "metadata": {},
   "outputs": [],
   "source": [
    "data.income = data.income.map(lambda income: 0 if str(income).strip() == '<=50K' else 1 if str(income).strip() == '>50K' else np.nan)"
   ]
  },
  {
   "cell_type": "code",
   "execution_count": 1317,
   "metadata": {},
   "outputs": [
    {
     "data": {
      "text/plain": [
       "array([ 0.,  1., nan])"
      ]
     },
     "execution_count": 1317,
     "metadata": {},
     "output_type": "execute_result"
    }
   ],
   "source": [
    "data.income.unique()"
   ]
  },
  {
   "cell_type": "markdown",
   "metadata": {},
   "source": [
    "#### String Atributy\n",
    "Tieto atributy su stringove, viackrat duplicitne, skusime ich troska quickfixnut a zjednotit data"
   ]
  },
  {
   "cell_type": "code",
   "execution_count": 1318,
   "metadata": {},
   "outputs": [
    {
     "name": "stdout",
     "output_type": "stream",
     "text": [
      "relationship :  ['Not in family' 'Own child' 'Husband' 'Wife' 'Unmarried' 'Other relative'\n",
      " None] \n",
      "\n",
      "relationship_info :  ['Divorced' 'Married civ spouse' 'Never married' None 'Widowed'\n",
      " 'Married spouse absent' 'Separated' 'Married AF spouse'] \n",
      "\n",
      "employment :  ['Transport moving' 'Adm clerical' 'Prof specialty' 'Tech support' None\n",
      " 'Sales' 'Craft repair' 'Other service' 'Handlers cleaners'\n",
      " 'Farming fishing' 'Exec managerial' 'Machine op inspct' 'Priv house serv'\n",
      " 'Protective serv' 'Armed Forces'] \n",
      "\n",
      "employment_info :  ['Private' 'State gov' None 'Self emp not inc' 'Federal gov' 'Local gov'\n",
      " 'Self emp inc' 'Without pay' 'Never worked'] \n",
      "\n"
     ]
    }
   ],
   "source": [
    "def strip_string(string):\n",
    "    try:\n",
    "        return str(string).strip()\n",
    "    except AttributeError:\n",
    "        return None\n",
    "\n",
    "def sanitize_string(string):\n",
    "    string = strip_string(string);\n",
    "    if string in ['None','nan','??','?']:\n",
    "        return None\n",
    "    return string\n",
    "\n",
    "def sanitize_multiword_string(string):\n",
    "    try:\n",
    "        return sanitize_string(string).replace('-',' ').replace('_',' ')\n",
    "    except AttributeError:\n",
    "        return None\n",
    "\n",
    "for column in ['relationship','relationship_info','employment','employment_info']:\n",
    "    data[column] = data[column].map(sanitize_multiword_string)\n",
    "    print(column,': ',data[column].unique(),'\\n')\n"
   ]
  },
  {
   "cell_type": "code",
   "execution_count": 1319,
   "metadata": {
    "scrolled": true
   },
   "outputs": [
    {
     "name": "stdout",
     "output_type": "stream",
     "text": [
      "13\n",
      "12\n"
     ]
    }
   ],
   "source": [
    "print(len(data[data.relationship.isnull()]))\n",
    "print(len(data[data.relationship_info.isnull()]))"
   ]
  },
  {
   "cell_type": "markdown",
   "metadata": {},
   "source": [
    "Velmi ma zaujali atributy relationship a relationship_info, a rad by som doplnil ich nejake prazdne hodnoty. \n",
    "\n",
    "Najskor by som asi zjednotil hodnoty 'Married civ spouse','Married AF spouse','Married spouse absent', na 'Married', vsak to je asi jedno za koho je zenaty/vydata. Teda vlasne iba ten treti typ to vyhral, ten ma o problem postarane.<br>\n",
    "<img src=\"http://m.quickmeme.com/img/db/dbd8d8db8056e48ac72fd40435157978a1bbf2b63b297b41a9ba4302ed9962e0.jpg\" height=200 width=200 align=\"left\">"
   ]
  },
  {
   "cell_type": "code",
   "execution_count": 1320,
   "metadata": {},
   "outputs": [],
   "source": [
    "data.loc[data.relationship_info.str.contains('Married',na=False),'relationship_info'] = data[data.relationship_info.str.contains('Married',na=False)].relationship_info.map(lambda x: 'Married')"
   ]
  },
  {
   "cell_type": "markdown",
   "metadata": {},
   "source": [
    "Dalsie co mozeme urobit je ze ak ma dany clovek relationship_info Never married, tak relationship mozme nastavit na Unmarried."
   ]
  },
  {
   "cell_type": "code",
   "execution_count": 1321,
   "metadata": {},
   "outputs": [],
   "source": [
    "def sanitize_relationship(relationship,relationship_info):\n",
    "    if relationship_info == 'Never married':\n",
    "            return 'Unmarried'\n",
    "    return relationship\n",
    "    \n",
    "data.loc[data.relationship.isnull(),'relationship'] = data[data.relationship.isnull()].apply(lambda row: sanitize_relationship(row.relationship,row.relationship_info), axis=1)"
   ]
  },
  {
   "cell_type": "markdown",
   "metadata": {},
   "source": [
    "Este jedna vec nas napada, a to ti, ktori maju Husband alebo Wife v relationship, tak im implicitne dame Married."
   ]
  },
  {
   "cell_type": "code",
   "execution_count": 1322,
   "metadata": {},
   "outputs": [],
   "source": [
    "def sanitize_relationship_info(relationship,relationship_info):\n",
    "    if relationship in ['Wife','Husband']:\n",
    "            return 'Married'\n",
    "    return relationship_info\n",
    "    \n",
    "data.loc[data.relationship_info.isnull(),'relationship_info'] = data[data.relationship_info.isnull()].apply(lambda row: sanitize_relationship_info(row.relationship,row.relationship_info), axis=1)"
   ]
  },
  {
   "cell_type": "markdown",
   "metadata": {},
   "source": [
    "Mozno este ti co maju relationship Married tak sa pozriet na ich pohlavie a podla toho dat Wife alebo Husband? (No nechceme to hrotit, takze to nehame tak)"
   ]
  },
  {
   "cell_type": "code",
   "execution_count": 1323,
   "metadata": {},
   "outputs": [
    {
     "name": "stdout",
     "output_type": "stream",
     "text": [
      "1132        None\n",
      "1442     Married\n",
      "1516    Divorced\n",
      "1837        None\n",
      "2018        None\n",
      "3161     Married\n",
      "3162     Married\n",
      "3449     Married\n",
      "3801     Married\n",
      "3963     Married\n",
      "Name: relationship_info, dtype: object \n",
      "\n",
      "1009    Not in family\n",
      "1132             None\n",
      "1535    Not in family\n",
      "1837             None\n",
      "2018             None\n",
      "2506        Unmarried\n",
      "Name: relationship, dtype: object\n"
     ]
    }
   ],
   "source": [
    "print(data[data.relationship.isnull()].relationship_info,'\\n')\n",
    "print(data[data.relationship_info.isnull()].relationship)"
   ]
  },
  {
   "cell_type": "markdown",
   "metadata": {},
   "source": [
    "Pozrieme sa este na country a education:"
   ]
  },
  {
   "cell_type": "code",
   "execution_count": 1324,
   "metadata": {},
   "outputs": [
    {
     "name": "stdout",
     "output_type": "stream",
     "text": [
      "country :  ['United-States' None 'El-Salvador' 'South' 'Germany' 'Mexico' 'Cuba'\n",
      " 'Philippines' 'England' 'Ireland' 'Canada' 'China' 'France' 'Japan'\n",
      " 'India' 'Scotland' 'Italy' 'Puerto-Rico' 'Portugal' 'Jamaica' 'Thailand'\n",
      " 'Dominican-Republic' 'Nicaragua' 'Poland' 'Peru' 'Vietnam' 'Ecuador'\n",
      " 'Iran' 'Columbia' 'Laos' 'Guatemala' 'Hong' 'Haiti'\n",
      " 'Outlying-US(Guam-USVI-etc)' 'Honduras' 'Cambodia' 'Taiwan' 'Greece'\n",
      " 'Trinadad&Tobago' 'Yugoslavia'] \n",
      "\n",
      "education :  ['HS-grad' 'Bachelors' 'Some-college' '10th' 'Assoc-acdm' 'Masters' None\n",
      " '1st-4th' '7th-8th' 'Prof-school' '11th' '5th-6th' 'Assoc-voc' '9th'\n",
      " 'Doctorate' '12th' 'Preschool'] \n",
      "\n",
      "race :  ['White' None 'Asian-Pac-Islander' 'Black' 'Other' 'Amer-Indian-Eskimo'] \n",
      "\n"
     ]
    }
   ],
   "source": [
    "for column in ['country','education','race']:\n",
    "    data[column] = data[column].map(sanitize_string)\n",
    "    print(column,': ',data[column].unique(),'\\n')"
   ]
  },
  {
   "cell_type": "markdown",
   "metadata": {},
   "source": [
    "### Odstranenie duplikatov"
   ]
  },
  {
   "cell_type": "markdown",
   "metadata": {},
   "source": [
    "Rozhodli sme sa odstranit duplikaty na zaklade mena, adresy a datumu narodenia."
   ]
  },
  {
   "cell_type": "code",
   "execution_count": 1326,
   "metadata": {},
   "outputs": [
    {
     "name": "stdout",
     "output_type": "stream",
     "text": [
      "length other: 3983\n",
      "length personal 3933\n"
     ]
    }
   ],
   "source": [
    "print('length other:',len(data_other))\n",
    "print('length personal',len(data_personal))"
   ]
  },
  {
   "cell_type": "code",
   "execution_count": 1327,
   "metadata": {},
   "outputs": [
    {
     "name": "stdout",
     "output_type": "stream",
     "text": [
      "length data 3983\n"
     ]
    }
   ],
   "source": [
    "print('length data',len(data))"
   ]
  },
  {
   "cell_type": "code",
   "execution_count": 1330,
   "metadata": {},
   "outputs": [
    {
     "name": "stdout",
     "output_type": "stream",
     "text": [
      "length duplicated before:  50\n",
      "length data 3933\n",
      "length duplicated after:  0\n"
     ]
    }
   ],
   "source": [
    "print('length duplicated before: ',len(data[data.duplicated(['name','address','date_of_birth'])]))\n",
    "data = data.drop_duplicates(['name','address','date_of_birth'],keep=\"last\")\n",
    "print('length data',len(data))\n",
    "print('length duplicated after: ',len(data[data.duplicated(['name','address','date_of_birth'])]))"
   ]
  },
  {
   "cell_type": "markdown",
   "metadata": {},
   "source": [
    "# ------------------------------------------------------\n",
    "# Kamosko tolko zatial odomna asi"
   ]
  },
  {
   "cell_type": "markdown",
   "metadata": {},
   "source": [
    "### Chybajuce hodnoty"
   ]
  },
  {
   "cell_type": "code",
   "execution_count": 708,
   "metadata": {},
   "outputs": [
    {
     "data": {
      "text/plain": [
       "kurtosis_oxygen       5\n",
       "pregnant              1\n",
       "education-num        18\n",
       "relationship         13\n",
       "skewness_glucose     23\n",
       "mean_glucose         10\n",
       "std_oxygen           14\n",
       "capital-gain         16\n",
       "skewness_oxygen      13\n",
       "kurtosis_glucose     18\n",
       "education            12\n",
       "fnlwgt               13\n",
       "class                19\n",
       "std_glucose          12\n",
       "income               14\n",
       "mean_oxygen          16\n",
       "hours-per-week       13\n",
       "capital-loss         20\n",
       "employment           12\n",
       "country              12\n",
       "relationship_info    12\n",
       "employment_info      12\n",
       "race                 12\n",
       "dtype: int64"
      ]
     },
     "execution_count": 708,
     "metadata": {},
     "output_type": "execute_result"
    }
   ],
   "source": [
    "data[data.columns[data.isnull().any()].tolist()].isnull().sum()"
   ]
  },
  {
   "cell_type": "markdown",
   "metadata": {},
   "source": [
    "### Predikcia pregnant"
   ]
  },
  {
   "cell_type": "code",
   "execution_count": 552,
   "metadata": {},
   "outputs": [
    {
     "name": "stderr",
     "output_type": "stream",
     "text": [
      "/Users/feri/anaconda3/lib/python3.7/site-packages/sklearn/utils/deprecation.py:66: DeprecationWarning: Class Imputer is deprecated; Imputer was deprecated in version 0.20 and will be removed in 0.22. Import impute.SimpleImputer from sklearn instead.\n",
      "  warnings.warn(msg, category=DeprecationWarning)\n"
     ]
    }
   ],
   "source": [
    "from sklearn.preprocessing import Imputer\n",
    "from sklearn import linear_model\n",
    "\n",
    "imp_median = Imputer(missing_values='NaN', strategy='median')"
   ]
  },
  {
   "cell_type": "code",
   "execution_count": 553,
   "metadata": {},
   "outputs": [
    {
     "data": {
      "text/plain": [
       "False"
      ]
     },
     "execution_count": 553,
     "metadata": {},
     "output_type": "execute_result"
    }
   ],
   "source": [
    "data['sex'] = imp_median.fit_transform(data[['sex']])\n",
    "data['mean_glucose'] = imp_median.fit_transform(data[['mean_glucose']])\n",
    "data[['pregnant','sex','mean_glucose']].astype('float64').corr()\n",
    "data.mean_glucose.astype('float64').isnull().any()\n",
    "data['sex'].isnull().any()"
   ]
  },
  {
   "cell_type": "code",
   "execution_count": 556,
   "metadata": {},
   "outputs": [
    {
     "data": {
      "text/plain": [
       "0       0\n",
       "1       0\n",
       "2       0\n",
       "3       0\n",
       "4       0\n",
       "5       0\n",
       "6       0\n",
       "7       0\n",
       "8       0\n",
       "9       0\n",
       "10      0\n",
       "11      0\n",
       "12      0\n",
       "13      0\n",
       "14      0\n",
       "15      0\n",
       "16      0\n",
       "17      0\n",
       "18      0\n",
       "19      0\n",
       "20      0\n",
       "21      0\n",
       "22      0\n",
       "23      0\n",
       "24      0\n",
       "25      0\n",
       "26      0\n",
       "27      0\n",
       "28      0\n",
       "29      0\n",
       "       ..\n",
       "3953    0\n",
       "3954    0\n",
       "3955    0\n",
       "3956    0\n",
       "3957    0\n",
       "3958    0\n",
       "3959    0\n",
       "3960    0\n",
       "3961    0\n",
       "3962    0\n",
       "3963    0\n",
       "3964    0\n",
       "3965    0\n",
       "3966    0\n",
       "3967    0\n",
       "3968    0\n",
       "3969    0\n",
       "3970    0\n",
       "3971    0\n",
       "3972    0\n",
       "3973    0\n",
       "3974    0\n",
       "3975    0\n",
       "3976    0\n",
       "3977    0\n",
       "3978    0\n",
       "3979    0\n",
       "3980    0\n",
       "3981    0\n",
       "3982    0\n",
       "Name: pregnant, Length: 3982, dtype: object"
      ]
     },
     "execution_count": 556,
     "metadata": {},
     "output_type": "execute_result"
    }
   ],
   "source": [
    "fin = data.pregnant.dropna()\n",
    "fin"
   ]
  },
  {
   "cell_type": "code",
   "execution_count": 557,
   "metadata": {},
   "outputs": [
    {
     "name": "stdout",
     "output_type": "stream",
     "text": [
      "0.003919711803099357 Úspešnosť doplnenia\n"
     ]
    },
    {
     "data": {
      "text/plain": [
       "array([0.02406011])"
      ]
     },
     "execution_count": 557,
     "metadata": {},
     "output_type": "execute_result"
    }
   ],
   "source": [
    "X = data[['sex','mean_glucose']].head(fin.count())\n",
    "y = fin\n",
    "lm = linear_model.LinearRegression()\n",
    "model = lm.fit(X,y)\n",
    "print(lm.score(X,y), 'Úspešnosť doplnenia')\n",
    "missingTT4 = data[['sex','mean_glucose']].loc[data['pregnant'].isna()]\n",
    "predictions = lm.predict(missingTT4)\n",
    "predictions"
   ]
  },
  {
   "cell_type": "code",
   "execution_count": 558,
   "metadata": {},
   "outputs": [],
   "source": [
    "missing = data.pregnant.isna()\n",
    "onlyNans = data[missing]\n",
    "data.loc[onlyNans.pregnant.index,'pregnant'] = predictions"
   ]
  },
  {
   "cell_type": "code",
   "execution_count": 561,
   "metadata": {},
   "outputs": [
    {
     "data": {
      "text/html": [
       "<div>\n",
       "<style scoped>\n",
       "    .dataframe tbody tr th:only-of-type {\n",
       "        vertical-align: middle;\n",
       "    }\n",
       "\n",
       "    .dataframe tbody tr th {\n",
       "        vertical-align: top;\n",
       "    }\n",
       "\n",
       "    .dataframe thead th {\n",
       "        text-align: right;\n",
       "    }\n",
       "</style>\n",
       "<table border=\"1\" class=\"dataframe\">\n",
       "  <thead>\n",
       "    <tr style=\"text-align: right;\">\n",
       "      <th></th>\n",
       "      <th>name</th>\n",
       "      <th>address</th>\n",
       "      <th>age</th>\n",
       "      <th>sex</th>\n",
       "      <th>date_of_birth</th>\n",
       "      <th>kurtosis_oxygen</th>\n",
       "      <th>pregnant</th>\n",
       "      <th>education-num</th>\n",
       "      <th>relationship</th>\n",
       "      <th>skewness_glucose</th>\n",
       "      <th>...</th>\n",
       "      <th>std_glucose</th>\n",
       "      <th>income</th>\n",
       "      <th>mean_oxygen</th>\n",
       "      <th>hours-per-week</th>\n",
       "      <th>capital-loss</th>\n",
       "      <th>employment</th>\n",
       "      <th>country</th>\n",
       "      <th>relationship_info</th>\n",
       "      <th>employment_info</th>\n",
       "      <th>race</th>\n",
       "    </tr>\n",
       "  </thead>\n",
       "  <tbody>\n",
       "    <tr>\n",
       "      <th>2002</th>\n",
       "      <td>Joshua Sanders</td>\n",
       "      <td>0629 Trevor Inlet Suite 858\\r\\nHarrisonborough...</td>\n",
       "      <td>37.0</td>\n",
       "      <td>0.0</td>\n",
       "      <td>1982-05-19</td>\n",
       "      <td>11.938502</td>\n",
       "      <td>0</td>\n",
       "      <td>6.0</td>\n",
       "      <td>Unmarried</td>\n",
       "      <td>-0.368959</td>\n",
       "      <td>...</td>\n",
       "      <td>55.480443</td>\n",
       "      <td>&lt;=50K</td>\n",
       "      <td>1.644649</td>\n",
       "      <td>40.0</td>\n",
       "      <td>0.0</td>\n",
       "      <td>Sales</td>\n",
       "      <td>United-States</td>\n",
       "      <td>Divorced</td>\n",
       "      <td>Private</td>\n",
       "      <td>White</td>\n",
       "    </tr>\n",
       "    <tr>\n",
       "      <th>2003</th>\n",
       "      <td>Joshua Sanders</td>\n",
       "      <td>0629 Trevor Inlet Suite 858\\r\\nHarrisonborough...</td>\n",
       "      <td>37.0</td>\n",
       "      <td>0.0</td>\n",
       "      <td>1982-05-19</td>\n",
       "      <td>11.938502</td>\n",
       "      <td>0.0240601</td>\n",
       "      <td>NaN</td>\n",
       "      <td>Unmarried</td>\n",
       "      <td>-0.368959</td>\n",
       "      <td>...</td>\n",
       "      <td>55.480443</td>\n",
       "      <td>&lt;=50K</td>\n",
       "      <td>1.644649</td>\n",
       "      <td>40.0</td>\n",
       "      <td>0.0</td>\n",
       "      <td>Sales</td>\n",
       "      <td>United-States</td>\n",
       "      <td>Divorced</td>\n",
       "      <td>Private</td>\n",
       "      <td>White</td>\n",
       "    </tr>\n",
       "  </tbody>\n",
       "</table>\n",
       "<p>2 rows × 28 columns</p>\n",
       "</div>"
      ],
      "text/plain": [
       "                name                                            address   age  \\\n",
       "2002  Joshua Sanders  0629 Trevor Inlet Suite 858\\r\\nHarrisonborough...  37.0   \n",
       "2003  Joshua Sanders  0629 Trevor Inlet Suite 858\\r\\nHarrisonborough...  37.0   \n",
       "\n",
       "      sex date_of_birth  kurtosis_oxygen   pregnant  education-num  \\\n",
       "2002  0.0    1982-05-19        11.938502          0            6.0   \n",
       "2003  0.0    1982-05-19        11.938502  0.0240601            NaN   \n",
       "\n",
       "     relationship  skewness_glucose  ...  std_glucose  income  mean_oxygen  \\\n",
       "2002    Unmarried         -0.368959  ...    55.480443   <=50K     1.644649   \n",
       "2003    Unmarried         -0.368959  ...    55.480443   <=50K     1.644649   \n",
       "\n",
       "      hours-per-week  capital-loss employment        country  \\\n",
       "2002            40.0           0.0      Sales  United-States   \n",
       "2003            40.0           0.0      Sales  United-States   \n",
       "\n",
       "      relationship_info  employment_info   race  \n",
       "2002           Divorced          Private  White  \n",
       "2003           Divorced          Private  White  \n",
       "\n",
       "[2 rows x 28 columns]"
      ]
     },
     "execution_count": 561,
     "metadata": {},
     "output_type": "execute_result"
    }
   ],
   "source": [
    "data[data.name.str.contains('Joshua Sanders')]"
   ]
  }
 ],
 "metadata": {
  "kernelspec": {
   "display_name": "Python 3",
   "language": "python",
   "name": "python3"
  },
  "language_info": {
   "codemirror_mode": {
    "name": "ipython",
    "version": 3
   },
   "file_extension": ".py",
   "mimetype": "text/x-python",
   "name": "python",
   "nbconvert_exporter": "python",
   "pygments_lexer": "ipython3",
   "version": "3.7.3"
  },
  "pycharm": {
   "stem_cell": {
    "cell_type": "raw",
    "metadata": {
     "collapsed": false
    },
    "source": []
   }
  }
 },
 "nbformat": 4,
 "nbformat_minor": 1
}
